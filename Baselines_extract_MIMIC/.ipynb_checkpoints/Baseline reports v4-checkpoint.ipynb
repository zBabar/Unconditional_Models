{
 "cells": [
  {
   "cell_type": "code",
   "execution_count": 4,
   "metadata": {},
   "outputs": [],
   "source": [
    "import numpy as np\n",
    "import pandas\n",
    "from importlib import reload\n",
    "\n",
    "import baselines as b\n",
    "\n",
    "#path = '/data/zbabar/IU_data_section.csv'\n",
    "path = './data/IU_data_section.csv'\n",
    "path_mimic = '/data/zbabar/mimic_cxr_sectioned.csv'\n",
    "\n",
    "%load_ext autoreload\n",
    "%autoreload 2"
   ]
  },
  {
   "cell_type": "code",
   "execution_count": 5,
   "metadata": {},
   "outputs": [],
   "source": [
    "# Load data\n",
    "data = pandas.read_csv(path)\n",
    "data_findings = data['Findings'].to_list()\n",
    "data_impression = data['Impression'].to_list()\n",
    "# Split into train and test\n",
    "train,test = b.train_test_split(data)\n",
    "# Preprocess\n",
    "reports = np.array([b.preprocess(x) for x in data_findings])"
   ]
  },
  {
   "cell_type": "code",
   "execution_count": 6,
   "metadata": {},
   "outputs": [],
   "source": [
    "merged_reports = np.array([b.preprocess(data['Findings'][i] + '\\n' + data['Impression'][i]) for i in range(len(data))])"
   ]
  },
  {
   "cell_type": "code",
   "execution_count": 96,
   "metadata": {},
   "outputs": [],
   "source": [
    "# Calculate bleu scores for all reports\n",
    "bleus = b.pairwise_bleu_scores(reports[train], reports[train])"
   ]
  },
  {
   "cell_type": "code",
   "execution_count": 97,
   "metadata": {},
   "outputs": [
    {
     "name": "stdout",
     "output_type": "stream",
     "text": [
      "[0.46422933 0.30720439 0.20896161 0.1405912 ]\n",
      "[0.4642293263032799, 0.3072043870075149, 0.20896160821106036, 0.14059119739396556]\n"
     ]
    }
   ],
   "source": [
    "idx = np.argmax(bleus[:,2])\n",
    "best_report = reports[train][idx]\n",
    "print(bleus[idx,:])\n",
    "print(b.bleu_scores(reports[train], best_report))"
   ]
  },
  {
   "cell_type": "code",
   "execution_count": 20,
   "metadata": {},
   "outputs": [],
   "source": [
    "import matplotlib.pyplot as plt"
   ]
  },
  {
   "cell_type": "code",
   "execution_count": 26,
   "metadata": {},
   "outputs": [
    {
     "data": {
      "text/plain": [
       "(array([ 38.,  43.,  65., 288., 331., 457., 431., 401., 146.,  27.]),\n",
       " array([0.00928806, 0.055153  , 0.10101795, 0.14688289, 0.19274783,\n",
       "        0.23861277, 0.28447771, 0.33034266, 0.3762076 , 0.42207254,\n",
       "        0.46793748]),\n",
       " <a list of 10 Patch objects>)"
      ]
     },
     "execution_count": 26,
     "metadata": {},
     "output_type": "execute_result"
    },
    {
     "data": {
      "image/png": "[encoded data removed]",
      "text/plain": [
       "<Figure size 432x288 with 1 Axes>"
      ]
     },
     "metadata": {
      "needs_background": "light"
     },
     "output_type": "display_data"
    }
   ],
   "source": [
    "plt.hist(bleus[:,0])"
   ]
  },
  {
   "cell_type": "markdown",
   "metadata": {},
   "source": [
    "## Optimized score calculation"
   ]
  },
  {
   "cell_type": "markdown",
   "metadata": {},
   "source": [
    "### Test: BLEU score"
   ]
  },
  {
   "cell_type": "code",
   "execution_count": 19,
   "metadata": {},
   "outputs": [
    {
     "data": {
      "text/plain": [
       "array([0.17942299, 0.06900524, 0.02191294, 0.00965322])"
      ]
     },
     "execution_count": 19,
     "metadata": {},
     "output_type": "execute_result"
    }
   ],
   "source": [
    "bleus = b.pairwise_bleu_scores(reports[train], reports[train])\n",
    "bleus[0]"
   ]
  },
  {
   "cell_type": "code",
   "execution_count": 18,
   "metadata": {},
   "outputs": [
    {
     "data": {
      "text/plain": [
       "[0.1794229905702719,\n",
       " 0.06900524439976546,\n",
       " 0.021912940687567835,\n",
       " 0.009653220806813627]"
      ]
     },
     "execution_count": 18,
     "metadata": {},
     "output_type": "execute_result"
    }
   ],
   "source": [
    "b.bleu_scores(reports[train], reports[train][0])"
   ]
  },
  {
   "cell_type": "markdown",
   "metadata": {},
   "source": [
    "==> BLEU score matches pycocoeval result"
   ]
  },
  {
   "cell_type": "markdown",
   "metadata": {},
   "source": [
    "### Test: Cider and Cider-D score"
   ]
  },
  {
   "cell_type": "code",
   "execution_count": 7,
   "metadata": {},
   "outputs": [
    {
     "name": "stdout",
     "output_type": "stream",
     "text": [
      "[0.14455509792205057, 0.0436099454081806]\n",
      "[0.5967297563704921, 0.24904171901872643]\n",
      "[0.5894020054110046, 0.31324681441161223]\n",
      "[0.3596443026324397, 0.1609948537635208]\n",
      "[0.40320547854470157, 0.19173372367858804]\n",
      "CPU times: user 7.09 s, sys: 0 ns, total: 7.09 s\n",
      "Wall time: 7.08 s\n"
     ]
    }
   ],
   "source": [
    "%%time\n",
    "for i in range(5):\n",
    "    print(b.cider_scores(reports[train], reports[train][i]))"
   ]
  },
  {
   "cell_type": "code",
   "execution_count": 6,
   "metadata": {
    "collapsed": true
   },
   "outputs": [
    {
     "name": "stdout",
     "output_type": "stream",
     "text": [
      "First couple rows:  [[0.47494806 0.08086386 0.01529633 0.00711214]\n",
      " [1.3146242  0.55953825 0.30998302 0.20277356]\n",
      " [1.15626984 0.56356906 0.36197695 0.27579217]\n",
      " [1.02962456 0.28749628 0.09264461 0.02881176]\n",
      " [0.9503198  0.35911792 0.18890422 0.11447998]]\n"
     ]
    },
    {
     "data": {
      "text/plain": [
       "array([0.1445551 , 0.59672976, 0.58940201, 0.3596443 ])"
      ]
     },
     "execution_count": 6,
     "metadata": {},
     "output_type": "execute_result"
    }
   ],
   "source": [
    "cider = b.pairwise_cider_scores(reports[train], reports[train][0:20], debug=True)\n",
    "cider[0:4]"
   ]
  },
  {
   "cell_type": "code",
   "execution_count": 70,
   "metadata": {
    "scrolled": true
   },
   "outputs": [
    {
     "name": "stdout",
     "output_type": "stream",
     "text": [
      "First couple rows:  [[0.12963201 0.02965196 0.00925548 0.00590034]\n",
      " [0.5083804  0.23431433 0.1456653  0.10780684]\n",
      " [0.58653139 0.30697248 0.20143942 0.15804397]\n",
      " [0.43931645 0.13459338 0.04936278 0.02070682]\n",
      " [0.42802624 0.16783245 0.1018975  0.0691787 ]]\n"
     ]
    },
    {
     "data": {
      "text/plain": [
       "array([0.04360995, 0.24904172, 0.31324681, 0.16099485, 0.19173372])"
      ]
     },
     "execution_count": 70,
     "metadata": {},
     "output_type": "execute_result"
    }
   ],
   "source": [
    "np.set_printoptions(suppress=True)\n",
    "cider_d = b.pairwise_cider_d_scores(reports[train], reports[train][0:5])\n",
    "cider_d[0:5]"
   ]
  },
  {
   "cell_type": "code",
   "execution_count": 94,
   "metadata": {},
   "outputs": [
    {
     "name": "stdout",
     "output_type": "stream",
     "text": [
      "CPU times: user 1.48 s, sys: 0 ns, total: 1.48 s\n",
      "Wall time: 1.48 s\n"
     ]
    },
    {
     "data": {
      "text/plain": [
       "array([0., 0., 0., 0., 0.])"
      ]
     },
     "execution_count": 94,
     "metadata": {},
     "output_type": "execute_result"
    }
   ],
   "source": [
    "%%time\n",
    "np.set_printoptions(suppress=True)\n",
    "cider_d = b.pairwise_cider_d_scores(reports[train], reports[train][1000])\n",
    "cider_d[0:5]"
   ]
  },
  {
   "cell_type": "code",
   "execution_count": 93,
   "metadata": {},
   "outputs": [
    {
     "name": "stdout",
     "output_type": "stream",
     "text": [
      "CPU times: user 1.45 s, sys: 0 ns, total: 1.45 s\n",
      "Wall time: 1.45 s\n"
     ]
    },
    {
     "data": {
      "text/plain": [
       "array([0., 0., 0., 0., 0.])"
      ]
     },
     "execution_count": 93,
     "metadata": {},
     "output_type": "execute_result"
    }
   ],
   "source": [
    "%%time\n",
    "np.set_printoptions(suppress=True)\n",
    "cider_d = b.pairwise_cider_d_scores(reports[train], reports[train][1000], length_optimize=True)\n",
    "cider_d[0:5]"
   ]
  },
  {
   "cell_type": "markdown",
   "metadata": {},
   "source": [
    "## All scores"
   ]
  },
  {
   "cell_type": "code",
   "execution_count": 314,
   "metadata": {},
   "outputs": [
    {
     "name": "stdout",
     "output_type": "stream",
     "text": [
      "[0.16970535954170315, 0.10830900266910544, 0.0721501106651918, 0.04953354152789267, 0.134532197037899, 0.3551028381804807, 0.5650715220828398, 0.2113353455786263]\n"
     ]
    }
   ],
   "source": [
    "print(b.all_scores(reports[train], best_report))"
   ]
  },
  {
   "cell_type": "code",
   "execution_count": 11,
   "metadata": {},
   "outputs": [
    {
     "name": "stdout",
     "output_type": "stream",
     "text": [
      "[0.4077840750494495, 0.2690712229293643, 0.1827322360319558, 0.12258254271938816]\n"
     ]
    }
   ],
   "source": [
    "print(b.bleu_scores(reports[train], best_report))"
   ]
  },
  {
   "cell_type": "code",
   "execution_count": 31,
   "metadata": {},
   "outputs": [
    {
     "name": "stdout",
     "output_type": "stream",
     "text": [
      "[0.3222807425944153, 0.18079274798777759, 0.11021740253302077, 0.07003564771985152, 0.13652715628925166, 0.286981873411155, 0.1423929220105256]\n"
     ]
    }
   ],
   "source": [
    "reload(b)\n",
    "print(b.all_scores_random_baseline(reports[train]))"
   ]
  },
  {
   "cell_type": "code",
   "execution_count": 2,
   "metadata": {},
   "outputs": [
    {
     "name": "stdout",
     "output_type": "stream",
     "text": [
      "[0.3749999999062502, 0.24999999993229188, 2.499999999236114e-06, 9.40150772909249e-09, 0.12205881232539985, 0.375, 1.0206207261596576, 1.0206207261596576]\n",
      "[9.196986024687569e-17, 1.3006502367443163e-16, 1.8393972049375167e-13, 6.917242818734809e-12, 0.0, 0.0, 0.0, 0.0]\n",
      "[0.24999999993750016, 6.454972241930809e-09, 2.1839511611734324e-11, 1.5106876980961404e-12, 0.12698412698412698, 0.25, 0.0, 0.0]\n"
     ]
    }
   ],
   "source": [
    "import baselines as b\n",
    "#reload(b)\n",
    "print(b.all_scores([\"dit is een test\",\"dit is is ook\"], \"dat is een appel\"))\n",
    "print(b.all_scores([\"dit is een test\",\"dit is is ook\"], \"totale onzin\"))\n",
    "print(b.all_scores([\"dit is een test\",\"dit is is ook\"], \"dit dit dit dit\"))"
   ]
  },
  {
   "cell_type": "code",
   "execution_count": 3,
   "metadata": {},
   "outputs": [
    {
     "name": "stdout",
     "output_type": "stream",
     "text": [
      "[0.24999999998437505, 0.1336306209472638, 1.1416778509080559e-06, 3.492671028013027e-09, 0.12212605442903064, 0.3546511627906977, 1.0006007009252889, 0.4006092033078268]\n"
     ]
    }
   ],
   "source": [
    "print(b.all_scores([\"dit is een test\",\"dit is is ook\"], \"dat is een appel dat is een appel\"))"
   ]
  },
  {
   "cell_type": "code",
   "execution_count": 18,
   "metadata": {},
   "outputs": [
    {
     "name": "stdout",
     "output_type": "stream",
     "text": [
      "[0.30264953377300985, 0.1661252540119017, 0.10088909886471066, 0.06298909008253084, 0.13399189114555038, 0.2794304833358344, 0.29904114984518104, 0.10574068986936003]\n"
     ]
    }
   ],
   "source": [
    "reload(b)\n",
    "print(b.all_scores_random_baseline(reports[test],reports[train]))"
   ]
  },
  {
   "cell_type": "code",
   "execution_count": 99,
   "metadata": {},
   "outputs": [
    {
     "name": "stdout",
     "output_type": "stream",
     "text": [
      "Baseline 1: BLEU-4\n",
      "the lungs are clear  there is no focal airspace consolidation  no pleural effusion or pneumothorax  heart size and mediastinal contour are within normal limits  there are degenerative changes of the spine \n"
     ]
    },
    {
     "name": "stderr",
     "output_type": "stream",
     "text": [
      "WARNING:root:There is less than 2GB of available memory.\n",
      "Will try with limiting Meteor to 1GB of memory but this might cause issues.\n",
      "If you have problems using Meteor, then you can try to lower the `mem` variable in meteor.py\n",
      "WARNING:root:There is less than 2GB of available memory.\n",
      "Will try with limiting Meteor to 1GB of memory but this might cause issues.\n",
      "If you have problems using Meteor, then you can try to lower the `mem` variable in meteor.py\n"
     ]
    },
    {
     "name": "stdout",
     "output_type": "stream",
     "text": [
      "[0.4642293263032799, 0.3072043870075149, 0.20896160821106036, 0.14059119739396556, 0.20114342694002174, 0.3506309345241306, 0.629248219995871, 0.2878398480213113]\n",
      "[0.4689870851913784, 0.31551703420473587, 0.21855895808769962, 0.15052962963514616, 0.2031247387175675, 0.3551184200168508, 0.7018819309678775, 0.31535278083170293]\n",
      "\n",
      "Baseline 1: Cider\n",
      "the cardiomediastinal silhouette and pulmonary vasculature are within normal limits in size  the lungs are clear of focal airspace disease pneumothorax or pleural effusion  there are no acute bony findings \n"
     ]
    },
    {
     "name": "stderr",
     "output_type": "stream",
     "text": [
      "WARNING:root:There is less than 2GB of available memory.\n",
      "Will try with limiting Meteor to 1GB of memory but this might cause issues.\n",
      "If you have problems using Meteor, then you can try to lower the `mem` variable in meteor.py\n",
      "WARNING:root:There is less than 2GB of available memory.\n",
      "Will try with limiting Meteor to 1GB of memory but this might cause issues.\n",
      "If you have problems using Meteor, then you can try to lower the `mem` variable in meteor.py\n"
     ]
    },
    {
     "name": "stdout",
     "output_type": "stream",
     "text": [
      "[0.4328858754287401, 0.2679956284104077, 0.18247174592834647, 0.12466119251935014, 0.18899158367609473, 0.3539889629628146, 0.6517550213349259, 0.3518026192723824]\n",
      "[0.43344776990229555, 0.2624931273753056, 0.17214659966456253, 0.11148976968486515, 0.18748973171894248, 0.35221327451344914, 0.6026791736576143, 0.31519232113805373]\n",
      "\n",
      "Baseline 1: Cider-D\n",
      "the cardiomediastinal silhouette and pulmonary vasculature are within normal limits in size  the lungs are clear of focal airspace disease pneumothorax or pleural effusion  there are no acute bony findings \n"
     ]
    },
    {
     "name": "stderr",
     "output_type": "stream",
     "text": [
      "WARNING:root:There is less than 2GB of available memory.\n",
      "Will try with limiting Meteor to 1GB of memory but this might cause issues.\n",
      "If you have problems using Meteor, then you can try to lower the `mem` variable in meteor.py\n",
      "WARNING:root:There is less than 2GB of available memory.\n",
      "Will try with limiting Meteor to 1GB of memory but this might cause issues.\n",
      "If you have problems using Meteor, then you can try to lower the `mem` variable in meteor.py\n"
     ]
    },
    {
     "name": "stdout",
     "output_type": "stream",
     "text": [
      "[0.4328858754287401, 0.2679956284104077, 0.18247174592834647, 0.12466119251935014, 0.18899158367609473, 0.3539889629628146, 0.6517550213349259, 0.3518026192723824]\n",
      "[0.43344776990229555, 0.2624931273753056, 0.17214659966456253, 0.11148976968486515, 0.18748973171894248, 0.35221327451344914, 0.6026791736576143, 0.31519232113805373]\n",
      "\n",
      "Baseline 2: BLEU-2\n",
      "in the lungs are within normal limits no pneumothorax the heart size and pulmonary xxxx are clear there is of the cardiomediastinal silhouette is no focal consolidation pleural effusion or mediastinal\n"
     ]
    },
    {
     "name": "stderr",
     "output_type": "stream",
     "text": [
      "WARNING:root:There is less than 2GB of available memory.\n",
      "Will try with limiting Meteor to 1GB of memory but this might cause issues.\n",
      "If you have problems using Meteor, then you can try to lower the `mem` variable in meteor.py\n",
      "WARNING:root:There is less than 2GB of available memory.\n",
      "Will try with limiting Meteor to 1GB of memory but this might cause issues.\n",
      "If you have problems using Meteor, then you can try to lower the `mem` variable in meteor.py\n"
     ]
    },
    {
     "name": "stdout",
     "output_type": "stream",
     "text": [
      "[0.4999637875342135, 0.32848542894810207, 0.19737260492438402, 0.11348178639901503, 0.2089787984783081, 0.2686736685745666, 0.6568642253729168, 0.2927448460142598]\n",
      "[0.5012451497075056, 0.33129743342554563, 0.19901248058262738, 0.11205869915626819, 0.20867324981928853, 0.27071543014242433, 0.6789447330848738, 0.2984326111292439]\n"
     ]
    }
   ],
   "source": [
    "# Run all the baseline methods, print results\n",
    "trainset = reports[train]\n",
    "testset = reports[test]\n",
    "\n",
    "print(\"Baseline 1: BLEU-4\")\n",
    "r = b.find_best_report_bleu(trainset)\n",
    "print(r)\n",
    "print(\"train \", b.all_scores(trainset, r))\n",
    "print(\"test  \", b.all_scores(testset, r))\n",
    "\n",
    "print()\n",
    "print(\"Baseline 1: Cider\")\n",
    "r = b.find_best_report_cider(trainset)\n",
    "print(r)\n",
    "print(\"train \", b.all_scores(trainset, r))\n",
    "print(\"test  \", b.all_scores(testset, r))\n",
    "\n",
    "print()\n",
    "print(\"Baseline 1: Cider-D\")\n",
    "r = b.find_best_report_cider_d(trainset)\n",
    "print(r)\n",
    "print(\"train \", b.all_scores(trainset, r))\n",
    "print(\"test  \", b.all_scores(testset, r))\n",
    "\n",
    "print()\n",
    "print(\"Baseline 2: BLEU-2\")\n",
    "r = b.optimal_report_bleu2(trainset)\n",
    "print(r)\n",
    "print(\"train \", b.all_scores(trainset, r))\n",
    "print(\"test  \", b.all_scores(testset, r))"
   ]
  },
  {
   "cell_type": "code",
   "execution_count": 13,
   "metadata": {},
   "outputs": [
    {
     "name": "stdout",
     "output_type": "stream",
     "text": [
      "Baseline 1: BLEU-4\n",
      "the lungs are clear  there is no focal airspace consolidation  no pleural effusion or pneumothorax  heart size and mediastinal contour are within normal limits  there are degenerative changes of the spine \n",
      "full  [0.4651812198739286, 0.30887435284133974, 0.2108964102748646, 0.1426067091796244, 0.2015392248315259, 0.351528753999506, 0.6399765719730991, 0.29198792885174424]\n",
      "\n",
      "Baseline 1: Cider\n",
      "the lungs are clear  there is no focal airspace consolidation  no pleural effusion or pneumothorax  heart size and mediastinal contour are within normal limits  there are degenerative changes of the spine \n",
      "full  [0.4651812198739286, 0.30887435284133974, 0.2108964102748646, 0.1426067091796244, 0.2015392248315259, 0.351528753999506, 0.6399765719730991, 0.29198792885174424]\n",
      "\n",
      "Baseline 1: Cider-D\n",
      "the cardiomediastinal silhouette and pulmonary vasculature are within normal limits in size  the lungs are clear of focal airspace disease pneumothorax or pleural effusion  there are no acute bony findings \n",
      "full  [0.4329987327882982, 0.2669029375884557, 0.180445533752582, 0.12211931543481058, 0.1886878059024806, 0.3536336977091161, 0.638279379758572, 0.34268048707422977]\n",
      "\n",
      "Baseline 2: BLEU-2\n",
      "in the lungs are within normal limits the heart size and pulmonary xxxx are clear there is of the cardiomediastinal silhouette is no focal consolidation no pneumothorax pleural effusion or mediastinal\n",
      "full  [0.500220152020758, 0.32903077123373664, 0.19633494376533325, 0.1094485455684117, 0.20904644442647471, 0.2799763789874567, 0.6502954860006218, 0.2876274774577202]\n"
     ]
    }
   ],
   "source": [
    "# Run all the baseline methods, print results\n",
    "trainset = reports\n",
    "\n",
    "print(\"Baseline 1: BLEU-4\")\n",
    "r = b.find_best_report_bleu(trainset)\n",
    "print(r)\n",
    "print(\"full \", b.all_scores(trainset, r))\n",
    "\n",
    "print()\n",
    "print(\"Baseline 1: Cider\")\n",
    "r = b.find_best_report_cider(trainset)\n",
    "print(r)\n",
    "print(\"full \", b.all_scores(trainset, r))\n",
    "\n",
    "print()\n",
    "print(\"Baseline 1: Cider-D\")\n",
    "r = b.find_best_report_cider_d(trainset)\n",
    "print(r)\n",
    "print(\"full \", b.all_scores(trainset, r))\n",
    "\n",
    "print()\n",
    "print(\"Baseline 2: BLEU-2\")\n",
    "r = b.optimal_report_bleu2(trainset)\n",
    "print(r)\n",
    "print(\"full \", b.all_scores(trainset, r))"
   ]
  },
  {
   "cell_type": "markdown",
   "metadata": {},
   "source": [
    "## Merged impressions + findings"
   ]
  },
  {
   "cell_type": "code",
   "execution_count": 8,
   "metadata": {},
   "outputs": [
    {
     "name": "stderr",
     "output_type": "stream",
     "text": [
      "WARNING:root:There is less than 2GB of available memory.\n",
      "Will try with limiting Meteor to 1GB of memory but this might cause issues.\n",
      "If you have problems using Meteor, then you can try to lower the `mem` variable in meteor.py\n"
     ]
    },
    {
     "name": "stdout",
     "output_type": "stream",
     "text": [
      "[0.42178971532958504, 0.2728393857227489, 0.1837837287470055, 0.12299660083991294, 0.177950420175013, 0.3291887314388978, 0.6062003100194614, 0.25658305942481213]\n"
     ]
    }
   ],
   "source": [
    "best_report = b.find_best_report_bleu(merged_reports[train], merged_reports[train])\n",
    "print(b.all_scores(merged_reports[train], best_report))"
   ]
  },
  {
   "cell_type": "code",
   "execution_count": 9,
   "metadata": {},
   "outputs": [
    {
     "name": "stdout",
     "output_type": "stream",
     "text": [
      "Baseline 1: BLEU-4\n",
      "the lungs are clear  there is no focal airspace consolidation  no pleural effusion or pneumothorax  heart size and mediastinal contour are within normal limits  there are degenerative changes of the spine \n",
      "no evidence of active disease \n",
      "train  [0.42178971532958504, 0.2728393857227489, 0.1837837287470055, 0.12299660083991294, 0.177950420175013, 0.3291887314388978, 0.6062003100194614, 0.25658305942481213]\n",
      "test   [0.43159532797428896, 0.2826289095569709, 0.19352576888173886, 0.1327954662892803, 0.1819990728866244, 0.3335689756126133, 0.6677650558220155, 0.2857777222324818]\n",
      "\n",
      "Baseline 1: Cider\n",
      "the cardiomediastinal silhouette and pulmonary vasculature are within normal limits in size  the lungs are clear of focal airspace disease pneumothorax or pleural effusion  there are no acute bony findings \n",
      "no acute cardiopulmonary findings   \n",
      "train  [0.4085134283501567, 0.256658171910982, 0.17418290348502952, 0.1163872211828871, 0.1795542207336447, 0.3563382179665991, 0.6309493858011014, 0.3155139076095787]\n",
      "test   [0.41690082280793683, 0.2565401825792604, 0.16806990393803423, 0.1064577206256995, 0.18104015639649465, 0.3553201727144562, 0.5846122951388004, 0.28472483383559516]\n",
      "\n",
      "Baseline 1: Cider-D\n",
      "the cardiomediastinal silhouette and pulmonary vasculature are within normal limits in size  the lungs are clear of focal airspace disease pneumothorax or pleural effusion  there are no acute bony findings \n",
      "no acute cardiopulmonary findings   \n",
      "train  [0.4085134283501567, 0.256658171910982, 0.17418290348502952, 0.1163872211828871, 0.1795542207336447, 0.3563382179665991, 0.6309493858011014, 0.3155139076095787]\n",
      "test   [0.41690082280793683, 0.2565401825792604, 0.16806990393803423, 0.1064577206256995, 0.18104015639649465, 0.3553201727144562, 0.5846122951388004, 0.28472483383559516]\n",
      "\n",
      "Baseline 2: BLEU-2\n",
      "of the heart size and pulmonary xxxx are clear there is in the lungs are within normal limits no pneumothorax no focal airspace disease of the cardiomediastinal silhouette is no acute cardiopulmonary abnormality consolidation pleural effusion or mediastinal\n",
      "train  [0.48981516260301095, 0.32465386884531205, 0.19763465506617317, 0.112118899782993, 0.20516307705955347, 0.2670803585004241, 0.6327123174458208, 0.23166364676775797]\n",
      "test   [0.4970707738826185, 0.33043489351794314, 0.20111983399219416, 0.11265674336863975, 0.20755094270996904, 0.26931381287006295, 0.6602086623831617, 0.23733765302128018]\n"
     ]
    }
   ],
   "source": [
    "# Run all the baseline methods, print results\n",
    "trainset = merged_reports[train]\n",
    "testset = merged_reports[test]\n",
    "\n",
    "\n",
    "print(\"Baseline 1: BLEU-4\")\n",
    "r = b.find_best_report_bleu(trainset)\n",
    "print(r)\n",
    "print(\"train \", b.all_scores(trainset, r))\n",
    "print(\"test  \", b.all_scores(testset, r))\n",
    "\n",
    "print()\n",
    "print(\"Baseline 1: Cider\")\n",
    "r = b.find_best_report_cider(trainset)\n",
    "print(r)\n",
    "print(\"train \", b.all_scores(trainset, r))\n",
    "print(\"test  \", b.all_scores(testset, r))\n",
    "\n",
    "print()\n",
    "print(\"Baseline 1: Cider-D\")\n",
    "r = b.find_best_report_cider_d(trainset)\n",
    "print(r)\n",
    "print(\"train \", b.all_scores(trainset, r))\n",
    "print(\"test  \", b.all_scores(testset, r))\n",
    "\n",
    "print()\n",
    "print(\"Baseline 2: BLEU-2\")\n",
    "r = b.optimal_report_bleu2(trainset)\n",
    "print(r)\n",
    "print(\"train \", b.all_scores(trainset, r))\n",
    "print(\"test  \", b.all_scores(testset, r))"
   ]
  },
  {
   "cell_type": "markdown",
   "metadata": {},
   "source": [
    "## Big dataset"
   ]
  },
  {
   "cell_type": "code",
   "execution_count": 10,
   "metadata": {},
   "outputs": [],
   "source": [
    "# Load data\n",
    "data2 = pandas.read_csv(path_mimic)\n",
    "data2_findings = data2['findings'].to_list()\n",
    "# preprocess\n",
    "reports2 = np.array([b.preprocess(x) for x in data2_findings if isinstance(x,str)])\n",
    "# split\n",
    "train2,test2 = b.train_test_split(reports2)"
   ]
  },
  {
   "cell_type": "code",
   "execution_count": 128,
   "metadata": {},
   "outputs": [
    {
     "data": {
      "text/plain": [
       "227781"
      ]
     },
     "execution_count": 128,
     "metadata": {},
     "output_type": "execute_result"
    }
   ],
   "source": [
    "len(data2)"
   ]
  },
  {
   "cell_type": "code",
   "execution_count": 129,
   "metadata": {},
   "outputs": [
    {
     "data": {
      "text/plain": [
       "155716"
      ]
     },
     "execution_count": 129,
     "metadata": {},
     "output_type": "execute_result"
    }
   ],
   "source": [
    "len(reports2)"
   ]
  },
  {
   "cell_type": "code",
   "execution_count": 3,
   "metadata": {},
   "outputs": [
    {
     "name": "stdout",
     "output_type": "stream",
     "text": [
      "[0.2771277888561978, 0.14318522999496458, 0.08210204437604673, 0.05027870323954056, 0.10629997942459024, 0.23731942963493755, 0.20953905509688114, 0.052493872415633684]\n"
     ]
    }
   ],
   "source": [
    "reload(b)\n",
    "print(b.all_scores_random_baseline(reports2[train2]))"
   ]
  },
  {
   "cell_type": "code",
   "execution_count": 11,
   "metadata": {},
   "outputs": [
    {
     "name": "stdout",
     "output_type": "stream",
     "text": [
      "Baseline 1: BLEU-4\n",
      "pa and lateral views of the chest were obtained   the lungs are\n",
      " clear bilaterally with no evidence of focal consolidation or pulmonary edema  \n",
      " there is no pleural effusion or pneumothorax   the cardiomediastinal\n",
      " silhouette is normal   there are no bony abnormalities   there is no free air\n",
      " below the right hemidiaphragm \n",
      "train  [0.3686861179825249, 0.23692249079006902, 0.16199506968084953, 0.11513002590883036, 0.14545424824648068, 0.30591919482045893, 0.40186551562781575, 0.09160489406879672]\n",
      "test   [0.3691245149783288, 0.23731374389433293, 0.16229533416204742, 0.11533389966069488, 0.14585204925021578, 0.30630311416655426, 0.4046789461903603, 0.09301570977526771]\n",
      "\n",
      "Baseline 1: Cider\n",
      "the cardiomediastinal silhouette and pulmonary vasculature are within normal limits in size  the lungs are clear of focal airspace disease pneumothorax or pleural effusion  there are no acute bony findings \n",
      "train  [0.220069467276841, 0.10196955918171936, 0.05665763852154584, 0.031239903504735128, 0.10481420501078591, 0.2100503308814836, 0.2376672265553536, 0.08861614603790231]\n",
      "test   [0.22070230951167982, 0.10254515894449613, 0.0570163157170354, 0.031435239121375524, 0.10526418452851713, 0.21036779221164623, 0.24265259785580495, 0.09155754670285479]\n",
      "\n",
      "Baseline 1: Cider-D\n",
      "cardiac  mediastinal and hilar contours are normal   the pulmonary vasculature\n",
      " is normal   lungs are clear without focal consolidation   no pleural effusion\n",
      " or pneumothorax is seen   there are no acute osseous abnormalities \n",
      "train  [0.24278281003727958, 0.1471641690672264, 0.10333837616464969, 0.07717741361794621, 0.11942646862908245, 0.2987749477853839, 0.54751473819931, 0.2383636308898586]\n",
      "test   [0.24262920828071524, 0.1473244015307559, 0.10348771987791892, 0.07722360985081149, 0.1194748751407401, 0.298772489720443, 0.5544863635198911, 0.24409818829283633]\n",
      "\n",
      "Baseline 2: BLEU-2\n",
      "mediastinal and a pulmonary edema cardiomediastinal silhouette is unchanged with the lungs are clear there is seen in the cardiac and hilar contours are no pleural effusion or pneumothorax is normal there is no focal consolidation to the right lung atelectasis of the left heart size of the chest\n",
      "train  [0.44765862043381166, 0.28299360557823455, 0.17438713169015477, 0.10670173927958335, 0.16999968977870245, 0.20605790066948151, 0.5163989158068333, 0.1185497437126017]\n",
      "test   [0.44777559636794045, 0.2831900447814994, 0.17442854484952744, 0.10661622024063362, 0.17012835309262497, 0.20642883052619537, 0.5220288250436352, 0.11983875609616503]\n"
     ]
    }
   ],
   "source": [
    "# Run all the baseline methods, print results\n",
    "trainset = reports2[train2]\n",
    "testset = reports2[test2]\n",
    "\n",
    "\n",
    "print(\"Baseline 1: BLEU-4\")\n",
    "r = b.find_best_report_bleu(trainset)\n",
    "print(r)\n",
    "print(\"train \", b.all_scores(trainset, r))\n",
    "print(\"test  \", b.all_scores(testset, r))\n",
    "\n",
    "print()\n",
    "print(\"Baseline 1: Cider\")\n",
    "r = b.find_best_report_cider(trainset)\n",
    "print(r)\n",
    "print(\"train \", b.all_scores(trainset, r))\n",
    "print(\"test  \", b.all_scores(testset, r))\n",
    "\n",
    "print()\n",
    "print(\"Baseline 1: Cider-D\")\n",
    "r = b.find_best_report_cider_d(trainset)\n",
    "print(r)\n",
    "print(\"train \", b.all_scores(trainset, r))\n",
    "print(\"test  \", b.all_scores(testset, r))\n",
    "\n",
    "print()\n",
    "print(\"Baseline 2: BLEU-2\")\n",
    "r = b.optimal_report_bleu2(trainset)\n",
    "print(r)\n",
    "print(\"train \", b.all_scores(trainset, r))\n",
    "print(\"test  \", b.all_scores(testset, r))"
   ]
  },
  {
   "cell_type": "code",
   "execution_count": 12,
   "metadata": {},
   "outputs": [
    {
     "name": "stdout",
     "output_type": "stream",
     "text": [
      "\n",
      "Baseline 1: Cider\n",
      "the heart size is normal   the mediastinal and hilar contours are\n",
      " unremarkable   the pulmonary vasculature is normal   lungs are clear without\n",
      " focal consolidation   no pleural effusion or pneumothorax is seen   there are\n",
      " no acute osseous abnormalities \n",
      "train  [0.30590132098826567, 0.1799221030075102, 0.12455025505711849, 0.09213341367781852, 0.13292212005911255, 0.3145265991566695, 0.5667855929605817, 0.21810747730555552]\n",
      "test   [0.3059882266304079, 0.18035101260796763, 0.12490479283546031, 0.09235701700858974, 0.1331420954495637, 0.3146806514222718, 0.5749455168929268, 0.2234081033478585]\n"
     ]
    }
   ],
   "source": []
  },
  {
   "cell_type": "markdown",
   "metadata": {},
   "source": [
    "### Bounds"
   ]
  },
  {
   "cell_type": "code",
   "execution_count": 278,
   "metadata": {},
   "outputs": [
    {
     "data": {
      "text/plain": [
       "array([0.49996379, 0.35836025, 0.26530439, 0.19959871])"
      ]
     },
     "execution_count": 278,
     "metadata": {},
     "output_type": "execute_result"
    }
   ],
   "source": [
    "reload(b)\n",
    "b.upper_bound_bleu_score(reports[train])"
   ]
  },
  {
   "cell_type": "code",
   "execution_count": 293,
   "metadata": {},
   "outputs": [
    {
     "data": {
      "text/plain": [
       "array([0.32498515, 0.19690984, 0.13521794, 0.09809072])"
      ]
     },
     "execution_count": 293,
     "metadata": {},
     "output_type": "execute_result"
    }
   ],
   "source": [
    "reload(b)\n",
    "b.upper_bound_bleu_score_top_words(reports[train], num_words=10)"
   ]
  },
  {
   "cell_type": "markdown",
   "metadata": {},
   "source": [
    "### Beam search version"
   ]
  },
  {
   "cell_type": "code",
   "execution_count": 256,
   "metadata": {},
   "outputs": [
    {
     "name": "stdout",
     "output_type": "stream",
     "text": [
      "[0.3767880928939377, 0.16408259785161244, 0.07036219513427433, 0.026772146161038075, 0.12000017447530872, 0.20022132209270585, 0.3999762812311617, 0.1401527159909776]\n"
     ]
    }
   ],
   "source": [
    "reload(b)\n",
    "r = b.optimal_report_bleu_beam(reports[train], max_n=4, beam_width=20, max_length=31)\n",
    "r\n",
    "#print(b.all_scores(reports[test], r))\n",
    "print(b.all_scores(reports[test], ' '.join(r[1].words)))"
   ]
  },
  {
   "cell_type": "code",
   "execution_count": 244,
   "metadata": {},
   "outputs": [
    {
     "data": {
      "text/plain": [
       "215"
      ]
     },
     "execution_count": 244,
     "metadata": {},
     "output_type": "execute_result"
    }
   ],
   "source": [
    "len(r[1].words)"
   ]
  },
  {
   "cell_type": "code",
   "execution_count": 252,
   "metadata": {},
   "outputs": [
    {
     "data": {
      "text/plain": [
       "30.8033228558599"
      ]
     },
     "execution_count": 252,
     "metadata": {},
     "output_type": "execute_result"
    }
   ],
   "source": [
    "np.mean([len(r.split()) for r in reports[train]])"
   ]
  },
  {
   "cell_type": "code",
   "execution_count": 255,
   "metadata": {},
   "outputs": [
    {
     "name": "stdout",
     "output_type": "stream",
     "text": [
      "[0.3767880928939377, 0.16408259785161244, 0.07036219513427433, 0.026772146161038075, 0.12000017447530872, 0.20022132209270585, 0.3999762812311617, 0.1401527159909776]\n"
     ]
    }
   ],
   "source": []
  },
  {
   "cell_type": "markdown",
   "metadata": {},
   "source": [
    "## Remove rare words"
   ]
  },
  {
   "cell_type": "code",
   "execution_count": 294,
   "metadata": {},
   "outputs": [],
   "source": [
    "hist = b.word_histogram(reports[train])"
   ]
  },
  {
   "cell_type": "code",
   "execution_count": 298,
   "metadata": {},
   "outputs": [
    {
     "data": {
      "text/plain": [
       "524"
      ]
     },
     "execution_count": 298,
     "metadata": {},
     "output_type": "execute_result"
    }
   ],
   "source": [
    "len([h for h in hist.values() if h > 5])"
   ]
  },
  {
   "cell_type": "code",
   "execution_count": 336,
   "metadata": {},
   "outputs": [],
   "source": [
    "filter_reports = np.array([b.remove_rare_words(r,hist,15) for r in reports])"
   ]
  },
  {
   "cell_type": "code",
   "execution_count": 303,
   "metadata": {},
   "outputs": [
    {
     "name": "stdout",
     "output_type": "stream",
     "text": [
      "[0.5058947128177386, 0.3281670661308605, 0.19214335814072542, 0.10735276345927158, 0.2095935681678031, 0.2608078866616103, 0.6678877377240618, 0.31105269409272973]\n",
      "[0.5077065193274626, 0.33035254689446814, 0.1931638034259079, 0.1055253032448948, 0.20976546753090453, 0.263832808134806, 0.6742678935230805, 0.3159501431366249]\n"
     ]
    }
   ],
   "source": [
    "reload(b)\n",
    "r_opt = b.optimal_report_bleu2(filter_reports[train])\n",
    "print(b.all_scores(filter_reports[train], r_opt))\n",
    "print(b.all_scores(filter_reports[test], r_opt))"
   ]
  },
  {
   "cell_type": "code",
   "execution_count": 304,
   "metadata": {},
   "outputs": [
    {
     "name": "stdout",
     "output_type": "stream",
     "text": [
      "[0.4954602089591136, 0.32210684448129023, 0.18827498214797236, 0.10278680657842089, 0.20460375208880482, 0.23971977872698327, 0.6537372383734156, 0.3026455644542055]\n"
     ]
    }
   ],
   "source": [
    "print(b.all_scores(reports[test], r_opt))"
   ]
  },
  {
   "cell_type": "code",
   "execution_count": 337,
   "metadata": {},
   "outputs": [
    {
     "name": "stdout",
     "output_type": "stream",
     "text": [
      "[0.4642293263032799, 0.3073739789018196, 0.20915004065620782, 0.1407389328389772, 0.21221204878601854, 0.3090810515258091, 0.6813791569091583, 0.31901332167771795]\n",
      "[0.4689870851913784, 0.3158282169840606, 0.2189605431809017, 0.15088420223883606, 0.21441179592166149, 0.3147189551887676, 0.7533297538744522, 0.3454926211225906]\n"
     ]
    }
   ],
   "source": [
    "reload(b)\n",
    "r_best = b.find_best_report_bleu(filter_reports[train], filter_reports[train])\n",
    "print(b.all_scores(filter_reports[train], r_best))\n",
    "print(b.all_scores(filter_reports[test], r_best))"
   ]
  },
  {
   "cell_type": "code",
   "execution_count": 338,
   "metadata": {},
   "outputs": [
    {
     "name": "stdout",
     "output_type": "stream",
     "text": [
      "[0.4642293263032799, 0.3072043870075149, 0.20896160821106036, 0.14059119739396556, 0.20114342694002174, 0.3506309345241306, 0.629248219995871, 0.2878398480213113]\n",
      "[0.4689870851913784, 0.31551703420473587, 0.21855895808769962, 0.15052962963514616, 0.2031247387175675, 0.3551184200168508, 0.7018819309678775, 0.31535278083170293]\n"
     ]
    }
   ],
   "source": [
    "reload(b)\n",
    "r_best = b.find_best_report_bleu(reports[train], reports[train])\n",
    "print(b.all_scores(reports[train], r_best))\n",
    "print(b.all_scores(reports[test], r_best))"
   ]
  },
  {
   "cell_type": "code",
   "execution_count": 339,
   "metadata": {},
   "outputs": [
    {
     "name": "stdout",
     "output_type": "stream",
     "text": [
      "[0.4446340368208285, 0.2756062450112682, 0.18780753866679537, 0.12847534706351776, 0.1994370548569042, 0.318359588214735, 0.6965980035717106, 0.3816188406899597]\n",
      "[0.44631956912026055, 0.27069680376448235, 0.17778484453871235, 0.11536150091530858, 0.19795947677487363, 0.31613975908512043, 0.6481455633764224, 0.3459907698297611]\n",
      "[0.4328858754287401, 0.2679956284104077, 0.18247174592834647, 0.12466119251935014, 0.18899158367609473, 0.3539889629628146, 0.6517550213349259, 0.3518026192723824]\n",
      "[0.43344776990229555, 0.2624931273753056, 0.17214659966456253, 0.11148976968486515, 0.18748973171894248, 0.35221327451344914, 0.6026791736576143, 0.31519232113805373]\n"
     ]
    }
   ],
   "source": [
    "reload(b)\n",
    "r_best = b.find_best_report_cider(filter_reports[train], filter_reports[train])\n",
    "print(b.all_scores(filter_reports[train], r_best))\n",
    "print(b.all_scores(filter_reports[test], r_best))\n",
    "r_best = b.find_best_report_cider(reports[train], reports[train])\n",
    "print(b.all_scores(reports[train], r_best))\n",
    "print(b.all_scores(reports[test], r_best))"
   ]
  },
  {
   "cell_type": "code",
   "execution_count": 305,
   "metadata": {},
   "outputs": [
    {
     "ename": "IndexError",
     "evalue": "index 177141 is out of bounds for axis 0 with size 155716",
     "output_type": "error",
     "traceback": [
      "\u001b[0;31m---------------------------------------------------------------------------\u001b[0m",
      "\u001b[0;31mIndexError\u001b[0m                                Traceback (most recent call last)",
      "\u001b[0;32m<ipython-input-305-ecb9c3118d86>\u001b[0m in \u001b[0;36m<module>\u001b[0;34m\u001b[0m\n\u001b[0;32m----> 1\u001b[0;31m \u001b[0mr2\u001b[0m \u001b[0;34m=\u001b[0m \u001b[0mb\u001b[0m\u001b[0;34m.\u001b[0m\u001b[0moptimal_report_bleu2\u001b[0m\u001b[0;34m(\u001b[0m\u001b[0mreports2\u001b[0m\u001b[0;34m[\u001b[0m\u001b[0mtrain2\u001b[0m\u001b[0;34m]\u001b[0m\u001b[0;34m)\u001b[0m\u001b[0;34m\u001b[0m\u001b[0;34m\u001b[0m\u001b[0m\n\u001b[0m\u001b[1;32m      2\u001b[0m \u001b[0mprint\u001b[0m\u001b[0;34m(\u001b[0m\u001b[0mb\u001b[0m\u001b[0;34m.\u001b[0m\u001b[0mall_scores\u001b[0m\u001b[0;34m(\u001b[0m\u001b[0mreports2\u001b[0m\u001b[0;34m[\u001b[0m\u001b[0mtest2\u001b[0m\u001b[0;34m]\u001b[0m\u001b[0;34m,\u001b[0m \u001b[0;34m' '\u001b[0m\u001b[0;34m.\u001b[0m\u001b[0mjoin\u001b[0m\u001b[0;34m(\u001b[0m\u001b[0mr2\u001b[0m\u001b[0;34m)\u001b[0m\u001b[0;34m)\u001b[0m\u001b[0;34m)\u001b[0m\u001b[0;34m\u001b[0m\u001b[0;34m\u001b[0m\u001b[0m\n",
      "\u001b[0;31mIndexError\u001b[0m: index 177141 is out of bounds for axis 0 with size 155716"
     ]
    }
   ],
   "source": [
    "r2 = b.optimal_report_bleu2(reports2[train2])\n",
    "print(b.all_scores(reports2[test2], ' '.join(r2)))"
   ]
  },
  {
   "cell_type": "code",
   "execution_count": 344,
   "metadata": {},
   "outputs": [
    {
     "name": "stdout",
     "output_type": "stream",
     "text": [
      "[0.3691245149783288, 0.23731374389433293, 0.16229533416204742, 0.11533389966069488, 0.14585204925021578, 0.30630311416655426, 0.4046789461903603, 0.09301570977526771]\n"
     ]
    }
   ],
   "source": [
    "r2 = b.find_best_report_bleu(reports2[train2], reports2[train2])\n",
    "print(b.all_scores(reports2[test2], r2))"
   ]
  },
  {
   "cell_type": "code",
   "execution_count": 345,
   "metadata": {},
   "outputs": [],
   "source": [
    "hist2 = b.word_histogram(reports2[train2])"
   ]
  },
  {
   "cell_type": "code",
   "execution_count": 346,
   "metadata": {},
   "outputs": [
    {
     "name": "stdout",
     "output_type": "stream",
     "text": [
      "12994 4146\n"
     ]
    }
   ],
   "source": [
    "print(len(hist2), len([h for h in hist2.values() if h > 5]))"
   ]
  },
  {
   "cell_type": "code",
   "execution_count": 349,
   "metadata": {},
   "outputs": [],
   "source": [
    "filter_reports2 = np.array([b.remove_rare_words(r,hist2,15) for r in reports2])"
   ]
  },
  {
   "cell_type": "code",
   "execution_count": 350,
   "metadata": {},
   "outputs": [
    {
     "name": "stdout",
     "output_type": "stream",
     "text": [
      "[0.3691245149783288, 0.23731374389433293, 0.16229533416204742, 0.11533389966069488, 0.14585204925021578, 0.30630311416655426, 0.4046789461903603, 0.09301570977526771]\n"
     ]
    }
   ],
   "source": [
    "r2 = b.find_best_report_bleu(reports2[train2], reports2[train2])\n",
    "print(b.all_scores(reports2[test2], r2))"
   ]
  },
  {
   "cell_type": "code",
   "execution_count": 351,
   "metadata": {},
   "outputs": [
    {
     "name": "stdout",
     "output_type": "stream",
     "text": [
      "[0.3705670040942139, 0.23825674090032764, 0.1629386256200423, 0.11578992574548534, 0.1467622571014529, 0.27081589732560146, 0.4085296597776934, 0.09408091079253234]\n"
     ]
    }
   ],
   "source": [
    "r2 = b.find_best_report_bleu(filter_reports2[train2], filter_reports2[train2])\n",
    "print(b.all_scores(filter_reports2[test2], r2))"
   ]
  },
  {
   "cell_type": "markdown",
   "metadata": {},
   "source": [
    "## Normal vs abnormal"
   ]
  },
  {
   "cell_type": "code",
   "execution_count": 358,
   "metadata": {},
   "outputs": [],
   "source": [
    "data_with_tags = np.load('data/Data_with_tags.npy',allow_pickle=True)\n",
    "tags = [data_with_tags[()][r] for r in data['report_id']]"
   ]
  },
  {
   "cell_type": "code",
   "execution_count": 360,
   "metadata": {},
   "outputs": [],
   "source": [
    "is_normal = np.array(['normal' in t for t in tags])"
   ]
  },
  {
   "cell_type": "code",
   "execution_count": 363,
   "metadata": {},
   "outputs": [
    {
     "data": {
      "text/plain": [
       "0.6314655172413793"
      ]
     },
     "execution_count": 363,
     "metadata": {},
     "output_type": "execute_result"
    }
   ],
   "source": [
    "np.mean(np.logical_not(is_normal))"
   ]
  },
  {
   "cell_type": "code",
   "execution_count": 368,
   "metadata": {},
   "outputs": [
    {
     "data": {
      "text/plain": [
       "array([[0.41121871, 0.26446941, 0.18139927, 0.127061  , 0.17093219,\n",
       "        0.34321917, 0.44710349, 0.17651433],\n",
       "       [0.44452735, 0.29705131, 0.21142897, 0.15175742, 0.23251578,\n",
       "        0.39606746, 0.61779133, 0.24241372],\n",
       "       [0.34830132, 0.21884425, 0.14644478, 0.10079648, 0.1472151 ,\n",
       "        0.31199964, 0.38195224, 0.15577305]])"
      ]
     },
     "execution_count": 368,
     "metadata": {},
     "output_type": "execute_result"
    }
   ],
   "source": [
    "reload(b)\n",
    "def score_split(method):\n",
    "  def fun(the_data,itrain,itest):\n",
    "    train = the_data[itrain]\n",
    "    test = the_data[itest]\n",
    "    test_normal = test[is_normal[itest]]\n",
    "    test_abnormal = test[np.logical_not(is_normal[itest])]\n",
    "    return np.array([\n",
    "      b.all_scores(test, method(train)),\n",
    "      b.all_scores(test_normal, method(train)),\n",
    "      b.all_scores(test_abnormal, method(train)),\n",
    "    ])\n",
    "  return fun\n",
    "\n",
    "s = b.cross_validate_with_idx(merged_reports, score_split(lambda train:b.best_report_bleu(train,train)))\n",
    "np.mean(s,0)"
   ]
  },
  {
   "cell_type": "code",
   "execution_count": 369,
   "metadata": {},
   "outputs": [
    {
     "data": {
      "text/plain": [
       "array([[0.48740667, 0.32285374, 0.19566484, 0.10971853, 0.20590523,\n",
       "        0.25820273, 0.67999746, 0.24827441],\n",
       "       [0.48587386, 0.33504638, 0.21397673, 0.12562932, 0.27753607,\n",
       "        0.29311744, 0.90874632, 0.29671813],\n",
       "       [0.42358359, 0.27385549, 0.16012873, 0.0867775 , 0.17812168,\n",
       "        0.23767304, 0.57082424, 0.23981065]])"
      ]
     },
     "execution_count": 369,
     "metadata": {},
     "output_type": "execute_result"
    }
   ],
   "source": [
    "s = b.cross_validate_with_idx(merged_reports, score_split(lambda train:b.optimal_report_bleu2(train)))\n",
    "np.mean(s,0)"
   ]
  },
  {
   "cell_type": "code",
   "execution_count": 328,
   "metadata": {},
   "outputs": [
    {
     "data": {
      "text/plain": [
       "array([[0.17942299, 0.06900524, 0.02191294, 0.00965322],\n",
       "       [0.2325934 , 0.15578674, 0.11174898, 0.07863672],\n",
       "       [0.38856672, 0.24714482, 0.16859877, 0.11804841],\n",
       "       [0.18854111, 0.09498032, 0.04669222, 0.02067314],\n",
       "       [0.18896753, 0.09682103, 0.05887453, 0.03511367]])"
      ]
     },
     "execution_count": 328,
     "metadata": {},
     "output_type": "execute_result"
    }
   ],
   "source": [
    "bleus1 = b.slow_pairwise_bleu_scores(reports[train], reports[train[:5]])\n",
    "bleus1"
   ]
  },
  {
   "cell_type": "markdown",
   "metadata": {},
   "source": [
    "## Normal vs abnormal (IU, chexpert labels)"
   ]
  },
  {
   "cell_type": "code",
   "execution_count": 410,
   "metadata": {},
   "outputs": [],
   "source": [
    "iu_chexpert_labels = pandas.read_csv('data/labeled_reports_IU.csv')"
   ]
  },
  {
   "cell_type": "code",
   "execution_count": 411,
   "metadata": {},
   "outputs": [
    {
     "data": {
      "text/html": [
       "<div>\n",
       "<style scoped>\n",
       "    .dataframe tbody tr th:only-of-type {\n",
       "        vertical-align: middle;\n",
       "    }\n",
       "\n",
       "    .dataframe tbody tr th {\n",
       "        vertical-align: top;\n",
       "    }\n",
       "\n",
       "    .dataframe thead th {\n",
       "        text-align: right;\n",
       "    }\n",
       "</style>\n",
       "<table border=\"1\" class=\"dataframe\">\n",
       "  <thead>\n",
       "    <tr style=\"text-align: right;\">\n",
       "      <th></th>\n",
       "      <th>Reports</th>\n",
       "      <th>No Finding</th>\n",
       "      <th>Enlarged Cardiomediastinum</th>\n",
       "      <th>Cardiomegaly</th>\n",
       "      <th>Lung Lesion</th>\n",
       "      <th>Lung Opacity</th>\n",
       "      <th>Edema</th>\n",
       "      <th>Consolidation</th>\n",
       "      <th>Pneumonia</th>\n",
       "      <th>Atelectasis</th>\n",
       "      <th>Pneumothorax</th>\n",
       "      <th>Pleural Effusion</th>\n",
       "      <th>Pleural Other</th>\n",
       "      <th>Fracture</th>\n",
       "      <th>Support Devices</th>\n",
       "    </tr>\n",
       "  </thead>\n",
       "  <tbody>\n",
       "    <tr>\n",
       "      <th>0</th>\n",
       "      <td>The heart size and pulmonary vascularity appea...</td>\n",
       "      <td>NaN</td>\n",
       "      <td>NaN</td>\n",
       "      <td>1.0</td>\n",
       "      <td>NaN</td>\n",
       "      <td>0.0</td>\n",
       "      <td>NaN</td>\n",
       "      <td>NaN</td>\n",
       "      <td>NaN</td>\n",
       "      <td>NaN</td>\n",
       "      <td>0.0</td>\n",
       "      <td>0.0</td>\n",
       "      <td>NaN</td>\n",
       "      <td>NaN</td>\n",
       "      <td>NaN</td>\n",
       "    </tr>\n",
       "    <tr>\n",
       "      <th>1</th>\n",
       "      <td>The lungs are clear No pleural effusion is see...</td>\n",
       "      <td>NaN</td>\n",
       "      <td>1.0</td>\n",
       "      <td>1.0</td>\n",
       "      <td>NaN</td>\n",
       "      <td>NaN</td>\n",
       "      <td>NaN</td>\n",
       "      <td>NaN</td>\n",
       "      <td>NaN</td>\n",
       "      <td>NaN</td>\n",
       "      <td>NaN</td>\n",
       "      <td>0.0</td>\n",
       "      <td>NaN</td>\n",
       "      <td>NaN</td>\n",
       "      <td>NaN</td>\n",
       "    </tr>\n",
       "    <tr>\n",
       "      <th>2</th>\n",
       "      <td>Normal heart size Normal mediastinal silhouett...</td>\n",
       "      <td>NaN</td>\n",
       "      <td>0.0</td>\n",
       "      <td>0.0</td>\n",
       "      <td>NaN</td>\n",
       "      <td>0.0</td>\n",
       "      <td>NaN</td>\n",
       "      <td>NaN</td>\n",
       "      <td>NaN</td>\n",
       "      <td>NaN</td>\n",
       "      <td>1.0</td>\n",
       "      <td>0.0</td>\n",
       "      <td>NaN</td>\n",
       "      <td>NaN</td>\n",
       "      <td>NaN</td>\n",
       "    </tr>\n",
       "    <tr>\n",
       "      <th>3</th>\n",
       "      <td>There are no focal areas of consolidation No s...</td>\n",
       "      <td>NaN</td>\n",
       "      <td>NaN</td>\n",
       "      <td>1.0</td>\n",
       "      <td>NaN</td>\n",
       "      <td>-1.0</td>\n",
       "      <td>NaN</td>\n",
       "      <td>0.0</td>\n",
       "      <td>NaN</td>\n",
       "      <td>NaN</td>\n",
       "      <td>0.0</td>\n",
       "      <td>0.0</td>\n",
       "      <td>NaN</td>\n",
       "      <td>NaN</td>\n",
       "      <td>NaN</td>\n",
       "    </tr>\n",
       "    <tr>\n",
       "      <th>4</th>\n",
       "      <td>The cardiomediastinal silhouette and vasculatu...</td>\n",
       "      <td>NaN</td>\n",
       "      <td>1.0</td>\n",
       "      <td>NaN</td>\n",
       "      <td>NaN</td>\n",
       "      <td>NaN</td>\n",
       "      <td>NaN</td>\n",
       "      <td>NaN</td>\n",
       "      <td>NaN</td>\n",
       "      <td>1.0</td>\n",
       "      <td>NaN</td>\n",
       "      <td>NaN</td>\n",
       "      <td>NaN</td>\n",
       "      <td>NaN</td>\n",
       "      <td>NaN</td>\n",
       "    </tr>\n",
       "    <tr>\n",
       "      <th>...</th>\n",
       "      <td>...</td>\n",
       "      <td>...</td>\n",
       "      <td>...</td>\n",
       "      <td>...</td>\n",
       "      <td>...</td>\n",
       "      <td>...</td>\n",
       "      <td>...</td>\n",
       "      <td>...</td>\n",
       "      <td>...</td>\n",
       "      <td>...</td>\n",
       "      <td>...</td>\n",
       "      <td>...</td>\n",
       "      <td>...</td>\n",
       "      <td>...</td>\n",
       "      <td>...</td>\n",
       "    </tr>\n",
       "    <tr>\n",
       "      <th>2779</th>\n",
       "      <td>On the right there is marked narrowing of the ...</td>\n",
       "      <td>NaN</td>\n",
       "      <td>NaN</td>\n",
       "      <td>0.0</td>\n",
       "      <td>NaN</td>\n",
       "      <td>NaN</td>\n",
       "      <td>NaN</td>\n",
       "      <td>NaN</td>\n",
       "      <td>NaN</td>\n",
       "      <td>NaN</td>\n",
       "      <td>NaN</td>\n",
       "      <td>0.0</td>\n",
       "      <td>NaN</td>\n",
       "      <td>-1.0</td>\n",
       "      <td>1.0</td>\n",
       "    </tr>\n",
       "    <tr>\n",
       "      <th>2780</th>\n",
       "      <td>Frontal and lateral views of the chest show no...</td>\n",
       "      <td>1.0</td>\n",
       "      <td>0.0</td>\n",
       "      <td>0.0</td>\n",
       "      <td>NaN</td>\n",
       "      <td>NaN</td>\n",
       "      <td>NaN</td>\n",
       "      <td>NaN</td>\n",
       "      <td>NaN</td>\n",
       "      <td>NaN</td>\n",
       "      <td>NaN</td>\n",
       "      <td>0.0</td>\n",
       "      <td>NaN</td>\n",
       "      <td>NaN</td>\n",
       "      <td>NaN</td>\n",
       "    </tr>\n",
       "    <tr>\n",
       "      <th>2781</th>\n",
       "      <td>Heart size is normal The lungs are clear There...</td>\n",
       "      <td>1.0</td>\n",
       "      <td>0.0</td>\n",
       "      <td>0.0</td>\n",
       "      <td>NaN</td>\n",
       "      <td>NaN</td>\n",
       "      <td>NaN</td>\n",
       "      <td>0.0</td>\n",
       "      <td>NaN</td>\n",
       "      <td>NaN</td>\n",
       "      <td>0.0</td>\n",
       "      <td>0.0</td>\n",
       "      <td>NaN</td>\n",
       "      <td>NaN</td>\n",
       "      <td>NaN</td>\n",
       "    </tr>\n",
       "    <tr>\n",
       "      <th>2782</th>\n",
       "      <td>The cardiomediastinal silhouette and pulmonary...</td>\n",
       "      <td>NaN</td>\n",
       "      <td>0.0</td>\n",
       "      <td>NaN</td>\n",
       "      <td>NaN</td>\n",
       "      <td>NaN</td>\n",
       "      <td>NaN</td>\n",
       "      <td>0.0</td>\n",
       "      <td>NaN</td>\n",
       "      <td>NaN</td>\n",
       "      <td>0.0</td>\n",
       "      <td>0.0</td>\n",
       "      <td>NaN</td>\n",
       "      <td>NaN</td>\n",
       "      <td>NaN</td>\n",
       "    </tr>\n",
       "    <tr>\n",
       "      <th>2783</th>\n",
       "      <td>There is a large calcified granuloma in the ri...</td>\n",
       "      <td>NaN</td>\n",
       "      <td>0.0</td>\n",
       "      <td>0.0</td>\n",
       "      <td>NaN</td>\n",
       "      <td>0.0</td>\n",
       "      <td>NaN</td>\n",
       "      <td>NaN</td>\n",
       "      <td>NaN</td>\n",
       "      <td>NaN</td>\n",
       "      <td>NaN</td>\n",
       "      <td>NaN</td>\n",
       "      <td>NaN</td>\n",
       "      <td>NaN</td>\n",
       "      <td>NaN</td>\n",
       "    </tr>\n",
       "  </tbody>\n",
       "</table>\n",
       "<p>2784 rows × 15 columns</p>\n",
       "</div>"
      ],
      "text/plain": [
       "                                                Reports  No Finding  \\\n",
       "0     The heart size and pulmonary vascularity appea...         NaN   \n",
       "1     The lungs are clear No pleural effusion is see...         NaN   \n",
       "2     Normal heart size Normal mediastinal silhouett...         NaN   \n",
       "3     There are no focal areas of consolidation No s...         NaN   \n",
       "4     The cardiomediastinal silhouette and vasculatu...         NaN   \n",
       "...                                                 ...         ...   \n",
       "2779  On the right there is marked narrowing of the ...         NaN   \n",
       "2780  Frontal and lateral views of the chest show no...         1.0   \n",
       "2781  Heart size is normal The lungs are clear There...         1.0   \n",
       "2782  The cardiomediastinal silhouette and pulmonary...         NaN   \n",
       "2783  There is a large calcified granuloma in the ri...         NaN   \n",
       "\n",
       "      Enlarged Cardiomediastinum  Cardiomegaly  Lung Lesion  Lung Opacity  \\\n",
       "0                            NaN           1.0          NaN           0.0   \n",
       "1                            1.0           1.0          NaN           NaN   \n",
       "2                            0.0           0.0          NaN           0.0   \n",
       "3                            NaN           1.0          NaN          -1.0   \n",
       "4                            1.0           NaN          NaN           NaN   \n",
       "...                          ...           ...          ...           ...   \n",
       "2779                         NaN           0.0          NaN           NaN   \n",
       "2780                         0.0           0.0          NaN           NaN   \n",
       "2781                         0.0           0.0          NaN           NaN   \n",
       "2782                         0.0           NaN          NaN           NaN   \n",
       "2783                         0.0           0.0          NaN           0.0   \n",
       "\n",
       "      Edema  Consolidation  Pneumonia  Atelectasis  Pneumothorax  \\\n",
       "0       NaN            NaN        NaN          NaN           0.0   \n",
       "1       NaN            NaN        NaN          NaN           NaN   \n",
       "2       NaN            NaN        NaN          NaN           1.0   \n",
       "3       NaN            0.0        NaN          NaN           0.0   \n",
       "4       NaN            NaN        NaN          1.0           NaN   \n",
       "...     ...            ...        ...          ...           ...   \n",
       "2779    NaN            NaN        NaN          NaN           NaN   \n",
       "2780    NaN            NaN        NaN          NaN           NaN   \n",
       "2781    NaN            0.0        NaN          NaN           0.0   \n",
       "2782    NaN            0.0        NaN          NaN           0.0   \n",
       "2783    NaN            NaN        NaN          NaN           NaN   \n",
       "\n",
       "      Pleural Effusion  Pleural Other  Fracture  Support Devices  \n",
       "0                  0.0            NaN       NaN              NaN  \n",
       "1                  0.0            NaN       NaN              NaN  \n",
       "2                  0.0            NaN       NaN              NaN  \n",
       "3                  0.0            NaN       NaN              NaN  \n",
       "4                  NaN            NaN       NaN              NaN  \n",
       "...                ...            ...       ...              ...  \n",
       "2779               0.0            NaN      -1.0              1.0  \n",
       "2780               0.0            NaN       NaN              NaN  \n",
       "2781               0.0            NaN       NaN              NaN  \n",
       "2782               0.0            NaN       NaN              NaN  \n",
       "2783               NaN            NaN       NaN              NaN  \n",
       "\n",
       "[2784 rows x 15 columns]"
      ]
     },
     "execution_count": 411,
     "metadata": {},
     "output_type": "execute_result"
    }
   ],
   "source": [
    "iu_chexpert_labels"
   ]
  },
  {
   "cell_type": "code",
   "execution_count": 416,
   "metadata": {},
   "outputs": [],
   "source": [
    "labels = iu_chexpert_labels.columns[1:].to_list()"
   ]
  },
  {
   "cell_type": "code",
   "execution_count": null,
   "metadata": {},
   "outputs": [],
   "source": [
    "reload(b)\n",
    "def score_split(, method):\n",
    "  def fun(the_data,itrain,itest):\n",
    "    train = the_data[itrain]\n",
    "    test = the_data[itest]\n",
    "    test_normal = test[is_normal[itest]]\n",
    "    test_abnormal = test[np.logical_not(is_normal[itest])]\n",
    "    return np.array([\n",
    "      b.all_scores(test, method(train)),\n",
    "      b.all_scores(test_normal, method(train)),\n",
    "      b.all_scores(test_abnormal, method(train)),\n",
    "    ])\n",
    "  return fun\n"
   ]
  },
  {
   "cell_type": "code",
   "execution_count": 420,
   "metadata": {},
   "outputs": [
    {
     "data": {
      "text/html": [
       "<div>\n",
       "<style scoped>\n",
       "    .dataframe tbody tr th:only-of-type {\n",
       "        vertical-align: middle;\n",
       "    }\n",
       "\n",
       "    .dataframe tbody tr th {\n",
       "        vertical-align: top;\n",
       "    }\n",
       "\n",
       "    .dataframe thead th {\n",
       "        text-align: right;\n",
       "    }\n",
       "</style>\n",
       "<table border=\"1\" class=\"dataframe\">\n",
       "  <thead>\n",
       "    <tr style=\"text-align: right;\">\n",
       "      <th></th>\n",
       "      <th>Unnamed: 0</th>\n",
       "      <th>Findings</th>\n",
       "      <th>Impression</th>\n",
       "      <th>image_id</th>\n",
       "      <th>report_id</th>\n",
       "    </tr>\n",
       "  </thead>\n",
       "  <tbody>\n",
       "    <tr>\n",
       "      <th>0</th>\n",
       "      <td>0</td>\n",
       "      <td>Heart size normal. Lungs are clear. XXXX are n...</td>\n",
       "      <td>Normal chest</td>\n",
       "      <td>['CXR162_IM-0401-1001', 'CXR162_IM-0401-2001']</td>\n",
       "      <td>CXR162</td>\n",
       "    </tr>\n",
       "    <tr>\n",
       "      <th>1</th>\n",
       "      <td>1</td>\n",
       "      <td>The heart size and pulmonary vascularity appea...</td>\n",
       "      <td>. No evidence of active disease.</td>\n",
       "      <td>['CXR604_IM-2193-1001', 'CXR604_IM-2193-2001']</td>\n",
       "      <td>CXR604</td>\n",
       "    </tr>\n",
       "    <tr>\n",
       "      <th>2</th>\n",
       "      <td>2</td>\n",
       "      <td>The heart is normal in size and contour. The l...</td>\n",
       "      <td>No acute cardiopulmonary disease.</td>\n",
       "      <td>['CXR2699_IM-1167-1001', 'CXR2699_IM-1167-2001']</td>\n",
       "      <td>CXR2699</td>\n",
       "    </tr>\n",
       "  </tbody>\n",
       "</table>\n",
       "</div>"
      ],
      "text/plain": [
       "   Unnamed: 0                                           Findings  \\\n",
       "0           0  Heart size normal. Lungs are clear. XXXX are n...   \n",
       "1           1  The heart size and pulmonary vascularity appea...   \n",
       "2           2  The heart is normal in size and contour. The l...   \n",
       "\n",
       "                          Impression  \\\n",
       "0                       Normal chest   \n",
       "1   . No evidence of active disease.   \n",
       "2  No acute cardiopulmonary disease.   \n",
       "\n",
       "                                           image_id report_id  \n",
       "0    ['CXR162_IM-0401-1001', 'CXR162_IM-0401-2001']    CXR162  \n",
       "1    ['CXR604_IM-2193-1001', 'CXR604_IM-2193-2001']    CXR604  \n",
       "2  ['CXR2699_IM-1167-1001', 'CXR2699_IM-1167-2001']   CXR2699  "
      ]
     },
     "execution_count": 420,
     "metadata": {},
     "output_type": "execute_result"
    }
   ],
   "source": [
    "data[:3]"
   ]
  },
  {
   "cell_type": "markdown",
   "metadata": {},
   "source": [
    "### Normal vs abnormal (MIMIC)"
   ]
  },
  {
   "cell_type": "code",
   "execution_count": 388,
   "metadata": {},
   "outputs": [],
   "source": [
    "chexpert_labels = pandas.read_csv('data/mimic-cxr-2.0.0-chexpert.csv')"
   ]
  },
  {
   "cell_type": "code",
   "execution_count": 389,
   "metadata": {},
   "outputs": [
    {
     "data": {
      "text/html": [
       "<div>\n",
       "<style scoped>\n",
       "    .dataframe tbody tr th:only-of-type {\n",
       "        vertical-align: middle;\n",
       "    }\n",
       "\n",
       "    .dataframe tbody tr th {\n",
       "        vertical-align: top;\n",
       "    }\n",
       "\n",
       "    .dataframe thead th {\n",
       "        text-align: right;\n",
       "    }\n",
       "</style>\n",
       "<table border=\"1\" class=\"dataframe\">\n",
       "  <thead>\n",
       "    <tr style=\"text-align: right;\">\n",
       "      <th></th>\n",
       "      <th>subject_id</th>\n",
       "      <th>study_id</th>\n",
       "      <th>Atelectasis</th>\n",
       "      <th>Cardiomegaly</th>\n",
       "      <th>Consolidation</th>\n",
       "      <th>Edema</th>\n",
       "      <th>Enlarged Cardiomediastinum</th>\n",
       "      <th>Fracture</th>\n",
       "      <th>Lung Lesion</th>\n",
       "      <th>Lung Opacity</th>\n",
       "      <th>No Finding</th>\n",
       "      <th>Pleural Effusion</th>\n",
       "      <th>Pleural Other</th>\n",
       "      <th>Pneumonia</th>\n",
       "      <th>Pneumothorax</th>\n",
       "      <th>Support Devices</th>\n",
       "    </tr>\n",
       "  </thead>\n",
       "  <tbody>\n",
       "    <tr>\n",
       "      <th>0</th>\n",
       "      <td>10000032</td>\n",
       "      <td>50414267</td>\n",
       "      <td>NaN</td>\n",
       "      <td>NaN</td>\n",
       "      <td>NaN</td>\n",
       "      <td>NaN</td>\n",
       "      <td>NaN</td>\n",
       "      <td>NaN</td>\n",
       "      <td>NaN</td>\n",
       "      <td>NaN</td>\n",
       "      <td>1.0</td>\n",
       "      <td>NaN</td>\n",
       "      <td>NaN</td>\n",
       "      <td>NaN</td>\n",
       "      <td>NaN</td>\n",
       "      <td>NaN</td>\n",
       "    </tr>\n",
       "    <tr>\n",
       "      <th>1</th>\n",
       "      <td>10000032</td>\n",
       "      <td>53189527</td>\n",
       "      <td>NaN</td>\n",
       "      <td>NaN</td>\n",
       "      <td>NaN</td>\n",
       "      <td>NaN</td>\n",
       "      <td>NaN</td>\n",
       "      <td>NaN</td>\n",
       "      <td>NaN</td>\n",
       "      <td>NaN</td>\n",
       "      <td>1.0</td>\n",
       "      <td>NaN</td>\n",
       "      <td>NaN</td>\n",
       "      <td>NaN</td>\n",
       "      <td>NaN</td>\n",
       "      <td>NaN</td>\n",
       "    </tr>\n",
       "    <tr>\n",
       "      <th>2</th>\n",
       "      <td>10000032</td>\n",
       "      <td>53911762</td>\n",
       "      <td>NaN</td>\n",
       "      <td>NaN</td>\n",
       "      <td>NaN</td>\n",
       "      <td>NaN</td>\n",
       "      <td>NaN</td>\n",
       "      <td>NaN</td>\n",
       "      <td>NaN</td>\n",
       "      <td>NaN</td>\n",
       "      <td>1.0</td>\n",
       "      <td>NaN</td>\n",
       "      <td>NaN</td>\n",
       "      <td>NaN</td>\n",
       "      <td>NaN</td>\n",
       "      <td>NaN</td>\n",
       "    </tr>\n",
       "    <tr>\n",
       "      <th>3</th>\n",
       "      <td>10000032</td>\n",
       "      <td>56699142</td>\n",
       "      <td>NaN</td>\n",
       "      <td>NaN</td>\n",
       "      <td>NaN</td>\n",
       "      <td>NaN</td>\n",
       "      <td>NaN</td>\n",
       "      <td>NaN</td>\n",
       "      <td>NaN</td>\n",
       "      <td>NaN</td>\n",
       "      <td>1.0</td>\n",
       "      <td>NaN</td>\n",
       "      <td>NaN</td>\n",
       "      <td>NaN</td>\n",
       "      <td>NaN</td>\n",
       "      <td>NaN</td>\n",
       "    </tr>\n",
       "    <tr>\n",
       "      <th>4</th>\n",
       "      <td>10000764</td>\n",
       "      <td>57375967</td>\n",
       "      <td>NaN</td>\n",
       "      <td>NaN</td>\n",
       "      <td>1.0</td>\n",
       "      <td>NaN</td>\n",
       "      <td>NaN</td>\n",
       "      <td>NaN</td>\n",
       "      <td>NaN</td>\n",
       "      <td>NaN</td>\n",
       "      <td>NaN</td>\n",
       "      <td>NaN</td>\n",
       "      <td>NaN</td>\n",
       "      <td>-1.0</td>\n",
       "      <td>NaN</td>\n",
       "      <td>NaN</td>\n",
       "    </tr>\n",
       "    <tr>\n",
       "      <th>...</th>\n",
       "      <td>...</td>\n",
       "      <td>...</td>\n",
       "      <td>...</td>\n",
       "      <td>...</td>\n",
       "      <td>...</td>\n",
       "      <td>...</td>\n",
       "      <td>...</td>\n",
       "      <td>...</td>\n",
       "      <td>...</td>\n",
       "      <td>...</td>\n",
       "      <td>...</td>\n",
       "      <td>...</td>\n",
       "      <td>...</td>\n",
       "      <td>...</td>\n",
       "      <td>...</td>\n",
       "      <td>...</td>\n",
       "    </tr>\n",
       "    <tr>\n",
       "      <th>227822</th>\n",
       "      <td>19999442</td>\n",
       "      <td>58708861</td>\n",
       "      <td>NaN</td>\n",
       "      <td>NaN</td>\n",
       "      <td>NaN</td>\n",
       "      <td>NaN</td>\n",
       "      <td>NaN</td>\n",
       "      <td>NaN</td>\n",
       "      <td>NaN</td>\n",
       "      <td>NaN</td>\n",
       "      <td>1.0</td>\n",
       "      <td>NaN</td>\n",
       "      <td>NaN</td>\n",
       "      <td>NaN</td>\n",
       "      <td>NaN</td>\n",
       "      <td>1.0</td>\n",
       "    </tr>\n",
       "    <tr>\n",
       "      <th>227823</th>\n",
       "      <td>19999733</td>\n",
       "      <td>57132437</td>\n",
       "      <td>NaN</td>\n",
       "      <td>NaN</td>\n",
       "      <td>NaN</td>\n",
       "      <td>NaN</td>\n",
       "      <td>NaN</td>\n",
       "      <td>NaN</td>\n",
       "      <td>NaN</td>\n",
       "      <td>NaN</td>\n",
       "      <td>1.0</td>\n",
       "      <td>NaN</td>\n",
       "      <td>NaN</td>\n",
       "      <td>NaN</td>\n",
       "      <td>NaN</td>\n",
       "      <td>NaN</td>\n",
       "    </tr>\n",
       "    <tr>\n",
       "      <th>227824</th>\n",
       "      <td>19999987</td>\n",
       "      <td>55368167</td>\n",
       "      <td>1.0</td>\n",
       "      <td>-1.0</td>\n",
       "      <td>NaN</td>\n",
       "      <td>NaN</td>\n",
       "      <td>NaN</td>\n",
       "      <td>NaN</td>\n",
       "      <td>0.0</td>\n",
       "      <td>NaN</td>\n",
       "      <td>NaN</td>\n",
       "      <td>0.0</td>\n",
       "      <td>NaN</td>\n",
       "      <td>NaN</td>\n",
       "      <td>0.0</td>\n",
       "      <td>NaN</td>\n",
       "    </tr>\n",
       "    <tr>\n",
       "      <th>227825</th>\n",
       "      <td>19999987</td>\n",
       "      <td>58621812</td>\n",
       "      <td>1.0</td>\n",
       "      <td>NaN</td>\n",
       "      <td>NaN</td>\n",
       "      <td>NaN</td>\n",
       "      <td>NaN</td>\n",
       "      <td>NaN</td>\n",
       "      <td>NaN</td>\n",
       "      <td>NaN</td>\n",
       "      <td>NaN</td>\n",
       "      <td>NaN</td>\n",
       "      <td>NaN</td>\n",
       "      <td>NaN</td>\n",
       "      <td>NaN</td>\n",
       "      <td>1.0</td>\n",
       "    </tr>\n",
       "    <tr>\n",
       "      <th>227826</th>\n",
       "      <td>19999987</td>\n",
       "      <td>58971208</td>\n",
       "      <td>1.0</td>\n",
       "      <td>NaN</td>\n",
       "      <td>NaN</td>\n",
       "      <td>NaN</td>\n",
       "      <td>NaN</td>\n",
       "      <td>NaN</td>\n",
       "      <td>NaN</td>\n",
       "      <td>NaN</td>\n",
       "      <td>NaN</td>\n",
       "      <td>NaN</td>\n",
       "      <td>NaN</td>\n",
       "      <td>NaN</td>\n",
       "      <td>NaN</td>\n",
       "      <td>NaN</td>\n",
       "    </tr>\n",
       "  </tbody>\n",
       "</table>\n",
       "<p>227827 rows × 16 columns</p>\n",
       "</div>"
      ],
      "text/plain": [
       "        subject_id  study_id  Atelectasis  Cardiomegaly  Consolidation  Edema  \\\n",
       "0         10000032  50414267          NaN           NaN            NaN    NaN   \n",
       "1         10000032  53189527          NaN           NaN            NaN    NaN   \n",
       "2         10000032  53911762          NaN           NaN            NaN    NaN   \n",
       "3         10000032  56699142          NaN           NaN            NaN    NaN   \n",
       "4         10000764  57375967          NaN           NaN            1.0    NaN   \n",
       "...            ...       ...          ...           ...            ...    ...   \n",
       "227822    19999442  58708861          NaN           NaN            NaN    NaN   \n",
       "227823    19999733  57132437          NaN           NaN            NaN    NaN   \n",
       "227824    19999987  55368167          1.0          -1.0            NaN    NaN   \n",
       "227825    19999987  58621812          1.0           NaN            NaN    NaN   \n",
       "227826    19999987  58971208          1.0           NaN            NaN    NaN   \n",
       "\n",
       "        Enlarged Cardiomediastinum  Fracture  Lung Lesion  Lung Opacity  \\\n",
       "0                              NaN       NaN          NaN           NaN   \n",
       "1                              NaN       NaN          NaN           NaN   \n",
       "2                              NaN       NaN          NaN           NaN   \n",
       "3                              NaN       NaN          NaN           NaN   \n",
       "4                              NaN       NaN          NaN           NaN   \n",
       "...                            ...       ...          ...           ...   \n",
       "227822                         NaN       NaN          NaN           NaN   \n",
       "227823                         NaN       NaN          NaN           NaN   \n",
       "227824                         NaN       NaN          0.0           NaN   \n",
       "227825                         NaN       NaN          NaN           NaN   \n",
       "227826                         NaN       NaN          NaN           NaN   \n",
       "\n",
       "        No Finding  Pleural Effusion  Pleural Other  Pneumonia  Pneumothorax  \\\n",
       "0              1.0               NaN            NaN        NaN           NaN   \n",
       "1              1.0               NaN            NaN        NaN           NaN   \n",
       "2              1.0               NaN            NaN        NaN           NaN   \n",
       "3              1.0               NaN            NaN        NaN           NaN   \n",
       "4              NaN               NaN            NaN       -1.0           NaN   \n",
       "...            ...               ...            ...        ...           ...   \n",
       "227822         1.0               NaN            NaN        NaN           NaN   \n",
       "227823         1.0               NaN            NaN        NaN           NaN   \n",
       "227824         NaN               0.0            NaN        NaN           0.0   \n",
       "227825         NaN               NaN            NaN        NaN           NaN   \n",
       "227826         NaN               NaN            NaN        NaN           NaN   \n",
       "\n",
       "        Support Devices  \n",
       "0                   NaN  \n",
       "1                   NaN  \n",
       "2                   NaN  \n",
       "3                   NaN  \n",
       "4                   NaN  \n",
       "...                 ...  \n",
       "227822              1.0  \n",
       "227823              NaN  \n",
       "227824              NaN  \n",
       "227825              1.0  \n",
       "227826              NaN  \n",
       "\n",
       "[227827 rows x 16 columns]"
      ]
     },
     "execution_count": 389,
     "metadata": {},
     "output_type": "execute_result"
    }
   ],
   "source": [
    "chexpert_labels"
   ]
  },
  {
   "cell_type": "code",
   "execution_count": 391,
   "metadata": {},
   "outputs": [
    {
     "data": {
      "text/plain": [
       "['s50414267', 's53189527', 's53911762', 's56699142', 's57375967']"
      ]
     },
     "execution_count": 391,
     "metadata": {},
     "output_type": "execute_result"
    }
   ],
   "source": [
    "data2['study'].to_list()[:5]"
   ]
  },
  {
   "cell_type": "code",
   "execution_count": 399,
   "metadata": {},
   "outputs": [],
   "source": [
    "sid = chexpert_labels['study_id'].to_list()\n",
    "nofind_cl = chexpert_labels['No Finding'].to_list()\n",
    "\n",
    "to_chexpertlabel_row = {('s'+str(s)):i for (i,s) in enumerate(chexpert_labels['study_id'].to_list())}"
   ]
  },
  {
   "cell_type": "code",
   "execution_count": 405,
   "metadata": {},
   "outputs": [],
   "source": [
    "nofind2 = np.array([nofind_cl[to_chexpertlabel_row[i]]==1 for i in data2['study'].to_list()])"
   ]
  },
  {
   "cell_type": "code",
   "execution_count": 406,
   "metadata": {},
   "outputs": [
    {
     "data": {
      "text/plain": [
       "array([[0.00093598, 0.00085625, 0.00080534, 0.0007706 , 0.00038964,\n",
       "        0.00063152, 0.00309323, 0.00188322],\n",
       "       [0.00172656, 0.00148061, 0.00142393, 0.00131386, 0.00069505,\n",
       "        0.00093925, 0.00587061, 0.00195218],\n",
       "       [0.0011512 , 0.00112629, 0.00111887, 0.00109964, 0.00055784,\n",
       "        0.00104822, 0.00610957, 0.0024756 ]])"
      ]
     },
     "execution_count": 406,
     "metadata": {},
     "output_type": "execute_result"
    }
   ],
   "source": [
    "reload(b)\n",
    "def score_split2(method):\n",
    "  def fun(the_data,itrain,itest):\n",
    "    train = the_data[itrain]\n",
    "    test = the_data[itest]\n",
    "    test_normal = test[nofind2[itest]]\n",
    "    test_abnormal = test[np.logical_not(nofind2[itest])]\n",
    "    return np.array([\n",
    "      b.all_scores(test, method(train)),\n",
    "      b.all_scores(test_normal, method(train)),\n",
    "      b.all_scores(test_abnormal, method(train)),\n",
    "    ])\n",
    "  return fun\n",
    "\n",
    "s = b.cross_validate_with_idx(reports2, score_split2(lambda train:b.best_report_bleu(train,train)))\n",
    "np.mean(s,0)\n",
    "np.std(s,0)"
   ]
  },
  {
   "cell_type": "code",
   "execution_count": 407,
   "metadata": {},
   "outputs": [
    {
     "data": {
      "text/plain": [
       "array([[0.00077429, 0.00063355, 0.00059315, 0.00038372, 0.00029039,\n",
       "        0.00531231, 0.002608  , 0.00087131],\n",
       "       [0.00187101, 0.00148978, 0.00145478, 0.00111928, 0.00071965,\n",
       "        0.00506873, 0.0035473 , 0.00177348],\n",
       "       [0.00094665, 0.00077751, 0.000584  , 0.00034747, 0.00039847,\n",
       "        0.00544555, 0.00272876, 0.00081134]])"
      ]
     },
     "execution_count": 407,
     "metadata": {},
     "output_type": "execute_result"
    }
   ],
   "source": [
    "s = b.cross_validate_with_idx(reports2, score_split2(lambda train:b.optimal_report_bleu2(train)))\n",
    "print(np.mean(s,0))\n",
    "print(np.std(s,0))"
   ]
  },
  {
   "cell_type": "code",
   "execution_count": 408,
   "metadata": {},
   "outputs": [
    {
     "name": "stdout",
     "output_type": "stream",
     "text": [
      "[[0.44768178 0.28302522 0.1745963  0.10676294 0.17004235 0.20267616\n",
      "  0.5239154  0.12027918]\n",
      " [0.44725451 0.28262057 0.17422741 0.10636615 0.16995502 0.20263639\n",
      "  0.52955741 0.12209421]\n",
      " [0.44767729 0.28308838 0.17469338 0.10690656 0.1700863  0.20269519\n",
      "  0.5262849  0.1207227 ]]\n"
     ]
    }
   ],
   "source": [
    "print(np.mean(s,0))"
   ]
  },
  {
   "cell_type": "markdown",
   "metadata": {},
   "source": [
    "## Generated reports"
   ]
  },
  {
   "cell_type": "code",
   "execution_count": 383,
   "metadata": {},
   "outputs": [
    {
     "name": "stdout",
     "output_type": "stream",
     "text": [
      "the lungs are clear  there is no focal airspace consolidation  no pleural effusion or pneumothorax  heart size and mediastinal contour are within normal limits  there are degenerative changes of the spine \n",
      "no evidence of active disease \n"
     ]
    }
   ],
   "source": [
    "reload(b)\n",
    "print(b.find_best_report_bleu(merged_reports[train]))"
   ]
  },
  {
   "cell_type": "code",
   "execution_count": 384,
   "metadata": {},
   "outputs": [
    {
     "name": "stdout",
     "output_type": "stream",
     "text": [
      "of the heart size and pulmonary xxxx are clear there is in the lungs are within normal limits no pneumothorax no focal airspace disease of the cardiomediastinal silhouette is no acute cardiopulmonary abnormality consolidation pleural effusion or mediastinal\n"
     ]
    }
   ],
   "source": [
    "reload(b)\n",
    "print(b.optimal_report_bleu2(merged_reports[train]))"
   ]
  },
  {
   "cell_type": "code",
   "execution_count": 385,
   "metadata": {},
   "outputs": [
    {
     "name": "stdout",
     "output_type": "stream",
     "text": [
      "pa and lateral views of the chest were obtained   the lungs are\n",
      " clear bilaterally with no evidence of focal consolidation or pulmonary edema  \n",
      " there is no pleural effusion or pneumothorax   the cardiomediastinal\n",
      " silhouette is normal   there are no bony abnormalities   there is no free air\n",
      " below the right hemidiaphragm \n"
     ]
    }
   ],
   "source": [
    "print(b.find_best_report_bleu(reports2[train2]))"
   ]
  },
  {
   "cell_type": "code",
   "execution_count": 386,
   "metadata": {},
   "outputs": [
    {
     "name": "stdout",
     "output_type": "stream",
     "text": [
      "mediastinal and a pulmonary edema cardiomediastinal silhouette is unchanged with the lungs are clear there is seen in the cardiac and hilar contours are no pleural effusion or pneumothorax is normal there is no focal consolidation to the right lung atelectasis of the left heart size of the chest\n"
     ]
    }
   ],
   "source": [
    "print(b.optimal_report_bleu2(reports2[train2]))"
   ]
  },
  {
   "cell_type": "markdown",
   "metadata": {},
   "source": [
    "## Test\n",
    "Check that pairwise_bleu_scores is doing the right thing"
   ]
  },
  {
   "cell_type": "code",
   "execution_count": 331,
   "metadata": {},
   "outputs": [
    {
     "name": "stdout",
     "output_type": "stream",
     "text": [
      "68599\n"
     ]
    },
    {
     "data": {
      "text/plain": [
       "array([[0.17942299, 0.06900524, 0.02191294, 0.00965322],\n",
       "       [0.2325934 , 0.15578674, 0.11174898, 0.07863672],\n",
       "       [0.38856672, 0.24714482, 0.16859877, 0.11804841],\n",
       "       [0.18854111, 0.09498032, 0.04669222, 0.02067314],\n",
       "       [0.18896753, 0.09682103, 0.05887453, 0.03511367]])"
      ]
     },
     "execution_count": 331,
     "metadata": {},
     "output_type": "execute_result"
    }
   ],
   "source": [
    "reload(b)\n",
    "b.pairwise_bleu_scores(reports[train], reports[train[:5]])"
   ]
  },
  {
   "cell_type": "code",
   "execution_count": 22,
   "metadata": {},
   "outputs": [
    {
     "name": "stdout",
     "output_type": "stream",
     "text": [
      "defaultdict(<class 'int'>, {('this',): 1, ('is',): 1, ('a',): 1, ('test',): 1})\n",
      "defaultdict(<class 'int'>, {'this': 1, 'is': 1, 'a': 1, 'test': 1})\n"
     ]
    }
   ],
   "source": [
    "reload(baselines)\n",
    "print(b.n_grams(\"this is a test\", 1))\n",
    "print(b.one_grams(\"this is a test\"))"
   ]
  },
  {
   "cell_type": "code",
   "execution_count": 59,
   "metadata": {},
   "outputs": [
    {
     "data": {
      "text/plain": [
       "1.414213562373095"
      ]
     },
     "execution_count": 59,
     "metadata": {},
     "output_type": "execute_result"
    }
   ],
   "source": [
    "import scipy.stats\n",
    "scipy.stats.gmean([1,2])"
   ]
  },
  {
   "cell_type": "code",
   "execution_count": 55,
   "metadata": {},
   "outputs": [
    {
     "data": {
      "text/plain": [
       "[1, 2, 1, 2, 1, 2]"
      ]
     },
     "execution_count": 55,
     "metadata": {},
     "output_type": "execute_result"
    }
   ],
   "source": []
  },
  {
   "cell_type": "code",
   "execution_count": 21,
   "metadata": {},
   "outputs": [],
   "source": [
    "reload(b)\n",
    "ciders = b.slow_pairwise_cider_scores(reports[train], reports[train[:200]])"
   ]
  },
  {
   "cell_type": "code",
   "execution_count": 152,
   "metadata": {},
   "outputs": [
    {
     "ename": "NameError",
     "evalue": "name 'ciders' is not defined",
     "output_type": "error",
     "traceback": [
      "\u001b[0;31m---------------------------------------------------------------------------\u001b[0m",
      "\u001b[0;31mNameError\u001b[0m                                 Traceback (most recent call last)",
      "\u001b[0;32m<ipython-input-152-e3665e76a030>\u001b[0m in \u001b[0;36m<module>\u001b[0;34m\u001b[0m\n\u001b[0;32m----> 1\u001b[0;31m \u001b[0midx\u001b[0m \u001b[0;34m=\u001b[0m \u001b[0mnp\u001b[0m\u001b[0;34m.\u001b[0m\u001b[0margmax\u001b[0m\u001b[0;34m(\u001b[0m\u001b[0mciders\u001b[0m\u001b[0;34m)\u001b[0m\u001b[0;34m\u001b[0m\u001b[0;34m\u001b[0m\u001b[0m\n\u001b[0m\u001b[1;32m      2\u001b[0m \u001b[0mbest_report_c\u001b[0m \u001b[0;34m=\u001b[0m \u001b[0mreports\u001b[0m\u001b[0;34m[\u001b[0m\u001b[0mtrain\u001b[0m\u001b[0;34m]\u001b[0m\u001b[0;34m[\u001b[0m\u001b[0midx\u001b[0m\u001b[0;34m]\u001b[0m\u001b[0;34m\u001b[0m\u001b[0;34m\u001b[0m\u001b[0m\n\u001b[1;32m      3\u001b[0m \u001b[0mprint\u001b[0m\u001b[0;34m(\u001b[0m\u001b[0mb\u001b[0m\u001b[0;34m.\u001b[0m\u001b[0mall_scores\u001b[0m\u001b[0;34m(\u001b[0m\u001b[0mreports\u001b[0m\u001b[0;34m[\u001b[0m\u001b[0mtrain\u001b[0m\u001b[0;34m]\u001b[0m\u001b[0;34m,\u001b[0m \u001b[0mbest_report_c\u001b[0m\u001b[0;34m)\u001b[0m\u001b[0;34m)\u001b[0m\u001b[0;34m\u001b[0m\u001b[0;34m\u001b[0m\u001b[0m\n",
      "\u001b[0;31mNameError\u001b[0m: name 'ciders' is not defined"
     ]
    }
   ],
   "source": [
    "idx = np.argmax(ciders)\n",
    "best_report_c = reports[train][idx]\n",
    "print(b.all_scores(reports[train], best_report_c))"
   ]
  },
  {
   "cell_type": "code",
   "execution_count": 25,
   "metadata": {
    "scrolled": true
   },
   "outputs": [
    {
     "ename": "KeyboardInterrupt",
     "evalue": "",
     "output_type": "error",
     "traceback": [
      "\u001b[0;31m---------------------------------------------------------------------------\u001b[0m",
      "\u001b[0;31mKeyboardInterrupt\u001b[0m                         Traceback (most recent call last)",
      "\u001b[0;32m<ipython-input-25-237fbe59baaf>\u001b[0m in \u001b[0;36m<module>\u001b[0;34m\u001b[0m\n\u001b[1;32m      1\u001b[0m \u001b[0mreload\u001b[0m\u001b[0;34m(\u001b[0m\u001b[0mb\u001b[0m\u001b[0;34m)\u001b[0m\u001b[0;34m\u001b[0m\u001b[0;34m\u001b[0m\u001b[0m\n\u001b[0;32m----> 2\u001b[0;31m \u001b[0mciders\u001b[0m \u001b[0;34m=\u001b[0m \u001b[0mb\u001b[0m\u001b[0;34m.\u001b[0m\u001b[0mslow_pairwise_cider_scores\u001b[0m\u001b[0;34m(\u001b[0m\u001b[0mreports\u001b[0m\u001b[0;34m[\u001b[0m\u001b[0mtrain\u001b[0m\u001b[0;34m]\u001b[0m\u001b[0;34m,\u001b[0m \u001b[0mreports\u001b[0m\u001b[0;34m[\u001b[0m\u001b[0mtrain\u001b[0m\u001b[0;34m]\u001b[0m\u001b[0;34m)\u001b[0m\u001b[0;34m\u001b[0m\u001b[0;34m\u001b[0m\u001b[0m\n\u001b[0m",
      "\u001b[0;32m~/Dropbox/r/zaheer/Baselines/baselines.py\u001b[0m in \u001b[0;36mslow_pairwise_cider_scores\u001b[0;34m(reports, pred_reports)\u001b[0m\n\u001b[1;32m    303\u001b[0m   \u001b[0mCompute\u001b[0m \u001b[0mbleu\u001b[0m\u001b[0;34m-\u001b[0m\u001b[0;36m1.\u001b[0m\u001b[0;34m.\u001b[0m\u001b[0mn\u001b[0m \u001b[0;32mfor\u001b[0m \u001b[0mthe\u001b[0m \u001b[0mdataset\u001b[0m \u001b[0mof\u001b[0m \u001b[0mreports\u001b[0m\u001b[0;34m,\u001b[0m \u001b[0mwhen\u001b[0m \u001b[0mtaking\u001b[0m \u001b[0mone\u001b[0m \u001b[0mof\u001b[0m \u001b[0mthe\u001b[0m \u001b[0mpred_reports\u001b[0m \u001b[0;32mas\u001b[0m \u001b[0mpredictions\u001b[0m\u001b[0;34m\u001b[0m\u001b[0;34m\u001b[0m\u001b[0m\n\u001b[1;32m    304\u001b[0m   \"\"\"\n\u001b[0;32m--> 305\u001b[0;31m   \u001b[0mout\u001b[0m \u001b[0;34m=\u001b[0m \u001b[0mnp\u001b[0m\u001b[0;34m.\u001b[0m\u001b[0mzeros\u001b[0m\u001b[0;34m(\u001b[0m\u001b[0;34m(\u001b[0m\u001b[0mlen\u001b[0m\u001b[0;34m(\u001b[0m\u001b[0mpred_reports\u001b[0m\u001b[0;34m)\u001b[0m\u001b[0;34m,\u001b[0m\u001b[0mn\u001b[0m\u001b[0;34m)\u001b[0m\u001b[0;34m)\u001b[0m\u001b[0;34m\u001b[0m\u001b[0;34m\u001b[0m\u001b[0m\n\u001b[0m\u001b[1;32m    306\u001b[0m   \u001b[0mprods\u001b[0m \u001b[0;34m=\u001b[0m \u001b[0;36m1\u001b[0m\u001b[0;34m\u001b[0m\u001b[0;34m\u001b[0m\u001b[0m\n\u001b[1;32m    307\u001b[0m   \u001b[0;32mfor\u001b[0m \u001b[0mi\u001b[0m \u001b[0;32min\u001b[0m \u001b[0mrange\u001b[0m\u001b[0;34m(\u001b[0m\u001b[0mn\u001b[0m\u001b[0;34m)\u001b[0m\u001b[0;34m:\u001b[0m\u001b[0;34m\u001b[0m\u001b[0;34m\u001b[0m\u001b[0m\n",
      "\u001b[0;32m~/Dropbox/r/zaheer/Baselines/baselines.py\u001b[0m in \u001b[0;36m<listcomp>\u001b[0;34m(.0)\u001b[0m\n\u001b[1;32m    303\u001b[0m   \u001b[0mCompute\u001b[0m \u001b[0mbleu\u001b[0m\u001b[0;34m-\u001b[0m\u001b[0;36m1.\u001b[0m\u001b[0;34m.\u001b[0m\u001b[0mn\u001b[0m \u001b[0;32mfor\u001b[0m \u001b[0mthe\u001b[0m \u001b[0mdataset\u001b[0m \u001b[0mof\u001b[0m \u001b[0mreports\u001b[0m\u001b[0;34m,\u001b[0m \u001b[0mwhen\u001b[0m \u001b[0mtaking\u001b[0m \u001b[0mone\u001b[0m \u001b[0mof\u001b[0m \u001b[0mthe\u001b[0m \u001b[0mpred_reports\u001b[0m \u001b[0;32mas\u001b[0m \u001b[0mpredictions\u001b[0m\u001b[0;34m\u001b[0m\u001b[0;34m\u001b[0m\u001b[0m\n\u001b[1;32m    304\u001b[0m   \"\"\"\n\u001b[0;32m--> 305\u001b[0;31m   \u001b[0mout\u001b[0m \u001b[0;34m=\u001b[0m \u001b[0mnp\u001b[0m\u001b[0;34m.\u001b[0m\u001b[0mzeros\u001b[0m\u001b[0;34m(\u001b[0m\u001b[0;34m(\u001b[0m\u001b[0mlen\u001b[0m\u001b[0;34m(\u001b[0m\u001b[0mpred_reports\u001b[0m\u001b[0;34m)\u001b[0m\u001b[0;34m,\u001b[0m\u001b[0mn\u001b[0m\u001b[0;34m)\u001b[0m\u001b[0;34m)\u001b[0m\u001b[0;34m\u001b[0m\u001b[0;34m\u001b[0m\u001b[0m\n\u001b[0m\u001b[1;32m    306\u001b[0m   \u001b[0mprods\u001b[0m \u001b[0;34m=\u001b[0m \u001b[0;36m1\u001b[0m\u001b[0;34m\u001b[0m\u001b[0;34m\u001b[0m\u001b[0m\n\u001b[1;32m    307\u001b[0m   \u001b[0;32mfor\u001b[0m \u001b[0mi\u001b[0m \u001b[0;32min\u001b[0m \u001b[0mrange\u001b[0m\u001b[0;34m(\u001b[0m\u001b[0mn\u001b[0m\u001b[0;34m)\u001b[0m\u001b[0;34m:\u001b[0m\u001b[0;34m\u001b[0m\u001b[0;34m\u001b[0m\u001b[0m\n",
      "\u001b[0;32m~/Dropbox/r/zaheer/Baselines/baselines.py\u001b[0m in \u001b[0;36mcider_scores\u001b[0;34m(trues, pred, n)\u001b[0m\n\u001b[1;32m     65\u001b[0m \u001b[0;32mdef\u001b[0m \u001b[0mcider_scores\u001b[0m\u001b[0;34m(\u001b[0m\u001b[0mtrues\u001b[0m\u001b[0;34m,\u001b[0m \u001b[0mpred\u001b[0m\u001b[0;34m,\u001b[0m \u001b[0mn\u001b[0m\u001b[0;34m=\u001b[0m\u001b[0;36m4\u001b[0m\u001b[0;34m)\u001b[0m\u001b[0;34m:\u001b[0m\u001b[0;34m\u001b[0m\u001b[0;34m\u001b[0m\u001b[0m\n\u001b[1;32m     66\u001b[0m   \"\"\"\n\u001b[0;32m---> 67\u001b[0;31m   \u001b[0mCompute\u001b[0m \u001b[0mCIDEr\u001b[0m\u001b[0;34m-\u001b[0m\u001b[0mD\u001b[0m \u001b[0;32mfor\u001b[0m \u001b[0ma\u001b[0m \u001b[0mfixed\u001b[0m \u001b[0mprediction\u001b[0m\u001b[0;34m,\u001b[0m \u001b[0;32mwith\u001b[0m \u001b[0mpycocoevalcap\u001b[0m\u001b[0;34m\u001b[0m\u001b[0;34m\u001b[0m\u001b[0m\n\u001b[0m\u001b[1;32m     68\u001b[0m   \"\"\"\n\u001b[1;32m     69\u001b[0m   \u001b[0mtrues\u001b[0m \u001b[0;34m=\u001b[0m \u001b[0mdict\u001b[0m\u001b[0;34m(\u001b[0m\u001b[0;34m[\u001b[0m\u001b[0;34m(\u001b[0m\u001b[0mi\u001b[0m\u001b[0;34m,\u001b[0m\u001b[0;34m[\u001b[0m\u001b[0mr\u001b[0m\u001b[0;34m]\u001b[0m\u001b[0;34m)\u001b[0m    \u001b[0;32mfor\u001b[0m \u001b[0mi\u001b[0m\u001b[0;34m,\u001b[0m\u001b[0mr\u001b[0m \u001b[0;32min\u001b[0m \u001b[0menumerate\u001b[0m\u001b[0;34m(\u001b[0m\u001b[0mtrues\u001b[0m\u001b[0;34m)\u001b[0m\u001b[0;34m]\u001b[0m\u001b[0;34m)\u001b[0m\u001b[0;34m\u001b[0m\u001b[0;34m\u001b[0m\u001b[0m\n",
      "\u001b[0;32m~/Dropbox/r/zaheer/coco-caption/pycocoevalcap/cider/cider.py\u001b[0m in \u001b[0;36mcompute_score\u001b[0;34m(self, gts, res)\u001b[0m\n\u001b[1;32m     47\u001b[0m             \u001b[0mcider_scorer\u001b[0m \u001b[0;34m+=\u001b[0m \u001b[0;34m(\u001b[0m\u001b[0mhypo\u001b[0m\u001b[0;34m[\u001b[0m\u001b[0;36m0\u001b[0m\u001b[0;34m]\u001b[0m\u001b[0;34m,\u001b[0m \u001b[0mref\u001b[0m\u001b[0;34m)\u001b[0m\u001b[0;34m\u001b[0m\u001b[0;34m\u001b[0m\u001b[0m\n\u001b[1;32m     48\u001b[0m \u001b[0;34m\u001b[0m\u001b[0m\n\u001b[0;32m---> 49\u001b[0;31m         \u001b[0;34m(\u001b[0m\u001b[0mscore\u001b[0m\u001b[0;34m,\u001b[0m \u001b[0mscores\u001b[0m\u001b[0;34m)\u001b[0m \u001b[0;34m=\u001b[0m \u001b[0mcider_scorer\u001b[0m\u001b[0;34m.\u001b[0m\u001b[0mcompute_score\u001b[0m\u001b[0;34m(\u001b[0m\u001b[0;34m)\u001b[0m\u001b[0;34m\u001b[0m\u001b[0;34m\u001b[0m\u001b[0m\n\u001b[0m\u001b[1;32m     50\u001b[0m \u001b[0;34m\u001b[0m\u001b[0m\n\u001b[1;32m     51\u001b[0m         \u001b[0;32mreturn\u001b[0m \u001b[0mscore\u001b[0m\u001b[0;34m,\u001b[0m \u001b[0mscores\u001b[0m\u001b[0;34m\u001b[0m\u001b[0;34m\u001b[0m\u001b[0m\n",
      "\u001b[0;32m~/Dropbox/r/zaheer/coco-caption/pycocoevalcap/cider/cider_scorer.py\u001b[0m in \u001b[0;36mcompute_score\u001b[0;34m(self, option, verbose)\u001b[0m\n\u001b[1;32m    187\u001b[0m         \u001b[0;32massert\u001b[0m\u001b[0;34m(\u001b[0m\u001b[0mlen\u001b[0m\u001b[0;34m(\u001b[0m\u001b[0mself\u001b[0m\u001b[0;34m.\u001b[0m\u001b[0mctest\u001b[0m\u001b[0;34m)\u001b[0m \u001b[0;34m>=\u001b[0m \u001b[0mmax\u001b[0m\u001b[0;34m(\u001b[0m\u001b[0mself\u001b[0m\u001b[0;34m.\u001b[0m\u001b[0mdocument_frequency\u001b[0m\u001b[0;34m.\u001b[0m\u001b[0mvalues\u001b[0m\u001b[0;34m(\u001b[0m\u001b[0;34m)\u001b[0m\u001b[0;34m)\u001b[0m\u001b[0;34m)\u001b[0m\u001b[0;34m\u001b[0m\u001b[0;34m\u001b[0m\u001b[0m\n\u001b[1;32m    188\u001b[0m         \u001b[0;31m# compute cider score\u001b[0m\u001b[0;34m\u001b[0m\u001b[0;34m\u001b[0m\u001b[0;34m\u001b[0m\u001b[0m\n\u001b[0;32m--> 189\u001b[0;31m         \u001b[0mscore\u001b[0m \u001b[0;34m=\u001b[0m \u001b[0mself\u001b[0m\u001b[0;34m.\u001b[0m\u001b[0mcompute_cider\u001b[0m\u001b[0;34m(\u001b[0m\u001b[0;34m)\u001b[0m\u001b[0;34m\u001b[0m\u001b[0;34m\u001b[0m\u001b[0m\n\u001b[0m\u001b[1;32m    190\u001b[0m         \u001b[0;31m# debug\u001b[0m\u001b[0;34m\u001b[0m\u001b[0;34m\u001b[0m\u001b[0;34m\u001b[0m\u001b[0m\n\u001b[1;32m    191\u001b[0m         \u001b[0;31m# print score\u001b[0m\u001b[0;34m\u001b[0m\u001b[0;34m\u001b[0m\u001b[0;34m\u001b[0m\u001b[0m\n",
      "\u001b[0;32m~/Dropbox/r/zaheer/coco-caption/pycocoevalcap/cider/cider_scorer.py\u001b[0m in \u001b[0;36mcompute_cider\u001b[0;34m(self)\u001b[0m\n\u001b[1;32m    165\u001b[0m         \u001b[0;32mfor\u001b[0m \u001b[0mtest\u001b[0m\u001b[0;34m,\u001b[0m \u001b[0mrefs\u001b[0m \u001b[0;32min\u001b[0m \u001b[0mzip\u001b[0m\u001b[0;34m(\u001b[0m\u001b[0mself\u001b[0m\u001b[0;34m.\u001b[0m\u001b[0mctest\u001b[0m\u001b[0;34m,\u001b[0m \u001b[0mself\u001b[0m\u001b[0;34m.\u001b[0m\u001b[0mcrefs\u001b[0m\u001b[0;34m)\u001b[0m\u001b[0;34m:\u001b[0m\u001b[0;34m\u001b[0m\u001b[0;34m\u001b[0m\u001b[0m\n\u001b[1;32m    166\u001b[0m             \u001b[0;31m# compute vector for test captions\u001b[0m\u001b[0;34m\u001b[0m\u001b[0;34m\u001b[0m\u001b[0;34m\u001b[0m\u001b[0m\n\u001b[0;32m--> 167\u001b[0;31m             \u001b[0mvec\u001b[0m\u001b[0;34m,\u001b[0m \u001b[0mnorm\u001b[0m\u001b[0;34m,\u001b[0m \u001b[0mlength\u001b[0m \u001b[0;34m=\u001b[0m \u001b[0mcounts2vec\u001b[0m\u001b[0;34m(\u001b[0m\u001b[0mtest\u001b[0m\u001b[0;34m)\u001b[0m\u001b[0;34m\u001b[0m\u001b[0;34m\u001b[0m\u001b[0m\n\u001b[0m\u001b[1;32m    168\u001b[0m             \u001b[0;31m# compute vector for ref captions\u001b[0m\u001b[0;34m\u001b[0m\u001b[0;34m\u001b[0m\u001b[0;34m\u001b[0m\u001b[0m\n\u001b[1;32m    169\u001b[0m             \u001b[0mscore\u001b[0m \u001b[0;34m=\u001b[0m \u001b[0mnp\u001b[0m\u001b[0;34m.\u001b[0m\u001b[0marray\u001b[0m\u001b[0;34m(\u001b[0m\u001b[0;34m[\u001b[0m\u001b[0;36m0.0\u001b[0m \u001b[0;32mfor\u001b[0m \u001b[0m_\u001b[0m \u001b[0;32min\u001b[0m \u001b[0mrange\u001b[0m\u001b[0;34m(\u001b[0m\u001b[0mself\u001b[0m\u001b[0;34m.\u001b[0m\u001b[0mn\u001b[0m\u001b[0;34m)\u001b[0m\u001b[0;34m]\u001b[0m\u001b[0;34m)\u001b[0m\u001b[0;34m\u001b[0m\u001b[0;34m\u001b[0m\u001b[0m\n",
      "\u001b[0;32m~/Dropbox/r/zaheer/coco-caption/pycocoevalcap/cider/cider_scorer.py\u001b[0m in \u001b[0;36mcounts2vec\u001b[0;34m(cnts)\u001b[0m\n\u001b[1;32m    118\u001b[0m             \u001b[0;32mfor\u001b[0m \u001b[0;34m(\u001b[0m\u001b[0mngram\u001b[0m\u001b[0;34m,\u001b[0m\u001b[0mterm_freq\u001b[0m\u001b[0;34m)\u001b[0m \u001b[0;32min\u001b[0m \u001b[0mcnts\u001b[0m\u001b[0;34m.\u001b[0m\u001b[0mitems\u001b[0m\u001b[0;34m(\u001b[0m\u001b[0;34m)\u001b[0m\u001b[0;34m:\u001b[0m\u001b[0;34m\u001b[0m\u001b[0;34m\u001b[0m\u001b[0m\n\u001b[1;32m    119\u001b[0m                 \u001b[0;31m# give word count 1 if it doesn't appear in reference corpus\u001b[0m\u001b[0;34m\u001b[0m\u001b[0;34m\u001b[0m\u001b[0;34m\u001b[0m\u001b[0m\n\u001b[0;32m--> 120\u001b[0;31m                 \u001b[0mdf\u001b[0m \u001b[0;34m=\u001b[0m \u001b[0mnp\u001b[0m\u001b[0;34m.\u001b[0m\u001b[0mlog\u001b[0m\u001b[0;34m(\u001b[0m\u001b[0mmax\u001b[0m\u001b[0;34m(\u001b[0m\u001b[0;36m1.0\u001b[0m\u001b[0;34m,\u001b[0m \u001b[0mself\u001b[0m\u001b[0;34m.\u001b[0m\u001b[0mdocument_frequency\u001b[0m\u001b[0;34m[\u001b[0m\u001b[0mngram\u001b[0m\u001b[0;34m]\u001b[0m\u001b[0;34m)\u001b[0m\u001b[0;34m)\u001b[0m\u001b[0;34m\u001b[0m\u001b[0;34m\u001b[0m\u001b[0m\n\u001b[0m\u001b[1;32m    121\u001b[0m                 \u001b[0;31m# ngram index\u001b[0m\u001b[0;34m\u001b[0m\u001b[0;34m\u001b[0m\u001b[0;34m\u001b[0m\u001b[0m\n\u001b[1;32m    122\u001b[0m                 \u001b[0mn\u001b[0m \u001b[0;34m=\u001b[0m \u001b[0mlen\u001b[0m\u001b[0;34m(\u001b[0m\u001b[0mngram\u001b[0m\u001b[0;34m)\u001b[0m\u001b[0;34m-\u001b[0m\u001b[0;36m1\u001b[0m\u001b[0;34m\u001b[0m\u001b[0;34m\u001b[0m\u001b[0m\n",
      "\u001b[0;31mKeyboardInterrupt\u001b[0m: "
     ]
    }
   ],
   "source": [
    "reload(b)\n",
    "ciders = b.slow_pairwise_cider_scores(reports[train], reports[train])"
   ]
  },
  {
   "cell_type": "code",
   "execution_count": null,
   "metadata": {},
   "outputs": [],
   "source": [
    "idx = np.argmax(ciders)\n",
    "best_report_c = reports[train][idx]\n",
    "print(b.all_scores(reports[train], best_report_c))"
   ]
  },
  {
   "cell_type": "code",
   "execution_count": 28,
   "metadata": {},
   "outputs": [
    {
     "data": {
      "text/plain": [
       "227781"
      ]
     },
     "execution_count": 28,
     "metadata": {},
     "output_type": "execute_result"
    }
   ],
   "source": [
    "len(data2)"
   ]
  },
  {
   "cell_type": "code",
   "execution_count": 32,
   "metadata": {},
   "outputs": [
    {
     "data": {
      "text/html": [
       "<div>\n",
       "<style scoped>\n",
       "    .dataframe tbody tr th:only-of-type {\n",
       "        vertical-align: middle;\n",
       "    }\n",
       "\n",
       "    .dataframe tbody tr th {\n",
       "        vertical-align: top;\n",
       "    }\n",
       "\n",
       "    .dataframe thead th {\n",
       "        text-align: right;\n",
       "    }\n",
       "</style>\n",
       "<table border=\"1\" class=\"dataframe\">\n",
       "  <thead>\n",
       "    <tr style=\"text-align: right;\">\n",
       "      <th></th>\n",
       "      <th>study</th>\n",
       "      <th>impression</th>\n",
       "      <th>findings</th>\n",
       "      <th>last_paragraph</th>\n",
       "      <th>comparison</th>\n",
       "    </tr>\n",
       "  </thead>\n",
       "  <tbody>\n",
       "    <tr>\n",
       "      <th>227771</th>\n",
       "      <td>s53255195</td>\n",
       "      <td>Improved aeration in the left upper lobe. Pers...</td>\n",
       "      <td>AP portable upright view of the chest.   In th...</td>\n",
       "      <td>NaN</td>\n",
       "      <td>___ and PET-CT from ___.</td>\n",
       "    </tr>\n",
       "    <tr>\n",
       "      <th>227772</th>\n",
       "      <td>s53282218</td>\n",
       "      <td>PA and lateral chest compared to a series of c...</td>\n",
       "      <td>NaN</td>\n",
       "      <td>NaN</td>\n",
       "      <td>NaN</td>\n",
       "    </tr>\n",
       "    <tr>\n",
       "      <th>227773</th>\n",
       "      <td>s58938059</td>\n",
       "      <td>As compared to the previous radiograph, there ...</td>\n",
       "      <td>NaN</td>\n",
       "      <td>NaN</td>\n",
       "      <td>___, 05:11</td>\n",
       "    </tr>\n",
       "    <tr>\n",
       "      <th>227774</th>\n",
       "      <td>s57540554</td>\n",
       "      <td>No acute cardiopulmonary process.  No evidence...</td>\n",
       "      <td>The cardiomediastinal and hilar contours are w...</td>\n",
       "      <td>NaN</td>\n",
       "      <td>None available.</td>\n",
       "    </tr>\n",
       "    <tr>\n",
       "      <th>227775</th>\n",
       "      <td>s58497551</td>\n",
       "      <td>NaN</td>\n",
       "      <td>NaN</td>\n",
       "      <td>Portable AP radiograph of the chest is demonst...</td>\n",
       "      <td>NaN</td>\n",
       "    </tr>\n",
       "    <tr>\n",
       "      <th>227776</th>\n",
       "      <td>s58708861</td>\n",
       "      <td>1.  Lines and tubes are in adequate position.\\...</td>\n",
       "      <td>ET tube ends 4.7 cm above the carina.  NG tube...</td>\n",
       "      <td>NaN</td>\n",
       "      <td>None.</td>\n",
       "    </tr>\n",
       "    <tr>\n",
       "      <th>227777</th>\n",
       "      <td>s57132437</td>\n",
       "      <td>No acute cardiothoracic process.</td>\n",
       "      <td>The lungs are clear, and the cardiomediastinal...</td>\n",
       "      <td>NaN</td>\n",
       "      <td>None.</td>\n",
       "    </tr>\n",
       "    <tr>\n",
       "      <th>227778</th>\n",
       "      <td>s55368167</td>\n",
       "      <td>NaN</td>\n",
       "      <td>There has been interval extubation and improve...</td>\n",
       "      <td>NaN</td>\n",
       "      <td>___ radiograph.</td>\n",
       "    </tr>\n",
       "    <tr>\n",
       "      <th>227779</th>\n",
       "      <td>s58621812</td>\n",
       "      <td>Appropriately positioned ET and NG tubes.  Bib...</td>\n",
       "      <td>Portable supine AP view of the chest provided ...</td>\n",
       "      <td>NaN</td>\n",
       "      <td>Prior chest radiograph from earlier same day.</td>\n",
       "    </tr>\n",
       "    <tr>\n",
       "      <th>227780</th>\n",
       "      <td>s58971208</td>\n",
       "      <td>Slight interval worsening of right lower lung ...</td>\n",
       "      <td>The ET tube terminates approximately 2.9 cm fr...</td>\n",
       "      <td>NaN</td>\n",
       "      <td>Chest radiographs from ___.</td>\n",
       "    </tr>\n",
       "  </tbody>\n",
       "</table>\n",
       "</div>"
      ],
      "text/plain": [
       "            study                                         impression  \\\n",
       "227771  s53255195  Improved aeration in the left upper lobe. Pers...   \n",
       "227772  s53282218  PA and lateral chest compared to a series of c...   \n",
       "227773  s58938059  As compared to the previous radiograph, there ...   \n",
       "227774  s57540554  No acute cardiopulmonary process.  No evidence...   \n",
       "227775  s58497551                                                NaN   \n",
       "227776  s58708861  1.  Lines and tubes are in adequate position.\\...   \n",
       "227777  s57132437                   No acute cardiothoracic process.   \n",
       "227778  s55368167                                                NaN   \n",
       "227779  s58621812  Appropriately positioned ET and NG tubes.  Bib...   \n",
       "227780  s58971208  Slight interval worsening of right lower lung ...   \n",
       "\n",
       "                                                 findings  \\\n",
       "227771  AP portable upright view of the chest.   In th...   \n",
       "227772                                                NaN   \n",
       "227773                                                NaN   \n",
       "227774  The cardiomediastinal and hilar contours are w...   \n",
       "227775                                                NaN   \n",
       "227776  ET tube ends 4.7 cm above the carina.  NG tube...   \n",
       "227777  The lungs are clear, and the cardiomediastinal...   \n",
       "227778  There has been interval extubation and improve...   \n",
       "227779  Portable supine AP view of the chest provided ...   \n",
       "227780  The ET tube terminates approximately 2.9 cm fr...   \n",
       "\n",
       "                                           last_paragraph  \\\n",
       "227771                                                NaN   \n",
       "227772                                                NaN   \n",
       "227773                                                NaN   \n",
       "227774                                                NaN   \n",
       "227775  Portable AP radiograph of the chest is demonst...   \n",
       "227776                                                NaN   \n",
       "227777                                                NaN   \n",
       "227778                                                NaN   \n",
       "227779                                                NaN   \n",
       "227780                                                NaN   \n",
       "\n",
       "                                           comparison  \n",
       "227771                       ___ and PET-CT from ___.  \n",
       "227772                                            NaN  \n",
       "227773                                     ___, 05:11  \n",
       "227774                                None available.  \n",
       "227775                                            NaN  \n",
       "227776                                          None.  \n",
       "227777                                          None.  \n",
       "227778                                ___ radiograph.  \n",
       "227779  Prior chest radiograph from earlier same day.  \n",
       "227780                    Chest radiographs from ___.  "
      ]
     },
     "execution_count": 32,
     "metadata": {},
     "output_type": "execute_result"
    }
   ],
   "source": [
    "data2[-10:]"
   ]
  },
  {
   "cell_type": "code",
   "execution_count": null,
   "metadata": {},
   "outputs": [],
   "source": []
  },
  {
   "cell_type": "code",
   "execution_count": 4,
   "metadata": {},
   "outputs": [
    {
     "data": {
      "text/plain": [
       "array([0.46005192, 0.30480901, 0.20887576, 0.14185167, 0.19957303,\n",
       "       0.35138762, 0.64018771, 0.29023038])"
      ]
     },
     "execution_count": 4,
     "metadata": {},
     "output_type": "execute_result"
    }
   ],
   "source": [
    "reload(b)\n",
    "s = b.cross_validate_scores(reports, lambda train:b.best_report_bleu(train,train))\n",
    "np.mean(s,0)"
   ]
  },
  {
   "cell_type": "code",
   "execution_count": 5,
   "metadata": {},
   "outputs": [
    {
     "data": {
      "text/plain": [
       "array([0.01404572, 0.01281423, 0.00923172, 0.00771385, 0.00827918,\n",
       "       0.00485728, 0.09175498, 0.04878602])"
      ]
     },
     "execution_count": 5,
     "metadata": {},
     "output_type": "execute_result"
    }
   ],
   "source": [
    "np.std(s,0)"
   ]
  },
  {
   "cell_type": "code",
   "execution_count": 43,
   "metadata": {},
   "outputs": [
    {
     "data": {
      "text/plain": [
       "array([0.46005192, 0.30480901, 0.20887576, 0.14185167, 0.19957303,\n",
       "       0.35138762, 0.64018771, 0.29023038])"
      ]
     },
     "execution_count": 43,
     "metadata": {},
     "output_type": "execute_result"
    }
   ],
   "source": [
    "np.mean(s,0)"
   ]
  },
  {
   "cell_type": "code",
   "execution_count": 46,
   "metadata": {},
   "outputs": [
    {
     "name": "stdout",
     "output_type": "stream",
     "text": [
      "343\n",
      "2\n",
      "342\n",
      "1\n",
      "338\n",
      "1\n",
      "345\n",
      "1\n",
      "339\n",
      "1\n",
      "333\n",
      "1\n",
      "341\n",
      "1\n"
     ]
    },
    {
     "name": "stderr",
     "output_type": "stream",
     "text": [
      "WARNING:root:There is less than 2GB of available memory.\n",
      "Will try with limiting Meteor to 1GB of memory but this might cause issues.\n",
      "If you have problems using Meteor, then you can try to lower the `mem` variable in meteor.py\n"
     ]
    },
    {
     "name": "stdout",
     "output_type": "stream",
     "text": [
      "341\n",
      "1\n"
     ]
    },
    {
     "name": "stderr",
     "output_type": "stream",
     "text": [
      "WARNING:root:There is less than 2GB of available memory.\n",
      "Will try with limiting Meteor to 1GB of memory but this might cause issues.\n",
      "If you have problems using Meteor, then you can try to lower the `mem` variable in meteor.py\n"
     ]
    },
    {
     "name": "stdout",
     "output_type": "stream",
     "text": [
      "339\n",
      "2\n"
     ]
    },
    {
     "name": "stderr",
     "output_type": "stream",
     "text": [
      "WARNING:root:There is less than 2GB of available memory.\n",
      "Will try with limiting Meteor to 1GB of memory but this might cause issues.\n",
      "If you have problems using Meteor, then you can try to lower the `mem` variable in meteor.py\n"
     ]
    },
    {
     "name": "stdout",
     "output_type": "stream",
     "text": [
      "339\n",
      "1\n"
     ]
    },
    {
     "data": {
      "text/plain": [
       "array([0.49769638, 0.32532972, 0.19233749, 0.10655602, 0.20867452,\n",
       "       0.25469153, 0.69805542, 0.31116869])"
      ]
     },
     "execution_count": 46,
     "metadata": {},
     "output_type": "execute_result"
    }
   ],
   "source": [
    "reload(b)\n",
    "s = b.cross_validate_scores(reports, lambda train:' '.join(b.optimal_report_bleu2(train)))\n",
    "np.mean(s,0)"
   ]
  },
  {
   "cell_type": "code",
   "execution_count": 380,
   "metadata": {},
   "outputs": [
    {
     "name": "stdout",
     "output_type": "stream",
     "text": [
      "[0.41121871 0.26446941 0.18139927 0.127061   0.17093219 0.34321917\n",
      " 0.44710349 0.17651433]\n",
      "[0.01242424 0.01053864 0.0084312  0.00646255 0.00568328 0.005525\n",
      " 0.09237648 0.05226333]\n"
     ]
    },
    {
     "data": {
      "text/plain": [
       "'[0.01 0.01 0.01 0.01 0.01 0.01 0.09 0.05]'"
      ]
     },
     "execution_count": 380,
     "metadata": {},
     "output_type": "execute_result"
    }
   ],
   "source": [
    "reload(b)\n",
    "s = b.cross_validate_scores(merged_reports, lambda train:b.best_report_bleu(train,train))\n",
    "print(np.mean(s,0))\n",
    "print(np.std(s,0))\n",
    "np.array2string(np.std(s,0),max_line_width=1e10,precision=2)"
   ]
  },
  {
   "cell_type": "code",
   "execution_count": 371,
   "metadata": {},
   "outputs": [
    {
     "name": "stdout",
     "output_type": "stream",
     "text": [
      "[0.48740667 0.32285374 0.19566484 0.10971853 0.20590523 0.25820273\n",
      " 0.67999746 0.24827441]\n",
      "[0.00921981 0.00765037 0.00604919 0.00366226 0.00407394 0.01626714\n",
      " 0.01078107 0.01593814]\n"
     ]
    }
   ],
   "source": [
    "s = b.cross_validate_scores(merged_reports, lambda train:b.optimal_report_bleu2(train))\n",
    "print(np.mean(s,0))\n",
    "print(np.std(s,0))"
   ]
  },
  {
   "cell_type": "code",
   "execution_count": null,
   "metadata": {},
   "outputs": [],
   "source": [
    "mean=np.mean(s,0)\n",
    "std=np.std(s,0)\n"
   ]
  },
  {
   "cell_type": "code",
   "execution_count": 379,
   "metadata": {},
   "outputs": [
    {
     "data": {
      "text/plain": [
       "'[0.01 0.01 0.01 0.   0.   0.02 0.01 0.02]'"
      ]
     },
     "execution_count": 379,
     "metadata": {},
     "output_type": "execute_result"
    }
   ],
   "source": [
    "np.array2string(np.std(s,0),max_line_width=1e10,precision=2)"
   ]
  },
  {
   "cell_type": "code",
   "execution_count": 10,
   "metadata": {},
   "outputs": [
    {
     "data": {
      "text/plain": [
       "2784"
      ]
     },
     "execution_count": 10,
     "metadata": {},
     "output_type": "execute_result"
    }
   ],
   "source": [
    "len(data)"
   ]
  },
  {
   "cell_type": "code",
   "execution_count": 16,
   "metadata": {},
   "outputs": [
    {
     "data": {
      "text/plain": [
       "<module 'baselines' from '/home/twanvl/Dropbox/r/zaheer/Baselines/baselines.py'>"
      ]
     },
     "execution_count": 16,
     "metadata": {},
     "output_type": "execute_result"
    }
   ],
   "source": [
    "reload(b)"
   ]
  },
  {
   "cell_type": "code",
   "execution_count": 381,
   "metadata": {},
   "outputs": [
    {
     "name": "stdout",
     "output_type": "stream",
     "text": [
      "[0.44768178 0.28302522 0.1745963  0.10676294 0.17004235 0.20267616\n",
      " 0.5239154  0.12027918]\n",
      "[0.00077429 0.00063355 0.00059315 0.00038372 0.00029039 0.00531231\n",
      " 0.002608   0.00087131]\n"
     ]
    },
    {
     "data": {
      "text/plain": [
       "'[0.   0.   0.   0.   0.   0.01 0.   0.  ]'"
      ]
     },
     "execution_count": 381,
     "metadata": {},
     "output_type": "execute_result"
    }
   ],
   "source": [
    "s = b.cross_validate_scores(reports2, lambda train:b.optimal_report_bleu2(train))\n",
    "print(np.mean(s,0))\n",
    "print(np.std(s,0))\n",
    "np.array2string(np.std(s,0),max_line_width=1e10,precision=2)"
   ]
  },
  {
   "cell_type": "code",
   "execution_count": 382,
   "metadata": {},
   "outputs": [
    {
     "name": "stdout",
     "output_type": "stream",
     "text": [
      "[0.36877357 0.23700015 0.16205428 0.11516954 0.14553407 0.30599598\n",
      " 0.40582483 0.09301032]\n",
      "[0.00093598 0.00085625 0.00080534 0.0007706  0.00038964 0.00063152\n",
      " 0.00309323 0.00188322]\n"
     ]
    },
    {
     "data": {
      "text/plain": [
       "'[0. 0. 0. 0. 0. 0. 0. 0.]'"
      ]
     },
     "execution_count": 382,
     "metadata": {},
     "output_type": "execute_result"
    }
   ],
   "source": [
    "s = b.cross_validate_scores(reports2, lambda train:b.find_best_report_bleu(train,train))\n",
    "print(np.mean(s,0))\n",
    "print(np.std(s,0))\n",
    "np.array2string(np.std(s,0),max_line_width=1e10,precision=2)"
   ]
  },
  {
   "cell_type": "code",
   "execution_count": 153,
   "metadata": {},
   "outputs": [
    {
     "data": {
      "text/plain": [
       "array([0.30357884, 0.17869249, 0.12383545, 0.09153112, 0.13237198,\n",
       "       0.31247596, 0.57241057, 0.22176894])"
      ]
     },
     "execution_count": 153,
     "metadata": {},
     "output_type": "execute_result"
    }
   ],
   "source": [
    "reload(b)\n",
    "s = b.cross_validate_scores(reports2, lambda train:b.find_best_report_cider(train,train))\n",
    "np.mean(s,0)"
   ]
  },
  {
   "cell_type": "code",
   "execution_count": 150,
   "metadata": {},
   "outputs": [
    {
     "data": {
      "text/plain": [
       "array([[0.1445551 , 0.04360995],\n",
       "       [0.59672976, 0.24904172],\n",
       "       [0.58940201, 0.31324681],\n",
       "       [0.3596443 , 0.16099485],\n",
       "       [0.40320548, 0.19173372]])"
      ]
     },
     "execution_count": 150,
     "metadata": {},
     "output_type": "execute_result"
    }
   ],
   "source": [
    "b.slow_pairwise_cider_scores(reports[train], reports[train][:5])"
   ]
  },
  {
   "cell_type": "code",
   "execution_count": 65,
   "metadata": {},
   "outputs": [
    {
     "data": {
      "text/plain": [
       "array([[0.17942299, 0.06900524, 0.02191294, 0.00965322],\n",
       "       [0.24707842, 0.16548855, 0.11870828, 0.08353392],\n",
       "       [0.34872279, 0.2218024 , 0.15131053, 0.10594364],\n",
       "       [0.26035113, 0.13115566, 0.06447598, 0.02854697],\n",
       "       [0.17134132, 0.08778992, 0.05338293, 0.0318384 ]])"
      ]
     },
     "execution_count": 65,
     "metadata": {},
     "output_type": "execute_result"
    }
   ],
   "source": [
    "reload(b)\n",
    "bleus = b.pairwise_bleu_scores(reports[train], reports[train])\n",
    "bleus[:5]"
   ]
  },
  {
   "cell_type": "code",
   "execution_count": 115,
   "metadata": {},
   "outputs": [],
   "source": [
    "counts = b.document_frequencies([b.one_grams(r) for r in reports])"
   ]
  },
  {
   "cell_type": "code",
   "execution_count": 116,
   "metadata": {},
   "outputs": [
    {
     "data": {
      "text/plain": [
       "0.00035919540229885057"
      ]
     },
     "execution_count": 116,
     "metadata": {},
     "output_type": "execute_result"
    }
   ],
   "source": [
    "counts[\"lungses\"]"
   ]
  },
  {
   "cell_type": "code",
   "execution_count": 105,
   "metadata": {},
   "outputs": [
    {
     "data": {
      "text/plain": [
       "{'the': 0.44523592404237655, 'lungs': 0.8954132967195267}"
      ]
     },
     "execution_count": 105,
     "metadata": {},
     "output_type": "execute_result"
    }
   ],
   "source": [
    "reload(b)\n",
    "b.to_tfidf({\"the\":1,\"lungs\":1},counts)"
   ]
  },
  {
   "cell_type": "code",
   "execution_count": 149,
   "metadata": {},
   "outputs": [
    {
     "data": {
      "text/plain": [
       "array([0.1445551 , 0.59672976, 0.58940201, 0.3596443 , 0.40320548])"
      ]
     },
     "execution_count": 149,
     "metadata": {},
     "output_type": "execute_result"
    }
   ],
   "source": [
    "reload(b)\n",
    "b.pairwise_cider_scores(reports[train], reports[train][:5])"
   ]
  },
  {
   "cell_type": "code",
   "execution_count": 147,
   "metadata": {},
   "outputs": [
    {
     "name": "stdout",
     "output_type": "stream",
     "text": [
      "[[5.         5.        ]\n",
      " [5.         5.        ]\n",
      " [0.55901699 0.44762582]\n",
      " [0.         0.        ]]\n",
      "[0.5       0.5       0.0559017 0.       ]\n"
     ]
    }
   ],
   "source": [
    "reload(b)\n",
    "xs = [\"dit is een voorbeeld of zo\",\"en zo is dit\"]\n",
    "ys = [\"dit is een voorbeeld of zo\",\"en zo is dit\",\"dit is\",\"banaan\"]\n",
    "print(b.slow_pairwise_cider_scores(xs, ys))\n",
    "print(b.pairwise_cider_scores(xs, ys))"
   ]
  },
  {
   "cell_type": "code",
   "execution_count": 166,
   "metadata": {},
   "outputs": [
    {
     "data": {
      "text/plain": [
       "(1.6341502269316726, array([0.28166626, 0.16321867, 0.11617091, 0.09260426]))"
      ]
     },
     "execution_count": 166,
     "metadata": {},
     "output_type": "execute_result"
    }
   ],
   "source": [
    "reload(b)\n",
    "b.upper_bound_cider_score(reports[train])"
   ]
  },
  {
   "cell_type": "code",
   "execution_count": 158,
   "metadata": {},
   "outputs": [],
   "source": [
    "n=1\n",
    "ngrams = [b.n_grams(r,n) for r in reports]\n",
    "doc_freq = b.document_frequencies(ngrams)\n",
    "true_vecs = [b.to_tfidf(r,doc_freq) for r in ngrams]\n",
    "true_vec  = b.sum_histograms(true_vecs)"
   ]
  },
  {
   "cell_type": "code",
   "execution_count": 164,
   "metadata": {},
   "outputs": [
    {
     "data": {
      "text/plain": [
       "[(-143.93306622003743, 0.6390086206896619, ('is',)),\n",
       " (-143.34909195133682, 0.38146551724137234, ('there',)),\n",
       " (-142.9886093389401, 0.4407327586206809, ('clear',)),\n",
       " (-134.4250703731419, 0.7478448275862272, ('the',)),\n",
       " (-127.0112027113143, 0.7266522988505923, ('are',)),\n",
       " (-126.42265921450313, 0.41127873563217604, ('xxxx',)),\n",
       " (-121.15647352634178, 0.5574712643678127, ('lungs',)),\n",
       " (-116.62703989285033, 0.590517241379311, ('and',)),\n",
       " (-116.12202325406699, 0.4055316091953946, ('limits',)),\n",
       " (-115.49371225577794, 0.41056034482757836, ('within',))]"
      ]
     },
     "execution_count": 164,
     "metadata": {},
     "output_type": "execute_result"
    }
   ],
   "source": [
    "sorted([(-v,doc_freq[k],k) for k,v in true_vec.items()])[:10]"
   ]
  },
  {
   "cell_type": "code",
   "execution_count": 168,
   "metadata": {},
   "outputs": [],
   "source": [
    "hist = b.word_histogram(reports)"
   ]
  },
  {
   "cell_type": "code",
   "execution_count": 173,
   "metadata": {},
   "outputs": [
    {
     "data": {
      "text/plain": [
       "[(-4995, 134.4250703731419, 0.7478448275862272, 'the'),\n",
       " (-3604, 82.89759807746907, 0.8020833333333603, 'no'),\n",
       " (-3590, 127.0112027113143, 0.7266522988505923, 'are'),\n",
       " (-3441, 143.93306622003743, 0.6390086206896619, 'is'),\n",
       " (-2913, 53.63541947018689, 0.8516522988506079, 'normal'),\n",
       " (-2251, 116.62703989285033, 0.590517241379311, 'and'),\n",
       " (-2037, 72.65012495545402, 0.7158764367816255, 'pleural'),\n",
       " (-1979, 75.27733167785884, 0.7086925287356476, 'pneumothorax'),\n",
       " (-1970, 84.22186381538359, 0.6655890804597802, 'or'),\n",
       " (-1958, 115.47073963414044, 0.4604885057471171, 'of'),\n",
       " (-1880, 126.42265921450313, 0.41127873563217604, 'xxxx'),\n",
       " (-1878, 143.34909195133682, 0.38146551724137234, 'there'),\n",
       " (-1847, 83.07166262619367, 0.6573275862069056, 'effusion'),\n",
       " (-1735, 104.96364986941754, 0.6012931034482779, 'heart'),\n",
       " (-1641, 121.15647352634178, 0.5574712643678127, 'lungs'),\n",
       " (-1581, 104.00027337861314, 0.5646551724137906, 'size'),\n",
       " (-1433, 98.08414921329475, 0.5104166666666574, 'focal'),\n",
       " (-1265, 142.9886093389401, 0.4407327586206809, 'clear'),\n",
       " (-1263, 115.49371225577794, 0.41056034482757836, 'within'),\n",
       " (-1225, 116.12202325406699, 0.4055316091953946, 'limits')]"
      ]
     },
     "execution_count": 173,
     "metadata": {},
     "output_type": "execute_result"
    }
   ],
   "source": [
    "sorted([(-v,true_vec[(k,)],doc_freq[(k,)],k) for k,v in hist.items()])[:20]"
   ]
  },
  {
   "cell_type": "code",
   "execution_count": null,
   "metadata": {},
   "outputs": [],
   "source": []
  },
  {
   "cell_type": "code",
   "execution_count": 175,
   "metadata": {},
   "outputs": [
    {
     "data": {
      "text/plain": [
       "31"
      ]
     },
     "execution_count": 175,
     "metadata": {},
     "output_type": "execute_result"
    }
   ],
   "source": [
    "words = b.optimal_report_bleu1(reports)\n",
    "len(words)"
   ]
  },
  {
   "cell_type": "code",
   "execution_count": 177,
   "metadata": {},
   "outputs": [],
   "source": [
    "words_c = sorted([(-v,k) for k,v in true_vec.items()])[:31]"
   ]
  },
  {
   "cell_type": "code",
   "execution_count": 180,
   "metadata": {},
   "outputs": [
    {
     "data": {
      "text/plain": [
       "[0.5012451497075056,\n",
       " 0.33129743342554563,\n",
       " 0.19901248058262738,\n",
       " 0.11205869915626819,\n",
       " 0.20867324981928853,\n",
       " 0.27071543014242433,\n",
       " 0.6789447330848738,\n",
       " 0.2984326111292439]"
      ]
     },
     "execution_count": 180,
     "metadata": {},
     "output_type": "execute_result"
    }
   ],
   "source": [
    "reload(b)\n",
    "b.all_scores(reports[test], b.optimal_report_bleu2_given_words(reports[train],words))"
   ]
  },
  {
   "cell_type": "code",
   "execution_count": 184,
   "metadata": {},
   "outputs": [
    {
     "data": {
      "text/plain": [
       "[0.4139688423003177,\n",
       " 0.24154111024087963,\n",
       " 0.14159583855094038,\n",
       " 0.08494270148212105,\n",
       " 0.17466085002899773,\n",
       " 0.25493596972968163,\n",
       " 0.5822154238203346,\n",
       " 0.26150723653166885]"
      ]
     },
     "execution_count": 184,
     "metadata": {},
     "output_type": "execute_result"
    }
   ],
   "source": [
    "reload(b)\n",
    "b.all_scores(reports[test], b.optimal_report_bleu2_given_words(reports[train],[w for _,(w,) in words_c]))"
   ]
  },
  {
   "cell_type": "code",
   "execution_count": 265,
   "metadata": {},
   "outputs": [
    {
     "data": {
      "text/plain": [
       "array([1, 2, 6])"
      ]
     },
     "execution_count": 265,
     "metadata": {},
     "output_type": "execute_result"
    }
   ],
   "source": [
    "np.cumprod([1,2,3])"
   ]
  },
  {
   "cell_type": "code",
   "execution_count": null,
   "metadata": {},
   "outputs": [],
   "source": [
    "### Best reports"
   ]
  }
 ],
 "metadata": {
  "kernelspec": {
   "display_name": "Python 3",
   "language": "python",
   "name": "python3"
  },
  "language_info": {
   "codemirror_mode": {
    "name": "ipython",
    "version": 3
   },
   "file_extension": ".py",
   "mimetype": "text/x-python",
   "name": "python",
   "nbconvert_exporter": "python",
   "pygments_lexer": "ipython3",
   "version": "3.7.6"
  }
 },
 "nbformat": 4,
 "nbformat_minor": 2
}
