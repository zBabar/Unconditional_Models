{
 "cells": [
  {
   "cell_type": "code",
   "execution_count": 1,
   "metadata": {},
   "outputs": [],
   "source": [
    "import pickle\n",
    "import numpy as np\n",
    "import pandas as pd"
   ]
  },
  {
   "cell_type": "code",
   "execution_count": 2,
   "metadata": {},
   "outputs": [],
   "source": [
    "### load scores calculated through cross validation\n",
    "with open('baseline_reports_d.p','rb') as f:\n",
    "    scores=pickle.load(f)"
   ]
  },
  {
   "cell_type": "code",
   "execution_count": 3,
   "metadata": {},
   "outputs": [
    {
     "name": "stdout",
     "output_type": "stream",
     "text": [
      "[0.27233238 0.17122531 0.12285236 0.09288897 0.13432849 0.29311013\n",
      " 0.26957508]\n",
      "['s52334805', 's50691028', 's52334805', 's52334805', 's52334805', 's52334805', 's52334805', 's52334805', 's52334805', 's52334805']\n"
     ]
    }
   ],
   "source": [
    "#[sum(x,y) for x, y in zip(scores[0][2][0],scores[1][2][0])]\n",
    "score=[]\n",
    "\n",
    "study=[]\n",
    "for i in range(0,10):\n",
    "    study.append(scores[i][1])\n",
    "    score.append(scores[i][2][0]+[scores[i][2][1]]+[scores[i][2][2]]+[scores[i][2][3]])\n",
    "print(np.mean(np.array(score),0))\n",
    "print(study)"
   ]
  },
  {
   "cell_type": "code",
   "execution_count": 4,
   "metadata": {},
   "outputs": [
    {
     "name": "stdout",
     "output_type": "stream",
     "text": [
      "52334805\n",
      "50691028\n",
      "52334805\n",
      "52334805\n",
      "52334805\n",
      "52334805\n",
      "52334805\n",
      "52334805\n",
      "52334805\n",
      "52334805\n",
      "0.8432450895713132\n"
     ]
    }
   ],
   "source": [
    "\n",
    "###### chexpert labeler based accuracy\n",
    "\n",
    "from sklearn.model_selection import KFold\n",
    "from sklearn.metrics import accuracy_score,f1_score, recall_score, precision_score, average_precision_score\n",
    "\n",
    "\n",
    "\n",
    "orig_data=pd.read_csv('../data/mimic-cxr-2.0.0-chexpert.csv')\n",
    "\n",
    "#print([i for i,x in enumerate(orig_data['study_id']=='51523013') if(x)])\n",
    "#np.where(orig_data['study_id']==51523013)[0]\n",
    "\n",
    "data=orig_data.iloc[:,2:]\n",
    "\n",
    "data=data.fillna(0)\n",
    "\n",
    "data = data.replace(-1, 0)\n",
    "\n",
    "\n",
    "\n",
    "kf = KFold(n_splits=10)\n",
    "kf.get_n_splits(data)\n",
    "\n",
    "ten_fold_acc=[]\n",
    "\n",
    "i=0\n",
    "for train_index,test_index in kf.split(data):\n",
    "    idx=study[i].lstrip('s')\n",
    "    print(idx)\n",
    "    baseline_idx=np.where(orig_data['study_id']==int(idx))[0]\n",
    "    \n",
    "    i+=1\n",
    "    \n",
    "    baseline = data.iloc[baseline_idx,:]\n",
    "    \n",
    "    X_train, X_test = data.iloc[train_index,:], data.iloc[test_index,:]\n",
    "    X_train=X_train.reset_index(drop=True)\n",
    "    X_test = X_test.reset_index(drop=True)\n",
    "    \n",
    "    \n",
    "    baseline=baseline *1.0\n",
    "    #print(baseline)\n",
    "    pos=X_test.multiply(np.array(baseline),axis='columns')\n",
    "    #print(pos.head(3))\n",
    "    neg=(1 - X_test).multiply(np.array(1-baseline),axis='columns')\n",
    "    comp=pos + neg\n",
    "    \n",
    "    #print(comp)\n",
    "    \n",
    "    accu = np.mean(comp,axis=1)\n",
    "    \n",
    "    ten_fold_acc.append(np.mean(accu))\n",
    "    \n",
    "\n",
    "print(np.mean(ten_fold_acc))\n",
    "    \n",
    "    \n",
    "    \n",
    "        "
   ]
  }
 ],
 "metadata": {
  "kernelspec": {
   "display_name": "Python 3",
   "language": "python",
   "name": "python3"
  },
  "language_info": {
   "codemirror_mode": {
    "name": "ipython",
    "version": 3
   },
   "file_extension": ".py",
   "mimetype": "text/x-python",
   "name": "python",
   "nbconvert_exporter": "python",
   "pygments_lexer": "ipython3",
   "version": "3.7.6"
  }
 },
 "nbformat": 4,
 "nbformat_minor": 4
}
