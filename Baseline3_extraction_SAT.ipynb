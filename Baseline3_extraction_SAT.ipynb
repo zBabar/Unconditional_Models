{
 "cells": [
  {
   "cell_type": "code",
   "execution_count": 1,
   "metadata": {},
   "outputs": [],
   "source": [
    "import pandas as pd\n",
    "import numpy as np\n",
    "from sklearn.metrics import accuracy_score,f1_score, recall_score, precision_score, average_precision_score, balanced_accuracy_score"
   ]
  },
  {
   "cell_type": "code",
   "execution_count": 2,
   "metadata": {},
   "outputs": [],
   "source": [
    "gt=pd.read_csv('./data/SAT_ref.csv')\n",
    "gt=pd.read_csv('./data/impr_find/train_input_labelled.csv')\n",
    "\n",
    "gt=gt.fillna(0.0)\n",
    "\n",
    "\n",
    "gt=gt.replace(-1,0)\n"
   ]
  },
  {
   "cell_type": "code",
   "execution_count": null,
   "metadata": {},
   "outputs": [
    {
     "name": "stderr",
     "output_type": "stream",
     "text": [
      "/Users/zaheerbabar/opt/anaconda3/lib/python3.7/site-packages/sklearn/metrics/_classification.py:1272: UndefinedMetricWarning: Precision is ill-defined and being set to 0.0 due to no predicted samples. Use `zero_division` parameter to control this behavior.\n",
      "  _warn_prf(average, modifier, msg_start, len(result))\n",
      "/Users/zaheerbabar/opt/anaconda3/lib/python3.7/site-packages/sklearn/metrics/_classification.py:1272: UndefinedMetricWarning: Recall is ill-defined and being set to 0.0 due to no true samples. Use `zero_division` parameter to control this behavior.\n",
      "  _warn_prf(average, modifier, msg_start, len(result))\n",
      "/Users/zaheerbabar/opt/anaconda3/lib/python3.7/site-packages/sklearn/metrics/_classification.py:1515: UndefinedMetricWarning: F-score is ill-defined and being set to 0.0 due to no true nor predicted samples. Use `zero_division` parameter to control this behavior.\n",
      "  average, \"true nor predicted\", 'F-score is', len(true_sum)\n"
     ]
    }
   ],
   "source": [
    "##### Chexpert based baseline extraction\n",
    "\n",
    "accuracy_row_wise=[]\n",
    "f1_row_wise=[]\n",
    "prec_row_wise=[]\n",
    "recl_row_wise=[]\n",
    "final_accuracy_score=[]\n",
    "final_prec_score=[]\n",
    "final_recl_score=[]\n",
    "for base in range(0,(gt.shape[0])):\n",
    "    \n",
    "    accuracy_row_wise=[]\n",
    "    prec_row_wise=[]\n",
    "    recl_row_wise=[]\n",
    "    for r in range(0,(gt.shape[0])):\n",
    "\n",
    "        g=list(gt.iloc[r,1:])\n",
    "        #print(g)\n",
    "        c=list(gt.iloc[base,1:])\n",
    "        #print(c)\n",
    "        accuracy_row_wise.append(accuracy_score(c,g))\n",
    "        f1_row_wise.append(f1_score(c, g))\n",
    "        prec_row_wise.append((precision_score(c,g)))\n",
    "        recl_row_wise.append(recall_score(c,g))\n",
    "    final_accuracy_score.append(np.mean(accuracy_row_wise))\n",
    "    final_prec_score.append(np.mean(prec_row_wise))\n",
    "    final_recl_score.append(np.mean(recl_row_wise))\n",
    "  \n",
    "print(np.argmax(final_accuracy_score))\n",
    "print(np.max(final_accuracy_score))\n",
    "print(np.max(final_prec_score))\n",
    "print(np.max(final_recl_score))\n",
    "print(gt.iloc[np.argmax(final_accuracy_score),0])"
   ]
  }
 ],
 "metadata": {
  "kernelspec": {
   "display_name": "Python 3",
   "language": "python",
   "name": "python3"
  },
  "language_info": {
   "codemirror_mode": {
    "name": "ipython",
    "version": 3
   },
   "file_extension": ".py",
   "mimetype": "text/x-python",
   "name": "python",
   "nbconvert_exporter": "python",
   "pygments_lexer": "ipython3",
   "version": "3.7.6"
  }
 },
 "nbformat": 4,
 "nbformat_minor": 4
}
