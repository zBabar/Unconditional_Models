{
 "cells": [
  {
   "cell_type": "code",
   "execution_count": null,
   "metadata": {},
   "outputs": [],
   "source": [
    "import numpy as np\n",
    "import pandas as pd\n",
    "import baselines as b\n",
    "import pickle as pkl\n"
   ]
  },
  {
   "cell_type": "code",
   "execution_count": null,
   "metadata": {},
   "outputs": [],
   "source": [
    "reports=pd.read_csv('./data/train.csv')\n",
    "test_reports=pd.read_csv('./data/test.csv')\n",
    "\n"
   ]
  },
  {
   "cell_type": "code",
   "execution_count": null,
   "metadata": {},
   "outputs": [],
   "source": [
    "\n",
    "scores=[]\n",
    "\n",
    "##################### Baseline 1\n",
    "\n",
    "data=pd.DataFrame([])\n",
    "\n",
    "report,idx,bleus=b.find_best_report_bleu(list(reports['caption']),list(reports['caption']))\n",
    "print(report,bleus)\n",
    "data=pd.DataFrame([])\n",
    "data['cand']=[report]*test_reports.shape[0]\n",
    "\n",
    "data['reports']=list(test_reports['caption'])\n",
    "print(b.all_scores(data['reports'],data['cand']))\n",
    "\n",
    "\n",
    "\n",
    "##################### Baseline 2\n",
    "\n",
    "report=b.optimal_report_bleu2(reports['caption'])\n",
    "#report='of the heart size and pulmonary xxxx are clear there is in the lungs are within normal limits no pneumothorax no focal airspace disease of the cardiomediastinal silhouette is no acute cardiopulmonary abnormality consolidation pleural effusion or mediastinal'\n",
    "#report=' '.join(report)\n",
    "print(report)\n",
    "data=pd.DataFrame([])\n",
    "data['cand']=[report]*test_reports.shape[0]\n",
    "\n",
    "data['reports']=list(test_reports['caption'])\n",
    "print(b.all_scores(data['reports'],data['cand']))\n",
    "\n",
    "\n",
    "\n",
    "\n"
   ]
  }
 ],
 "metadata": {
  "kernelspec": {
   "display_name": "Python 3",
   "language": "python",
   "name": "python3"
  },
  "language_info": {
   "codemirror_mode": {
    "name": "ipython",
    "version": 3
   },
   "file_extension": ".py",
   "mimetype": "text/x-python",
   "name": "python",
   "nbconvert_exporter": "python",
   "pygments_lexer": "ipython3",
   "version": "3.7.6"
  }
 },
 "nbformat": 4,
 "nbformat_minor": 4
}
