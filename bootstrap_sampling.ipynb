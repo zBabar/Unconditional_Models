{
 "cells": [
  {
   "cell_type": "code",
   "execution_count": 1,
   "metadata": {},
   "outputs": [],
   "source": [
    "import pandas as pd\n",
    "import numpy as np\n",
    "import random\n",
    "import baselines as b\n",
    "import re\n",
    "from tqdm import tqdm\n",
    "from sklearn.metrics import accuracy_score,f1_score, recall_score, precision_score, average_precision_score, balanced_accuracy_score"
   ]
  },
  {
   "cell_type": "code",
   "execution_count": 2,
   "metadata": {},
   "outputs": [],
   "source": [
    "#path='./data/SAT_Predictions1/'\n",
    "# path='./data/MRA_Files/'\n",
    "path='./data/GPT2_Predictions/'\n",
    "#path='./data/SAT_findings/'\n",
    "\n",
    "\n",
    "def reports_cleaning(reports):\n",
    "    \n",
    "    new_reports=[]\n",
    "    \n",
    "    for r in list(reports):\n",
    "        #print(r)\n",
    "        new_reports.append(re.sub(\"\\n|\\r\", \" \", r))\n",
    "    \n",
    "    \n",
    "    return new_reports\n",
    "        \n"
   ]
  },
  {
   "cell_type": "code",
   "execution_count": 3,
   "metadata": {},
   "outputs": [
    {
     "name": "stderr",
     "output_type": "stream",
     "text": [
      "\r",
      "  0%|          | 0/1000 [00:00<?, ?it/s]"
     ]
    },
    {
     "name": "stdout",
     "output_type": "stream",
     "text": [
      "sample: 0\n",
      "(480, 15) (480, 15)\n",
      "{'testlen': 21600, 'reflen': 18272, 'guess': [21600, 21120, 20640, 20160], 'correct': [7066, 2188, 696, 275]}\n",
      "ratio: 1.182136602451774\n"
     ]
    },
    {
     "name": "stderr",
     "output_type": "stream",
     "text": [
      "\r",
      "  0%|          | 1/1000 [00:10<2:47:28, 10.06s/it]"
     ]
    },
    {
     "name": "stdout",
     "output_type": "stream",
     "text": [
      "sample: 1\n",
      "(480, 15) (480, 15)\n",
      "{'testlen': 21600, 'reflen': 18610, 'guess': [21600, 21120, 20640, 20160], 'correct': [7344, 2408, 920, 479]}\n",
      "ratio: 1.160666308436262\n"
     ]
    },
    {
     "name": "stderr",
     "output_type": "stream",
     "text": [
      "\r",
      "  0%|          | 2/1000 [00:20<2:51:13, 10.29s/it]"
     ]
    },
    {
     "name": "stdout",
     "output_type": "stream",
     "text": [
      "sample: 2\n",
      "(480, 15) (480, 15)\n",
      "{'testlen': 21600, 'reflen': 17957, 'guess': [21600, 21120, 20640, 20160], 'correct': [7067, 2234, 732, 316]}\n",
      "ratio: 1.2028735312133874\n"
     ]
    },
    {
     "name": "stderr",
     "output_type": "stream",
     "text": [
      "\r",
      "  0%|          | 3/1000 [00:31<2:50:57, 10.29s/it]"
     ]
    },
    {
     "name": "stdout",
     "output_type": "stream",
     "text": [
      "sample: 3\n",
      "(480, 15) (480, 15)\n",
      "{'testlen': 21600, 'reflen': 18340, 'guess': [21600, 21120, 20640, 20160], 'correct': [7128, 2274, 771, 351]}\n",
      "ratio: 1.1777535441656937\n"
     ]
    },
    {
     "name": "stderr",
     "output_type": "stream",
     "text": [
      "\r",
      "  0%|          | 4/1000 [00:41<2:49:26, 10.21s/it]"
     ]
    },
    {
     "name": "stdout",
     "output_type": "stream",
     "text": [
      "sample: 4\n",
      "(480, 15) (480, 15)\n",
      "{'testlen': 21600, 'reflen': 18179, 'guess': [21600, 21120, 20640, 20160], 'correct': [7202, 2292, 765, 342]}\n",
      "ratio: 1.1881841685460592\n"
     ]
    },
    {
     "name": "stderr",
     "output_type": "stream",
     "text": [
      "\r",
      "  0%|          | 5/1000 [00:51<2:50:20, 10.27s/it]"
     ]
    },
    {
     "name": "stdout",
     "output_type": "stream",
     "text": [
      "sample: 5\n",
      "(480, 15) (480, 15)\n",
      "{'testlen': 21600, 'reflen': 19188, 'guess': [21600, 21120, 20640, 20160], 'correct': [7189, 2237, 764, 334]}\n",
      "ratio: 1.1257035647278963\n"
     ]
    },
    {
     "name": "stderr",
     "output_type": "stream",
     "text": [
      "\r",
      "  1%|          | 6/1000 [01:01<2:50:41, 10.30s/it]"
     ]
    },
    {
     "name": "stdout",
     "output_type": "stream",
     "text": [
      "sample: 6\n",
      "(480, 15) (480, 15)\n",
      "{'testlen': 21600, 'reflen': 18248, 'guess': [21600, 21120, 20640, 20160], 'correct': [7251, 2399, 851, 401]}\n",
      "ratio: 1.183691363437024\n"
     ]
    },
    {
     "name": "stderr",
     "output_type": "stream",
     "text": [
      "\r",
      "  1%|          | 7/1000 [01:12<2:53:30, 10.48s/it]"
     ]
    },
    {
     "name": "stdout",
     "output_type": "stream",
     "text": [
      "sample: 7\n",
      "(480, 15) (480, 15)\n",
      "{'testlen': 21600, 'reflen': 17659, 'guess': [21600, 21120, 20640, 20160], 'correct': [6970, 2141, 688, 263]}\n",
      "ratio: 1.2231723200633544\n"
     ]
    },
    {
     "name": "stderr",
     "output_type": "stream",
     "text": [
      "\r",
      "  1%|          | 8/1000 [01:23<2:55:35, 10.62s/it]"
     ]
    },
    {
     "name": "stdout",
     "output_type": "stream",
     "text": [
      "sample: 8\n",
      "(480, 15) (480, 15)\n",
      "{'testlen': 21600, 'reflen': 18149, 'guess': [21600, 21120, 20640, 20160], 'correct': [7172, 2293, 826, 373]}\n",
      "ratio: 1.1901482175325808\n"
     ]
    },
    {
     "name": "stderr",
     "output_type": "stream",
     "text": [
      "\r",
      "  1%|          | 9/1000 [01:34<2:56:07, 10.66s/it]"
     ]
    },
    {
     "name": "stdout",
     "output_type": "stream",
     "text": [
      "sample: 9\n",
      "(480, 15) (480, 15)\n",
      "{'testlen': 21600, 'reflen': 18370, 'guess': [21600, 21120, 20640, 20160], 'correct': [7260, 2300, 750, 309]}\n",
      "ratio: 1.175830157866022\n"
     ]
    },
    {
     "name": "stderr",
     "output_type": "stream",
     "text": [
      "\r",
      "  1%|          | 10/1000 [01:44<2:53:25, 10.51s/it]"
     ]
    },
    {
     "name": "stdout",
     "output_type": "stream",
     "text": [
      "sample: 10\n",
      "(480, 15) (480, 15)\n",
      "{'testlen': 21600, 'reflen': 19075, 'guess': [21600, 21120, 20640, 20160], 'correct': [7291, 2296, 776, 368]}\n",
      "ratio: 1.132372214940963\n"
     ]
    },
    {
     "name": "stderr",
     "output_type": "stream",
     "text": [
      "\r",
      "  1%|          | 11/1000 [01:55<2:56:38, 10.72s/it]"
     ]
    },
    {
     "name": "stdout",
     "output_type": "stream",
     "text": [
      "sample: 11\n",
      "(480, 15) (480, 15)\n",
      "{'testlen': 21600, 'reflen': 17974, 'guess': [21600, 21120, 20640, 20160], 'correct': [7247, 2283, 771, 345]}\n",
      "ratio: 1.2017358406586625\n"
     ]
    },
    {
     "name": "stderr",
     "output_type": "stream",
     "text": [
      "\r",
      "  1%|          | 12/1000 [02:05<2:52:53, 10.50s/it]"
     ]
    },
    {
     "name": "stdout",
     "output_type": "stream",
     "text": [
      "sample: 12\n",
      "(480, 15) (480, 15)\n",
      "{'testlen': 21600, 'reflen': 18277, 'guess': [21600, 21120, 20640, 20160], 'correct': [7326, 2334, 826, 408]}\n",
      "ratio: 1.1818132078568047\n"
     ]
    },
    {
     "name": "stderr",
     "output_type": "stream",
     "text": [
      "\r",
      "  1%|▏         | 13/1000 [02:15<2:50:04, 10.34s/it]"
     ]
    },
    {
     "name": "stdout",
     "output_type": "stream",
     "text": [
      "sample: 13\n",
      "(480, 15) (480, 15)\n",
      "{'testlen': 21600, 'reflen': 18358, 'guess': [21600, 21120, 20640, 20160], 'correct': [7234, 2430, 930, 502]}\n",
      "ratio: 1.1765987580345802\n"
     ]
    },
    {
     "name": "stderr",
     "output_type": "stream",
     "text": [
      "\r",
      "  1%|▏         | 14/1000 [02:25<2:48:10, 10.23s/it]"
     ]
    },
    {
     "name": "stdout",
     "output_type": "stream",
     "text": [
      "sample: 14\n",
      "(480, 15) (480, 15)\n",
      "{'testlen': 21600, 'reflen': 18031, 'guess': [21600, 21120, 20640, 20160], 'correct': [7051, 2143, 705, 308]}\n",
      "ratio: 1.1979368864732296\n"
     ]
    },
    {
     "name": "stderr",
     "output_type": "stream",
     "text": [
      "\r",
      "  2%|▏         | 15/1000 [02:36<2:47:32, 10.21s/it]"
     ]
    },
    {
     "name": "stdout",
     "output_type": "stream",
     "text": [
      "sample: 15\n",
      "(480, 15) (480, 15)\n",
      "{'testlen': 21600, 'reflen': 18321, 'guess': [21600, 21120, 20640, 20160], 'correct': [7137, 2158, 668, 263]}\n",
      "ratio: 1.1789749467823165\n"
     ]
    },
    {
     "name": "stderr",
     "output_type": "stream",
     "text": [
      "\r",
      "  2%|▏         | 16/1000 [02:46<2:48:05, 10.25s/it]"
     ]
    },
    {
     "name": "stdout",
     "output_type": "stream",
     "text": [
      "sample: 16\n",
      "(480, 15) (480, 15)\n",
      "{'testlen': 21600, 'reflen': 18507, 'guess': [21600, 21120, 20640, 20160], 'correct': [7069, 2133, 709, 318]}\n",
      "ratio: 1.1671259523422939\n"
     ]
    },
    {
     "name": "stderr",
     "output_type": "stream",
     "text": [
      "\r",
      "  2%|▏         | 17/1000 [02:56<2:47:04, 10.20s/it]"
     ]
    },
    {
     "name": "stdout",
     "output_type": "stream",
     "text": [
      "sample: 17\n",
      "(480, 15) (480, 15)\n",
      "{'testlen': 21600, 'reflen': 18364, 'guess': [21600, 21120, 20640, 20160], 'correct': [7300, 2416, 886, 432]}\n",
      "ratio: 1.1762143323893937\n"
     ]
    },
    {
     "name": "stderr",
     "output_type": "stream",
     "text": [
      "\r",
      "  2%|▏         | 18/1000 [03:06<2:45:59, 10.14s/it]"
     ]
    },
    {
     "name": "stdout",
     "output_type": "stream",
     "text": [
      "sample: 18\n",
      "(480, 15) (480, 15)\n",
      "{'testlen': 21600, 'reflen': 18413, 'guess': [21600, 21120, 20640, 20160], 'correct': [7155, 2150, 661, 243]}\n",
      "ratio: 1.1730842339650696\n"
     ]
    },
    {
     "name": "stderr",
     "output_type": "stream",
     "text": [
      "\r",
      "  2%|▏         | 19/1000 [03:16<2:45:49, 10.14s/it]"
     ]
    },
    {
     "name": "stdout",
     "output_type": "stream",
     "text": [
      "sample: 19\n",
      "(480, 15) (480, 15)\n",
      "{'testlen': 21600, 'reflen': 17902, 'guess': [21600, 21120, 20640, 20160], 'correct': [7179, 2260, 724, 299]}\n",
      "ratio: 1.2065690984246895\n"
     ]
    },
    {
     "name": "stderr",
     "output_type": "stream",
     "text": [
      "\r",
      "  2%|▏         | 20/1000 [03:26<2:45:38, 10.14s/it]"
     ]
    },
    {
     "name": "stdout",
     "output_type": "stream",
     "text": [
      "sample: 20\n",
      "(480, 15) (480, 15)\n",
      "{'testlen': 21600, 'reflen': 17825, 'guess': [21600, 21120, 20640, 20160], 'correct': [7124, 2254, 708, 283]}\n",
      "ratio: 1.21178120617104\n"
     ]
    },
    {
     "name": "stderr",
     "output_type": "stream",
     "text": [
      "\r",
      "  2%|▏         | 21/1000 [03:36<2:44:58, 10.11s/it]"
     ]
    },
    {
     "name": "stdout",
     "output_type": "stream",
     "text": [
      "sample: 21\n",
      "(480, 15) (480, 15)\n",
      "{'testlen': 21600, 'reflen': 18846, 'guess': [21600, 21120, 20640, 20160], 'correct': [7386, 2370, 804, 356]}\n",
      "ratio: 1.1461318051575322\n"
     ]
    },
    {
     "name": "stderr",
     "output_type": "stream",
     "text": [
      "\r",
      "  2%|▏         | 22/1000 [03:47<2:46:49, 10.23s/it]"
     ]
    },
    {
     "name": "stdout",
     "output_type": "stream",
     "text": [
      "sample: 22\n",
      "(480, 15) (480, 15)\n",
      "{'testlen': 21600, 'reflen': 17253, 'guess': [21600, 21120, 20640, 20160], 'correct': [7069, 2301, 798, 396]}\n",
      "ratio: 1.2519561815335738\n"
     ]
    },
    {
     "name": "stderr",
     "output_type": "stream",
     "text": [
      "\r",
      "  2%|▏         | 23/1000 [03:58<2:49:37, 10.42s/it]"
     ]
    },
    {
     "name": "stdout",
     "output_type": "stream",
     "text": [
      "sample: 23\n",
      "(480, 15) (480, 15)\n",
      "{'testlen': 21600, 'reflen': 18164, 'guess': [21600, 21120, 20640, 20160], 'correct': [7329, 2313, 762, 301]}\n",
      "ratio: 1.1891653820743675\n"
     ]
    },
    {
     "name": "stderr",
     "output_type": "stream",
     "text": [
      "\r",
      "  2%|▏         | 24/1000 [04:08<2:48:28, 10.36s/it]"
     ]
    },
    {
     "name": "stdout",
     "output_type": "stream",
     "text": [
      "sample: 24\n",
      "(480, 15) (480, 15)\n",
      "{'testlen': 21600, 'reflen': 18354, 'guess': [21600, 21120, 20640, 20160], 'correct': [7132, 2174, 707, 310]}\n",
      "ratio: 1.1768551814317763\n"
     ]
    },
    {
     "name": "stderr",
     "output_type": "stream",
     "text": [
      "\r",
      "  2%|▎         | 25/1000 [04:18<2:47:50, 10.33s/it]"
     ]
    },
    {
     "name": "stdout",
     "output_type": "stream",
     "text": [
      "sample: 25\n",
      "(480, 15) (480, 15)\n",
      "{'testlen': 21600, 'reflen': 18455, 'guess': [21600, 21120, 20640, 20160], 'correct': [7245, 2400, 926, 461]}\n",
      "ratio: 1.1704145218097441\n"
     ]
    },
    {
     "name": "stderr",
     "output_type": "stream",
     "text": [
      "\r",
      "  3%|▎         | 26/1000 [04:28<2:47:24, 10.31s/it]"
     ]
    },
    {
     "name": "stdout",
     "output_type": "stream",
     "text": [
      "sample: 26\n",
      "(480, 15) (480, 15)\n",
      "{'testlen': 21600, 'reflen': 18912, 'guess': [21600, 21120, 20640, 20160], 'correct': [7354, 2376, 850, 418]}\n",
      "ratio: 1.142131979695371\n"
     ]
    },
    {
     "name": "stderr",
     "output_type": "stream",
     "text": [
      "\r",
      "  3%|▎         | 27/1000 [04:38<2:46:00, 10.24s/it]"
     ]
    },
    {
     "name": "stdout",
     "output_type": "stream",
     "text": [
      "sample: 27\n",
      "(480, 15) (480, 15)\n",
      "{'testlen': 21600, 'reflen': 18455, 'guess': [21600, 21120, 20640, 20160], 'correct': [7238, 2290, 783, 346]}\n",
      "ratio: 1.1704145218097441\n"
     ]
    },
    {
     "name": "stderr",
     "output_type": "stream",
     "text": [
      "\r",
      "  3%|▎         | 28/1000 [04:49<2:45:43, 10.23s/it]"
     ]
    },
    {
     "name": "stdout",
     "output_type": "stream",
     "text": [
      "sample: 28\n",
      "(480, 15) (480, 15)\n",
      "{'testlen': 21600, 'reflen': 18344, 'guess': [21600, 21120, 20640, 20160], 'correct': [7040, 2159, 720, 301]}\n",
      "ratio: 1.1774967291756882\n"
     ]
    },
    {
     "name": "stderr",
     "output_type": "stream",
     "text": [
      "\r",
      "  3%|▎         | 29/1000 [04:59<2:45:21, 10.22s/it]"
     ]
    },
    {
     "name": "stdout",
     "output_type": "stream",
     "text": [
      "sample: 29\n",
      "(480, 15) (480, 15)\n",
      "{'testlen': 21600, 'reflen': 18128, 'guess': [21600, 21120, 20640, 20160], 'correct': [7236, 2291, 828, 401]}\n",
      "ratio: 1.1915269196821938\n"
     ]
    },
    {
     "name": "stderr",
     "output_type": "stream",
     "text": [
      "\r",
      "  3%|▎         | 30/1000 [05:09<2:44:29, 10.17s/it]"
     ]
    },
    {
     "name": "stdout",
     "output_type": "stream",
     "text": [
      "sample: 30\n",
      "(480, 15) (480, 15)\n",
      "{'testlen': 21600, 'reflen': 17867, 'guess': [21600, 21120, 20640, 20160], 'correct': [7189, 2317, 805, 389]}\n",
      "ratio: 1.2089326691665523\n"
     ]
    },
    {
     "name": "stderr",
     "output_type": "stream",
     "text": [
      "\r",
      "  3%|▎         | 31/1000 [05:19<2:44:26, 10.18s/it]"
     ]
    },
    {
     "name": "stdout",
     "output_type": "stream",
     "text": [
      "sample: 31\n",
      "(480, 15) (480, 15)\n",
      "{'testlen': 21600, 'reflen': 17382, 'guess': [21600, 21120, 20640, 20160], 'correct': [6958, 2176, 706, 282]}\n",
      "ratio: 1.2426648256816681\n"
     ]
    },
    {
     "name": "stderr",
     "output_type": "stream",
     "text": [
      "\r",
      "  3%|▎         | 32/1000 [05:30<2:46:39, 10.33s/it]"
     ]
    },
    {
     "name": "stdout",
     "output_type": "stream",
     "text": [
      "sample: 32\n",
      "(480, 15) (480, 15)\n",
      "{'testlen': 21600, 'reflen': 18759, 'guess': [21600, 21120, 20640, 20160], 'correct': [7282, 2281, 756, 336]}\n",
      "ratio: 1.1514473052933978\n"
     ]
    },
    {
     "name": "stderr",
     "output_type": "stream",
     "text": [
      "\r",
      "  3%|▎         | 33/1000 [05:40<2:46:30, 10.33s/it]"
     ]
    },
    {
     "name": "stdout",
     "output_type": "stream",
     "text": [
      "sample: 33\n",
      "(480, 15) (480, 15)\n",
      "{'testlen': 21600, 'reflen': 18760, 'guess': [21600, 21120, 20640, 20160], 'correct': [7156, 2229, 734, 308]}\n",
      "ratio: 1.1513859275052691\n"
     ]
    },
    {
     "name": "stderr",
     "output_type": "stream",
     "text": [
      "\r",
      "  3%|▎         | 34/1000 [05:51<2:46:21, 10.33s/it]"
     ]
    },
    {
     "name": "stdout",
     "output_type": "stream",
     "text": [
      "sample: 34\n",
      "(480, 15) (480, 15)\n",
      "{'testlen': 21600, 'reflen': 17675, 'guess': [21600, 21120, 20640, 20160], 'correct': [6922, 2149, 696, 307]}\n",
      "ratio: 1.2220650636491528\n"
     ]
    },
    {
     "name": "stderr",
     "output_type": "stream",
     "text": [
      "\r",
      "  4%|▎         | 35/1000 [06:01<2:45:25, 10.29s/it]"
     ]
    },
    {
     "name": "stdout",
     "output_type": "stream",
     "text": [
      "sample: 35\n",
      "(480, 15) (480, 15)\n",
      "{'testlen': 21600, 'reflen': 17999, 'guess': [21600, 21120, 20640, 20160], 'correct': [7191, 2293, 754, 350]}\n",
      "ratio: 1.2000666703705094\n"
     ]
    },
    {
     "name": "stderr",
     "output_type": "stream",
     "text": [
      "\r",
      "  4%|▎         | 36/1000 [06:11<2:45:25, 10.30s/it]"
     ]
    },
    {
     "name": "stdout",
     "output_type": "stream",
     "text": [
      "sample: 36\n",
      "(480, 15) (480, 15)\n",
      "{'testlen': 21600, 'reflen': 18354, 'guess': [21600, 21120, 20640, 20160], 'correct': [7191, 2209, 718, 291]}\n",
      "ratio: 1.1768551814317763\n"
     ]
    },
    {
     "name": "stderr",
     "output_type": "stream",
     "text": [
      "\r",
      "  4%|▎         | 37/1000 [06:21<2:44:33, 10.25s/it]"
     ]
    },
    {
     "name": "stdout",
     "output_type": "stream",
     "text": [
      "sample: 37\n",
      "(480, 15) (480, 15)\n",
      "{'testlen': 21600, 'reflen': 17942, 'guess': [21600, 21120, 20640, 20160], 'correct': [7067, 2244, 736, 289]}\n",
      "ratio: 1.20387916620214\n"
     ]
    },
    {
     "name": "stderr",
     "output_type": "stream",
     "text": [
      "\r",
      "  4%|▍         | 38/1000 [06:32<2:45:17, 10.31s/it]"
     ]
    },
    {
     "name": "stdout",
     "output_type": "stream",
     "text": [
      "sample: 38\n",
      "(480, 15) (480, 15)\n",
      "{'testlen': 21600, 'reflen': 17962, 'guess': [21600, 21120, 20640, 20160], 'correct': [7122, 2262, 793, 377]}\n",
      "ratio: 1.2025386927958355\n"
     ]
    },
    {
     "name": "stderr",
     "output_type": "stream",
     "text": [
      "\r",
      "  4%|▍         | 39/1000 [06:42<2:45:28, 10.33s/it]"
     ]
    },
    {
     "name": "stdout",
     "output_type": "stream",
     "text": [
      "sample: 39\n",
      "(480, 15) (480, 15)\n",
      "{'testlen': 21600, 'reflen': 18127, 'guess': [21600, 21120, 20640, 20160], 'correct': [7025, 2187, 695, 266]}\n",
      "ratio: 1.1915926518452478\n"
     ]
    },
    {
     "name": "stderr",
     "output_type": "stream",
     "text": [
      "\r",
      "  4%|▍         | 40/1000 [06:53<2:47:17, 10.46s/it]"
     ]
    },
    {
     "name": "stdout",
     "output_type": "stream",
     "text": [
      "sample: 40\n",
      "(480, 15) (480, 15)\n",
      "{'testlen': 21600, 'reflen': 19028, 'guess': [21600, 21120, 20640, 20160], 'correct': [7357, 2293, 809, 376]}\n",
      "ratio: 1.1351692243009703\n"
     ]
    },
    {
     "name": "stderr",
     "output_type": "stream",
     "text": [
      "\r",
      "  4%|▍         | 41/1000 [07:03<2:45:27, 10.35s/it]"
     ]
    },
    {
     "name": "stdout",
     "output_type": "stream",
     "text": [
      "sample: 41\n",
      "(480, 15) (480, 15)\n",
      "{'testlen': 21600, 'reflen': 17975, 'guess': [21600, 21120, 20640, 20160], 'correct': [6997, 2093, 647, 253]}\n",
      "ratio: 1.2016689847009068\n"
     ]
    },
    {
     "name": "stderr",
     "output_type": "stream",
     "text": [
      "\r",
      "  4%|▍         | 42/1000 [07:14<2:47:53, 10.52s/it]"
     ]
    },
    {
     "name": "stdout",
     "output_type": "stream",
     "text": [
      "sample: 42\n",
      "(480, 15) (480, 15)\n",
      "{'testlen': 21600, 'reflen': 17908, 'guess': [21600, 21120, 20640, 20160], 'correct': [7311, 2502, 927, 484]}\n",
      "ratio: 1.2061648425284115\n"
     ]
    },
    {
     "name": "stderr",
     "output_type": "stream",
     "text": [
      "\r",
      "  4%|▍         | 43/1000 [07:24<2:47:05, 10.48s/it]"
     ]
    },
    {
     "name": "stdout",
     "output_type": "stream",
     "text": [
      "sample: 43\n",
      "(480, 15) (480, 15)\n",
      "{'testlen': 21600, 'reflen': 18057, 'guess': [21600, 21120, 20640, 20160], 'correct': [7123, 2267, 763, 342]}\n",
      "ratio: 1.1962119953479982\n"
     ]
    },
    {
     "name": "stderr",
     "output_type": "stream",
     "text": [
      "\r",
      "  4%|▍         | 44/1000 [07:34<2:45:19, 10.38s/it]"
     ]
    },
    {
     "name": "stdout",
     "output_type": "stream",
     "text": [
      "sample: 44\n",
      "(480, 15) (480, 15)\n",
      "{'testlen': 21600, 'reflen': 17478, 'guess': [21600, 21120, 20640, 20160], 'correct': [7060, 2191, 662, 260]}\n",
      "ratio: 1.235839340885614\n"
     ]
    },
    {
     "name": "stderr",
     "output_type": "stream",
     "text": [
      "\r",
      "  4%|▍         | 45/1000 [07:44<2:44:16, 10.32s/it]"
     ]
    },
    {
     "name": "stdout",
     "output_type": "stream",
     "text": [
      "sample: 45\n",
      "(480, 15) (480, 15)\n",
      "{'testlen': 21600, 'reflen': 17468, 'guess': [21600, 21120, 20640, 20160], 'correct': [7175, 2267, 711, 270]}\n",
      "ratio: 1.2365468284863044\n"
     ]
    },
    {
     "name": "stderr",
     "output_type": "stream",
     "text": [
      "\r",
      "  5%|▍         | 46/1000 [07:55<2:43:08, 10.26s/it]"
     ]
    },
    {
     "name": "stdout",
     "output_type": "stream",
     "text": [
      "sample: 46\n",
      "(480, 15) (480, 15)\n",
      "{'testlen': 21600, 'reflen': 18378, 'guess': [21600, 21120, 20640, 20160], 'correct': [7197, 2230, 718, 299]}\n",
      "ratio: 1.1753183153770173\n"
     ]
    },
    {
     "name": "stderr",
     "output_type": "stream",
     "text": [
      "\r",
      "  5%|▍         | 47/1000 [08:05<2:42:55, 10.26s/it]"
     ]
    },
    {
     "name": "stdout",
     "output_type": "stream",
     "text": [
      "sample: 47\n",
      "(480, 15) (480, 15)\n",
      "{'testlen': 21600, 'reflen': 18386, 'guess': [21600, 21120, 20640, 20160], 'correct': [7209, 2223, 693, 264]}\n",
      "ratio: 1.174806918307344\n"
     ]
    },
    {
     "name": "stderr",
     "output_type": "stream",
     "text": [
      "\r",
      "  5%|▍         | 48/1000 [08:15<2:41:55, 10.21s/it]"
     ]
    },
    {
     "name": "stdout",
     "output_type": "stream",
     "text": [
      "sample: 48\n",
      "(480, 15) (480, 15)\n",
      "{'testlen': 21600, 'reflen': 18339, 'guess': [21600, 21120, 20640, 20160], 'correct': [7206, 2249, 673, 247]}\n",
      "ratio: 1.1778177654178974\n"
     ]
    },
    {
     "name": "stderr",
     "output_type": "stream",
     "text": [
      "\r",
      "  5%|▍         | 49/1000 [08:25<2:41:55, 10.22s/it]"
     ]
    },
    {
     "name": "stdout",
     "output_type": "stream",
     "text": [
      "sample: 49\n",
      "(480, 15) (480, 15)\n",
      "{'testlen': 21600, 'reflen': 17746, 'guess': [21600, 21120, 20640, 20160], 'correct': [7158, 2328, 817, 380]}\n",
      "ratio: 1.2171757015664817\n"
     ]
    },
    {
     "name": "stderr",
     "output_type": "stream",
     "text": [
      "\r",
      "  5%|▌         | 50/1000 [08:35<2:41:23, 10.19s/it]"
     ]
    },
    {
     "name": "stdout",
     "output_type": "stream",
     "text": [
      "sample: 50\n",
      "(480, 15) (480, 15)\n",
      "{'testlen': 21600, 'reflen': 17707, 'guess': [21600, 21120, 20640, 20160], 'correct': [7082, 2230, 720, 269]}\n",
      "ratio: 1.2198565539051662\n"
     ]
    },
    {
     "name": "stderr",
     "output_type": "stream",
     "text": [
      "\r",
      "  5%|▌         | 51/1000 [08:45<2:40:15, 10.13s/it]"
     ]
    },
    {
     "name": "stdout",
     "output_type": "stream",
     "text": [
      "sample: 51\n",
      "(480, 15) (480, 15)\n",
      "{'testlen': 21600, 'reflen': 18678, 'guess': [21600, 21120, 20640, 20160], 'correct': [7270, 2307, 807, 404]}\n",
      "ratio: 1.156440732412402\n"
     ]
    },
    {
     "name": "stderr",
     "output_type": "stream",
     "text": [
      "\r",
      "  5%|▌         | 52/1000 [08:56<2:44:24, 10.41s/it]"
     ]
    },
    {
     "name": "stdout",
     "output_type": "stream",
     "text": [
      "sample: 52\n",
      "(480, 15) (480, 15)\n",
      "{'testlen': 21600, 'reflen': 17829, 'guess': [21600, 21120, 20640, 20160], 'correct': [7148, 2166, 659, 260]}\n",
      "ratio: 1.2115093387177513\n"
     ]
    },
    {
     "name": "stderr",
     "output_type": "stream",
     "text": [
      "\r",
      "  5%|▌         | 53/1000 [09:07<2:43:46, 10.38s/it]"
     ]
    },
    {
     "name": "stdout",
     "output_type": "stream",
     "text": [
      "sample: 53\n",
      "(480, 15) (480, 15)\n",
      "{'testlen': 21600, 'reflen': 18153, 'guess': [21600, 21120, 20640, 20160], 'correct': [7337, 2438, 878, 434]}\n",
      "ratio: 1.1898859692612136\n"
     ]
    },
    {
     "name": "stderr",
     "output_type": "stream",
     "text": [
      "\r",
      "  5%|▌         | 54/1000 [09:17<2:42:49, 10.33s/it]"
     ]
    },
    {
     "name": "stdout",
     "output_type": "stream",
     "text": [
      "sample: 54\n",
      "(480, 15) (480, 15)\n",
      "{'testlen': 21600, 'reflen': 18370, 'guess': [21600, 21120, 20640, 20160], 'correct': [7139, 2216, 724, 295]}\n",
      "ratio: 1.175830157866022\n"
     ]
    },
    {
     "name": "stderr",
     "output_type": "stream",
     "text": [
      "\r",
      "  6%|▌         | 55/1000 [09:27<2:42:07, 10.29s/it]"
     ]
    },
    {
     "name": "stdout",
     "output_type": "stream",
     "text": [
      "sample: 55\n",
      "(480, 15) (480, 15)\n",
      "{'testlen': 21600, 'reflen': 18656, 'guess': [21600, 21120, 20640, 20160], 'correct': [7295, 2313, 822, 416]}\n",
      "ratio: 1.15780445969119\n"
     ]
    },
    {
     "name": "stderr",
     "output_type": "stream",
     "text": [
      "\r",
      "  6%|▌         | 56/1000 [09:38<2:46:28, 10.58s/it]"
     ]
    },
    {
     "name": "stdout",
     "output_type": "stream",
     "text": [
      "sample: 56\n",
      "(480, 15) (480, 15)\n",
      "{'testlen': 21600, 'reflen': 17820, 'guess': [21600, 21120, 20640, 20160], 'correct': [7046, 2242, 763, 325]}\n",
      "ratio: 1.212121212121144\n"
     ]
    },
    {
     "name": "stderr",
     "output_type": "stream",
     "text": [
      "\r",
      "  6%|▌         | 57/1000 [09:49<2:44:39, 10.48s/it]"
     ]
    },
    {
     "name": "stdout",
     "output_type": "stream",
     "text": [
      "sample: 57\n",
      "(480, 15) (480, 15)\n",
      "{'testlen': 21600, 'reflen': 18620, 'guess': [21600, 21120, 20640, 20160], 'correct': [7249, 2294, 770, 312]}\n",
      "ratio: 1.1600429645541803\n"
     ]
    },
    {
     "name": "stderr",
     "output_type": "stream",
     "text": [
      "\r",
      "  6%|▌         | 58/1000 [09:59<2:44:10, 10.46s/it]"
     ]
    },
    {
     "name": "stdout",
     "output_type": "stream",
     "text": [
      "sample: 58\n",
      "(480, 15) (480, 15)\n",
      "{'testlen': 21600, 'reflen': 18507, 'guess': [21600, 21120, 20640, 20160], 'correct': [7211, 2202, 684, 269]}\n",
      "ratio: 1.1671259523422939\n"
     ]
    },
    {
     "name": "stderr",
     "output_type": "stream",
     "text": [
      "\r",
      "  6%|▌         | 59/1000 [10:09<2:42:30, 10.36s/it]"
     ]
    },
    {
     "name": "stdout",
     "output_type": "stream",
     "text": [
      "sample: 59\n",
      "(480, 15) (480, 15)\n",
      "{'testlen': 21600, 'reflen': 18767, 'guess': [21600, 21120, 20640, 20160], 'correct': [7306, 2300, 758, 340]}\n",
      "ratio: 1.1509564661373075\n"
     ]
    },
    {
     "name": "stderr",
     "output_type": "stream",
     "text": [
      "\r",
      "  6%|▌         | 60/1000 [10:19<2:42:28, 10.37s/it]"
     ]
    },
    {
     "name": "stdout",
     "output_type": "stream",
     "text": [
      "sample: 60\n",
      "(480, 15) (480, 15)\n",
      "{'testlen': 21600, 'reflen': 19166, 'guess': [21600, 21120, 20640, 20160], 'correct': [7163, 2205, 712, 294]}\n",
      "ratio: 1.1269957215902573\n"
     ]
    },
    {
     "name": "stderr",
     "output_type": "stream",
     "text": [
      "\r",
      "  6%|▌         | 61/1000 [10:30<2:43:35, 10.45s/it]"
     ]
    },
    {
     "name": "stdout",
     "output_type": "stream",
     "text": [
      "sample: 61\n",
      "(480, 15) (480, 15)\n",
      "{'testlen': 21600, 'reflen': 17911, 'guess': [21600, 21120, 20640, 20160], 'correct': [7122, 2185, 677, 283]}\n",
      "ratio: 1.2059628161464349\n"
     ]
    },
    {
     "name": "stderr",
     "output_type": "stream",
     "text": [
      "\r",
      "  6%|▌         | 62/1000 [10:41<2:43:32, 10.46s/it]"
     ]
    },
    {
     "name": "stdout",
     "output_type": "stream",
     "text": [
      "sample: 62\n",
      "(480, 15) (480, 15)\n",
      "{'testlen': 21600, 'reflen': 17949, 'guess': [21600, 21120, 20640, 20160], 'correct': [7179, 2302, 785, 351]}\n",
      "ratio: 1.2034096607052647\n"
     ]
    },
    {
     "name": "stderr",
     "output_type": "stream",
     "text": [
      "\r",
      "  6%|▋         | 63/1000 [10:52<2:45:57, 10.63s/it]"
     ]
    },
    {
     "name": "stdout",
     "output_type": "stream",
     "text": [
      "sample: 63\n",
      "(480, 15) (480, 15)\n",
      "{'testlen': 21600, 'reflen': 18236, 'guess': [21600, 21120, 20640, 20160], 'correct': [7154, 2280, 758, 332]}\n",
      "ratio: 1.184470278569797\n"
     ]
    },
    {
     "name": "stderr",
     "output_type": "stream",
     "text": [
      "\r",
      "  6%|▋         | 64/1000 [11:02<2:44:44, 10.56s/it]"
     ]
    },
    {
     "name": "stdout",
     "output_type": "stream",
     "text": [
      "sample: 64\n",
      "(480, 15) (480, 15)\n",
      "{'testlen': 21600, 'reflen': 18388, 'guess': [21600, 21120, 20640, 20160], 'correct': [7177, 2241, 754, 353]}\n",
      "ratio: 1.1746791385685678\n"
     ]
    },
    {
     "name": "stderr",
     "output_type": "stream",
     "text": [
      "\r",
      "  6%|▋         | 65/1000 [11:12<2:43:07, 10.47s/it]"
     ]
    },
    {
     "name": "stdout",
     "output_type": "stream",
     "text": [
      "sample: 65\n",
      "(480, 15) (480, 15)\n",
      "{'testlen': 21600, 'reflen': 18589, 'guess': [21600, 21120, 20640, 20160], 'correct': [7216, 2333, 815, 375]}\n",
      "ratio: 1.1619775135832393\n"
     ]
    },
    {
     "name": "stderr",
     "output_type": "stream",
     "text": [
      "\r",
      "  7%|▋         | 66/1000 [11:23<2:42:42, 10.45s/it]"
     ]
    },
    {
     "name": "stdout",
     "output_type": "stream",
     "text": [
      "sample: 66\n",
      "(480, 15) (480, 15)\n",
      "{'testlen': 21600, 'reflen': 18140, 'guess': [21600, 21120, 20640, 20160], 'correct': [7062, 2178, 680, 253]}\n",
      "ratio: 1.190738699007652\n"
     ]
    },
    {
     "name": "stderr",
     "output_type": "stream",
     "text": [
      "\r",
      "  7%|▋         | 67/1000 [11:33<2:41:44, 10.40s/it]"
     ]
    },
    {
     "name": "stdout",
     "output_type": "stream",
     "text": [
      "sample: 67\n",
      "(480, 15) (480, 15)\n",
      "{'testlen': 21600, 'reflen': 18342, 'guess': [21600, 21120, 20640, 20160], 'correct': [7257, 2258, 730, 302]}\n",
      "ratio: 1.1776251226692194\n"
     ]
    },
    {
     "name": "stderr",
     "output_type": "stream",
     "text": [
      "\r",
      "  7%|▋         | 68/1000 [11:43<2:41:41, 10.41s/it]"
     ]
    },
    {
     "name": "stdout",
     "output_type": "stream",
     "text": [
      "sample: 68\n",
      "(480, 15) (480, 15)\n",
      "{'testlen': 21600, 'reflen': 17992, 'guess': [21600, 21120, 20640, 20160], 'correct': [7198, 2332, 797, 360]}\n",
      "ratio: 1.2005335704757003\n"
     ]
    },
    {
     "name": "stderr",
     "output_type": "stream",
     "text": [
      "\r",
      "  7%|▋         | 69/1000 [11:54<2:40:33, 10.35s/it]"
     ]
    },
    {
     "name": "stdout",
     "output_type": "stream",
     "text": [
      "sample: 69\n",
      "(480, 15) (480, 15)\n",
      "{'testlen': 21600, 'reflen': 18338, 'guess': [21600, 21120, 20640, 20160], 'correct': [7035, 2143, 682, 286]}\n",
      "ratio: 1.1778819936742733\n"
     ]
    },
    {
     "name": "stderr",
     "output_type": "stream",
     "text": [
      "\r",
      "  7%|▋         | 70/1000 [12:04<2:39:52, 10.31s/it]"
     ]
    },
    {
     "name": "stdout",
     "output_type": "stream",
     "text": [
      "sample: 70\n",
      "(480, 15) (480, 15)\n",
      "{'testlen': 21600, 'reflen': 18422, 'guess': [21600, 21120, 20640, 20160], 'correct': [7163, 2290, 786, 355]}\n",
      "ratio: 1.1725111279990679\n"
     ]
    },
    {
     "name": "stderr",
     "output_type": "stream",
     "text": [
      "\r",
      "  7%|▋         | 71/1000 [12:14<2:39:30, 10.30s/it]"
     ]
    },
    {
     "name": "stdout",
     "output_type": "stream",
     "text": [
      "sample: 71\n",
      "(480, 15) (480, 15)\n",
      "{'testlen': 21600, 'reflen': 18396, 'guess': [21600, 21120, 20640, 20160], 'correct': [7116, 2185, 683, 289]}\n",
      "ratio: 1.174168297455905\n"
     ]
    },
    {
     "name": "stderr",
     "output_type": "stream",
     "text": [
      "\r",
      "  7%|▋         | 72/1000 [12:24<2:39:40, 10.32s/it]"
     ]
    },
    {
     "name": "stdout",
     "output_type": "stream",
     "text": [
      "sample: 72\n",
      "(480, 15) (480, 15)\n",
      "{'testlen': 21600, 'reflen': 18244, 'guess': [21600, 21120, 20640, 20160], 'correct': [7270, 2371, 836, 406]}\n",
      "ratio: 1.183950887963101\n"
     ]
    },
    {
     "name": "stderr",
     "output_type": "stream",
     "text": [
      "\r",
      "  7%|▋         | 73/1000 [12:35<2:39:05, 10.30s/it]"
     ]
    },
    {
     "name": "stdout",
     "output_type": "stream",
     "text": [
      "sample: 73\n",
      "(480, 15) (480, 15)\n",
      "{'testlen': 21600, 'reflen': 17843, 'guess': [21600, 21120, 20640, 20160], 'correct': [7311, 2378, 866, 423]}\n",
      "ratio: 1.2105587625398637\n"
     ]
    },
    {
     "name": "stderr",
     "output_type": "stream",
     "text": [
      "\r",
      "  7%|▋         | 74/1000 [12:45<2:39:07, 10.31s/it]"
     ]
    },
    {
     "name": "stdout",
     "output_type": "stream",
     "text": [
      "sample: 74\n",
      "(480, 15) (480, 15)\n",
      "{'testlen': 21600, 'reflen': 18608, 'guess': [21600, 21120, 20640, 20160], 'correct': [7249, 2264, 748, 344]}\n",
      "ratio: 1.160791057609568\n"
     ]
    },
    {
     "name": "stderr",
     "output_type": "stream",
     "text": [
      "\r",
      "  8%|▊         | 75/1000 [12:56<2:40:14, 10.39s/it]"
     ]
    },
    {
     "name": "stdout",
     "output_type": "stream",
     "text": [
      "sample: 75\n",
      "(480, 15) (480, 15)\n",
      "{'testlen': 21600, 'reflen': 17805, 'guess': [21600, 21120, 20640, 20160], 'correct': [7167, 2196, 698, 291]}\n",
      "ratio: 1.2131423757370843\n"
     ]
    },
    {
     "name": "stderr",
     "output_type": "stream",
     "text": [
      "\r",
      "  8%|▊         | 76/1000 [13:06<2:40:44, 10.44s/it]"
     ]
    },
    {
     "name": "stdout",
     "output_type": "stream",
     "text": [
      "sample: 76\n",
      "(480, 15) (480, 15)\n",
      "{'testlen': 21600, 'reflen': 18247, 'guess': [21600, 21120, 20640, 20160], 'correct': [7228, 2263, 723, 314]}\n",
      "ratio: 1.1837562339013983\n"
     ]
    },
    {
     "name": "stderr",
     "output_type": "stream",
     "text": [
      "\r",
      "  8%|▊         | 77/1000 [13:18<2:44:35, 10.70s/it]"
     ]
    },
    {
     "name": "stdout",
     "output_type": "stream",
     "text": [
      "sample: 77\n",
      "(480, 15) (480, 15)\n",
      "{'testlen': 21600, 'reflen': 17930, 'guess': [21600, 21120, 20640, 20160], 'correct': [7183, 2308, 792, 360]}\n",
      "ratio: 1.2046848856664136\n"
     ]
    },
    {
     "name": "stderr",
     "output_type": "stream",
     "text": [
      "\r",
      "  8%|▊         | 78/1000 [13:28<2:42:45, 10.59s/it]"
     ]
    },
    {
     "name": "stdout",
     "output_type": "stream",
     "text": [
      "sample: 78\n",
      "(480, 15) (480, 15)\n",
      "{'testlen': 21600, 'reflen': 18495, 'guess': [21600, 21120, 20640, 20160], 'correct': [7323, 2370, 862, 424]}\n",
      "ratio: 1.167883211678769\n"
     ]
    },
    {
     "name": "stderr",
     "output_type": "stream",
     "text": [
      "\r",
      "  8%|▊         | 79/1000 [13:38<2:42:38, 10.60s/it]"
     ]
    },
    {
     "name": "stdout",
     "output_type": "stream",
     "text": [
      "sample: 79\n",
      "(480, 15) (480, 15)\n",
      "{'testlen': 21600, 'reflen': 19012, 'guess': [21600, 21120, 20640, 20160], 'correct': [7119, 2107, 631, 233]}\n",
      "ratio: 1.1361245529138893\n"
     ]
    },
    {
     "name": "stderr",
     "output_type": "stream",
     "text": [
      "\r",
      "  8%|▊         | 80/1000 [13:49<2:43:41, 10.68s/it]"
     ]
    },
    {
     "name": "stdout",
     "output_type": "stream",
     "text": [
      "sample: 80\n",
      "(480, 15) (480, 15)\n",
      "{'testlen': 21600, 'reflen': 18416, 'guess': [21600, 21120, 20640, 20160], 'correct': [7125, 2233, 768, 373]}\n",
      "ratio: 1.172893136403064\n"
     ]
    },
    {
     "name": "stderr",
     "output_type": "stream",
     "text": [
      "\r",
      "  8%|▊         | 81/1000 [14:00<2:42:25, 10.60s/it]"
     ]
    },
    {
     "name": "stdout",
     "output_type": "stream",
     "text": [
      "sample: 81\n",
      "(480, 15) (480, 15)\n",
      "{'testlen': 21600, 'reflen': 18071, 'guess': [21600, 21120, 20640, 20160], 'correct': [7177, 2270, 773, 333]}\n",
      "ratio: 1.1952852636820765\n"
     ]
    },
    {
     "name": "stderr",
     "output_type": "stream",
     "text": [
      "\r",
      "  8%|▊         | 82/1000 [14:10<2:41:20, 10.55s/it]"
     ]
    },
    {
     "name": "stdout",
     "output_type": "stream",
     "text": [
      "sample: 82\n",
      "(480, 15) (480, 15)\n",
      "{'testlen': 21600, 'reflen': 18630, 'guess': [21600, 21120, 20640, 20160], 'correct': [7263, 2289, 770, 337]}\n",
      "ratio: 1.1594202898550101\n"
     ]
    },
    {
     "name": "stderr",
     "output_type": "stream",
     "text": [
      "\r",
      "  8%|▊         | 83/1000 [14:20<2:39:40, 10.45s/it]"
     ]
    },
    {
     "name": "stdout",
     "output_type": "stream",
     "text": [
      "sample: 83\n",
      "(480, 15) (480, 15)\n",
      "{'testlen': 21600, 'reflen': 18477, 'guess': [21600, 21120, 20640, 20160], 'correct': [7239, 2292, 794, 349]}\n",
      "ratio: 1.1690209449585338\n"
     ]
    },
    {
     "name": "stderr",
     "output_type": "stream",
     "text": [
      "\r",
      "  8%|▊         | 84/1000 [14:31<2:39:29, 10.45s/it]"
     ]
    },
    {
     "name": "stdout",
     "output_type": "stream",
     "text": [
      "sample: 84\n",
      "(480, 15) (480, 15)\n",
      "{'testlen': 21600, 'reflen': 17966, 'guess': [21600, 21120, 20640, 20160], 'correct': [7157, 2256, 720, 302]}\n",
      "ratio: 1.2022709562506289\n"
     ]
    },
    {
     "name": "stderr",
     "output_type": "stream",
     "text": [
      "\r",
      "  8%|▊         | 85/1000 [14:41<2:38:53, 10.42s/it]"
     ]
    },
    {
     "name": "stdout",
     "output_type": "stream",
     "text": [
      "sample: 85\n",
      "(480, 15) (480, 15)\n",
      "{'testlen': 21600, 'reflen': 18425, 'guess': [21600, 21120, 20640, 20160], 'correct': [7200, 2280, 770, 349]}\n",
      "ratio: 1.1723202170962728\n"
     ]
    },
    {
     "name": "stderr",
     "output_type": "stream",
     "text": [
      "\r",
      "  9%|▊         | 86/1000 [14:52<2:39:15, 10.46s/it]"
     ]
    },
    {
     "name": "stdout",
     "output_type": "stream",
     "text": [
      "sample: 86\n",
      "(480, 15) (480, 15)\n",
      "{'testlen': 21600, 'reflen': 18257, 'guess': [21600, 21120, 20640, 20160], 'correct': [7213, 2288, 744, 321]}\n",
      "ratio: 1.1831078490441373\n"
     ]
    },
    {
     "name": "stderr",
     "output_type": "stream",
     "text": [
      "\r",
      "  9%|▊         | 87/1000 [15:02<2:38:57, 10.45s/it]"
     ]
    },
    {
     "name": "stdout",
     "output_type": "stream",
     "text": [
      "sample: 87\n",
      "(480, 15) (480, 15)\n",
      "{'testlen': 21600, 'reflen': 18432, 'guess': [21600, 21120, 20640, 20160], 'correct': [7147, 2253, 749, 324]}\n",
      "ratio: 1.1718749999999365\n"
     ]
    },
    {
     "name": "stderr",
     "output_type": "stream",
     "text": [
      "\r",
      "  9%|▉         | 88/1000 [15:13<2:40:06, 10.53s/it]"
     ]
    },
    {
     "name": "stdout",
     "output_type": "stream",
     "text": [
      "sample: 88\n",
      "(480, 15) (480, 15)\n",
      "{'testlen': 21600, 'reflen': 18083, 'guess': [21600, 21120, 20640, 20160], 'correct': [7211, 2272, 751, 318]}\n",
      "ratio: 1.194492064369784\n"
     ]
    },
    {
     "name": "stderr",
     "output_type": "stream",
     "text": [
      "\r",
      "  9%|▉         | 89/1000 [15:23<2:40:07, 10.55s/it]"
     ]
    },
    {
     "name": "stdout",
     "output_type": "stream",
     "text": [
      "sample: 89\n",
      "(480, 15) (480, 15)\n",
      "{'testlen': 21600, 'reflen': 17973, 'guess': [21600, 21120, 20640, 20160], 'correct': [7190, 2293, 791, 355]}\n",
      "ratio: 1.2018027040560173\n"
     ]
    },
    {
     "name": "stderr",
     "output_type": "stream",
     "text": [
      "\r",
      "  9%|▉         | 90/1000 [15:34<2:38:32, 10.45s/it]"
     ]
    },
    {
     "name": "stdout",
     "output_type": "stream",
     "text": [
      "sample: 90\n",
      "(480, 15) (480, 15)\n",
      "{'testlen': 21600, 'reflen': 18010, 'guess': [21600, 21120, 20640, 20160], 'correct': [7140, 2290, 795, 348]}\n",
      "ratio: 1.19933370349799\n"
     ]
    },
    {
     "name": "stderr",
     "output_type": "stream",
     "text": [
      "\r",
      "  9%|▉         | 91/1000 [15:44<2:38:19, 10.45s/it]"
     ]
    },
    {
     "name": "stdout",
     "output_type": "stream",
     "text": [
      "sample: 91\n",
      "(480, 15) (480, 15)\n",
      "{'testlen': 21600, 'reflen': 17737, 'guess': [21600, 21120, 20640, 20160], 'correct': [7298, 2342, 811, 390]}\n",
      "ratio: 1.2177933134125716\n"
     ]
    },
    {
     "name": "stderr",
     "output_type": "stream",
     "text": [
      "\r",
      "  9%|▉         | 92/1000 [15:55<2:39:14, 10.52s/it]"
     ]
    },
    {
     "name": "stdout",
     "output_type": "stream",
     "text": [
      "sample: 92\n",
      "(480, 15) (480, 15)\n",
      "{'testlen': 21600, 'reflen': 19153, 'guess': [21600, 21120, 20640, 20160], 'correct': [7264, 2333, 834, 388]}\n",
      "ratio: 1.1277606641256654\n"
     ]
    },
    {
     "name": "stderr",
     "output_type": "stream",
     "text": [
      "\r",
      "  9%|▉         | 93/1000 [16:05<2:38:37, 10.49s/it]"
     ]
    },
    {
     "name": "stdout",
     "output_type": "stream",
     "text": [
      "sample: 93\n",
      "(480, 15) (480, 15)\n",
      "{'testlen': 21600, 'reflen': 18093, 'guess': [21600, 21120, 20640, 20160], 'correct': [7206, 2282, 783, 355]}\n",
      "ratio: 1.1938318686784284\n"
     ]
    },
    {
     "name": "stderr",
     "output_type": "stream",
     "text": [
      "\r",
      "  9%|▉         | 94/1000 [16:16<2:38:15, 10.48s/it]"
     ]
    },
    {
     "name": "stdout",
     "output_type": "stream",
     "text": [
      "sample: 94\n",
      "(480, 15) (480, 15)\n",
      "{'testlen': 21600, 'reflen': 18456, 'guess': [21600, 21120, 20640, 20160], 'correct': [7299, 2411, 867, 403]}\n",
      "ratio: 1.170351105331536\n"
     ]
    },
    {
     "name": "stderr",
     "output_type": "stream",
     "text": [
      "\r",
      " 10%|▉         | 95/1000 [16:26<2:39:22, 10.57s/it]"
     ]
    },
    {
     "name": "stdout",
     "output_type": "stream",
     "text": [
      "sample: 95\n",
      "(480, 15) (480, 15)\n",
      "{'testlen': 21600, 'reflen': 17675, 'guess': [21600, 21120, 20640, 20160], 'correct': [7187, 2291, 745, 314]}\n",
      "ratio: 1.2220650636491528\n"
     ]
    },
    {
     "name": "stderr",
     "output_type": "stream",
     "text": [
      "\r",
      " 10%|▉         | 96/1000 [16:37<2:38:14, 10.50s/it]"
     ]
    },
    {
     "name": "stdout",
     "output_type": "stream",
     "text": [
      "sample: 96\n",
      "(480, 15) (480, 15)\n",
      "{'testlen': 21600, 'reflen': 18223, 'guess': [21600, 21120, 20640, 20160], 'correct': [7173, 2245, 739, 306]}\n",
      "ratio: 1.1853152609339195\n"
     ]
    },
    {
     "name": "stderr",
     "output_type": "stream",
     "text": [
      "\r",
      " 10%|▉         | 97/1000 [16:48<2:39:33, 10.60s/it]"
     ]
    },
    {
     "name": "stdout",
     "output_type": "stream",
     "text": [
      "sample: 97\n",
      "(480, 15) (480, 15)\n",
      "{'testlen': 21600, 'reflen': 18274, 'guess': [21600, 21120, 20640, 20160], 'correct': [7121, 2193, 717, 309]}\n",
      "ratio: 1.1820072233774115\n"
     ]
    },
    {
     "name": "stderr",
     "output_type": "stream",
     "text": [
      "\r",
      " 10%|▉         | 98/1000 [16:59<2:40:32, 10.68s/it]"
     ]
    },
    {
     "name": "stdout",
     "output_type": "stream",
     "text": [
      "sample: 98\n",
      "(480, 15) (480, 15)\n",
      "{'testlen': 21600, 'reflen': 18348, 'guess': [21600, 21120, 20640, 20160], 'correct': [7155, 2254, 758, 341]}\n",
      "ratio: 1.1772400261608253\n"
     ]
    },
    {
     "name": "stderr",
     "output_type": "stream",
     "text": [
      "\r",
      " 10%|▉         | 99/1000 [17:10<2:41:55, 10.78s/it]"
     ]
    },
    {
     "name": "stdout",
     "output_type": "stream",
     "text": [
      "sample: 99\n",
      "(480, 15) (480, 15)\n",
      "{'testlen': 21600, 'reflen': 18264, 'guess': [21600, 21120, 20640, 20160], 'correct': [7272, 2303, 807, 363]}\n",
      "ratio: 1.182654402102432\n"
     ]
    },
    {
     "name": "stderr",
     "output_type": "stream",
     "text": [
      "\r",
      " 10%|█         | 100/1000 [17:20<2:40:29, 10.70s/it]"
     ]
    },
    {
     "name": "stdout",
     "output_type": "stream",
     "text": [
      "sample: 100\n",
      "(480, 15) (480, 15)\n",
      "{'testlen': 21600, 'reflen': 17770, 'guess': [21600, 21120, 20640, 20160], 'correct': [7150, 2261, 727, 317]}\n",
      "ratio: 1.2155317951603142\n"
     ]
    },
    {
     "name": "stderr",
     "output_type": "stream",
     "text": [
      "\r",
      " 10%|█         | 101/1000 [17:31<2:39:22, 10.64s/it]"
     ]
    },
    {
     "name": "stdout",
     "output_type": "stream",
     "text": [
      "sample: 101\n",
      "(480, 15) (480, 15)\n",
      "{'testlen': 21600, 'reflen': 17648, 'guess': [21600, 21120, 20640, 20160], 'correct': [7175, 2316, 760, 352]}\n",
      "ratio: 1.223934723481345\n"
     ]
    },
    {
     "name": "stderr",
     "output_type": "stream",
     "text": [
      "\r",
      " 10%|█         | 102/1000 [17:41<2:39:19, 10.65s/it]"
     ]
    },
    {
     "name": "stdout",
     "output_type": "stream",
     "text": [
      "sample: 102\n",
      "(480, 15) (480, 15)\n",
      "{'testlen': 21600, 'reflen': 18745, 'guess': [21600, 21120, 20640, 20160], 'correct': [7189, 2290, 791, 363]}\n",
      "ratio: 1.1523072819417897\n"
     ]
    },
    {
     "name": "stderr",
     "output_type": "stream",
     "text": [
      "\r",
      " 10%|█         | 103/1000 [17:51<2:37:17, 10.52s/it]"
     ]
    },
    {
     "name": "stdout",
     "output_type": "stream",
     "text": [
      "sample: 103\n",
      "(480, 15) (480, 15)\n",
      "{'testlen': 21600, 'reflen': 17711, 'guess': [21600, 21120, 20640, 20160], 'correct': [7093, 2185, 691, 276]}\n",
      "ratio: 1.219581051323967\n"
     ]
    },
    {
     "name": "stderr",
     "output_type": "stream",
     "text": [
      "\r",
      " 10%|█         | 104/1000 [18:02<2:37:45, 10.56s/it]"
     ]
    },
    {
     "name": "stdout",
     "output_type": "stream",
     "text": [
      "sample: 104\n",
      "(480, 15) (480, 15)\n",
      "{'testlen': 21600, 'reflen': 18242, 'guess': [21600, 21120, 20640, 20160], 'correct': [7121, 2261, 735, 314]}\n",
      "ratio: 1.1840806929064147\n"
     ]
    },
    {
     "name": "stderr",
     "output_type": "stream",
     "text": [
      "\r",
      " 10%|█         | 105/1000 [18:14<2:41:43, 10.84s/it]"
     ]
    },
    {
     "name": "stdout",
     "output_type": "stream",
     "text": [
      "sample: 105\n",
      "(480, 15) (480, 15)\n",
      "{'testlen': 21600, 'reflen': 18757, 'guess': [21600, 21120, 20640, 20160], 'correct': [7275, 2363, 847, 425]}\n",
      "ratio: 1.1515700805032174\n"
     ]
    },
    {
     "name": "stderr",
     "output_type": "stream",
     "text": [
      "\r",
      " 11%|█         | 106/1000 [18:24<2:40:24, 10.77s/it]"
     ]
    },
    {
     "name": "stdout",
     "output_type": "stream",
     "text": [
      "sample: 106\n",
      "(480, 15) (480, 15)\n",
      "{'testlen': 21600, 'reflen': 17982, 'guess': [21600, 21120, 20640, 20160], 'correct': [7108, 2154, 643, 253]}\n",
      "ratio: 1.2012012012011344\n"
     ]
    },
    {
     "name": "stderr",
     "output_type": "stream",
     "text": [
      "\r",
      " 11%|█         | 107/1000 [18:35<2:42:15, 10.90s/it]"
     ]
    },
    {
     "name": "stdout",
     "output_type": "stream",
     "text": [
      "sample: 107\n",
      "(480, 15) (480, 15)\n",
      "{'testlen': 21600, 'reflen': 19019, 'guess': [21600, 21120, 20640, 20160], 'correct': [7277, 2276, 718, 283]}\n",
      "ratio: 1.135706398864234\n"
     ]
    },
    {
     "name": "stderr",
     "output_type": "stream",
     "text": [
      "\r",
      " 11%|█         | 108/1000 [18:46<2:40:55, 10.82s/it]"
     ]
    },
    {
     "name": "stdout",
     "output_type": "stream",
     "text": [
      "sample: 108\n",
      "(480, 15) (480, 15)\n",
      "{'testlen': 21600, 'reflen': 18761, 'guess': [21600, 21120, 20640, 20160], 'correct': [7254, 2244, 725, 323]}\n",
      "ratio: 1.1513245562602659\n"
     ]
    },
    {
     "name": "stderr",
     "output_type": "stream",
     "text": [
      "\r",
      " 11%|█         | 109/1000 [18:57<2:43:19, 11.00s/it]"
     ]
    },
    {
     "name": "stdout",
     "output_type": "stream",
     "text": [
      "sample: 109\n",
      "(480, 15) (480, 15)\n",
      "{'testlen': 21600, 'reflen': 17430, 'guess': [21600, 21120, 20640, 20160], 'correct': [7025, 2231, 751, 296]}\n",
      "ratio: 1.2392426850257465\n"
     ]
    },
    {
     "name": "stderr",
     "output_type": "stream",
     "text": [
      "\r",
      " 11%|█         | 110/1000 [19:08<2:42:37, 10.96s/it]"
     ]
    },
    {
     "name": "stdout",
     "output_type": "stream",
     "text": [
      "sample: 110\n",
      "(480, 15) (480, 15)\n",
      "{'testlen': 21600, 'reflen': 17497, 'guess': [21600, 21120, 20640, 20160], 'correct': [7083, 2299, 788, 374]}\n",
      "ratio: 1.234497342401484\n"
     ]
    },
    {
     "name": "stderr",
     "output_type": "stream",
     "text": [
      "\r",
      " 11%|█         | 111/1000 [19:20<2:43:47, 11.05s/it]"
     ]
    },
    {
     "name": "stdout",
     "output_type": "stream",
     "text": [
      "sample: 111\n",
      "(480, 15) (480, 15)\n",
      "{'testlen': 21600, 'reflen': 18547, 'guess': [21600, 21120, 20640, 20160], 'correct': [7329, 2423, 926, 493]}\n",
      "ratio: 1.1646088316169103\n"
     ]
    },
    {
     "name": "stderr",
     "output_type": "stream",
     "text": [
      "\r",
      " 11%|█         | 112/1000 [19:30<2:41:31, 10.91s/it]"
     ]
    },
    {
     "name": "stdout",
     "output_type": "stream",
     "text": [
      "sample: 112\n",
      "(480, 15) (480, 15)\n",
      "{'testlen': 21600, 'reflen': 18305, 'guess': [21600, 21120, 20640, 20160], 'correct': [7190, 2344, 791, 348]}\n",
      "ratio: 1.18000546298819\n"
     ]
    },
    {
     "name": "stderr",
     "output_type": "stream",
     "text": [
      "\r",
      " 11%|█▏        | 113/1000 [19:41<2:40:12, 10.84s/it]"
     ]
    },
    {
     "name": "stdout",
     "output_type": "stream",
     "text": [
      "sample: 113\n",
      "(480, 15) (480, 15)\n",
      "{'testlen': 21600, 'reflen': 18675, 'guess': [21600, 21120, 20640, 20160], 'correct': [7237, 2246, 739, 317]}\n",
      "ratio: 1.1566265060240344\n"
     ]
    },
    {
     "name": "stderr",
     "output_type": "stream",
     "text": [
      "\r",
      " 11%|█▏        | 114/1000 [19:52<2:39:30, 10.80s/it]"
     ]
    },
    {
     "name": "stdout",
     "output_type": "stream",
     "text": [
      "sample: 114\n",
      "(480, 15) (480, 15)\n",
      "{'testlen': 21600, 'reflen': 18216, 'guess': [21600, 21120, 20640, 20160], 'correct': [7123, 2159, 670, 275]}\n",
      "ratio: 1.1857707509880773\n"
     ]
    },
    {
     "name": "stderr",
     "output_type": "stream",
     "text": [
      "\r",
      " 12%|█▏        | 115/1000 [20:08<3:02:24, 12.37s/it]"
     ]
    },
    {
     "name": "stdout",
     "output_type": "stream",
     "text": [
      "sample: 115\n",
      "(480, 15) (480, 15)\n",
      "{'testlen': 21600, 'reflen': 18932, 'guess': [21600, 21120, 20640, 20160], 'correct': [7363, 2271, 755, 348]}\n",
      "ratio: 1.140925417282847\n"
     ]
    },
    {
     "name": "stderr",
     "output_type": "stream",
     "text": [
      "\r",
      " 12%|█▏        | 116/1000 [20:25<3:23:06, 13.79s/it]"
     ]
    },
    {
     "name": "stdout",
     "output_type": "stream",
     "text": [
      "sample: 116\n",
      "(480, 15) (480, 15)\n",
      "{'testlen': 21600, 'reflen': 18209, 'guess': [21600, 21120, 20640, 20160], 'correct': [7164, 2267, 774, 345]}\n",
      "ratio: 1.186226591246022\n"
     ]
    },
    {
     "name": "stderr",
     "output_type": "stream",
     "text": [
      "\r",
      " 12%|█▏        | 117/1000 [20:42<3:38:40, 14.86s/it]"
     ]
    },
    {
     "name": "stdout",
     "output_type": "stream",
     "text": [
      "sample: 117\n",
      "(480, 15) (480, 15)\n",
      "{'testlen': 21600, 'reflen': 17999, 'guess': [21600, 21120, 20640, 20160], 'correct': [7070, 2209, 694, 269]}\n",
      "ratio: 1.2000666703705094\n"
     ]
    },
    {
     "name": "stderr",
     "output_type": "stream",
     "text": [
      "\r",
      " 12%|█▏        | 118/1000 [20:59<3:47:39, 15.49s/it]"
     ]
    },
    {
     "name": "stdout",
     "output_type": "stream",
     "text": [
      "sample: 118\n",
      "(480, 15) (480, 15)\n",
      "{'testlen': 21600, 'reflen': 18155, 'guess': [21600, 21120, 20640, 20160], 'correct': [7088, 2186, 756, 329]}\n",
      "ratio: 1.1897548884604137\n"
     ]
    },
    {
     "name": "stderr",
     "output_type": "stream",
     "text": [
      "\r",
      " 12%|█▏        | 119/1000 [21:16<3:54:26, 15.97s/it]"
     ]
    },
    {
     "name": "stdout",
     "output_type": "stream",
     "text": [
      "sample: 119\n",
      "(480, 15) (480, 15)\n",
      "{'testlen': 21600, 'reflen': 18027, 'guess': [21600, 21120, 20640, 20160], 'correct': [7221, 2369, 861, 436]}\n",
      "ratio: 1.1982026959559995\n"
     ]
    },
    {
     "name": "stderr",
     "output_type": "stream",
     "text": [
      "\r",
      " 12%|█▏        | 120/1000 [21:34<4:03:29, 16.60s/it]"
     ]
    },
    {
     "name": "stdout",
     "output_type": "stream",
     "text": [
      "sample: 120\n",
      "(480, 15) (480, 15)\n",
      "{'testlen': 21600, 'reflen': 18560, 'guess': [21600, 21120, 20640, 20160], 'correct': [7319, 2278, 697, 273]}\n",
      "ratio: 1.1637931034482132\n"
     ]
    },
    {
     "name": "stderr",
     "output_type": "stream",
     "text": [
      "\r",
      " 12%|█▏        | 121/1000 [21:52<4:07:21, 16.88s/it]"
     ]
    },
    {
     "name": "stdout",
     "output_type": "stream",
     "text": [
      "sample: 121\n",
      "(480, 15) (480, 15)\n",
      "{'testlen': 21600, 'reflen': 18528, 'guess': [21600, 21120, 20640, 20160], 'correct': [7218, 2212, 732, 320]}\n",
      "ratio: 1.1658031088082272\n"
     ]
    },
    {
     "name": "stderr",
     "output_type": "stream",
     "text": [
      "\r",
      " 12%|█▏        | 122/1000 [22:11<4:15:49, 17.48s/it]"
     ]
    },
    {
     "name": "stdout",
     "output_type": "stream",
     "text": [
      "sample: 122\n",
      "(480, 15) (480, 15)\n",
      "{'testlen': 21600, 'reflen': 18912, 'guess': [21600, 21120, 20640, 20160], 'correct': [7125, 2204, 727, 296]}\n",
      "ratio: 1.142131979695371\n"
     ]
    },
    {
     "name": "stderr",
     "output_type": "stream",
     "text": [
      "\r",
      " 12%|█▏        | 123/1000 [22:30<4:22:41, 17.97s/it]"
     ]
    },
    {
     "name": "stdout",
     "output_type": "stream",
     "text": [
      "sample: 123\n",
      "(480, 15) (480, 15)\n",
      "{'testlen': 21600, 'reflen': 18883, 'guess': [21600, 21120, 20640, 20160], 'correct': [7079, 2165, 690, 265]}\n",
      "ratio: 1.143886035057928\n"
     ]
    },
    {
     "name": "stderr",
     "output_type": "stream",
     "text": [
      "\r",
      " 12%|█▏        | 124/1000 [22:48<4:24:28, 18.11s/it]"
     ]
    },
    {
     "name": "stdout",
     "output_type": "stream",
     "text": [
      "sample: 124\n",
      "(480, 15) (480, 15)\n",
      "{'testlen': 21600, 'reflen': 18430, 'guess': [21600, 21120, 20640, 20160], 'correct': [7206, 2282, 757, 316]}\n",
      "ratio: 1.172002170374326\n"
     ]
    },
    {
     "name": "stderr",
     "output_type": "stream",
     "text": [
      "\r",
      " 12%|█▎        | 125/1000 [23:06<4:22:17, 17.99s/it]"
     ]
    },
    {
     "name": "stdout",
     "output_type": "stream",
     "text": [
      "sample: 125\n",
      "(480, 15) (480, 15)\n",
      "{'testlen': 21600, 'reflen': 17687, 'guess': [21600, 21120, 20640, 20160], 'correct': [7130, 2223, 738, 329]}\n",
      "ratio: 1.2212359359981217\n"
     ]
    },
    {
     "name": "stderr",
     "output_type": "stream",
     "text": [
      "\r",
      " 13%|█▎        | 126/1000 [23:24<4:20:48, 17.90s/it]"
     ]
    },
    {
     "name": "stdout",
     "output_type": "stream",
     "text": [
      "sample: 126\n",
      "(480, 15) (480, 15)\n",
      "{'testlen': 21600, 'reflen': 18290, 'guess': [21600, 21120, 20640, 20160], 'correct': [7122, 2203, 727, 298]}\n",
      "ratio: 1.1809732094039813\n"
     ]
    },
    {
     "name": "stderr",
     "output_type": "stream",
     "text": [
      "\r",
      " 13%|█▎        | 127/1000 [23:41<4:17:15, 17.68s/it]"
     ]
    },
    {
     "name": "stdout",
     "output_type": "stream",
     "text": [
      "sample: 127\n",
      "(480, 15) (480, 15)\n",
      "{'testlen': 21600, 'reflen': 17412, 'guess': [21600, 21120, 20640, 20160], 'correct': [7199, 2295, 734, 306]}\n",
      "ratio: 1.240523776705649\n"
     ]
    },
    {
     "name": "stderr",
     "output_type": "stream",
     "text": [
      "\r",
      " 13%|█▎        | 128/1000 [24:01<4:30:09, 18.59s/it]"
     ]
    },
    {
     "name": "stdout",
     "output_type": "stream",
     "text": [
      "sample: 128\n",
      "(480, 15) (480, 15)\n",
      "{'testlen': 21600, 'reflen': 18168, 'guess': [21600, 21120, 20640, 20160], 'correct': [7264, 2301, 793, 379]}\n",
      "ratio: 1.1889035667106347\n"
     ]
    },
    {
     "name": "stderr",
     "output_type": "stream",
     "text": [
      "\r",
      " 13%|█▎        | 129/1000 [24:22<4:36:59, 19.08s/it]"
     ]
    },
    {
     "name": "stdout",
     "output_type": "stream",
     "text": [
      "sample: 129\n",
      "(480, 15) (480, 15)\n",
      "{'testlen': 21600, 'reflen': 18263, 'guess': [21600, 21120, 20640, 20160], 'correct': [7049, 2268, 767, 323]}\n",
      "ratio: 1.1827191589552\n"
     ]
    },
    {
     "name": "stderr",
     "output_type": "stream",
     "text": [
      "\r",
      " 13%|█▎        | 130/1000 [24:40<4:34:06, 18.90s/it]"
     ]
    },
    {
     "name": "stdout",
     "output_type": "stream",
     "text": [
      "sample: 130\n",
      "(480, 15) (480, 15)\n",
      "{'testlen': 21600, 'reflen': 17606, 'guess': [21600, 21120, 20640, 20160], 'correct': [7108, 2198, 672, 254]}\n",
      "ratio: 1.2268544814267166\n"
     ]
    },
    {
     "name": "stderr",
     "output_type": "stream",
     "text": [
      "\r",
      " 13%|█▎        | 131/1000 [24:58<4:28:02, 18.51s/it]"
     ]
    },
    {
     "name": "stdout",
     "output_type": "stream",
     "text": [
      "sample: 131\n",
      "(480, 15) (480, 15)\n",
      "{'testlen': 21600, 'reflen': 18297, 'guess': [21600, 21120, 20640, 20160], 'correct': [7079, 2106, 655, 248]}\n",
      "ratio: 1.1805213969502553\n"
     ]
    },
    {
     "name": "stderr",
     "output_type": "stream",
     "text": [
      "\r",
      " 13%|█▎        | 132/1000 [25:15<4:23:34, 18.22s/it]"
     ]
    },
    {
     "name": "stdout",
     "output_type": "stream",
     "text": [
      "sample: 132\n",
      "(480, 15) (480, 15)\n",
      "{'testlen': 21600, 'reflen': 18613, 'guess': [21600, 21120, 20640, 20160], 'correct': [7305, 2260, 787, 361]}\n",
      "ratio: 1.1604792349432569\n"
     ]
    },
    {
     "name": "stderr",
     "output_type": "stream",
     "text": [
      "\r",
      " 13%|█▎        | 133/1000 [25:34<4:23:57, 18.27s/it]"
     ]
    },
    {
     "name": "stdout",
     "output_type": "stream",
     "text": [
      "sample: 133\n",
      "(480, 15) (480, 15)\n",
      "{'testlen': 21600, 'reflen': 18268, 'guess': [21600, 21120, 20640, 20160], 'correct': [7345, 2448, 918, 476]}\n",
      "ratio: 1.1823954455878485\n"
     ]
    },
    {
     "name": "stderr",
     "output_type": "stream",
     "text": [
      "\r",
      " 13%|█▎        | 134/1000 [25:52<4:26:09, 18.44s/it]"
     ]
    },
    {
     "name": "stdout",
     "output_type": "stream",
     "text": [
      "sample: 134\n",
      "(480, 15) (480, 15)\n",
      "{'testlen': 21600, 'reflen': 17864, 'guess': [21600, 21120, 20640, 20160], 'correct': [7149, 2205, 701, 293]}\n",
      "ratio: 1.2091356918942449\n"
     ]
    },
    {
     "name": "stderr",
     "output_type": "stream",
     "text": [
      "\r",
      " 14%|█▎        | 135/1000 [26:10<4:23:54, 18.31s/it]"
     ]
    },
    {
     "name": "stdout",
     "output_type": "stream",
     "text": [
      "sample: 135\n",
      "(480, 15) (480, 15)\n",
      "{'testlen': 21600, 'reflen': 18049, 'guess': [21600, 21120, 20640, 20160], 'correct': [7056, 2236, 758, 338]}\n",
      "ratio: 1.196742201783966\n"
     ]
    },
    {
     "name": "stderr",
     "output_type": "stream",
     "text": [
      "\r",
      " 14%|█▎        | 136/1000 [26:29<4:23:41, 18.31s/it]"
     ]
    },
    {
     "name": "stdout",
     "output_type": "stream",
     "text": [
      "sample: 136\n",
      "(480, 15) (480, 15)\n",
      "{'testlen': 21600, 'reflen': 18179, 'guess': [21600, 21120, 20640, 20160], 'correct': [7102, 2202, 746, 331]}\n",
      "ratio: 1.1881841685460592\n"
     ]
    },
    {
     "name": "stderr",
     "output_type": "stream",
     "text": [
      "\r",
      " 14%|█▎        | 137/1000 [26:47<4:23:00, 18.29s/it]"
     ]
    },
    {
     "name": "stdout",
     "output_type": "stream",
     "text": [
      "sample: 137\n",
      "(480, 15) (480, 15)\n",
      "{'testlen': 21600, 'reflen': 18469, 'guess': [21600, 21120, 20640, 20160], 'correct': [7157, 2296, 802, 375]}\n",
      "ratio: 1.169527316043036\n"
     ]
    },
    {
     "name": "stderr",
     "output_type": "stream",
     "text": [
      "\r",
      " 14%|█▍        | 138/1000 [27:08<4:33:31, 19.04s/it]"
     ]
    },
    {
     "name": "stdout",
     "output_type": "stream",
     "text": [
      "sample: 138\n",
      "(480, 15) (480, 15)\n",
      "{'testlen': 21600, 'reflen': 18258, 'guess': [21600, 21120, 20640, 20160], 'correct': [7202, 2291, 779, 363]}\n",
      "ratio: 1.1830430496220186\n"
     ]
    },
    {
     "name": "stderr",
     "output_type": "stream",
     "text": [
      "\r",
      " 14%|█▍        | 139/1000 [27:26<4:30:10, 18.83s/it]"
     ]
    },
    {
     "name": "stdout",
     "output_type": "stream",
     "text": [
      "sample: 139\n",
      "(480, 15) (480, 15)\n",
      "{'testlen': 21600, 'reflen': 17640, 'guess': [21600, 21120, 20640, 20160], 'correct': [6955, 2150, 690, 287]}\n",
      "ratio: 1.2244897959182979\n"
     ]
    },
    {
     "name": "stderr",
     "output_type": "stream",
     "text": [
      "\r",
      " 14%|█▍        | 140/1000 [27:45<4:30:50, 18.90s/it]"
     ]
    },
    {
     "name": "stdout",
     "output_type": "stream",
     "text": [
      "sample: 140\n",
      "(480, 15) (480, 15)\n",
      "{'testlen': 21600, 'reflen': 18688, 'guess': [21600, 21120, 20640, 20160], 'correct': [7087, 2150, 676, 272]}\n",
      "ratio: 1.1558219178081572\n"
     ]
    },
    {
     "name": "stderr",
     "output_type": "stream",
     "text": [
      "\r",
      " 14%|█▍        | 141/1000 [28:02<4:23:17, 18.39s/it]"
     ]
    },
    {
     "name": "stdout",
     "output_type": "stream",
     "text": [
      "sample: 141\n",
      "(480, 15) (480, 15)\n",
      "{'testlen': 21600, 'reflen': 18433, 'guess': [21600, 21120, 20640, 20160], 'correct': [7114, 2148, 653, 264]}\n",
      "ratio: 1.1718114251613316\n"
     ]
    },
    {
     "name": "stderr",
     "output_type": "stream",
     "text": [
      "\r",
      " 14%|█▍        | 142/1000 [28:21<4:23:58, 18.46s/it]"
     ]
    },
    {
     "name": "stdout",
     "output_type": "stream",
     "text": [
      "sample: 142\n",
      "(480, 15) (480, 15)\n",
      "{'testlen': 21600, 'reflen': 18078, 'guess': [21600, 21120, 20640, 20160], 'correct': [7152, 2137, 636, 226]}\n",
      "ratio: 1.194822436110123\n"
     ]
    },
    {
     "name": "stderr",
     "output_type": "stream",
     "text": [
      "\r",
      " 14%|█▍        | 143/1000 [28:42<4:33:49, 19.17s/it]"
     ]
    },
    {
     "name": "stdout",
     "output_type": "stream",
     "text": [
      "sample: 143\n",
      "(480, 15) (480, 15)\n",
      "{'testlen': 21600, 'reflen': 18600, 'guess': [21600, 21120, 20640, 20160], 'correct': [7144, 2311, 826, 399]}\n",
      "ratio: 1.1612903225805826\n"
     ]
    },
    {
     "name": "stderr",
     "output_type": "stream",
     "text": [
      "\r",
      " 14%|█▍        | 144/1000 [29:00<4:31:03, 19.00s/it]"
     ]
    },
    {
     "name": "stdout",
     "output_type": "stream",
     "text": [
      "sample: 144\n",
      "(480, 15) (480, 15)\n",
      "{'testlen': 21600, 'reflen': 18032, 'guess': [21600, 21120, 20640, 20160], 'correct': [7317, 2348, 765, 322]}\n",
      "ratio: 1.1978704525287711\n"
     ]
    },
    {
     "name": "stderr",
     "output_type": "stream",
     "text": [
      "\r",
      " 14%|█▍        | 145/1000 [29:20<4:31:08, 19.03s/it]"
     ]
    },
    {
     "name": "stdout",
     "output_type": "stream",
     "text": [
      "sample: 145\n",
      "(480, 15) (480, 15)\n",
      "{'testlen': 21600, 'reflen': 18701, 'guess': [21600, 21120, 20640, 20160], 'correct': [7246, 2301, 770, 335]}\n",
      "ratio: 1.1550184482112638\n"
     ]
    },
    {
     "name": "stderr",
     "output_type": "stream",
     "text": [
      "\r",
      " 15%|█▍        | 146/1000 [29:42<4:45:56, 20.09s/it]"
     ]
    },
    {
     "name": "stdout",
     "output_type": "stream",
     "text": [
      "sample: 146\n",
      "(480, 15) (480, 15)\n",
      "{'testlen': 21600, 'reflen': 18518, 'guess': [21600, 21120, 20640, 20160], 'correct': [7288, 2276, 767, 352]}\n",
      "ratio: 1.1664326601144202\n"
     ]
    },
    {
     "name": "stderr",
     "output_type": "stream",
     "text": [
      "\r",
      " 15%|█▍        | 147/1000 [30:01<4:39:26, 19.66s/it]"
     ]
    },
    {
     "name": "stdout",
     "output_type": "stream",
     "text": [
      "sample: 147\n",
      "(480, 15) (480, 15)\n",
      "{'testlen': 21600, 'reflen': 18502, 'guess': [21600, 21120, 20640, 20160], 'correct': [7267, 2271, 753, 330]}\n",
      "ratio: 1.1674413576909972\n"
     ]
    },
    {
     "name": "stderr",
     "output_type": "stream",
     "text": [
      "\r",
      " 15%|█▍        | 148/1000 [30:19<4:33:11, 19.24s/it]"
     ]
    },
    {
     "name": "stdout",
     "output_type": "stream",
     "text": [
      "sample: 148\n",
      "(480, 15) (480, 15)\n",
      "{'testlen': 21600, 'reflen': 18573, 'guess': [21600, 21120, 20640, 20160], 'correct': [7109, 2160, 696, 276]}\n",
      "ratio: 1.162978517202328\n"
     ]
    },
    {
     "name": "stderr",
     "output_type": "stream",
     "text": [
      "\r",
      " 15%|█▍        | 149/1000 [30:40<4:39:52, 19.73s/it]"
     ]
    },
    {
     "name": "stdout",
     "output_type": "stream",
     "text": [
      "sample: 149\n",
      "(480, 15) (480, 15)\n",
      "{'testlen': 21600, 'reflen': 17924, 'guess': [21600, 21120, 20640, 20160], 'correct': [7188, 2231, 758, 343]}\n",
      "ratio: 1.205088149966458\n"
     ]
    },
    {
     "name": "stderr",
     "output_type": "stream",
     "text": [
      "\r",
      " 15%|█▌        | 150/1000 [30:58<4:33:38, 19.32s/it]"
     ]
    },
    {
     "name": "stdout",
     "output_type": "stream",
     "text": [
      "sample: 150\n",
      "(480, 15) (480, 15)\n",
      "{'testlen': 21600, 'reflen': 18209, 'guess': [21600, 21120, 20640, 20160], 'correct': [7117, 2191, 735, 310]}\n",
      "ratio: 1.186226591246022\n"
     ]
    },
    {
     "name": "stderr",
     "output_type": "stream",
     "text": [
      "\r",
      " 15%|█▌        | 151/1000 [31:17<4:29:57, 19.08s/it]"
     ]
    },
    {
     "name": "stdout",
     "output_type": "stream",
     "text": [
      "sample: 151\n",
      "(480, 15) (480, 15)\n",
      "{'testlen': 21600, 'reflen': 18468, 'guess': [21600, 21120, 20640, 20160], 'correct': [7310, 2292, 752, 326]}\n",
      "ratio: 1.1695906432747905\n"
     ]
    },
    {
     "name": "stderr",
     "output_type": "stream",
     "text": [
      "\r",
      " 15%|█▌        | 152/1000 [31:39<4:42:45, 20.01s/it]"
     ]
    },
    {
     "name": "stdout",
     "output_type": "stream",
     "text": [
      "sample: 152\n",
      "(480, 15) (480, 15)\n",
      "{'testlen': 21600, 'reflen': 17968, 'guess': [21600, 21120, 20640, 20160], 'correct': [7135, 2217, 743, 305]}\n",
      "ratio: 1.2021371326802537\n"
     ]
    },
    {
     "name": "stderr",
     "output_type": "stream",
     "text": [
      "\r",
      " 15%|█▌        | 153/1000 [32:00<4:45:26, 20.22s/it]"
     ]
    },
    {
     "name": "stdout",
     "output_type": "stream",
     "text": [
      "sample: 153\n",
      "(480, 15) (480, 15)\n",
      "{'testlen': 21600, 'reflen': 18475, 'guess': [21600, 21120, 20640, 20160], 'correct': [7169, 2249, 703, 289]}\n",
      "ratio: 1.1691474966169868\n"
     ]
    },
    {
     "name": "stderr",
     "output_type": "stream",
     "text": [
      "\r",
      " 15%|█▌        | 154/1000 [32:22<4:54:09, 20.86s/it]"
     ]
    },
    {
     "name": "stdout",
     "output_type": "stream",
     "text": [
      "sample: 154\n",
      "(480, 15) (480, 15)\n",
      "{'testlen': 21600, 'reflen': 18170, 'guess': [21600, 21120, 20640, 20160], 'correct': [7178, 2287, 788, 373]}\n",
      "ratio: 1.1887727022564012\n"
     ]
    },
    {
     "name": "stderr",
     "output_type": "stream",
     "text": [
      "\r",
      " 16%|█▌        | 155/1000 [32:46<5:06:36, 21.77s/it]"
     ]
    },
    {
     "name": "stdout",
     "output_type": "stream",
     "text": [
      "sample: 155\n",
      "(480, 15) (480, 15)\n",
      "{'testlen': 21600, 'reflen': 18895, 'guess': [21600, 21120, 20640, 20160], 'correct': [7152, 2171, 699, 305]}\n",
      "ratio: 1.1431595660226967\n"
     ]
    },
    {
     "name": "stderr",
     "output_type": "stream",
     "text": [
      "\r",
      " 16%|█▌        | 156/1000 [33:08<5:09:12, 21.98s/it]"
     ]
    },
    {
     "name": "stdout",
     "output_type": "stream",
     "text": [
      "sample: 156\n",
      "(480, 15) (480, 15)\n",
      "{'testlen': 21600, 'reflen': 18805, 'guess': [21600, 21120, 20640, 20160], 'correct': [7189, 2241, 730, 298]}\n",
      "ratio: 1.1486306833288409\n"
     ]
    },
    {
     "name": "stderr",
     "output_type": "stream",
     "text": [
      "\r",
      " 16%|█▌        | 157/1000 [33:27<4:53:43, 20.91s/it]"
     ]
    },
    {
     "name": "stdout",
     "output_type": "stream",
     "text": [
      "sample: 157\n",
      "(480, 15) (480, 15)\n",
      "{'testlen': 21600, 'reflen': 18081, 'guess': [21600, 21120, 20640, 20160], 'correct': [7258, 2291, 750, 320]}\n",
      "ratio: 1.1946241911398046\n"
     ]
    },
    {
     "name": "stderr",
     "output_type": "stream",
     "text": [
      "\r",
      " 16%|█▌        | 158/1000 [33:47<4:52:15, 20.83s/it]"
     ]
    },
    {
     "name": "stdout",
     "output_type": "stream",
     "text": [
      "sample: 158\n",
      "(480, 15) (480, 15)\n",
      "{'testlen': 21600, 'reflen': 18543, 'guess': [21600, 21120, 20640, 20160], 'correct': [7110, 2283, 814, 382]}\n",
      "ratio: 1.1648600550072175\n"
     ]
    },
    {
     "name": "stderr",
     "output_type": "stream",
     "text": [
      "\r",
      " 16%|█▌        | 159/1000 [34:06<4:43:10, 20.20s/it]"
     ]
    },
    {
     "name": "stdout",
     "output_type": "stream",
     "text": [
      "sample: 159\n",
      "(480, 15) (480, 15)\n",
      "{'testlen': 21600, 'reflen': 18386, 'guess': [21600, 21120, 20640, 20160], 'correct': [7371, 2375, 808, 355]}\n",
      "ratio: 1.174806918307344\n"
     ]
    },
    {
     "name": "stderr",
     "output_type": "stream",
     "text": [
      "\r",
      " 16%|█▌        | 160/1000 [34:26<4:39:11, 19.94s/it]"
     ]
    },
    {
     "name": "stdout",
     "output_type": "stream",
     "text": [
      "sample: 160\n",
      "(480, 15) (480, 15)\n",
      "{'testlen': 21600, 'reflen': 17702, 'guess': [21600, 21120, 20640, 20160], 'correct': [7006, 2169, 696, 290]}\n",
      "ratio: 1.2202011072194543\n"
     ]
    },
    {
     "name": "stderr",
     "output_type": "stream",
     "text": [
      "\r",
      " 16%|█▌        | 161/1000 [34:44<4:32:07, 19.46s/it]"
     ]
    },
    {
     "name": "stdout",
     "output_type": "stream",
     "text": [
      "sample: 161\n",
      "(480, 15) (480, 15)\n",
      "{'testlen': 21600, 'reflen': 17495, 'guess': [21600, 21120, 20640, 20160], 'correct': [7229, 2323, 785, 339]}\n",
      "ratio: 1.234638468133682\n"
     ]
    },
    {
     "name": "stderr",
     "output_type": "stream",
     "text": [
      "\r",
      " 16%|█▌        | 162/1000 [35:05<4:40:16, 20.07s/it]"
     ]
    },
    {
     "name": "stdout",
     "output_type": "stream",
     "text": [
      "sample: 162\n",
      "(480, 15) (480, 15)\n",
      "{'testlen': 21600, 'reflen': 17983, 'guess': [21600, 21120, 20640, 20160], 'correct': [7214, 2254, 720, 287]}\n",
      "ratio: 1.201134404715498\n"
     ]
    },
    {
     "name": "stderr",
     "output_type": "stream",
     "text": [
      "\r",
      " 16%|█▋        | 163/1000 [35:25<4:38:53, 19.99s/it]"
     ]
    },
    {
     "name": "stdout",
     "output_type": "stream",
     "text": [
      "sample: 163\n",
      "(480, 15) (480, 15)\n",
      "{'testlen': 21600, 'reflen': 18447, 'guess': [21600, 21120, 20640, 20160], 'correct': [7258, 2256, 788, 370]}\n",
      "ratio: 1.1709221011545958\n"
     ]
    },
    {
     "name": "stderr",
     "output_type": "stream",
     "text": [
      "\r",
      " 16%|█▋        | 164/1000 [35:45<4:37:31, 19.92s/it]"
     ]
    },
    {
     "name": "stdout",
     "output_type": "stream",
     "text": [
      "sample: 164\n",
      "(480, 15) (480, 15)\n",
      "{'testlen': 21600, 'reflen': 18541, 'guess': [21600, 21120, 20640, 20160], 'correct': [7070, 2148, 667, 267]}\n",
      "ratio: 1.1649857073512127\n"
     ]
    },
    {
     "name": "stderr",
     "output_type": "stream",
     "text": [
      "\r",
      " 16%|█▋        | 165/1000 [36:05<4:39:45, 20.10s/it]"
     ]
    },
    {
     "name": "stdout",
     "output_type": "stream",
     "text": [
      "sample: 165\n",
      "(480, 15) (480, 15)\n",
      "{'testlen': 21600, 'reflen': 18420, 'guess': [21600, 21120, 20640, 20160], 'correct': [7335, 2365, 869, 429]}\n",
      "ratio: 1.172638436482021\n"
     ]
    },
    {
     "name": "stderr",
     "output_type": "stream",
     "text": [
      "\r",
      " 17%|█▋        | 166/1000 [36:24<4:34:43, 19.76s/it]"
     ]
    },
    {
     "name": "stdout",
     "output_type": "stream",
     "text": [
      "sample: 166\n",
      "(480, 15) (480, 15)\n",
      "{'testlen': 21600, 'reflen': 18609, 'guess': [21600, 21120, 20640, 20160], 'correct': [7133, 2221, 756, 339]}\n",
      "ratio: 1.1607286796710645\n"
     ]
    },
    {
     "name": "stderr",
     "output_type": "stream",
     "text": [
      "\r",
      " 17%|█▋        | 167/1000 [36:44<4:33:58, 19.73s/it]"
     ]
    },
    {
     "name": "stdout",
     "output_type": "stream",
     "text": [
      "sample: 167\n",
      "(480, 15) (480, 15)\n",
      "{'testlen': 21600, 'reflen': 18903, 'guess': [21600, 21120, 20640, 20160], 'correct': [7124, 2197, 696, 290]}\n",
      "ratio: 1.1426757657514075\n"
     ]
    },
    {
     "name": "stderr",
     "output_type": "stream",
     "text": [
      "\r",
      " 17%|█▋        | 168/1000 [37:03<4:31:41, 19.59s/it]"
     ]
    },
    {
     "name": "stdout",
     "output_type": "stream",
     "text": [
      "sample: 168\n",
      "(480, 15) (480, 15)\n",
      "{'testlen': 21600, 'reflen': 18060, 'guess': [21600, 21120, 20640, 20160], 'correct': [7235, 2326, 757, 309]}\n",
      "ratio: 1.1960132890364785\n"
     ]
    },
    {
     "name": "stderr",
     "output_type": "stream",
     "text": [
      "\r",
      " 17%|█▋        | 169/1000 [37:23<4:31:24, 19.60s/it]"
     ]
    },
    {
     "name": "stdout",
     "output_type": "stream",
     "text": [
      "sample: 169\n",
      "(480, 15) (480, 15)\n",
      "{'testlen': 21600, 'reflen': 18410, 'guess': [21600, 21120, 20640, 20160], 'correct': [7306, 2419, 859, 418]}\n",
      "ratio: 1.1732753938076494\n"
     ]
    },
    {
     "name": "stderr",
     "output_type": "stream",
     "text": [
      "\r",
      " 17%|█▋        | 170/1000 [37:44<4:36:29, 19.99s/it]"
     ]
    },
    {
     "name": "stdout",
     "output_type": "stream",
     "text": [
      "sample: 170\n",
      "(480, 15) (480, 15)\n",
      "{'testlen': 21600, 'reflen': 18291, 'guess': [21600, 21120, 20640, 20160], 'correct': [7180, 2250, 701, 272]}\n",
      "ratio: 1.1809086435951461\n"
     ]
    },
    {
     "name": "stderr",
     "output_type": "stream",
     "text": [
      "\r",
      " 17%|█▋        | 171/1000 [38:05<4:41:54, 20.40s/it]"
     ]
    },
    {
     "name": "stdout",
     "output_type": "stream",
     "text": [
      "sample: 171\n",
      "(480, 15) (480, 15)\n",
      "{'testlen': 21600, 'reflen': 17798, 'guess': [21600, 21120, 20640, 20160], 'correct': [7038, 2113, 684, 286]}\n",
      "ratio: 1.213619507809798\n"
     ]
    },
    {
     "name": "stderr",
     "output_type": "stream",
     "text": [
      "\r",
      " 17%|█▋        | 172/1000 [38:26<4:44:01, 20.58s/it]"
     ]
    },
    {
     "name": "stdout",
     "output_type": "stream",
     "text": [
      "sample: 172\n",
      "(480, 15) (480, 15)\n",
      "{'testlen': 21600, 'reflen': 17813, 'guess': [21600, 21120, 20640, 20160], 'correct': [7158, 2310, 794, 367]}\n",
      "ratio: 1.2125975411215846\n"
     ]
    },
    {
     "name": "stderr",
     "output_type": "stream",
     "text": [
      "\r",
      " 17%|█▋        | 173/1000 [38:45<4:37:55, 20.16s/it]"
     ]
    },
    {
     "name": "stdout",
     "output_type": "stream",
     "text": [
      "sample: 173\n",
      "(480, 15) (480, 15)\n",
      "{'testlen': 21600, 'reflen': 18537, 'guess': [21600, 21120, 20640, 20160], 'correct': [7340, 2356, 816, 385]}\n",
      "ratio: 1.165237093380743\n"
     ]
    },
    {
     "name": "stderr",
     "output_type": "stream",
     "text": [
      "\r",
      " 17%|█▋        | 174/1000 [39:08<4:45:58, 20.77s/it]"
     ]
    },
    {
     "name": "stdout",
     "output_type": "stream",
     "text": [
      "sample: 174\n",
      "(480, 15) (480, 15)\n",
      "{'testlen': 21600, 'reflen': 18290, 'guess': [21600, 21120, 20640, 20160], 'correct': [7298, 2328, 836, 402]}\n",
      "ratio: 1.1809732094039813\n"
     ]
    },
    {
     "name": "stderr",
     "output_type": "stream",
     "text": [
      "\r",
      " 18%|█▊        | 175/1000 [39:26<4:34:33, 19.97s/it]"
     ]
    },
    {
     "name": "stdout",
     "output_type": "stream",
     "text": [
      "sample: 175\n",
      "(480, 15) (480, 15)\n",
      "{'testlen': 21600, 'reflen': 17724, 'guess': [21600, 21120, 20640, 20160], 'correct': [7149, 2251, 783, 367]}\n",
      "ratio: 1.21868652674333\n"
     ]
    },
    {
     "name": "stderr",
     "output_type": "stream",
     "text": [
      "\r",
      " 18%|█▊        | 176/1000 [39:47<4:38:11, 20.26s/it]"
     ]
    },
    {
     "name": "stdout",
     "output_type": "stream",
     "text": [
      "sample: 176\n",
      "(480, 15) (480, 15)\n",
      "{'testlen': 21600, 'reflen': 18604, 'guess': [21600, 21120, 20640, 20160], 'correct': [7131, 2172, 688, 285]}\n",
      "ratio: 1.1610406364222123\n"
     ]
    },
    {
     "name": "stderr",
     "output_type": "stream",
     "text": [
      "\r",
      " 18%|█▊        | 177/1000 [40:05<4:28:44, 19.59s/it]"
     ]
    },
    {
     "name": "stdout",
     "output_type": "stream",
     "text": [
      "sample: 177\n",
      "(480, 15) (480, 15)\n",
      "{'testlen': 21600, 'reflen': 18761, 'guess': [21600, 21120, 20640, 20160], 'correct': [7219, 2228, 751, 310]}\n",
      "ratio: 1.1513245562602659\n"
     ]
    },
    {
     "name": "stderr",
     "output_type": "stream",
     "text": [
      "\r",
      " 18%|█▊        | 178/1000 [40:25<4:29:44, 19.69s/it]"
     ]
    },
    {
     "name": "stdout",
     "output_type": "stream",
     "text": [
      "sample: 178\n",
      "(480, 15) (480, 15)\n",
      "{'testlen': 21600, 'reflen': 17946, 'guess': [21600, 21120, 20640, 20160], 'correct': [7191, 2307, 809, 349]}\n",
      "ratio: 1.2036108324974253\n"
     ]
    },
    {
     "name": "stderr",
     "output_type": "stream",
     "text": [
      "\r",
      " 18%|█▊        | 179/1000 [40:46<4:35:22, 20.13s/it]"
     ]
    },
    {
     "name": "stdout",
     "output_type": "stream",
     "text": [
      "sample: 179\n",
      "(480, 15) (480, 15)\n",
      "{'testlen': 21600, 'reflen': 18293, 'guess': [21600, 21120, 20640, 20160], 'correct': [7227, 2222, 747, 321]}\n",
      "ratio: 1.180779533154694\n"
     ]
    },
    {
     "name": "stderr",
     "output_type": "stream",
     "text": [
      "\r",
      " 18%|█▊        | 180/1000 [41:04<4:26:04, 19.47s/it]"
     ]
    },
    {
     "name": "stdout",
     "output_type": "stream",
     "text": [
      "sample: 180\n",
      "(480, 15) (480, 15)\n",
      "{'testlen': 21600, 'reflen': 18393, 'guess': [21600, 21120, 20640, 20160], 'correct': [7242, 2309, 781, 358]}\n",
      "ratio: 1.1743598107975222\n"
     ]
    },
    {
     "name": "stderr",
     "output_type": "stream",
     "text": [
      "\r",
      " 18%|█▊        | 181/1000 [41:14<3:50:24, 16.88s/it]"
     ]
    },
    {
     "name": "stdout",
     "output_type": "stream",
     "text": [
      "sample: 181\n",
      "(480, 15) (480, 15)\n",
      "{'testlen': 21600, 'reflen': 18496, 'guess': [21600, 21120, 20640, 20160], 'correct': [7210, 2279, 757, 321]}\n",
      "ratio: 1.167820069204089\n"
     ]
    },
    {
     "name": "stderr",
     "output_type": "stream",
     "text": [
      "\r",
      " 18%|█▊        | 182/1000 [41:25<3:25:32, 15.08s/it]"
     ]
    },
    {
     "name": "stdout",
     "output_type": "stream",
     "text": [
      "sample: 182\n",
      "(480, 15) (480, 15)\n",
      "{'testlen': 21600, 'reflen': 18037, 'guess': [21600, 21120, 20640, 20160], 'correct': [7174, 2345, 825, 391]}\n",
      "ratio: 1.1975383933025892\n"
     ]
    },
    {
     "name": "stderr",
     "output_type": "stream",
     "text": [
      "\r",
      " 18%|█▊        | 183/1000 [41:36<3:08:49, 13.87s/it]"
     ]
    },
    {
     "name": "stdout",
     "output_type": "stream",
     "text": [
      "sample: 183\n",
      "(480, 15) (480, 15)\n",
      "{'testlen': 21600, 'reflen': 18411, 'guess': [21600, 21120, 20640, 20160], 'correct': [7223, 2223, 756, 352]}\n",
      "ratio: 1.1732116669381798\n"
     ]
    },
    {
     "name": "stderr",
     "output_type": "stream",
     "text": [
      "\r",
      " 18%|█▊        | 184/1000 [41:47<2:56:14, 12.96s/it]"
     ]
    },
    {
     "name": "stdout",
     "output_type": "stream",
     "text": [
      "sample: 184\n",
      "(480, 15) (480, 15)\n",
      "{'testlen': 21600, 'reflen': 17375, 'guess': [21600, 21120, 20640, 20160], 'correct': [7011, 2170, 688, 282]}\n",
      "ratio: 1.2431654676258277\n"
     ]
    },
    {
     "name": "stderr",
     "output_type": "stream",
     "text": [
      "\r",
      " 18%|█▊        | 185/1000 [41:58<2:46:44, 12.28s/it]"
     ]
    },
    {
     "name": "stdout",
     "output_type": "stream",
     "text": [
      "sample: 185\n",
      "(480, 15) (480, 15)\n",
      "{'testlen': 21600, 'reflen': 18203, 'guess': [21600, 21120, 20640, 20160], 'correct': [7229, 2354, 867, 434]}\n",
      "ratio: 1.186617590506994\n"
     ]
    },
    {
     "name": "stderr",
     "output_type": "stream",
     "text": [
      "\r",
      " 19%|█▊        | 186/1000 [42:09<2:40:09, 11.81s/it]"
     ]
    },
    {
     "name": "stdout",
     "output_type": "stream",
     "text": [
      "sample: 186\n",
      "(480, 15) (480, 15)\n",
      "{'testlen': 21600, 'reflen': 17835, 'guess': [21600, 21120, 20640, 20160], 'correct': [7121, 2238, 722, 305]}\n",
      "ratio: 1.2111017661900079\n"
     ]
    },
    {
     "name": "stderr",
     "output_type": "stream",
     "text": [
      "\r",
      " 19%|█▊        | 187/1000 [42:20<2:36:41, 11.56s/it]"
     ]
    },
    {
     "name": "stdout",
     "output_type": "stream",
     "text": [
      "sample: 187\n",
      "(480, 15) (480, 15)\n",
      "{'testlen': 21600, 'reflen': 17780, 'guess': [21600, 21120, 20640, 20160], 'correct': [7125, 2257, 761, 322]}\n",
      "ratio: 1.2148481439819339\n"
     ]
    },
    {
     "name": "stderr",
     "output_type": "stream",
     "text": [
      "\r",
      " 19%|█▉        | 188/1000 [42:30<2:33:04, 11.31s/it]"
     ]
    },
    {
     "name": "stdout",
     "output_type": "stream",
     "text": [
      "sample: 188\n",
      "(480, 15) (480, 15)\n",
      "{'testlen': 21600, 'reflen': 18516, 'guess': [21600, 21120, 20640, 20160], 'correct': [7263, 2321, 798, 387]}\n",
      "ratio: 1.1665586519766058\n"
     ]
    },
    {
     "name": "stderr",
     "output_type": "stream",
     "text": [
      "\r",
      " 19%|█▉        | 189/1000 [42:41<2:32:06, 11.25s/it]"
     ]
    },
    {
     "name": "stdout",
     "output_type": "stream",
     "text": [
      "sample: 189\n",
      "(480, 15) (480, 15)\n",
      "{'testlen': 21600, 'reflen': 18292, 'guess': [21600, 21120, 20640, 20160], 'correct': [7119, 2261, 767, 365]}\n",
      "ratio: 1.1808440848457697\n"
     ]
    },
    {
     "name": "stderr",
     "output_type": "stream",
     "text": [
      "\r",
      " 19%|█▉        | 190/1000 [42:52<2:30:01, 11.11s/it]"
     ]
    },
    {
     "name": "stdout",
     "output_type": "stream",
     "text": [
      "sample: 190\n",
      "(480, 15) (480, 15)\n",
      "{'testlen': 21600, 'reflen': 18306, 'guess': [21600, 21120, 20640, 20160], 'correct': [7264, 2277, 736, 306]}\n",
      "ratio: 1.179941002949788\n"
     ]
    },
    {
     "name": "stderr",
     "output_type": "stream",
     "text": [
      "\r",
      " 19%|█▉        | 191/1000 [43:03<2:28:34, 11.02s/it]"
     ]
    },
    {
     "name": "stdout",
     "output_type": "stream",
     "text": [
      "sample: 191\n",
      "(480, 15) (480, 15)\n",
      "{'testlen': 21600, 'reflen': 17659, 'guess': [21600, 21120, 20640, 20160], 'correct': [7027, 2166, 692, 293]}\n",
      "ratio: 1.2231723200633544\n"
     ]
    },
    {
     "name": "stderr",
     "output_type": "stream",
     "text": [
      "\r",
      " 19%|█▉        | 192/1000 [43:14<2:27:51, 10.98s/it]"
     ]
    },
    {
     "name": "stdout",
     "output_type": "stream",
     "text": [
      "sample: 192\n",
      "(480, 15) (480, 15)\n",
      "{'testlen': 21600, 'reflen': 17900, 'guess': [21600, 21120, 20640, 20160], 'correct': [7127, 2231, 710, 291]}\n",
      "ratio: 1.2067039106144577\n"
     ]
    },
    {
     "name": "stderr",
     "output_type": "stream",
     "text": [
      "\r",
      " 19%|█▉        | 193/1000 [43:25<2:28:54, 11.07s/it]"
     ]
    },
    {
     "name": "stdout",
     "output_type": "stream",
     "text": [
      "sample: 193\n",
      "(480, 15) (480, 15)\n",
      "{'testlen': 21600, 'reflen': 17668, 'guess': [21600, 21120, 20640, 20160], 'correct': [7186, 2283, 781, 351]}\n",
      "ratio: 1.222549241566605\n"
     ]
    },
    {
     "name": "stderr",
     "output_type": "stream",
     "text": [
      "\r",
      " 19%|█▉        | 194/1000 [43:36<2:28:15, 11.04s/it]"
     ]
    },
    {
     "name": "stdout",
     "output_type": "stream",
     "text": [
      "sample: 194\n",
      "(480, 15) (480, 15)\n",
      "{'testlen': 21600, 'reflen': 18399, 'guess': [21600, 21120, 20640, 20160], 'correct': [7103, 2235, 757, 328]}\n",
      "ratio: 1.1739768465676843\n"
     ]
    },
    {
     "name": "stderr",
     "output_type": "stream",
     "text": [
      "\r",
      " 20%|█▉        | 195/1000 [43:47<2:27:16, 10.98s/it]"
     ]
    },
    {
     "name": "stdout",
     "output_type": "stream",
     "text": [
      "sample: 195\n",
      "(480, 15) (480, 15)\n",
      "{'testlen': 21600, 'reflen': 17735, 'guess': [21600, 21120, 20640, 20160], 'correct': [7112, 2286, 803, 390]}\n",
      "ratio: 1.2179306456159449\n"
     ]
    },
    {
     "name": "stderr",
     "output_type": "stream",
     "text": [
      "\r",
      " 20%|█▉        | 196/1000 [43:58<2:25:29, 10.86s/it]"
     ]
    },
    {
     "name": "stdout",
     "output_type": "stream",
     "text": [
      "sample: 196\n",
      "(480, 15) (480, 15)\n",
      "{'testlen': 21600, 'reflen': 18557, 'guess': [21600, 21120, 20640, 20160], 'correct': [7126, 2156, 698, 292]}\n",
      "ratio: 1.163981246968736\n"
     ]
    },
    {
     "name": "stderr",
     "output_type": "stream",
     "text": [
      "\r",
      " 20%|█▉        | 197/1000 [44:09<2:28:20, 11.08s/it]"
     ]
    },
    {
     "name": "stdout",
     "output_type": "stream",
     "text": [
      "sample: 197\n",
      "(480, 15) (480, 15)\n",
      "{'testlen': 21600, 'reflen': 18266, 'guess': [21600, 21120, 20640, 20160], 'correct': [7151, 2127, 640, 261]}\n",
      "ratio: 1.1825249096681714\n"
     ]
    },
    {
     "name": "stderr",
     "output_type": "stream",
     "text": [
      "\r",
      " 20%|█▉        | 198/1000 [44:20<2:27:29, 11.03s/it]"
     ]
    },
    {
     "name": "stdout",
     "output_type": "stream",
     "text": [
      "sample: 198\n",
      "(480, 15) (480, 15)\n",
      "{'testlen': 21600, 'reflen': 18913, 'guess': [21600, 21120, 20640, 20160], 'correct': [7202, 2268, 762, 330]}\n",
      "ratio: 1.1420715909691141\n"
     ]
    },
    {
     "name": "stderr",
     "output_type": "stream",
     "text": [
      "\r",
      " 20%|█▉        | 199/1000 [44:31<2:27:09, 11.02s/it]"
     ]
    },
    {
     "name": "stdout",
     "output_type": "stream",
     "text": [
      "sample: 199\n",
      "(480, 15) (480, 15)\n",
      "{'testlen': 21600, 'reflen': 18047, 'guess': [21600, 21120, 20640, 20160], 'correct': [7157, 2297, 768, 326]}\n",
      "ratio: 1.19687482684096\n"
     ]
    },
    {
     "name": "stderr",
     "output_type": "stream",
     "text": [
      "\r",
      " 20%|██        | 200/1000 [44:42<2:26:01, 10.95s/it]"
     ]
    },
    {
     "name": "stdout",
     "output_type": "stream",
     "text": [
      "sample: 200\n",
      "(480, 15) (480, 15)\n",
      "{'testlen': 21600, 'reflen': 18194, 'guess': [21600, 21120, 20640, 20160], 'correct': [7239, 2277, 738, 299]}\n",
      "ratio: 1.1872045729360674\n"
     ]
    },
    {
     "name": "stderr",
     "output_type": "stream",
     "text": [
      "\r",
      " 20%|██        | 201/1000 [44:53<2:24:51, 10.88s/it]"
     ]
    },
    {
     "name": "stdout",
     "output_type": "stream",
     "text": [
      "sample: 201\n",
      "(480, 15) (480, 15)\n",
      "{'testlen': 21600, 'reflen': 17586, 'guess': [21600, 21120, 20640, 20160], 'correct': [6984, 2213, 748, 313]}\n",
      "ratio: 1.2282497441145668\n"
     ]
    },
    {
     "name": "stderr",
     "output_type": "stream",
     "text": [
      "\r",
      " 20%|██        | 202/1000 [45:04<2:27:22, 11.08s/it]"
     ]
    },
    {
     "name": "stdout",
     "output_type": "stream",
     "text": [
      "sample: 202\n",
      "(480, 15) (480, 15)\n",
      "{'testlen': 21600, 'reflen': 18191, 'guess': [21600, 21120, 20640, 20160], 'correct': [7163, 2225, 697, 267]}\n",
      "ratio: 1.1874003628167122\n"
     ]
    },
    {
     "name": "stderr",
     "output_type": "stream",
     "text": [
      "\r",
      " 20%|██        | 203/1000 [45:15<2:25:09, 10.93s/it]"
     ]
    },
    {
     "name": "stdout",
     "output_type": "stream",
     "text": [
      "sample: 203\n",
      "(480, 15) (480, 15)\n",
      "{'testlen': 21600, 'reflen': 17840, 'guess': [21600, 21120, 20640, 20160], 'correct': [7053, 2146, 707, 284]}\n",
      "ratio: 1.210762331838497\n"
     ]
    },
    {
     "name": "stderr",
     "output_type": "stream",
     "text": [
      "\r",
      " 20%|██        | 204/1000 [45:26<2:26:50, 11.07s/it]"
     ]
    },
    {
     "name": "stdout",
     "output_type": "stream",
     "text": [
      "sample: 204\n",
      "(480, 15) (480, 15)\n",
      "{'testlen': 21600, 'reflen': 18544, 'guess': [21600, 21120, 20640, 20160], 'correct': [7326, 2315, 785, 354]}\n",
      "ratio: 1.1647972389990744\n"
     ]
    },
    {
     "name": "stderr",
     "output_type": "stream",
     "text": [
      "\r",
      " 20%|██        | 205/1000 [45:38<2:28:13, 11.19s/it]"
     ]
    },
    {
     "name": "stdout",
     "output_type": "stream",
     "text": [
      "sample: 205\n",
      "(480, 15) (480, 15)\n",
      "{'testlen': 21600, 'reflen': 17972, 'guess': [21600, 21120, 20640, 20160], 'correct': [7073, 2150, 683, 274]}\n",
      "ratio: 1.201869574894213\n"
     ]
    },
    {
     "name": "stderr",
     "output_type": "stream",
     "text": [
      "\r",
      " 21%|██        | 206/1000 [45:49<2:30:04, 11.34s/it]"
     ]
    },
    {
     "name": "stdout",
     "output_type": "stream",
     "text": [
      "sample: 206\n",
      "(480, 15) (480, 15)\n",
      "{'testlen': 21600, 'reflen': 17930, 'guess': [21600, 21120, 20640, 20160], 'correct': [7231, 2339, 842, 412]}\n",
      "ratio: 1.2046848856664136\n"
     ]
    },
    {
     "name": "stderr",
     "output_type": "stream",
     "text": [
      "\r",
      " 21%|██        | 207/1000 [46:01<2:29:22, 11.30s/it]"
     ]
    },
    {
     "name": "stdout",
     "output_type": "stream",
     "text": [
      "sample: 207\n",
      "(480, 15) (480, 15)\n",
      "{'testlen': 21600, 'reflen': 18768, 'guess': [21600, 21120, 20640, 20160], 'correct': [7153, 2241, 734, 300]}\n",
      "ratio: 1.1508951406649004\n"
     ]
    },
    {
     "name": "stderr",
     "output_type": "stream",
     "text": [
      "\r",
      " 21%|██        | 208/1000 [46:11<2:26:58, 11.13s/it]"
     ]
    },
    {
     "name": "stdout",
     "output_type": "stream",
     "text": [
      "sample: 208\n",
      "(480, 15) (480, 15)\n",
      "{'testlen': 21600, 'reflen': 17929, 'guess': [21600, 21120, 20640, 20160], 'correct': [7268, 2333, 787, 323]}\n",
      "ratio: 1.204752077639511\n"
     ]
    },
    {
     "name": "stderr",
     "output_type": "stream",
     "text": [
      "\r",
      " 21%|██        | 209/1000 [46:22<2:24:55, 10.99s/it]"
     ]
    },
    {
     "name": "stdout",
     "output_type": "stream",
     "text": [
      "sample: 209\n",
      "(480, 15) (480, 15)\n",
      "{'testlen': 21600, 'reflen': 17646, 'guess': [21600, 21120, 20640, 20160], 'correct': [7316, 2501, 949, 490]}\n",
      "ratio: 1.224073444406595\n"
     ]
    },
    {
     "name": "stderr",
     "output_type": "stream",
     "text": [
      "\r",
      " 21%|██        | 210/1000 [46:32<2:22:35, 10.83s/it]"
     ]
    },
    {
     "name": "stdout",
     "output_type": "stream",
     "text": [
      "sample: 210\n",
      "(480, 15) (480, 15)\n",
      "{'testlen': 21600, 'reflen': 17960, 'guess': [21600, 21120, 20640, 20160], 'correct': [7272, 2275, 721, 288]}\n",
      "ratio: 1.202672605790579\n"
     ]
    },
    {
     "name": "stderr",
     "output_type": "stream",
     "text": [
      "\r",
      " 21%|██        | 211/1000 [46:43<2:21:34, 10.77s/it]"
     ]
    },
    {
     "name": "stdout",
     "output_type": "stream",
     "text": [
      "sample: 211\n",
      "(480, 15) (480, 15)\n",
      "{'testlen': 21600, 'reflen': 18228, 'guess': [21600, 21120, 20640, 20160], 'correct': [7225, 2333, 819, 371]}\n",
      "ratio: 1.184990125082226\n"
     ]
    },
    {
     "name": "stderr",
     "output_type": "stream",
     "text": [
      "\r",
      " 21%|██        | 212/1000 [46:55<2:25:22, 11.07s/it]"
     ]
    },
    {
     "name": "stdout",
     "output_type": "stream",
     "text": [
      "sample: 212\n",
      "(480, 15) (480, 15)\n",
      "{'testlen': 21600, 'reflen': 18240, 'guess': [21600, 21120, 20640, 20160], 'correct': [7042, 2199, 730, 297]}\n",
      "ratio: 1.1842105263157245\n"
     ]
    },
    {
     "name": "stderr",
     "output_type": "stream",
     "text": [
      "\r",
      " 21%|██▏       | 213/1000 [47:05<2:23:02, 10.91s/it]"
     ]
    },
    {
     "name": "stdout",
     "output_type": "stream",
     "text": [
      "sample: 213\n",
      "(480, 15) (480, 15)\n",
      "{'testlen': 21600, 'reflen': 18168, 'guess': [21600, 21120, 20640, 20160], 'correct': [7151, 2218, 694, 271]}\n",
      "ratio: 1.1889035667106347\n"
     ]
    },
    {
     "name": "stderr",
     "output_type": "stream",
     "text": [
      "\r",
      " 21%|██▏       | 214/1000 [47:16<2:22:18, 10.86s/it]"
     ]
    },
    {
     "name": "stdout",
     "output_type": "stream",
     "text": [
      "sample: 214\n",
      "(480, 15) (480, 15)\n",
      "{'testlen': 21600, 'reflen': 18486, 'guess': [21600, 21120, 20640, 20160], 'correct': [7245, 2267, 768, 360]}\n",
      "ratio: 1.1684518013631304\n"
     ]
    },
    {
     "name": "stderr",
     "output_type": "stream",
     "text": [
      "\r",
      " 22%|██▏       | 215/1000 [47:27<2:21:55, 10.85s/it]"
     ]
    },
    {
     "name": "stdout",
     "output_type": "stream",
     "text": [
      "sample: 215\n",
      "(480, 15) (480, 15)\n",
      "{'testlen': 21600, 'reflen': 18745, 'guess': [21600, 21120, 20640, 20160], 'correct': [7129, 2150, 687, 282]}\n",
      "ratio: 1.1523072819417897\n"
     ]
    },
    {
     "name": "stderr",
     "output_type": "stream",
     "text": [
      "\r",
      " 22%|██▏       | 216/1000 [47:38<2:21:03, 10.80s/it]"
     ]
    },
    {
     "name": "stdout",
     "output_type": "stream",
     "text": [
      "sample: 216\n",
      "(480, 15) (480, 15)\n",
      "{'testlen': 21600, 'reflen': 17955, 'guess': [21600, 21120, 20640, 20160], 'correct': [7198, 2235, 739, 314]}\n",
      "ratio: 1.2030075187969254\n"
     ]
    },
    {
     "name": "stderr",
     "output_type": "stream",
     "text": [
      "\r",
      " 22%|██▏       | 217/1000 [47:48<2:20:21, 10.76s/it]"
     ]
    },
    {
     "name": "stdout",
     "output_type": "stream",
     "text": [
      "sample: 217\n",
      "(480, 15) (480, 15)\n",
      "{'testlen': 21600, 'reflen': 18376, 'guess': [21600, 21120, 20640, 20160], 'correct': [7197, 2232, 701, 294]}\n",
      "ratio: 1.175446234218482\n"
     ]
    },
    {
     "name": "stderr",
     "output_type": "stream",
     "text": [
      "\r",
      " 22%|██▏       | 218/1000 [47:59<2:19:20, 10.69s/it]"
     ]
    },
    {
     "name": "stdout",
     "output_type": "stream",
     "text": [
      "sample: 218\n",
      "(480, 15) (480, 15)\n",
      "{'testlen': 21600, 'reflen': 18629, 'guess': [21600, 21120, 20640, 20160], 'correct': [7389, 2350, 843, 401]}\n",
      "ratio: 1.1594825272424092\n"
     ]
    },
    {
     "name": "stderr",
     "output_type": "stream",
     "text": [
      "\r",
      " 22%|██▏       | 219/1000 [48:10<2:19:29, 10.72s/it]"
     ]
    },
    {
     "name": "stdout",
     "output_type": "stream",
     "text": [
      "sample: 219\n",
      "(480, 15) (480, 15)\n",
      "{'testlen': 21600, 'reflen': 18627, 'guess': [21600, 21120, 20640, 20160], 'correct': [7383, 2290, 759, 318]}\n",
      "ratio: 1.1596070220646824\n"
     ]
    },
    {
     "name": "stderr",
     "output_type": "stream",
     "text": [
      "\r",
      " 22%|██▏       | 220/1000 [48:21<2:20:48, 10.83s/it]"
     ]
    },
    {
     "name": "stdout",
     "output_type": "stream",
     "text": [
      "sample: 220\n",
      "(480, 15) (480, 15)\n",
      "{'testlen': 21600, 'reflen': 18114, 'guess': [21600, 21120, 20640, 20160], 'correct': [7034, 2094, 623, 249]}\n",
      "ratio: 1.1924478304073538\n"
     ]
    },
    {
     "name": "stderr",
     "output_type": "stream",
     "text": [
      "\r",
      " 22%|██▏       | 221/1000 [48:31<2:19:32, 10.75s/it]"
     ]
    },
    {
     "name": "stdout",
     "output_type": "stream",
     "text": [
      "sample: 221\n",
      "(480, 15) (480, 15)\n",
      "{'testlen': 21600, 'reflen': 18217, 'guess': [21600, 21120, 20640, 20160], 'correct': [7163, 2232, 742, 325]}\n",
      "ratio: 1.185705659548708\n"
     ]
    },
    {
     "name": "stderr",
     "output_type": "stream",
     "text": [
      "\r",
      " 22%|██▏       | 222/1000 [48:42<2:19:33, 10.76s/it]"
     ]
    },
    {
     "name": "stdout",
     "output_type": "stream",
     "text": [
      "sample: 222\n",
      "(480, 15) (480, 15)\n",
      "{'testlen': 21600, 'reflen': 18486, 'guess': [21600, 21120, 20640, 20160], 'correct': [7247, 2245, 767, 328]}\n",
      "ratio: 1.1684518013631304\n"
     ]
    },
    {
     "name": "stderr",
     "output_type": "stream",
     "text": [
      "\r",
      " 22%|██▏       | 223/1000 [48:53<2:20:57, 10.88s/it]"
     ]
    },
    {
     "name": "stdout",
     "output_type": "stream",
     "text": [
      "sample: 223\n",
      "(480, 15) (480, 15)\n",
      "{'testlen': 21600, 'reflen': 18070, 'guess': [21600, 21120, 20640, 20160], 'correct': [7219, 2363, 840, 392]}\n",
      "ratio: 1.1953514111786832\n"
     ]
    },
    {
     "name": "stderr",
     "output_type": "stream",
     "text": [
      "\r",
      " 22%|██▏       | 224/1000 [49:05<2:23:28, 11.09s/it]"
     ]
    },
    {
     "name": "stdout",
     "output_type": "stream",
     "text": [
      "sample: 224\n",
      "(480, 15) (480, 15)\n",
      "{'testlen': 21600, 'reflen': 17769, 'guess': [21600, 21120, 20640, 20160], 'correct': [7103, 2194, 679, 267]}\n",
      "ratio: 1.2156002025999653\n"
     ]
    },
    {
     "name": "stderr",
     "output_type": "stream",
     "text": [
      "\r",
      " 22%|██▎       | 225/1000 [49:15<2:21:18, 10.94s/it]"
     ]
    },
    {
     "name": "stdout",
     "output_type": "stream",
     "text": [
      "sample: 225\n",
      "(480, 15) (480, 15)\n",
      "{'testlen': 21600, 'reflen': 18463, 'guess': [21600, 21120, 20640, 20160], 'correct': [7129, 2262, 766, 330]}\n",
      "ratio: 1.1699073823321686\n"
     ]
    },
    {
     "name": "stderr",
     "output_type": "stream",
     "text": [
      "\r",
      " 23%|██▎       | 226/1000 [49:26<2:19:49, 10.84s/it]"
     ]
    },
    {
     "name": "stdout",
     "output_type": "stream",
     "text": [
      "sample: 226\n",
      "(480, 15) (480, 15)\n",
      "{'testlen': 21600, 'reflen': 17714, 'guess': [21600, 21120, 20640, 20160], 'correct': [7179, 2315, 809, 354]}\n",
      "ratio: 1.2193745060403511\n"
     ]
    },
    {
     "name": "stderr",
     "output_type": "stream",
     "text": [
      "\r",
      " 23%|██▎       | 227/1000 [49:36<2:18:05, 10.72s/it]"
     ]
    },
    {
     "name": "stdout",
     "output_type": "stream",
     "text": [
      "sample: 227\n",
      "(480, 15) (480, 15)\n",
      "{'testlen': 21600, 'reflen': 17733, 'guess': [21600, 21120, 20640, 20160], 'correct': [7053, 2228, 741, 318]}\n",
      "ratio: 1.2180680087970892\n"
     ]
    },
    {
     "name": "stderr",
     "output_type": "stream",
     "text": [
      "\r",
      " 23%|██▎       | 228/1000 [49:47<2:17:18, 10.67s/it]"
     ]
    },
    {
     "name": "stdout",
     "output_type": "stream",
     "text": [
      "sample: 228\n",
      "(480, 15) (480, 15)\n",
      "{'testlen': 21600, 'reflen': 17979, 'guess': [21600, 21120, 20640, 20160], 'correct': [7136, 2172, 681, 264]}\n",
      "ratio: 1.2014016352410477\n"
     ]
    },
    {
     "name": "stderr",
     "output_type": "stream",
     "text": [
      "\r",
      " 23%|██▎       | 229/1000 [49:59<2:22:03, 11.06s/it]"
     ]
    },
    {
     "name": "stdout",
     "output_type": "stream",
     "text": [
      "sample: 229\n",
      "(480, 15) (480, 15)\n",
      "{'testlen': 21600, 'reflen': 18632, 'guess': [21600, 21120, 20640, 20160], 'correct': [7277, 2320, 790, 368]}\n",
      "ratio: 1.159295835122308\n"
     ]
    },
    {
     "name": "stderr",
     "output_type": "stream",
     "text": [
      "\r",
      " 23%|██▎       | 230/1000 [50:09<2:20:02, 10.91s/it]"
     ]
    },
    {
     "name": "stdout",
     "output_type": "stream",
     "text": [
      "sample: 230\n",
      "(480, 15) (480, 15)\n",
      "{'testlen': 21600, 'reflen': 17876, 'guess': [21600, 21120, 20640, 20160], 'correct': [7194, 2284, 796, 387]}\n",
      "ratio: 1.2083240098455355\n"
     ]
    },
    {
     "name": "stderr",
     "output_type": "stream",
     "text": [
      "\r",
      " 23%|██▎       | 231/1000 [50:21<2:20:44, 10.98s/it]"
     ]
    },
    {
     "name": "stdout",
     "output_type": "stream",
     "text": [
      "sample: 231\n",
      "(480, 15) (480, 15)\n",
      "{'testlen': 21600, 'reflen': 17877, 'guess': [21600, 21120, 20640, 20160], 'correct': [7198, 2294, 752, 334]}\n",
      "ratio: 1.2082564188621576\n"
     ]
    },
    {
     "name": "stderr",
     "output_type": "stream",
     "text": [
      "\r",
      " 23%|██▎       | 232/1000 [50:31<2:18:50, 10.85s/it]"
     ]
    },
    {
     "name": "stdout",
     "output_type": "stream",
     "text": [
      "sample: 232\n",
      "(480, 15) (480, 15)\n",
      "{'testlen': 21600, 'reflen': 18873, 'guess': [21600, 21120, 20640, 20160], 'correct': [7190, 2188, 728, 311]}\n",
      "ratio: 1.1444921316165344\n"
     ]
    },
    {
     "name": "stderr",
     "output_type": "stream",
     "text": [
      "\r",
      " 23%|██▎       | 233/1000 [50:43<2:22:07, 11.12s/it]"
     ]
    },
    {
     "name": "stdout",
     "output_type": "stream",
     "text": [
      "sample: 233\n",
      "(480, 15) (480, 15)\n",
      "{'testlen': 21600, 'reflen': 18861, 'guess': [21600, 21120, 20640, 20160], 'correct': [7194, 2198, 702, 274]}\n",
      "ratio: 1.1452202958485156\n"
     ]
    },
    {
     "name": "stderr",
     "output_type": "stream",
     "text": [
      "\r",
      " 23%|██▎       | 234/1000 [50:54<2:20:30, 11.01s/it]"
     ]
    },
    {
     "name": "stdout",
     "output_type": "stream",
     "text": [
      "sample: 234\n",
      "(480, 15) (480, 15)\n",
      "{'testlen': 21600, 'reflen': 17882, 'guess': [21600, 21120, 20640, 20160], 'correct': [7131, 2305, 771, 341]}\n",
      "ratio: 1.2079185773402747\n"
     ]
    },
    {
     "name": "stderr",
     "output_type": "stream",
     "text": [
      "\r",
      " 24%|██▎       | 235/1000 [51:04<2:19:20, 10.93s/it]"
     ]
    },
    {
     "name": "stdout",
     "output_type": "stream",
     "text": [
      "sample: 235\n",
      "(480, 15) (480, 15)\n",
      "{'testlen': 21600, 'reflen': 18095, 'guess': [21600, 21120, 20640, 20160], 'correct': [7316, 2406, 850, 402]}\n",
      "ratio: 1.1936999171041065\n"
     ]
    },
    {
     "name": "stderr",
     "output_type": "stream",
     "text": [
      "\r",
      " 24%|██▎       | 236/1000 [51:15<2:17:23, 10.79s/it]"
     ]
    },
    {
     "name": "stdout",
     "output_type": "stream",
     "text": [
      "sample: 236\n",
      "(480, 15) (480, 15)\n",
      "{'testlen': 21600, 'reflen': 18463, 'guess': [21600, 21120, 20640, 20160], 'correct': [7253, 2218, 725, 301]}\n",
      "ratio: 1.1699073823321686\n"
     ]
    },
    {
     "name": "stderr",
     "output_type": "stream",
     "text": [
      "\r",
      " 24%|██▎       | 237/1000 [51:25<2:16:16, 10.72s/it]"
     ]
    },
    {
     "name": "stdout",
     "output_type": "stream",
     "text": [
      "sample: 237\n",
      "(480, 15) (480, 15)\n",
      "{'testlen': 21600, 'reflen': 18527, 'guess': [21600, 21120, 20640, 20160], 'correct': [7303, 2331, 823, 400]}\n",
      "ratio: 1.1658660333566597\n"
     ]
    },
    {
     "name": "stderr",
     "output_type": "stream",
     "text": [
      "\r",
      " 24%|██▍       | 238/1000 [51:37<2:17:53, 10.86s/it]"
     ]
    },
    {
     "name": "stdout",
     "output_type": "stream",
     "text": [
      "sample: 238\n",
      "(480, 15) (480, 15)\n",
      "{'testlen': 21600, 'reflen': 18341, 'guess': [21600, 21120, 20640, 20160], 'correct': [7013, 2199, 767, 351]}\n",
      "ratio: 1.177689329916516\n"
     ]
    },
    {
     "name": "stderr",
     "output_type": "stream",
     "text": [
      "\r",
      " 24%|██▍       | 239/1000 [51:47<2:15:51, 10.71s/it]"
     ]
    },
    {
     "name": "stdout",
     "output_type": "stream",
     "text": [
      "sample: 239\n",
      "(480, 15) (480, 15)\n",
      "{'testlen': 21600, 'reflen': 18373, 'guess': [21600, 21120, 20640, 20160], 'correct': [7197, 2302, 794, 362]}\n",
      "ratio: 1.1756381646981344\n"
     ]
    },
    {
     "name": "stderr",
     "output_type": "stream",
     "text": [
      "\r",
      " 24%|██▍       | 240/1000 [51:57<2:14:51, 10.65s/it]"
     ]
    },
    {
     "name": "stdout",
     "output_type": "stream",
     "text": [
      "sample: 240\n",
      "(480, 15) (480, 15)\n",
      "{'testlen': 21600, 'reflen': 17403, 'guess': [21600, 21120, 20640, 20160], 'correct': [7205, 2342, 786, 338]}\n",
      "ratio: 1.2411653163247003\n"
     ]
    },
    {
     "name": "stderr",
     "output_type": "stream",
     "text": [
      "\r",
      " 24%|██▍       | 241/1000 [52:08<2:14:12, 10.61s/it]"
     ]
    },
    {
     "name": "stdout",
     "output_type": "stream",
     "text": [
      "sample: 241\n",
      "(480, 15) (480, 15)\n",
      "{'testlen': 21600, 'reflen': 18288, 'guess': [21600, 21120, 20640, 20160], 'correct': [7160, 2260, 790, 384]}\n",
      "ratio: 1.1811023622046597\n"
     ]
    },
    {
     "name": "stderr",
     "output_type": "stream",
     "text": [
      "\r",
      " 24%|██▍       | 242/1000 [52:19<2:14:58, 10.68s/it]"
     ]
    },
    {
     "name": "stdout",
     "output_type": "stream",
     "text": [
      "sample: 242\n",
      "(480, 15) (480, 15)\n",
      "{'testlen': 21600, 'reflen': 18373, 'guess': [21600, 21120, 20640, 20160], 'correct': [7260, 2331, 845, 416]}\n",
      "ratio: 1.1756381646981344\n"
     ]
    },
    {
     "name": "stderr",
     "output_type": "stream",
     "text": [
      "\r",
      " 24%|██▍       | 243/1000 [52:30<2:15:20, 10.73s/it]"
     ]
    },
    {
     "name": "stdout",
     "output_type": "stream",
     "text": [
      "sample: 243\n",
      "(480, 15) (480, 15)\n",
      "{'testlen': 21600, 'reflen': 17610, 'guess': [21600, 21120, 20640, 20160], 'correct': [7083, 2234, 751, 320]}\n",
      "ratio: 1.226575809199249\n"
     ]
    },
    {
     "name": "stderr",
     "output_type": "stream",
     "text": [
      "\r",
      " 24%|██▍       | 244/1000 [52:40<2:15:01, 10.72s/it]"
     ]
    },
    {
     "name": "stdout",
     "output_type": "stream",
     "text": [
      "sample: 244\n",
      "(480, 15) (480, 15)\n",
      "{'testlen': 21600, 'reflen': 19109, 'guess': [21600, 21120, 20640, 20160], 'correct': [7168, 2244, 762, 330]}\n",
      "ratio: 1.1303574232036668\n"
     ]
    },
    {
     "name": "stderr",
     "output_type": "stream",
     "text": [
      "\r",
      " 24%|██▍       | 245/1000 [52:52<2:16:34, 10.85s/it]"
     ]
    },
    {
     "name": "stdout",
     "output_type": "stream",
     "text": [
      "sample: 245\n",
      "(480, 15) (480, 15)\n",
      "{'testlen': 21600, 'reflen': 17742, 'guess': [21600, 21120, 20640, 20160], 'correct': [7164, 2265, 754, 315]}\n",
      "ratio: 1.2174501183631372\n"
     ]
    },
    {
     "name": "stderr",
     "output_type": "stream",
     "text": [
      "\r",
      " 25%|██▍       | 246/1000 [53:03<2:18:16, 11.00s/it]"
     ]
    },
    {
     "name": "stdout",
     "output_type": "stream",
     "text": [
      "sample: 246\n",
      "(480, 15) (480, 15)\n",
      "{'testlen': 21600, 'reflen': 18543, 'guess': [21600, 21120, 20640, 20160], 'correct': [7282, 2235, 719, 294]}\n",
      "ratio: 1.1648600550072175\n"
     ]
    },
    {
     "name": "stderr",
     "output_type": "stream",
     "text": [
      "\r",
      " 25%|██▍       | 247/1000 [53:14<2:17:21, 10.94s/it]"
     ]
    },
    {
     "name": "stdout",
     "output_type": "stream",
     "text": [
      "sample: 247\n",
      "(480, 15) (480, 15)\n",
      "{'testlen': 21600, 'reflen': 18643, 'guess': [21600, 21120, 20640, 20160], 'correct': [7216, 2304, 779, 364]}\n",
      "ratio: 1.1586118114036819\n"
     ]
    },
    {
     "name": "stderr",
     "output_type": "stream",
     "text": [
      "\r",
      " 25%|██▍       | 248/1000 [53:24<2:15:34, 10.82s/it]"
     ]
    },
    {
     "name": "stdout",
     "output_type": "stream",
     "text": [
      "sample: 248\n",
      "(480, 15) (480, 15)\n",
      "{'testlen': 21600, 'reflen': 18821, 'guess': [21600, 21120, 20640, 20160], 'correct': [7130, 2133, 681, 282]}\n",
      "ratio: 1.1476542160352188\n"
     ]
    },
    {
     "name": "stderr",
     "output_type": "stream",
     "text": [
      "\r",
      " 25%|██▍       | 249/1000 [53:35<2:15:33, 10.83s/it]"
     ]
    },
    {
     "name": "stdout",
     "output_type": "stream",
     "text": [
      "sample: 249\n",
      "(480, 15) (480, 15)\n",
      "{'testlen': 21600, 'reflen': 17903, 'guess': [21600, 21120, 20640, 20160], 'correct': [7060, 2153, 666, 274]}\n",
      "ratio: 1.2065017036250234\n"
     ]
    },
    {
     "name": "stderr",
     "output_type": "stream",
     "text": [
      "\r",
      " 25%|██▌       | 250/1000 [53:47<2:17:50, 11.03s/it]"
     ]
    },
    {
     "name": "stdout",
     "output_type": "stream",
     "text": [
      "sample: 250\n",
      "(480, 15) (480, 15)\n",
      "{'testlen': 21600, 'reflen': 18827, 'guess': [21600, 21120, 20640, 20160], 'correct': [7104, 2194, 714, 289]}\n",
      "ratio: 1.1472884686885245\n"
     ]
    },
    {
     "name": "stderr",
     "output_type": "stream",
     "text": [
      "\r",
      " 25%|██▌       | 251/1000 [53:57<2:17:26, 11.01s/it]"
     ]
    },
    {
     "name": "stdout",
     "output_type": "stream",
     "text": [
      "sample: 251\n",
      "(480, 15) (480, 15)\n",
      "{'testlen': 21600, 'reflen': 18609, 'guess': [21600, 21120, 20640, 20160], 'correct': [7177, 2190, 679, 257]}\n",
      "ratio: 1.1607286796710645\n"
     ]
    },
    {
     "name": "stderr",
     "output_type": "stream",
     "text": [
      "\r",
      " 25%|██▌       | 252/1000 [54:09<2:19:23, 11.18s/it]"
     ]
    },
    {
     "name": "stdout",
     "output_type": "stream",
     "text": [
      "sample: 252\n",
      "(480, 15) (480, 15)\n",
      "{'testlen': 21600, 'reflen': 18254, 'guess': [21600, 21120, 20640, 20160], 'correct': [7170, 2316, 802, 371]}\n",
      "ratio: 1.1833022899089962\n"
     ]
    },
    {
     "name": "stderr",
     "output_type": "stream",
     "text": [
      "\r",
      " 25%|██▌       | 253/1000 [54:20<2:17:38, 11.06s/it]"
     ]
    },
    {
     "name": "stdout",
     "output_type": "stream",
     "text": [
      "sample: 253\n",
      "(480, 15) (480, 15)\n",
      "{'testlen': 21600, 'reflen': 18909, 'guess': [21600, 21120, 20640, 20160], 'correct': [7186, 2315, 757, 301]}\n",
      "ratio: 1.1423131841979406\n"
     ]
    },
    {
     "name": "stderr",
     "output_type": "stream",
     "text": [
      "\r",
      " 25%|██▌       | 254/1000 [54:31<2:18:46, 11.16s/it]"
     ]
    },
    {
     "name": "stdout",
     "output_type": "stream",
     "text": [
      "sample: 254\n",
      "(480, 15) (480, 15)\n",
      "{'testlen': 21600, 'reflen': 17979, 'guess': [21600, 21120, 20640, 20160], 'correct': [7114, 2118, 690, 301]}\n",
      "ratio: 1.2014016352410477\n"
     ]
    },
    {
     "name": "stderr",
     "output_type": "stream",
     "text": [
      "\r",
      " 26%|██▌       | 255/1000 [54:42<2:16:58, 11.03s/it]"
     ]
    },
    {
     "name": "stdout",
     "output_type": "stream",
     "text": [
      "sample: 255\n",
      "(480, 15) (480, 15)\n",
      "{'testlen': 21600, 'reflen': 17878, 'guess': [21600, 21120, 20640, 20160], 'correct': [7116, 2266, 754, 330]}\n",
      "ratio: 1.2081888354401382\n"
     ]
    },
    {
     "name": "stderr",
     "output_type": "stream",
     "text": [
      "\r",
      " 26%|██▌       | 256/1000 [54:52<2:14:44, 10.87s/it]"
     ]
    },
    {
     "name": "stdout",
     "output_type": "stream",
     "text": [
      "sample: 256\n",
      "(480, 15) (480, 15)\n",
      "{'testlen': 21600, 'reflen': 18112, 'guess': [21600, 21120, 20640, 20160], 'correct': [7365, 2372, 831, 384]}\n",
      "ratio: 1.1925795053002874\n"
     ]
    },
    {
     "name": "stderr",
     "output_type": "stream",
     "text": [
      "\r",
      " 26%|██▌       | 257/1000 [55:03<2:13:53, 10.81s/it]"
     ]
    },
    {
     "name": "stdout",
     "output_type": "stream",
     "text": [
      "sample: 257\n",
      "(480, 15) (480, 15)\n",
      "{'testlen': 21600, 'reflen': 18284, 'guess': [21600, 21120, 20640, 20160], 'correct': [6916, 2018, 611, 249]}\n",
      "ratio: 1.1813607525704888\n"
     ]
    },
    {
     "name": "stderr",
     "output_type": "stream",
     "text": [
      "\r",
      " 26%|██▌       | 258/1000 [55:14<2:13:08, 10.77s/it]"
     ]
    },
    {
     "name": "stdout",
     "output_type": "stream",
     "text": [
      "sample: 258\n",
      "(480, 15) (480, 15)\n",
      "{'testlen': 21600, 'reflen': 18701, 'guess': [21600, 21120, 20640, 20160], 'correct': [7108, 2196, 706, 288]}\n",
      "ratio: 1.1550184482112638\n"
     ]
    },
    {
     "name": "stderr",
     "output_type": "stream",
     "text": [
      "\r",
      " 26%|██▌       | 259/1000 [55:24<2:11:41, 10.66s/it]"
     ]
    },
    {
     "name": "stdout",
     "output_type": "stream",
     "text": [
      "sample: 259\n",
      "(480, 15) (480, 15)\n",
      "{'testlen': 21600, 'reflen': 18810, 'guess': [21600, 21120, 20640, 20160], 'correct': [7186, 2216, 698, 289]}\n",
      "ratio: 1.1483253588516136\n"
     ]
    },
    {
     "name": "stderr",
     "output_type": "stream",
     "text": [
      "\r",
      " 26%|██▌       | 260/1000 [55:34<2:10:04, 10.55s/it]"
     ]
    },
    {
     "name": "stdout",
     "output_type": "stream",
     "text": [
      "sample: 260\n",
      "(480, 15) (480, 15)\n",
      "{'testlen': 21600, 'reflen': 18679, 'guess': [21600, 21120, 20640, 20160], 'correct': [7314, 2344, 809, 366]}\n",
      "ratio: 1.1563788211359731\n"
     ]
    },
    {
     "name": "stderr",
     "output_type": "stream",
     "text": [
      "\r",
      " 26%|██▌       | 261/1000 [55:45<2:09:56, 10.55s/it]"
     ]
    },
    {
     "name": "stdout",
     "output_type": "stream",
     "text": [
      "sample: 261\n",
      "(480, 15) (480, 15)\n",
      "{'testlen': 21600, 'reflen': 18191, 'guess': [21600, 21120, 20640, 20160], 'correct': [7329, 2460, 941, 483]}\n",
      "ratio: 1.1874003628167122\n"
     ]
    },
    {
     "name": "stderr",
     "output_type": "stream",
     "text": [
      "\r",
      " 26%|██▌       | 262/1000 [55:55<2:08:35, 10.46s/it]"
     ]
    },
    {
     "name": "stdout",
     "output_type": "stream",
     "text": [
      "sample: 262\n",
      "(480, 15) (480, 15)\n",
      "{'testlen': 21600, 'reflen': 18688, 'guess': [21600, 21120, 20640, 20160], 'correct': [7172, 2284, 789, 369]}\n",
      "ratio: 1.1558219178081572\n"
     ]
    },
    {
     "name": "stderr",
     "output_type": "stream",
     "text": [
      "\r",
      " 26%|██▋       | 263/1000 [56:07<2:11:39, 10.72s/it]"
     ]
    },
    {
     "name": "stdout",
     "output_type": "stream",
     "text": [
      "sample: 263\n",
      "(480, 15) (480, 15)\n",
      "{'testlen': 21600, 'reflen': 18850, 'guess': [21600, 21120, 20640, 20160], 'correct': [7268, 2274, 742, 305]}\n",
      "ratio: 1.1458885941643955\n"
     ]
    },
    {
     "name": "stderr",
     "output_type": "stream",
     "text": [
      "\r",
      " 26%|██▋       | 264/1000 [56:17<2:10:35, 10.65s/it]"
     ]
    },
    {
     "name": "stdout",
     "output_type": "stream",
     "text": [
      "sample: 264\n",
      "(480, 15) (480, 15)\n",
      "{'testlen': 21600, 'reflen': 17642, 'guess': [21600, 21120, 20640, 20160], 'correct': [7049, 2165, 674, 273]}\n",
      "ratio: 1.2243509806143733\n"
     ]
    },
    {
     "name": "stderr",
     "output_type": "stream",
     "text": [
      "\r",
      " 26%|██▋       | 265/1000 [56:28<2:09:59, 10.61s/it]"
     ]
    },
    {
     "name": "stdout",
     "output_type": "stream",
     "text": [
      "sample: 265\n",
      "(480, 15) (480, 15)\n",
      "{'testlen': 21600, 'reflen': 18798, 'guess': [21600, 21120, 20640, 20160], 'correct': [7149, 2226, 730, 300]}\n",
      "ratio: 1.1490584104691377\n"
     ]
    },
    {
     "name": "stderr",
     "output_type": "stream",
     "text": [
      "\r",
      " 27%|██▋       | 266/1000 [56:38<2:09:54, 10.62s/it]"
     ]
    },
    {
     "name": "stdout",
     "output_type": "stream",
     "text": [
      "sample: 266\n",
      "(480, 15) (480, 15)\n",
      "{'testlen': 21600, 'reflen': 17688, 'guess': [21600, 21120, 20640, 20160], 'correct': [7126, 2266, 783, 367]}\n",
      "ratio: 1.2211668928086148\n"
     ]
    },
    {
     "name": "stderr",
     "output_type": "stream",
     "text": [
      "\r",
      " 27%|██▋       | 267/1000 [56:49<2:10:19, 10.67s/it]"
     ]
    },
    {
     "name": "stdout",
     "output_type": "stream",
     "text": [
      "sample: 267\n",
      "(480, 15) (480, 15)\n",
      "{'testlen': 21600, 'reflen': 17567, 'guess': [21600, 21120, 20640, 20160], 'correct': [7052, 2249, 751, 317]}\n",
      "ratio: 1.2295781863721051\n"
     ]
    },
    {
     "name": "stderr",
     "output_type": "stream",
     "text": [
      "\r",
      " 27%|██▋       | 268/1000 [57:01<2:13:35, 10.95s/it]"
     ]
    },
    {
     "name": "stdout",
     "output_type": "stream",
     "text": [
      "sample: 268\n",
      "(480, 15) (480, 15)\n",
      "{'testlen': 21600, 'reflen': 17967, 'guess': [21600, 21120, 20640, 20160], 'correct': [6994, 2142, 657, 242]}\n",
      "ratio: 1.2022040407412922\n"
     ]
    },
    {
     "name": "stderr",
     "output_type": "stream",
     "text": [
      "\r",
      " 27%|██▋       | 269/1000 [57:11<2:11:49, 10.82s/it]"
     ]
    },
    {
     "name": "stdout",
     "output_type": "stream",
     "text": [
      "sample: 269\n",
      "(480, 15) (480, 15)\n",
      "{'testlen': 21600, 'reflen': 19011, 'guess': [21600, 21120, 20640, 20160], 'correct': [7281, 2326, 806, 359]}\n",
      "ratio: 1.1361843143442671\n"
     ]
    },
    {
     "name": "stderr",
     "output_type": "stream",
     "text": [
      "\r",
      " 27%|██▋       | 270/1000 [57:22<2:10:20, 10.71s/it]"
     ]
    },
    {
     "name": "stdout",
     "output_type": "stream",
     "text": [
      "sample: 270\n",
      "(480, 15) (480, 15)\n",
      "{'testlen': 21600, 'reflen': 18607, 'guess': [21600, 21120, 20640, 20160], 'correct': [7202, 2228, 763, 348]}\n",
      "ratio: 1.1608534422528531\n"
     ]
    },
    {
     "name": "stderr",
     "output_type": "stream",
     "text": [
      "\r",
      " 27%|██▋       | 271/1000 [57:33<2:12:41, 10.92s/it]"
     ]
    },
    {
     "name": "stdout",
     "output_type": "stream",
     "text": [
      "sample: 271\n",
      "(480, 15) (480, 15)\n",
      "{'testlen': 21600, 'reflen': 18616, 'guess': [21600, 21120, 20640, 20160], 'correct': [7207, 2302, 757, 321]}\n",
      "ratio: 1.1602922217446734\n"
     ]
    },
    {
     "name": "stderr",
     "output_type": "stream",
     "text": [
      "\r",
      " 27%|██▋       | 272/1000 [57:44<2:13:47, 11.03s/it]"
     ]
    },
    {
     "name": "stdout",
     "output_type": "stream",
     "text": [
      "sample: 272\n",
      "(480, 15) (480, 15)\n",
      "{'testlen': 21600, 'reflen': 18397, 'guess': [21600, 21120, 20640, 20160], 'correct': [7278, 2316, 818, 376]}\n",
      "ratio: 1.1741044735554071\n"
     ]
    },
    {
     "name": "stderr",
     "output_type": "stream",
     "text": [
      "\r",
      " 27%|██▋       | 273/1000 [57:56<2:14:30, 11.10s/it]"
     ]
    },
    {
     "name": "stdout",
     "output_type": "stream",
     "text": [
      "sample: 273\n",
      "(480, 15) (480, 15)\n",
      "{'testlen': 21600, 'reflen': 18228, 'guess': [21600, 21120, 20640, 20160], 'correct': [7315, 2340, 842, 412]}\n",
      "ratio: 1.184990125082226\n"
     ]
    },
    {
     "name": "stderr",
     "output_type": "stream",
     "text": [
      "\r",
      " 27%|██▋       | 274/1000 [58:06<2:11:52, 10.90s/it]"
     ]
    },
    {
     "name": "stdout",
     "output_type": "stream",
     "text": [
      "sample: 274\n",
      "(480, 15) (480, 15)\n",
      "{'testlen': 21600, 'reflen': 18013, 'guess': [21600, 21120, 20640, 20160], 'correct': [7202, 2302, 815, 391]}\n",
      "ratio: 1.1991339588074612\n"
     ]
    },
    {
     "name": "stderr",
     "output_type": "stream",
     "text": [
      "\r",
      " 28%|██▊       | 275/1000 [58:17<2:10:58, 10.84s/it]"
     ]
    },
    {
     "name": "stdout",
     "output_type": "stream",
     "text": [
      "sample: 275\n",
      "(480, 15) (480, 15)\n",
      "{'testlen': 21600, 'reflen': 18635, 'guess': [21600, 21120, 20640, 20160], 'correct': [7209, 2275, 796, 361]}\n",
      "ratio: 1.1591092031123607\n"
     ]
    },
    {
     "name": "stderr",
     "output_type": "stream",
     "text": [
      "\r",
      " 28%|██▊       | 276/1000 [58:27<2:09:46, 10.75s/it]"
     ]
    },
    {
     "name": "stdout",
     "output_type": "stream",
     "text": [
      "sample: 276\n",
      "(480, 15) (480, 15)\n",
      "{'testlen': 21600, 'reflen': 18142, 'guess': [21600, 21120, 20640, 20160], 'correct': [7121, 2208, 745, 346]}\n",
      "ratio: 1.1906074302722307\n"
     ]
    },
    {
     "name": "stderr",
     "output_type": "stream",
     "text": [
      "\r",
      " 28%|██▊       | 277/1000 [58:38<2:09:26, 10.74s/it]"
     ]
    },
    {
     "name": "stdout",
     "output_type": "stream",
     "text": [
      "sample: 277\n",
      "(480, 15) (480, 15)\n",
      "{'testlen': 21600, 'reflen': 18396, 'guess': [21600, 21120, 20640, 20160], 'correct': [7264, 2336, 811, 359]}\n",
      "ratio: 1.174168297455905\n"
     ]
    },
    {
     "name": "stderr",
     "output_type": "stream",
     "text": [
      "\r",
      " 28%|██▊       | 278/1000 [58:49<2:08:51, 10.71s/it]"
     ]
    },
    {
     "name": "stdout",
     "output_type": "stream",
     "text": [
      "sample: 278\n",
      "(480, 15) (480, 15)\n",
      "{'testlen': 21600, 'reflen': 18243, 'guess': [21600, 21120, 20640, 20160], 'correct': [7245, 2315, 789, 373]}\n",
      "ratio: 1.1840157868770935\n"
     ]
    },
    {
     "name": "stderr",
     "output_type": "stream",
     "text": [
      "\r",
      " 28%|██▊       | 279/1000 [58:59<2:08:15, 10.67s/it]"
     ]
    },
    {
     "name": "stdout",
     "output_type": "stream",
     "text": [
      "sample: 279\n",
      "(480, 15) (480, 15)\n",
      "{'testlen': 21600, 'reflen': 18324, 'guess': [21600, 21120, 20640, 20160], 'correct': [7257, 2370, 884, 448]}\n",
      "ratio: 1.178781925343747\n"
     ]
    },
    {
     "name": "stderr",
     "output_type": "stream",
     "text": [
      "\r",
      " 28%|██▊       | 280/1000 [59:10<2:07:09, 10.60s/it]"
     ]
    },
    {
     "name": "stdout",
     "output_type": "stream",
     "text": [
      "sample: 280\n",
      "(480, 15) (480, 15)\n",
      "{'testlen': 21600, 'reflen': 18328, 'guess': [21600, 21120, 20640, 20160], 'correct': [7088, 2198, 761, 353]}\n",
      "ratio: 1.1785246617197087\n"
     ]
    },
    {
     "name": "stderr",
     "output_type": "stream",
     "text": [
      "\r",
      " 28%|██▊       | 281/1000 [59:20<2:06:17, 10.54s/it]"
     ]
    },
    {
     "name": "stdout",
     "output_type": "stream",
     "text": [
      "sample: 281\n",
      "(480, 15) (480, 15)\n",
      "{'testlen': 21600, 'reflen': 17864, 'guess': [21600, 21120, 20640, 20160], 'correct': [7057, 2219, 706, 294]}\n",
      "ratio: 1.2091356918942449\n"
     ]
    },
    {
     "name": "stderr",
     "output_type": "stream",
     "text": [
      "\r",
      " 28%|██▊       | 282/1000 [59:30<2:05:34, 10.49s/it]"
     ]
    },
    {
     "name": "stdout",
     "output_type": "stream",
     "text": [
      "sample: 282\n",
      "(480, 15) (480, 15)\n",
      "{'testlen': 21600, 'reflen': 18319, 'guess': [21600, 21120, 20640, 20160], 'correct': [7253, 2285, 781, 352]}\n",
      "ratio: 1.179103662863629\n"
     ]
    },
    {
     "name": "stderr",
     "output_type": "stream",
     "text": [
      "\r",
      " 28%|██▊       | 283/1000 [59:41<2:04:54, 10.45s/it]"
     ]
    },
    {
     "name": "stdout",
     "output_type": "stream",
     "text": [
      "sample: 283\n",
      "(480, 15) (480, 15)\n",
      "{'testlen': 21600, 'reflen': 17954, 'guess': [21600, 21120, 20640, 20160], 'correct': [7187, 2262, 716, 290]}\n",
      "ratio: 1.203074523782934\n"
     ]
    },
    {
     "name": "stderr",
     "output_type": "stream",
     "text": [
      "\r",
      " 28%|██▊       | 284/1000 [59:52<2:07:33, 10.69s/it]"
     ]
    },
    {
     "name": "stdout",
     "output_type": "stream",
     "text": [
      "sample: 284\n",
      "(480, 15) (480, 15)\n",
      "{'testlen': 21600, 'reflen': 18216, 'guess': [21600, 21120, 20640, 20160], 'correct': [7176, 2235, 725, 282]}\n",
      "ratio: 1.1857707509880773\n"
     ]
    },
    {
     "name": "stderr",
     "output_type": "stream",
     "text": [
      "\r",
      " 28%|██▊       | 285/1000 [1:00:02<2:06:09, 10.59s/it]"
     ]
    },
    {
     "name": "stdout",
     "output_type": "stream",
     "text": [
      "sample: 285\n",
      "(480, 15) (480, 15)\n",
      "{'testlen': 21600, 'reflen': 17866, 'guess': [21600, 21120, 20640, 20160], 'correct': [7166, 2262, 750, 298]}\n",
      "ratio: 1.209000335833359\n"
     ]
    },
    {
     "name": "stderr",
     "output_type": "stream",
     "text": [
      "\r",
      " 29%|██▊       | 286/1000 [1:00:13<2:05:52, 10.58s/it]"
     ]
    },
    {
     "name": "stdout",
     "output_type": "stream",
     "text": [
      "sample: 286\n",
      "(480, 15) (480, 15)\n",
      "{'testlen': 21600, 'reflen': 17890, 'guess': [21600, 21120, 20640, 20160], 'correct': [7278, 2283, 733, 317]}\n",
      "ratio: 1.2073784237003238\n"
     ]
    },
    {
     "name": "stderr",
     "output_type": "stream",
     "text": [
      "\r",
      " 29%|██▊       | 287/1000 [1:00:24<2:06:13, 10.62s/it]"
     ]
    },
    {
     "name": "stdout",
     "output_type": "stream",
     "text": [
      "sample: 287\n",
      "(480, 15) (480, 15)\n",
      "{'testlen': 21600, 'reflen': 17716, 'guess': [21600, 21120, 20640, 20160], 'correct': [7077, 2243, 748, 350]}\n",
      "ratio: 1.2192368480468943\n"
     ]
    },
    {
     "name": "stderr",
     "output_type": "stream",
     "text": [
      "\r",
      " 29%|██▉       | 288/1000 [1:00:35<2:06:53, 10.69s/it]"
     ]
    },
    {
     "name": "stdout",
     "output_type": "stream",
     "text": [
      "sample: 288\n",
      "(480, 15) (480, 15)\n",
      "{'testlen': 21600, 'reflen': 17704, 'guess': [21600, 21120, 20640, 20160], 'correct': [7123, 2282, 799, 342]}\n",
      "ratio: 1.22006326253947\n"
     ]
    },
    {
     "name": "stderr",
     "output_type": "stream",
     "text": [
      "\r",
      " 29%|██▉       | 289/1000 [1:00:45<2:06:00, 10.63s/it]"
     ]
    },
    {
     "name": "stdout",
     "output_type": "stream",
     "text": [
      "sample: 289\n",
      "(480, 15) (480, 15)\n",
      "{'testlen': 21600, 'reflen': 19279, 'guess': [21600, 21120, 20640, 20160], 'correct': [7121, 2208, 716, 305]}\n",
      "ratio: 1.120390061725135\n"
     ]
    },
    {
     "name": "stderr",
     "output_type": "stream",
     "text": [
      "\r",
      " 29%|██▉       | 290/1000 [1:01:02<2:26:44, 12.40s/it]"
     ]
    },
    {
     "name": "stdout",
     "output_type": "stream",
     "text": [
      "sample: 290\n",
      "(480, 15) (480, 15)\n",
      "{'testlen': 21600, 'reflen': 18215, 'guess': [21600, 21120, 20640, 20160], 'correct': [7330, 2345, 782, 350]}\n",
      "ratio: 1.1858358495744614\n"
     ]
    },
    {
     "name": "stderr",
     "output_type": "stream",
     "text": [
      "\r",
      " 29%|██▉       | 291/1000 [1:01:17<2:38:05, 13.38s/it]"
     ]
    },
    {
     "name": "stdout",
     "output_type": "stream",
     "text": [
      "sample: 291\n",
      "(480, 15) (480, 15)\n",
      "{'testlen': 21600, 'reflen': 18315, 'guess': [21600, 21120, 20640, 20160], 'correct': [7118, 2265, 783, 360]}\n",
      "ratio: 1.179361179361115\n"
     ]
    },
    {
     "name": "stderr",
     "output_type": "stream",
     "text": [
      "\r",
      " 29%|██▉       | 292/1000 [1:01:33<2:46:29, 14.11s/it]"
     ]
    },
    {
     "name": "stdout",
     "output_type": "stream",
     "text": [
      "sample: 292\n",
      "(480, 15) (480, 15)\n",
      "{'testlen': 21600, 'reflen': 17503, 'guess': [21600, 21120, 20640, 20160], 'correct': [7010, 2135, 667, 262]}\n",
      "ratio: 1.2340741587155781\n"
     ]
    },
    {
     "name": "stderr",
     "output_type": "stream",
     "text": [
      "\r",
      " 29%|██▉       | 293/1000 [1:01:50<2:56:05, 14.94s/it]"
     ]
    },
    {
     "name": "stdout",
     "output_type": "stream",
     "text": [
      "sample: 293\n",
      "(480, 15) (480, 15)\n",
      "{'testlen': 21600, 'reflen': 17974, 'guess': [21600, 21120, 20640, 20160], 'correct': [7203, 2270, 770, 355]}\n",
      "ratio: 1.2017358406586625\n"
     ]
    },
    {
     "name": "stderr",
     "output_type": "stream",
     "text": [
      "\r",
      " 29%|██▉       | 294/1000 [1:02:07<3:04:58, 15.72s/it]"
     ]
    },
    {
     "name": "stdout",
     "output_type": "stream",
     "text": [
      "sample: 294\n",
      "(480, 15) (480, 15)\n",
      "{'testlen': 21600, 'reflen': 17801, 'guess': [21600, 21120, 20640, 20160], 'correct': [7178, 2157, 671, 271]}\n",
      "ratio: 1.213414976686635\n"
     ]
    },
    {
     "name": "stderr",
     "output_type": "stream",
     "text": [
      "\r",
      " 30%|██▉       | 295/1000 [1:02:24<3:06:54, 15.91s/it]"
     ]
    },
    {
     "name": "stdout",
     "output_type": "stream",
     "text": [
      "sample: 295\n",
      "(480, 15) (480, 15)\n",
      "{'testlen': 21600, 'reflen': 17787, 'guess': [21600, 21120, 20640, 20160], 'correct': [7109, 2179, 692, 288]}\n",
      "ratio: 1.2143700455388085\n"
     ]
    },
    {
     "name": "stderr",
     "output_type": "stream",
     "text": [
      "\r",
      " 30%|██▉       | 296/1000 [1:02:40<3:07:52, 16.01s/it]"
     ]
    },
    {
     "name": "stdout",
     "output_type": "stream",
     "text": [
      "sample: 296\n",
      "(480, 15) (480, 15)\n",
      "{'testlen': 21600, 'reflen': 18012, 'guess': [21600, 21120, 20640, 20160], 'correct': [7159, 2291, 758, 332]}\n",
      "ratio: 1.199200532977948\n"
     ]
    },
    {
     "name": "stderr",
     "output_type": "stream",
     "text": [
      "\r",
      " 30%|██▉       | 297/1000 [1:02:56<3:06:49, 15.94s/it]"
     ]
    },
    {
     "name": "stdout",
     "output_type": "stream",
     "text": [
      "sample: 297\n",
      "(480, 15) (480, 15)\n",
      "{'testlen': 21600, 'reflen': 18382, 'guess': [21600, 21120, 20640, 20160], 'correct': [7225, 2273, 786, 347]}\n",
      "ratio: 1.1750625612011112\n"
     ]
    },
    {
     "name": "stderr",
     "output_type": "stream",
     "text": [
      "\r",
      " 30%|██▉       | 298/1000 [1:03:12<3:08:29, 16.11s/it]"
     ]
    },
    {
     "name": "stdout",
     "output_type": "stream",
     "text": [
      "sample: 298\n",
      "(480, 15) (480, 15)\n",
      "{'testlen': 21600, 'reflen': 18391, 'guess': [21600, 21120, 20640, 20160], 'correct': [7241, 2229, 672, 267]}\n",
      "ratio: 1.1744875210700247\n"
     ]
    },
    {
     "name": "stderr",
     "output_type": "stream",
     "text": [
      "\r",
      " 30%|██▉       | 299/1000 [1:03:29<3:08:49, 16.16s/it]"
     ]
    },
    {
     "name": "stdout",
     "output_type": "stream",
     "text": [
      "sample: 299\n",
      "(480, 15) (480, 15)\n",
      "{'testlen': 21600, 'reflen': 17669, 'guess': [21600, 21120, 20640, 20160], 'correct': [7145, 2281, 804, 371]}\n",
      "ratio: 1.2224800498046735\n"
     ]
    },
    {
     "name": "stderr",
     "output_type": "stream",
     "text": [
      "\r",
      " 30%|███       | 300/1000 [1:03:45<3:07:54, 16.11s/it]"
     ]
    },
    {
     "name": "stdout",
     "output_type": "stream",
     "text": [
      "sample: 300\n",
      "(480, 15) (480, 15)\n",
      "{'testlen': 21600, 'reflen': 18221, 'guess': [21600, 21120, 20640, 20160], 'correct': [7266, 2390, 848, 403]}\n",
      "ratio: 1.1854453652378472\n"
     ]
    },
    {
     "name": "stderr",
     "output_type": "stream",
     "text": [
      "\r",
      " 30%|███       | 301/1000 [1:04:01<3:10:27, 16.35s/it]"
     ]
    },
    {
     "name": "stdout",
     "output_type": "stream",
     "text": [
      "sample: 301\n",
      "(480, 15) (480, 15)\n",
      "{'testlen': 21600, 'reflen': 18106, 'guess': [21600, 21120, 20640, 20160], 'correct': [7327, 2353, 769, 338]}\n",
      "ratio: 1.1929747045177734\n"
     ]
    },
    {
     "name": "stderr",
     "output_type": "stream",
     "text": [
      "\r",
      " 30%|███       | 302/1000 [1:04:17<3:08:31, 16.21s/it]"
     ]
    },
    {
     "name": "stdout",
     "output_type": "stream",
     "text": [
      "sample: 302\n",
      "(480, 15) (480, 15)\n",
      "{'testlen': 21600, 'reflen': 18257, 'guess': [21600, 21120, 20640, 20160], 'correct': [7010, 2140, 675, 274]}\n",
      "ratio: 1.1831078490441373\n"
     ]
    },
    {
     "name": "stderr",
     "output_type": "stream",
     "text": [
      "\r",
      " 30%|███       | 303/1000 [1:04:33<3:06:53, 16.09s/it]"
     ]
    },
    {
     "name": "stdout",
     "output_type": "stream",
     "text": [
      "sample: 303\n",
      "(480, 15) (480, 15)\n",
      "{'testlen': 21600, 'reflen': 18940, 'guess': [21600, 21120, 20640, 20160], 'correct': [7238, 2251, 744, 316]}\n",
      "ratio: 1.140443505807754\n"
     ]
    },
    {
     "name": "stderr",
     "output_type": "stream",
     "text": [
      "\r",
      " 30%|███       | 304/1000 [1:04:50<3:08:18, 16.23s/it]"
     ]
    },
    {
     "name": "stdout",
     "output_type": "stream",
     "text": [
      "sample: 304\n",
      "(480, 15) (480, 15)\n",
      "{'testlen': 21600, 'reflen': 18883, 'guess': [21600, 21120, 20640, 20160], 'correct': [7326, 2302, 812, 370]}\n",
      "ratio: 1.143886035057928\n"
     ]
    },
    {
     "name": "stderr",
     "output_type": "stream",
     "text": [
      "\r",
      " 30%|███       | 305/1000 [1:05:06<3:08:49, 16.30s/it]"
     ]
    },
    {
     "name": "stdout",
     "output_type": "stream",
     "text": [
      "sample: 305\n",
      "(480, 15) (480, 15)\n",
      "{'testlen': 21600, 'reflen': 18083, 'guess': [21600, 21120, 20640, 20160], 'correct': [7145, 2256, 728, 294]}\n",
      "ratio: 1.194492064369784\n"
     ]
    },
    {
     "name": "stderr",
     "output_type": "stream",
     "text": [
      "\r",
      " 31%|███       | 306/1000 [1:05:23<3:09:03, 16.35s/it]"
     ]
    },
    {
     "name": "stdout",
     "output_type": "stream",
     "text": [
      "sample: 306\n",
      "(480, 15) (480, 15)\n",
      "{'testlen': 21600, 'reflen': 18510, 'guess': [21600, 21120, 20640, 20160], 'correct': [7161, 2224, 756, 338]}\n",
      "ratio: 1.1669367909237618\n"
     ]
    },
    {
     "name": "stderr",
     "output_type": "stream",
     "text": [
      "\r",
      " 31%|███       | 307/1000 [1:05:38<3:05:13, 16.04s/it]"
     ]
    },
    {
     "name": "stdout",
     "output_type": "stream",
     "text": [
      "sample: 307\n",
      "(480, 15) (480, 15)\n",
      "{'testlen': 21600, 'reflen': 18253, 'guess': [21600, 21120, 20640, 20160], 'correct': [7152, 2322, 824, 406]}\n",
      "ratio: 1.1833671177340062\n"
     ]
    },
    {
     "name": "stderr",
     "output_type": "stream",
     "text": [
      "\r",
      " 31%|███       | 308/1000 [1:05:53<3:01:47, 15.76s/it]"
     ]
    },
    {
     "name": "stdout",
     "output_type": "stream",
     "text": [
      "sample: 308\n",
      "(480, 15) (480, 15)\n",
      "{'testlen': 21600, 'reflen': 18119, 'guess': [21600, 21120, 20640, 20160], 'correct': [7084, 2260, 789, 360]}\n",
      "ratio: 1.1921187703514988\n"
     ]
    },
    {
     "name": "stderr",
     "output_type": "stream",
     "text": [
      "\r",
      " 31%|███       | 309/1000 [1:06:10<3:05:10, 16.08s/it]"
     ]
    },
    {
     "name": "stdout",
     "output_type": "stream",
     "text": [
      "sample: 309\n",
      "(480, 15) (480, 15)\n",
      "{'testlen': 21600, 'reflen': 18336, 'guess': [21600, 21120, 20640, 20160], 'correct': [7185, 2239, 742, 323]}\n",
      "ratio: 1.1780104712041242\n"
     ]
    },
    {
     "name": "stderr",
     "output_type": "stream",
     "text": [
      "\r",
      " 31%|███       | 310/1000 [1:06:26<3:03:35, 15.96s/it]"
     ]
    },
    {
     "name": "stdout",
     "output_type": "stream",
     "text": [
      "sample: 310\n",
      "(480, 15) (480, 15)\n",
      "{'testlen': 21600, 'reflen': 18482, 'guess': [21600, 21120, 20640, 20160], 'correct': [7008, 2056, 631, 252]}\n",
      "ratio: 1.168704685640019\n"
     ]
    },
    {
     "name": "stderr",
     "output_type": "stream",
     "text": [
      "\r",
      " 31%|███       | 311/1000 [1:06:41<3:01:20, 15.79s/it]"
     ]
    },
    {
     "name": "stdout",
     "output_type": "stream",
     "text": [
      "sample: 311\n",
      "(480, 15) (480, 15)\n",
      "{'testlen': 21600, 'reflen': 18809, 'guess': [21600, 21120, 20640, 20160], 'correct': [7197, 2242, 711, 289]}\n",
      "ratio: 1.1483864107607449\n"
     ]
    },
    {
     "name": "stderr",
     "output_type": "stream",
     "text": [
      "\r",
      " 31%|███       | 312/1000 [1:06:56<2:58:44, 15.59s/it]"
     ]
    },
    {
     "name": "stdout",
     "output_type": "stream",
     "text": [
      "sample: 312\n",
      "(480, 15) (480, 15)\n",
      "{'testlen': 21600, 'reflen': 18541, 'guess': [21600, 21120, 20640, 20160], 'correct': [7133, 2265, 756, 314]}\n",
      "ratio: 1.1649857073512127\n"
     ]
    },
    {
     "name": "stderr",
     "output_type": "stream",
     "text": [
      "\r",
      " 31%|███▏      | 313/1000 [1:07:13<3:03:39, 16.04s/it]"
     ]
    },
    {
     "name": "stdout",
     "output_type": "stream",
     "text": [
      "sample: 313\n",
      "(480, 15) (480, 15)\n",
      "{'testlen': 21600, 'reflen': 18168, 'guess': [21600, 21120, 20640, 20160], 'correct': [7178, 2292, 784, 357]}\n",
      "ratio: 1.1889035667106347\n"
     ]
    },
    {
     "name": "stderr",
     "output_type": "stream",
     "text": [
      "\r",
      " 31%|███▏      | 314/1000 [1:07:29<3:01:29, 15.87s/it]"
     ]
    },
    {
     "name": "stdout",
     "output_type": "stream",
     "text": [
      "sample: 314\n",
      "(480, 15) (480, 15)\n",
      "{'testlen': 21600, 'reflen': 18309, 'guess': [21600, 21120, 20640, 20160], 'correct': [7142, 2174, 664, 264]}\n",
      "ratio: 1.1797476650826817\n"
     ]
    },
    {
     "name": "stderr",
     "output_type": "stream",
     "text": [
      "\r",
      " 32%|███▏      | 315/1000 [1:07:45<3:02:12, 15.96s/it]"
     ]
    },
    {
     "name": "stdout",
     "output_type": "stream",
     "text": [
      "sample: 315\n",
      "(480, 15) (480, 15)\n",
      "{'testlen': 21600, 'reflen': 18118, 'guess': [21600, 21120, 20640, 20160], 'correct': [7101, 2221, 746, 324]}\n",
      "ratio: 1.1921845678330283\n"
     ]
    },
    {
     "name": "stderr",
     "output_type": "stream",
     "text": [
      "\r",
      " 32%|███▏      | 316/1000 [1:08:01<3:01:01, 15.88s/it]"
     ]
    },
    {
     "name": "stdout",
     "output_type": "stream",
     "text": [
      "sample: 316\n",
      "(480, 15) (480, 15)\n",
      "{'testlen': 21600, 'reflen': 18513, 'guess': [21600, 21120, 20640, 20160], 'correct': [7246, 2312, 841, 404]}\n",
      "ratio: 1.1667476908117989\n"
     ]
    },
    {
     "name": "stderr",
     "output_type": "stream",
     "text": [
      "\r",
      " 32%|███▏      | 317/1000 [1:08:17<3:02:11, 16.00s/it]"
     ]
    },
    {
     "name": "stdout",
     "output_type": "stream",
     "text": [
      "sample: 317\n",
      "(480, 15) (480, 15)\n",
      "{'testlen': 21600, 'reflen': 17942, 'guess': [21600, 21120, 20640, 20160], 'correct': [7177, 2192, 707, 300]}\n",
      "ratio: 1.20387916620214\n"
     ]
    },
    {
     "name": "stderr",
     "output_type": "stream",
     "text": [
      "\r",
      " 32%|███▏      | 318/1000 [1:08:33<3:01:39, 15.98s/it]"
     ]
    },
    {
     "name": "stdout",
     "output_type": "stream",
     "text": [
      "sample: 318\n",
      "(480, 15) (480, 15)\n",
      "{'testlen': 21600, 'reflen': 18232, 'guess': [21600, 21120, 20640, 20160], 'correct': [7120, 2259, 742, 303]}\n",
      "ratio: 1.184730144800286\n"
     ]
    },
    {
     "name": "stderr",
     "output_type": "stream",
     "text": [
      "\r",
      " 32%|███▏      | 319/1000 [1:08:48<2:57:38, 15.65s/it]"
     ]
    },
    {
     "name": "stdout",
     "output_type": "stream",
     "text": [
      "sample: 319\n",
      "(480, 15) (480, 15)\n",
      "{'testlen': 21600, 'reflen': 17454, 'guess': [21600, 21120, 20640, 20160], 'correct': [7165, 2243, 733, 309]}\n",
      "ratio: 1.237538673083463\n"
     ]
    },
    {
     "name": "stderr",
     "output_type": "stream",
     "text": [
      "\r",
      " 32%|███▏      | 320/1000 [1:09:03<2:56:34, 15.58s/it]"
     ]
    },
    {
     "name": "stdout",
     "output_type": "stream",
     "text": [
      "sample: 320\n",
      "(480, 15) (480, 15)\n",
      "{'testlen': 21600, 'reflen': 18215, 'guess': [21600, 21120, 20640, 20160], 'correct': [7095, 2219, 729, 308]}\n",
      "ratio: 1.1858358495744614\n"
     ]
    },
    {
     "name": "stderr",
     "output_type": "stream",
     "text": [
      "\r",
      " 32%|███▏      | 321/1000 [1:09:18<2:54:54, 15.46s/it]"
     ]
    },
    {
     "name": "stdout",
     "output_type": "stream",
     "text": [
      "sample: 321\n",
      "(480, 15) (480, 15)\n",
      "{'testlen': 21600, 'reflen': 18592, 'guess': [21600, 21120, 20640, 20160], 'correct': [7250, 2204, 715, 289]}\n",
      "ratio: 1.1617900172116415\n"
     ]
    },
    {
     "name": "stderr",
     "output_type": "stream",
     "text": [
      "\r",
      " 32%|███▏      | 322/1000 [1:09:35<2:57:56, 15.75s/it]"
     ]
    },
    {
     "name": "stdout",
     "output_type": "stream",
     "text": [
      "sample: 322\n",
      "(480, 15) (480, 15)\n",
      "{'testlen': 21600, 'reflen': 18154, 'guess': [21600, 21120, 20640, 20160], 'correct': [7047, 2181, 671, 259]}\n",
      "ratio: 1.189820425250568\n"
     ]
    },
    {
     "name": "stderr",
     "output_type": "stream",
     "text": [
      "\r",
      " 32%|███▏      | 323/1000 [1:09:50<2:54:59, 15.51s/it]"
     ]
    },
    {
     "name": "stdout",
     "output_type": "stream",
     "text": [
      "sample: 323\n",
      "(480, 15) (480, 15)\n",
      "{'testlen': 21600, 'reflen': 19198, 'guess': [21600, 21120, 20640, 20160], 'correct': [7071, 2169, 696, 281]}\n",
      "ratio: 1.1251171997082443\n"
     ]
    },
    {
     "name": "stderr",
     "output_type": "stream",
     "text": [
      "\r",
      " 32%|███▏      | 324/1000 [1:10:09<3:07:26, 16.64s/it]"
     ]
    },
    {
     "name": "stdout",
     "output_type": "stream",
     "text": [
      "sample: 324\n",
      "(480, 15) (480, 15)\n",
      "{'testlen': 21600, 'reflen': 18540, 'guess': [21600, 21120, 20640, 20160], 'correct': [7208, 2290, 756, 324]}\n",
      "ratio: 1.1650485436892575\n"
     ]
    },
    {
     "name": "stderr",
     "output_type": "stream",
     "text": [
      "\r",
      " 32%|███▎      | 325/1000 [1:10:26<3:09:25, 16.84s/it]"
     ]
    },
    {
     "name": "stdout",
     "output_type": "stream",
     "text": [
      "sample: 325\n",
      "(480, 15) (480, 15)\n",
      "{'testlen': 21600, 'reflen': 18407, 'guess': [21600, 21120, 20640, 20160], 'correct': [7162, 2297, 793, 351]}\n",
      "ratio: 1.1734666159612552\n"
     ]
    },
    {
     "name": "stderr",
     "output_type": "stream",
     "text": [
      "\r",
      " 33%|███▎      | 326/1000 [1:10:43<3:09:20, 16.86s/it]"
     ]
    },
    {
     "name": "stdout",
     "output_type": "stream",
     "text": [
      "sample: 326\n",
      "(480, 15) (480, 15)\n",
      "{'testlen': 21600, 'reflen': 18433, 'guess': [21600, 21120, 20640, 20160], 'correct': [7185, 2243, 722, 283]}\n",
      "ratio: 1.1718114251613316\n"
     ]
    },
    {
     "name": "stderr",
     "output_type": "stream",
     "text": [
      "\r",
      " 33%|███▎      | 327/1000 [1:10:58<3:02:44, 16.29s/it]"
     ]
    },
    {
     "name": "stdout",
     "output_type": "stream",
     "text": [
      "sample: 327\n",
      "(480, 15) (480, 15)\n",
      "{'testlen': 21600, 'reflen': 19025, 'guess': [21600, 21120, 20640, 20160], 'correct': [7312, 2258, 754, 331]}\n",
      "ratio: 1.1353482260183372\n"
     ]
    },
    {
     "name": "stderr",
     "output_type": "stream",
     "text": [
      "\r",
      " 33%|███▎      | 328/1000 [1:11:14<3:01:05, 16.17s/it]"
     ]
    },
    {
     "name": "stdout",
     "output_type": "stream",
     "text": [
      "sample: 328\n",
      "(480, 15) (480, 15)\n",
      "{'testlen': 21600, 'reflen': 18358, 'guess': [21600, 21120, 20640, 20160], 'correct': [7249, 2306, 825, 393]}\n",
      "ratio: 1.1765987580345802\n"
     ]
    },
    {
     "name": "stderr",
     "output_type": "stream",
     "text": [
      "\r",
      " 33%|███▎      | 329/1000 [1:11:30<3:00:55, 16.18s/it]"
     ]
    },
    {
     "name": "stdout",
     "output_type": "stream",
     "text": [
      "sample: 329\n",
      "(480, 15) (480, 15)\n",
      "{'testlen': 21600, 'reflen': 18607, 'guess': [21600, 21120, 20640, 20160], 'correct': [7274, 2317, 806, 368]}\n",
      "ratio: 1.1608534422528531\n"
     ]
    },
    {
     "name": "stderr",
     "output_type": "stream",
     "text": [
      "\r",
      " 33%|███▎      | 330/1000 [1:11:46<2:59:00, 16.03s/it]"
     ]
    },
    {
     "name": "stdout",
     "output_type": "stream",
     "text": [
      "sample: 330\n",
      "(480, 15) (480, 15)\n",
      "{'testlen': 21600, 'reflen': 18960, 'guess': [21600, 21120, 20640, 20160], 'correct': [7343, 2349, 847, 415]}\n",
      "ratio: 1.1392405063290538\n"
     ]
    },
    {
     "name": "stderr",
     "output_type": "stream",
     "text": [
      "\r",
      " 33%|███▎      | 331/1000 [1:12:01<2:56:27, 15.83s/it]"
     ]
    },
    {
     "name": "stdout",
     "output_type": "stream",
     "text": [
      "sample: 331\n",
      "(480, 15) (480, 15)\n",
      "{'testlen': 21600, 'reflen': 18308, 'guess': [21600, 21120, 20640, 20160], 'correct': [7231, 2344, 798, 347]}\n",
      "ratio: 1.1798121039981877\n"
     ]
    },
    {
     "name": "stderr",
     "output_type": "stream",
     "text": [
      "\r",
      " 33%|███▎      | 332/1000 [1:12:16<2:53:20, 15.57s/it]"
     ]
    },
    {
     "name": "stdout",
     "output_type": "stream",
     "text": [
      "sample: 332\n",
      "(480, 15) (480, 15)\n",
      "{'testlen': 21600, 'reflen': 18752, 'guess': [21600, 21120, 20640, 20160], 'correct': [7204, 2274, 787, 329]}\n",
      "ratio: 1.1518771331057407\n"
     ]
    },
    {
     "name": "stderr",
     "output_type": "stream",
     "text": [
      "\r",
      " 33%|███▎      | 333/1000 [1:12:32<2:53:13, 15.58s/it]"
     ]
    },
    {
     "name": "stdout",
     "output_type": "stream",
     "text": [
      "sample: 333\n",
      "(480, 15) (480, 15)\n",
      "{'testlen': 21600, 'reflen': 18224, 'guess': [21600, 21120, 20640, 20160], 'correct': [7118, 2167, 704, 296]}\n",
      "ratio: 1.1852502194907164\n"
     ]
    },
    {
     "name": "stderr",
     "output_type": "stream",
     "text": [
      "\r",
      " 33%|███▎      | 334/1000 [1:12:47<2:52:42, 15.56s/it]"
     ]
    },
    {
     "name": "stdout",
     "output_type": "stream",
     "text": [
      "sample: 334\n",
      "(480, 15) (480, 15)\n",
      "{'testlen': 21600, 'reflen': 17724, 'guess': [21600, 21120, 20640, 20160], 'correct': [7087, 2174, 728, 302]}\n",
      "ratio: 1.21868652674333\n"
     ]
    },
    {
     "name": "stderr",
     "output_type": "stream",
     "text": [
      "\r",
      " 34%|███▎      | 335/1000 [1:13:03<2:51:53, 15.51s/it]"
     ]
    },
    {
     "name": "stdout",
     "output_type": "stream",
     "text": [
      "sample: 335\n",
      "(480, 15) (480, 15)\n",
      "{'testlen': 21600, 'reflen': 17951, 'guess': [21600, 21120, 20640, 20160], 'correct': [7070, 2176, 725, 306]}\n",
      "ratio: 1.2032755835328837\n"
     ]
    },
    {
     "name": "stderr",
     "output_type": "stream",
     "text": [
      "\r",
      " 34%|███▎      | 336/1000 [1:13:21<2:59:57, 16.26s/it]"
     ]
    },
    {
     "name": "stdout",
     "output_type": "stream",
     "text": [
      "sample: 336\n",
      "(480, 15) (480, 15)\n",
      "{'testlen': 21600, 'reflen': 18118, 'guess': [21600, 21120, 20640, 20160], 'correct': [7191, 2343, 785, 329]}\n",
      "ratio: 1.1921845678330283\n"
     ]
    },
    {
     "name": "stderr",
     "output_type": "stream",
     "text": [
      "\r",
      " 34%|███▎      | 337/1000 [1:13:35<2:54:57, 15.83s/it]"
     ]
    },
    {
     "name": "stdout",
     "output_type": "stream",
     "text": [
      "sample: 337\n",
      "(480, 15) (480, 15)\n",
      "{'testlen': 21600, 'reflen': 18015, 'guess': [21600, 21120, 20640, 20160], 'correct': [7044, 2195, 720, 290]}\n",
      "ratio: 1.1990008326394006\n"
     ]
    },
    {
     "name": "stderr",
     "output_type": "stream",
     "text": [
      "\r",
      " 34%|███▍      | 338/1000 [1:13:52<2:55:47, 15.93s/it]"
     ]
    },
    {
     "name": "stdout",
     "output_type": "stream",
     "text": [
      "sample: 338\n",
      "(480, 15) (480, 15)\n",
      "{'testlen': 21600, 'reflen': 18162, 'guess': [21600, 21120, 20640, 20160], 'correct': [7187, 2268, 777, 343]}\n",
      "ratio: 1.1892963330029078\n"
     ]
    },
    {
     "name": "stderr",
     "output_type": "stream",
     "text": [
      "\r",
      " 34%|███▍      | 339/1000 [1:14:07<2:53:55, 15.79s/it]"
     ]
    },
    {
     "name": "stdout",
     "output_type": "stream",
     "text": [
      "sample: 339\n",
      "(480, 15) (480, 15)\n",
      "{'testlen': 21600, 'reflen': 18747, 'guess': [21600, 21120, 20640, 20160], 'correct': [7103, 2159, 676, 272]}\n",
      "ratio: 1.152184349495858\n"
     ]
    },
    {
     "name": "stderr",
     "output_type": "stream",
     "text": [
      "\r",
      " 34%|███▍      | 340/1000 [1:14:22<2:51:04, 15.55s/it]"
     ]
    },
    {
     "name": "stdout",
     "output_type": "stream",
     "text": [
      "sample: 340\n",
      "(480, 15) (480, 15)\n",
      "{'testlen': 21600, 'reflen': 18672, 'guess': [21600, 21120, 20640, 20160], 'correct': [7271, 2262, 795, 392]}\n",
      "ratio: 1.1568123393315575\n"
     ]
    },
    {
     "name": "stderr",
     "output_type": "stream",
     "text": [
      "\r",
      " 34%|███▍      | 341/1000 [1:14:39<2:56:36, 16.08s/it]"
     ]
    },
    {
     "name": "stdout",
     "output_type": "stream",
     "text": [
      "sample: 341\n",
      "(480, 15) (480, 15)\n",
      "{'testlen': 21600, 'reflen': 17960, 'guess': [21600, 21120, 20640, 20160], 'correct': [7188, 2338, 870, 440]}\n",
      "ratio: 1.202672605790579\n"
     ]
    },
    {
     "name": "stderr",
     "output_type": "stream",
     "text": [
      "\r",
      " 34%|███▍      | 342/1000 [1:14:54<2:52:41, 15.75s/it]"
     ]
    },
    {
     "name": "stdout",
     "output_type": "stream",
     "text": [
      "sample: 342\n",
      "(480, 15) (480, 15)\n",
      "{'testlen': 21600, 'reflen': 18277, 'guess': [21600, 21120, 20640, 20160], 'correct': [7138, 2188, 691, 292]}\n",
      "ratio: 1.1818132078568047\n"
     ]
    },
    {
     "name": "stderr",
     "output_type": "stream",
     "text": [
      "\r",
      " 34%|███▍      | 343/1000 [1:15:09<2:48:03, 15.35s/it]"
     ]
    },
    {
     "name": "stdout",
     "output_type": "stream",
     "text": [
      "sample: 343\n",
      "(480, 15) (480, 15)\n",
      "{'testlen': 21600, 'reflen': 18544, 'guess': [21600, 21120, 20640, 20160], 'correct': [7092, 2210, 733, 311]}\n",
      "ratio: 1.1647972389990744\n"
     ]
    },
    {
     "name": "stderr",
     "output_type": "stream",
     "text": [
      "\r",
      " 34%|███▍      | 344/1000 [1:15:26<2:52:52, 15.81s/it]"
     ]
    },
    {
     "name": "stdout",
     "output_type": "stream",
     "text": [
      "sample: 344\n",
      "(480, 15) (480, 15)\n",
      "{'testlen': 21600, 'reflen': 18418, 'guess': [21600, 21120, 20640, 20160], 'correct': [7067, 2192, 717, 301]}\n",
      "ratio: 1.1727657726136838\n"
     ]
    },
    {
     "name": "stderr",
     "output_type": "stream",
     "text": [
      "\r",
      " 34%|███▍      | 345/1000 [1:15:42<2:52:51, 15.83s/it]"
     ]
    },
    {
     "name": "stdout",
     "output_type": "stream",
     "text": [
      "sample: 345\n",
      "(480, 15) (480, 15)\n",
      "{'testlen': 21600, 'reflen': 17774, 'guess': [21600, 21120, 20640, 20160], 'correct': [7203, 2335, 811, 385]}\n",
      "ratio: 1.2152582423764366\n"
     ]
    },
    {
     "name": "stderr",
     "output_type": "stream",
     "text": [
      "\r",
      " 35%|███▍      | 346/1000 [1:15:57<2:51:53, 15.77s/it]"
     ]
    },
    {
     "name": "stdout",
     "output_type": "stream",
     "text": [
      "sample: 346\n",
      "(480, 15) (480, 15)\n",
      "{'testlen': 21600, 'reflen': 18262, 'guess': [21600, 21120, 20640, 20160], 'correct': [7121, 2224, 733, 326]}\n",
      "ratio: 1.1827839228999462\n"
     ]
    },
    {
     "name": "stderr",
     "output_type": "stream",
     "text": [
      "\r",
      " 35%|███▍      | 347/1000 [1:16:14<2:54:23, 16.02s/it]"
     ]
    },
    {
     "name": "stdout",
     "output_type": "stream",
     "text": [
      "sample: 347\n",
      "(480, 15) (480, 15)\n",
      "{'testlen': 21600, 'reflen': 18482, 'guess': [21600, 21120, 20640, 20160], 'correct': [7235, 2249, 714, 286]}\n",
      "ratio: 1.168704685640019\n"
     ]
    },
    {
     "name": "stderr",
     "output_type": "stream",
     "text": [
      "\r",
      " 35%|███▍      | 348/1000 [1:16:30<2:53:20, 15.95s/it]"
     ]
    },
    {
     "name": "stdout",
     "output_type": "stream",
     "text": [
      "sample: 348\n",
      "(480, 15) (480, 15)\n",
      "{'testlen': 21600, 'reflen': 18293, 'guess': [21600, 21120, 20640, 20160], 'correct': [7245, 2365, 902, 459]}\n",
      "ratio: 1.180779533154694\n"
     ]
    },
    {
     "name": "stderr",
     "output_type": "stream",
     "text": [
      "\r",
      " 35%|███▍      | 349/1000 [1:16:46<2:54:12, 16.06s/it]"
     ]
    },
    {
     "name": "stdout",
     "output_type": "stream",
     "text": [
      "sample: 349\n",
      "(480, 15) (480, 15)\n",
      "{'testlen': 21600, 'reflen': 17775, 'guess': [21600, 21120, 20640, 20160], 'correct': [7090, 2165, 704, 298]}\n",
      "ratio: 1.2151898734176532\n"
     ]
    },
    {
     "name": "stderr",
     "output_type": "stream",
     "text": [
      "\r",
      " 35%|███▌      | 350/1000 [1:17:01<2:52:02, 15.88s/it]"
     ]
    },
    {
     "name": "stdout",
     "output_type": "stream",
     "text": [
      "sample: 350\n",
      "(480, 15) (480, 15)\n",
      "{'testlen': 21600, 'reflen': 18422, 'guess': [21600, 21120, 20640, 20160], 'correct': [7230, 2334, 800, 375]}\n",
      "ratio: 1.1725111279990679\n"
     ]
    },
    {
     "name": "stderr",
     "output_type": "stream",
     "text": [
      "\r",
      " 35%|███▌      | 351/1000 [1:17:17<2:51:55, 15.89s/it]"
     ]
    },
    {
     "name": "stdout",
     "output_type": "stream",
     "text": [
      "sample: 351\n",
      "(480, 15) (480, 15)\n",
      "{'testlen': 21600, 'reflen': 18094, 'guess': [21600, 21120, 20640, 20160], 'correct': [7154, 2271, 801, 374]}\n",
      "ratio: 1.1937658892449876\n"
     ]
    },
    {
     "name": "stderr",
     "output_type": "stream",
     "text": [
      "\r",
      " 35%|███▌      | 352/1000 [1:17:32<2:48:53, 15.64s/it]"
     ]
    },
    {
     "name": "stdout",
     "output_type": "stream",
     "text": [
      "sample: 352\n",
      "(480, 15) (480, 15)\n",
      "{'testlen': 21600, 'reflen': 18419, 'guess': [21600, 21120, 20640, 20160], 'correct': [7256, 2271, 764, 349]}\n",
      "ratio: 1.1727021010912007\n"
     ]
    },
    {
     "name": "stderr",
     "output_type": "stream",
     "text": [
      "\r",
      " 35%|███▌      | 353/1000 [1:17:48<2:47:19, 15.52s/it]"
     ]
    },
    {
     "name": "stdout",
     "output_type": "stream",
     "text": [
      "sample: 353\n",
      "(480, 15) (480, 15)\n",
      "{'testlen': 21600, 'reflen': 18825, 'guess': [21600, 21120, 20640, 20160], 'correct': [7304, 2370, 893, 450]}\n",
      "ratio: 1.147410358565676\n"
     ]
    },
    {
     "name": "stderr",
     "output_type": "stream",
     "text": [
      "\r",
      " 35%|███▌      | 354/1000 [1:18:03<2:47:48, 15.59s/it]"
     ]
    },
    {
     "name": "stdout",
     "output_type": "stream",
     "text": [
      "sample: 354\n",
      "(480, 15) (480, 15)\n",
      "{'testlen': 21600, 'reflen': 18468, 'guess': [21600, 21120, 20640, 20160], 'correct': [7100, 2235, 743, 313]}\n",
      "ratio: 1.1695906432747905\n"
     ]
    },
    {
     "name": "stderr",
     "output_type": "stream",
     "text": [
      "\r",
      " 36%|███▌      | 355/1000 [1:18:19<2:47:35, 15.59s/it]"
     ]
    },
    {
     "name": "stdout",
     "output_type": "stream",
     "text": [
      "sample: 355\n",
      "(480, 15) (480, 15)\n",
      "{'testlen': 21600, 'reflen': 18913, 'guess': [21600, 21120, 20640, 20160], 'correct': [7274, 2324, 802, 337]}\n",
      "ratio: 1.1420715909691141\n"
     ]
    },
    {
     "name": "stderr",
     "output_type": "stream",
     "text": [
      "\r",
      " 36%|███▌      | 356/1000 [1:18:35<2:49:51, 15.83s/it]"
     ]
    },
    {
     "name": "stdout",
     "output_type": "stream",
     "text": [
      "sample: 356\n",
      "(480, 15) (480, 15)\n",
      "{'testlen': 21600, 'reflen': 18631, 'guess': [21600, 21120, 20640, 20160], 'correct': [7252, 2230, 730, 313]}\n",
      "ratio: 1.1593580591486683\n"
     ]
    },
    {
     "name": "stderr",
     "output_type": "stream",
     "text": [
      "\r",
      " 36%|███▌      | 357/1000 [1:18:51<2:48:39, 15.74s/it]"
     ]
    },
    {
     "name": "stdout",
     "output_type": "stream",
     "text": [
      "sample: 357\n",
      "(480, 15) (480, 15)\n",
      "{'testlen': 21600, 'reflen': 17354, 'guess': [21600, 21120, 20640, 20160], 'correct': [7025, 2177, 658, 256]}\n",
      "ratio: 1.244669816756872\n"
     ]
    },
    {
     "name": "stderr",
     "output_type": "stream",
     "text": [
      "\r",
      " 36%|███▌      | 358/1000 [1:19:07<2:49:10, 15.81s/it]"
     ]
    },
    {
     "name": "stdout",
     "output_type": "stream",
     "text": [
      "sample: 358\n",
      "(480, 15) (480, 15)\n",
      "{'testlen': 21600, 'reflen': 17860, 'guess': [21600, 21120, 20640, 20160], 'correct': [7158, 2249, 719, 315]}\n",
      "ratio: 1.2094064949607386\n"
     ]
    },
    {
     "name": "stderr",
     "output_type": "stream",
     "text": [
      "\r",
      " 36%|███▌      | 359/1000 [1:19:23<2:49:09, 15.83s/it]"
     ]
    },
    {
     "name": "stdout",
     "output_type": "stream",
     "text": [
      "sample: 359\n",
      "(480, 15) (480, 15)\n",
      "{'testlen': 21600, 'reflen': 18540, 'guess': [21600, 21120, 20640, 20160], 'correct': [7365, 2362, 839, 408]}\n",
      "ratio: 1.1650485436892575\n"
     ]
    },
    {
     "name": "stderr",
     "output_type": "stream",
     "text": [
      "\r",
      " 36%|███▌      | 360/1000 [1:19:37<2:45:34, 15.52s/it]"
     ]
    },
    {
     "name": "stdout",
     "output_type": "stream",
     "text": [
      "sample: 360\n",
      "(480, 15) (480, 15)\n",
      "{'testlen': 21600, 'reflen': 18748, 'guess': [21600, 21120, 20640, 20160], 'correct': [7334, 2463, 955, 490]}\n",
      "ratio: 1.1521228931085368\n"
     ]
    },
    {
     "name": "stderr",
     "output_type": "stream",
     "text": [
      "\r",
      " 36%|███▌      | 361/1000 [1:19:54<2:48:11, 15.79s/it]"
     ]
    },
    {
     "name": "stdout",
     "output_type": "stream",
     "text": [
      "sample: 361\n",
      "(480, 15) (480, 15)\n",
      "{'testlen': 21600, 'reflen': 18552, 'guess': [21600, 21120, 20640, 20160], 'correct': [7353, 2435, 910, 467]}\n",
      "ratio: 1.1642949547218\n"
     ]
    },
    {
     "name": "stderr",
     "output_type": "stream",
     "text": [
      "\r",
      " 36%|███▌      | 362/1000 [1:20:09<2:46:05, 15.62s/it]"
     ]
    },
    {
     "name": "stdout",
     "output_type": "stream",
     "text": [
      "sample: 362\n",
      "(480, 15) (480, 15)\n",
      "{'testlen': 21600, 'reflen': 17972, 'guess': [21600, 21120, 20640, 20160], 'correct': [7136, 2315, 793, 327]}\n",
      "ratio: 1.201869574894213\n"
     ]
    },
    {
     "name": "stderr",
     "output_type": "stream",
     "text": [
      "\r",
      " 36%|███▋      | 363/1000 [1:20:25<2:45:57, 15.63s/it]"
     ]
    },
    {
     "name": "stdout",
     "output_type": "stream",
     "text": [
      "sample: 363\n",
      "(480, 15) (480, 15)\n",
      "{'testlen': 21600, 'reflen': 18356, 'guess': [21600, 21120, 20640, 20160], 'correct': [7134, 2206, 693, 277]}\n",
      "ratio: 1.1767269557637188\n"
     ]
    },
    {
     "name": "stderr",
     "output_type": "stream",
     "text": [
      "\r",
      " 36%|███▋      | 364/1000 [1:20:42<2:49:06, 15.95s/it]"
     ]
    },
    {
     "name": "stdout",
     "output_type": "stream",
     "text": [
      "sample: 364\n",
      "(480, 15) (480, 15)\n",
      "{'testlen': 21600, 'reflen': 18403, 'guess': [21600, 21120, 20640, 20160], 'correct': [7090, 2223, 757, 329]}\n",
      "ratio: 1.1737216758136622\n"
     ]
    },
    {
     "name": "stderr",
     "output_type": "stream",
     "text": [
      "\r",
      " 36%|███▋      | 365/1000 [1:20:59<2:53:37, 16.41s/it]"
     ]
    },
    {
     "name": "stdout",
     "output_type": "stream",
     "text": [
      "sample: 365\n",
      "(480, 15) (480, 15)\n",
      "{'testlen': 21600, 'reflen': 17959, 'guess': [21600, 21120, 20640, 20160], 'correct': [7245, 2319, 777, 360]}\n",
      "ratio: 1.2027395734728434\n"
     ]
    },
    {
     "name": "stderr",
     "output_type": "stream",
     "text": [
      "\r",
      " 37%|███▋      | 366/1000 [1:21:16<2:54:02, 16.47s/it]"
     ]
    },
    {
     "name": "stdout",
     "output_type": "stream",
     "text": [
      "sample: 366\n",
      "(480, 15) (480, 15)\n",
      "{'testlen': 21600, 'reflen': 18836, 'guess': [21600, 21120, 20640, 20160], 'correct': [7222, 2227, 674, 246]}\n",
      "ratio: 1.1467402845614172\n"
     ]
    },
    {
     "name": "stderr",
     "output_type": "stream",
     "text": [
      "\r",
      " 37%|███▋      | 367/1000 [1:21:31<2:51:29, 16.26s/it]"
     ]
    },
    {
     "name": "stdout",
     "output_type": "stream",
     "text": [
      "sample: 367\n",
      "(480, 15) (480, 15)\n",
      "{'testlen': 21600, 'reflen': 18647, 'guess': [21600, 21120, 20640, 20160], 'correct': [7253, 2228, 714, 302]}\n",
      "ratio: 1.158363275593867\n"
     ]
    },
    {
     "name": "stderr",
     "output_type": "stream",
     "text": [
      "\r",
      " 37%|███▋      | 368/1000 [1:21:47<2:48:01, 15.95s/it]"
     ]
    },
    {
     "name": "stdout",
     "output_type": "stream",
     "text": [
      "sample: 368\n",
      "(480, 15) (480, 15)\n",
      "{'testlen': 21600, 'reflen': 18126, 'guess': [21600, 21120, 20640, 20160], 'correct': [7133, 2235, 746, 342]}\n",
      "ratio: 1.191658391261106\n"
     ]
    },
    {
     "name": "stderr",
     "output_type": "stream",
     "text": [
      "\r",
      " 37%|███▋      | 369/1000 [1:22:02<2:44:32, 15.65s/it]"
     ]
    },
    {
     "name": "stdout",
     "output_type": "stream",
     "text": [
      "sample: 369\n",
      "(480, 15) (480, 15)\n",
      "{'testlen': 21600, 'reflen': 18295, 'guess': [21600, 21120, 20640, 20160], 'correct': [7230, 2245, 696, 271]}\n",
      "ratio: 1.180650450942816\n"
     ]
    },
    {
     "name": "stderr",
     "output_type": "stream",
     "text": [
      "\r",
      " 37%|███▋      | 370/1000 [1:22:17<2:43:01, 15.53s/it]"
     ]
    },
    {
     "name": "stdout",
     "output_type": "stream",
     "text": [
      "sample: 370\n",
      "(480, 15) (480, 15)\n",
      "{'testlen': 21600, 'reflen': 18276, 'guess': [21600, 21120, 20640, 20160], 'correct': [7293, 2292, 744, 310]}\n",
      "ratio: 1.1818778726197645\n"
     ]
    },
    {
     "name": "stderr",
     "output_type": "stream",
     "text": [
      "\r",
      " 37%|███▋      | 371/1000 [1:22:32<2:42:47, 15.53s/it]"
     ]
    },
    {
     "name": "stdout",
     "output_type": "stream",
     "text": [
      "sample: 371\n",
      "(480, 15) (480, 15)\n",
      "{'testlen': 21600, 'reflen': 18329, 'guess': [21600, 21120, 20640, 20160], 'correct': [7341, 2338, 802, 365]}\n",
      "ratio: 1.1784603633585478\n"
     ]
    },
    {
     "name": "stderr",
     "output_type": "stream",
     "text": [
      "\r",
      " 37%|███▋      | 372/1000 [1:22:50<2:49:03, 16.15s/it]"
     ]
    },
    {
     "name": "stdout",
     "output_type": "stream",
     "text": [
      "sample: 372\n",
      "(480, 15) (480, 15)\n",
      "{'testlen': 21600, 'reflen': 17914, 'guess': [21600, 21120, 20640, 20160], 'correct': [7115, 2224, 710, 317]}\n",
      "ratio: 1.2057608574298757\n"
     ]
    },
    {
     "name": "stderr",
     "output_type": "stream",
     "text": [
      "\r",
      " 37%|███▋      | 373/1000 [1:23:05<2:46:15, 15.91s/it]"
     ]
    },
    {
     "name": "stdout",
     "output_type": "stream",
     "text": [
      "sample: 373\n",
      "(480, 15) (480, 15)\n",
      "{'testlen': 21600, 'reflen': 18359, 'guess': [21600, 21120, 20640, 20160], 'correct': [7242, 2286, 783, 354]}\n",
      "ratio: 1.176534669644252\n"
     ]
    },
    {
     "name": "stderr",
     "output_type": "stream",
     "text": [
      "\r",
      " 37%|███▋      | 374/1000 [1:23:22<2:47:08, 16.02s/it]"
     ]
    },
    {
     "name": "stdout",
     "output_type": "stream",
     "text": [
      "sample: 374\n",
      "(480, 15) (480, 15)\n",
      "{'testlen': 21600, 'reflen': 18402, 'guess': [21600, 21120, 20640, 20160], 'correct': [7090, 2195, 687, 280]}\n",
      "ratio: 1.1737854581023164\n"
     ]
    },
    {
     "name": "stderr",
     "output_type": "stream",
     "text": [
      "\r",
      " 38%|███▊      | 375/1000 [1:23:37<2:45:03, 15.85s/it]"
     ]
    },
    {
     "name": "stdout",
     "output_type": "stream",
     "text": [
      "sample: 375\n",
      "(480, 15) (480, 15)\n",
      "{'testlen': 21600, 'reflen': 18047, 'guess': [21600, 21120, 20640, 20160], 'correct': [7334, 2410, 854, 397]}\n",
      "ratio: 1.19687482684096\n"
     ]
    },
    {
     "name": "stderr",
     "output_type": "stream",
     "text": [
      "\r",
      " 38%|███▊      | 376/1000 [1:23:53<2:46:06, 15.97s/it]"
     ]
    },
    {
     "name": "stdout",
     "output_type": "stream",
     "text": [
      "sample: 376\n",
      "(480, 15) (480, 15)\n",
      "{'testlen': 21600, 'reflen': 17866, 'guess': [21600, 21120, 20640, 20160], 'correct': [7238, 2290, 784, 365]}\n",
      "ratio: 1.209000335833359\n"
     ]
    },
    {
     "name": "stderr",
     "output_type": "stream",
     "text": [
      "\r",
      " 38%|███▊      | 377/1000 [1:24:08<2:43:02, 15.70s/it]"
     ]
    },
    {
     "name": "stdout",
     "output_type": "stream",
     "text": [
      "sample: 377\n",
      "(480, 15) (480, 15)\n",
      "{'testlen': 21600, 'reflen': 17926, 'guess': [21600, 21120, 20640, 20160], 'correct': [7020, 2130, 674, 270]}\n",
      "ratio: 1.2049536985383686\n"
     ]
    },
    {
     "name": "stderr",
     "output_type": "stream",
     "text": [
      "\r",
      " 38%|███▊      | 378/1000 [1:24:24<2:43:39, 15.79s/it]"
     ]
    },
    {
     "name": "stdout",
     "output_type": "stream",
     "text": [
      "sample: 378\n",
      "(480, 15) (480, 15)\n",
      "{'testlen': 21600, 'reflen': 17822, 'guess': [21600, 21120, 20640, 20160], 'correct': [7090, 2238, 728, 307]}\n",
      "ratio: 1.2119851868476483\n"
     ]
    },
    {
     "name": "stderr",
     "output_type": "stream",
     "text": [
      "\r",
      " 38%|███▊      | 379/1000 [1:24:40<2:44:35, 15.90s/it]"
     ]
    },
    {
     "name": "stdout",
     "output_type": "stream",
     "text": [
      "sample: 379\n",
      "(480, 15) (480, 15)\n",
      "{'testlen': 21600, 'reflen': 18308, 'guess': [21600, 21120, 20640, 20160], 'correct': [7100, 2161, 678, 277]}\n",
      "ratio: 1.1798121039981877\n"
     ]
    },
    {
     "name": "stderr",
     "output_type": "stream",
     "text": [
      "\r",
      " 38%|███▊      | 380/1000 [1:24:56<2:42:31, 15.73s/it]"
     ]
    },
    {
     "name": "stdout",
     "output_type": "stream",
     "text": [
      "sample: 380\n",
      "(480, 15) (480, 15)\n",
      "{'testlen': 21600, 'reflen': 18385, 'guess': [21600, 21120, 20640, 20160], 'correct': [7238, 2245, 718, 314]}\n",
      "ratio: 1.1748708186020573\n"
     ]
    },
    {
     "name": "stderr",
     "output_type": "stream",
     "text": [
      "\r",
      " 38%|███▊      | 381/1000 [1:25:12<2:43:30, 15.85s/it]"
     ]
    },
    {
     "name": "stdout",
     "output_type": "stream",
     "text": [
      "sample: 381\n",
      "(480, 15) (480, 15)\n",
      "{'testlen': 21600, 'reflen': 18092, 'guess': [21600, 21120, 20640, 20160], 'correct': [7174, 2277, 766, 345]}\n",
      "ratio: 1.193897855405638\n"
     ]
    },
    {
     "name": "stderr",
     "output_type": "stream",
     "text": [
      "\r",
      " 38%|███▊      | 382/1000 [1:25:28<2:44:38, 15.98s/it]"
     ]
    },
    {
     "name": "stdout",
     "output_type": "stream",
     "text": [
      "sample: 382\n",
      "(480, 15) (480, 15)\n",
      "{'testlen': 21600, 'reflen': 18585, 'guess': [21600, 21120, 20640, 20160], 'correct': [7248, 2304, 816, 392]}\n",
      "ratio: 1.1622276029055065\n"
     ]
    },
    {
     "name": "stderr",
     "output_type": "stream",
     "text": [
      "\r",
      " 38%|███▊      | 383/1000 [1:25:44<2:43:54, 15.94s/it]"
     ]
    },
    {
     "name": "stdout",
     "output_type": "stream",
     "text": [
      "sample: 383\n",
      "(480, 15) (480, 15)\n",
      "{'testlen': 21600, 'reflen': 17051, 'guess': [21600, 21120, 20640, 20160], 'correct': [7128, 2330, 820, 385]}\n",
      "ratio: 1.266787871679006\n"
     ]
    },
    {
     "name": "stderr",
     "output_type": "stream",
     "text": [
      "\r",
      " 38%|███▊      | 384/1000 [1:26:01<2:45:53, 16.16s/it]"
     ]
    },
    {
     "name": "stdout",
     "output_type": "stream",
     "text": [
      "sample: 384\n",
      "(480, 15) (480, 15)\n",
      "{'testlen': 21600, 'reflen': 18547, 'guess': [21600, 21120, 20640, 20160], 'correct': [7342, 2406, 893, 481]}\n",
      "ratio: 1.1646088316169103\n"
     ]
    },
    {
     "name": "stderr",
     "output_type": "stream",
     "text": [
      "\r",
      " 38%|███▊      | 385/1000 [1:26:17<2:45:39, 16.16s/it]"
     ]
    },
    {
     "name": "stdout",
     "output_type": "stream",
     "text": [
      "sample: 385\n",
      "(480, 15) (480, 15)\n",
      "{'testlen': 21600, 'reflen': 19192, 'guess': [21600, 21120, 20640, 20160], 'correct': [7335, 2306, 813, 391]}\n",
      "ratio: 1.1254689453938556\n"
     ]
    },
    {
     "name": "stderr",
     "output_type": "stream",
     "text": [
      "\r",
      " 39%|███▊      | 386/1000 [1:26:33<2:44:26, 16.07s/it]"
     ]
    },
    {
     "name": "stdout",
     "output_type": "stream",
     "text": [
      "sample: 386\n",
      "(480, 15) (480, 15)\n",
      "{'testlen': 21600, 'reflen': 18439, 'guess': [21600, 21120, 20640, 20160], 'correct': [7153, 2226, 705, 298]}\n",
      "ratio: 1.17143012093925\n"
     ]
    },
    {
     "name": "stderr",
     "output_type": "stream",
     "text": [
      "\r",
      " 39%|███▊      | 387/1000 [1:26:49<2:45:26, 16.19s/it]"
     ]
    },
    {
     "name": "stdout",
     "output_type": "stream",
     "text": [
      "sample: 387\n",
      "(480, 15) (480, 15)\n",
      "{'testlen': 21600, 'reflen': 19075, 'guess': [21600, 21120, 20640, 20160], 'correct': [7233, 2299, 785, 353]}\n",
      "ratio: 1.132372214940963\n"
     ]
    },
    {
     "name": "stderr",
     "output_type": "stream",
     "text": [
      "\r",
      " 39%|███▉      | 388/1000 [1:27:05<2:43:28, 16.03s/it]"
     ]
    },
    {
     "name": "stdout",
     "output_type": "stream",
     "text": [
      "sample: 388\n",
      "(480, 15) (480, 15)\n",
      "{'testlen': 21600, 'reflen': 17864, 'guess': [21600, 21120, 20640, 20160], 'correct': [7168, 2270, 761, 332]}\n",
      "ratio: 1.2091356918942449\n"
     ]
    },
    {
     "name": "stderr",
     "output_type": "stream",
     "text": [
      "\r",
      " 39%|███▉      | 389/1000 [1:27:21<2:42:48, 15.99s/it]"
     ]
    },
    {
     "name": "stdout",
     "output_type": "stream",
     "text": [
      "sample: 389\n",
      "(480, 15) (480, 15)\n",
      "{'testlen': 21600, 'reflen': 18417, 'guess': [21600, 21120, 20640, 20160], 'correct': [7156, 2200, 697, 272]}\n",
      "ratio: 1.172829451050596\n"
     ]
    },
    {
     "name": "stderr",
     "output_type": "stream",
     "text": [
      "\r",
      " 39%|███▉      | 390/1000 [1:27:36<2:39:33, 15.69s/it]"
     ]
    },
    {
     "name": "stdout",
     "output_type": "stream",
     "text": [
      "sample: 390\n",
      "(480, 15) (480, 15)\n",
      "{'testlen': 21600, 'reflen': 17924, 'guess': [21600, 21120, 20640, 20160], 'correct': [7372, 2510, 920, 464]}\n",
      "ratio: 1.205088149966458\n"
     ]
    },
    {
     "name": "stderr",
     "output_type": "stream",
     "text": [
      "\r",
      " 39%|███▉      | 391/1000 [1:27:52<2:40:21, 15.80s/it]"
     ]
    },
    {
     "name": "stdout",
     "output_type": "stream",
     "text": [
      "sample: 391\n",
      "(480, 15) (480, 15)\n",
      "{'testlen': 21600, 'reflen': 18392, 'guess': [21600, 21120, 20640, 20160], 'correct': [6997, 2153, 670, 273]}\n",
      "ratio: 1.174423662461876\n"
     ]
    },
    {
     "name": "stderr",
     "output_type": "stream",
     "text": [
      "\r",
      " 39%|███▉      | 392/1000 [1:28:07<2:38:46, 15.67s/it]"
     ]
    },
    {
     "name": "stdout",
     "output_type": "stream",
     "text": [
      "sample: 392\n",
      "(480, 15) (480, 15)\n",
      "{'testlen': 21600, 'reflen': 18643, 'guess': [21600, 21120, 20640, 20160], 'correct': [7058, 2187, 723, 286]}\n",
      "ratio: 1.1586118114036819\n"
     ]
    },
    {
     "name": "stderr",
     "output_type": "stream",
     "text": [
      "\r",
      " 39%|███▉      | 393/1000 [1:28:25<2:43:32, 16.17s/it]"
     ]
    },
    {
     "name": "stdout",
     "output_type": "stream",
     "text": [
      "sample: 393\n",
      "(480, 15) (480, 15)\n",
      "{'testlen': 21600, 'reflen': 17899, 'guess': [21600, 21120, 20640, 20160], 'correct': [7154, 2236, 727, 321]}\n",
      "ratio: 1.2067713280070838\n"
     ]
    },
    {
     "name": "stderr",
     "output_type": "stream",
     "text": [
      "\r",
      " 39%|███▉      | 394/1000 [1:28:40<2:41:10, 15.96s/it]"
     ]
    },
    {
     "name": "stdout",
     "output_type": "stream",
     "text": [
      "sample: 394\n",
      "(480, 15) (480, 15)\n",
      "{'testlen': 21600, 'reflen': 18363, 'guess': [21600, 21120, 20640, 20160], 'correct': [7098, 2219, 751, 326]}\n",
      "ratio: 1.1762783858845953\n"
     ]
    },
    {
     "name": "stderr",
     "output_type": "stream",
     "text": [
      "\r",
      " 40%|███▉      | 395/1000 [1:28:56<2:41:48, 16.05s/it]"
     ]
    },
    {
     "name": "stdout",
     "output_type": "stream",
     "text": [
      "sample: 395\n",
      "(480, 15) (480, 15)\n",
      "{'testlen': 21600, 'reflen': 18037, 'guess': [21600, 21120, 20640, 20160], 'correct': [7087, 2202, 704, 268]}\n",
      "ratio: 1.1975383933025892\n"
     ]
    },
    {
     "name": "stderr",
     "output_type": "stream",
     "text": [
      "\r",
      " 40%|███▉      | 396/1000 [1:29:12<2:42:03, 16.10s/it]"
     ]
    },
    {
     "name": "stdout",
     "output_type": "stream",
     "text": [
      "sample: 396\n",
      "(480, 15) (480, 15)\n",
      "{'testlen': 21600, 'reflen': 18594, 'guess': [21600, 21120, 20640, 20160], 'correct': [7088, 2161, 710, 302]}\n",
      "ratio: 1.1616650532429191\n"
     ]
    },
    {
     "name": "stderr",
     "output_type": "stream",
     "text": [
      "\r",
      " 40%|███▉      | 397/1000 [1:29:30<2:45:00, 16.42s/it]"
     ]
    },
    {
     "name": "stdout",
     "output_type": "stream",
     "text": [
      "sample: 397\n",
      "(480, 15) (480, 15)\n",
      "{'testlen': 21600, 'reflen': 18495, 'guess': [21600, 21120, 20640, 20160], 'correct': [7184, 2212, 689, 269]}\n",
      "ratio: 1.167883211678769\n"
     ]
    },
    {
     "name": "stderr",
     "output_type": "stream",
     "text": [
      "\r",
      " 40%|███▉      | 398/1000 [1:29:45<2:41:19, 16.08s/it]"
     ]
    },
    {
     "name": "stdout",
     "output_type": "stream",
     "text": [
      "sample: 398\n",
      "(480, 15) (480, 15)\n",
      "{'testlen': 21600, 'reflen': 18125, 'guess': [21600, 21120, 20640, 20160], 'correct': [7172, 2277, 781, 361]}\n",
      "ratio: 1.1917241379309687\n"
     ]
    },
    {
     "name": "stderr",
     "output_type": "stream",
     "text": [
      "\r",
      " 40%|███▉      | 399/1000 [1:30:02<2:43:13, 16.30s/it]"
     ]
    },
    {
     "name": "stdout",
     "output_type": "stream",
     "text": [
      "sample: 399\n",
      "(480, 15) (480, 15)\n",
      "{'testlen': 21600, 'reflen': 18601, 'guess': [21600, 21120, 20640, 20160], 'correct': [7172, 2256, 767, 344]}\n",
      "ratio: 1.1612278909735412\n"
     ]
    },
    {
     "name": "stderr",
     "output_type": "stream",
     "text": [
      "\r",
      " 40%|████      | 400/1000 [1:30:18<2:42:23, 16.24s/it]"
     ]
    },
    {
     "name": "stdout",
     "output_type": "stream",
     "text": [
      "sample: 400\n",
      "(480, 15) (480, 15)\n",
      "{'testlen': 21600, 'reflen': 18330, 'guess': [21600, 21120, 20640, 20160], 'correct': [7160, 2293, 796, 354]}\n",
      "ratio: 1.1783960720130289\n"
     ]
    },
    {
     "name": "stderr",
     "output_type": "stream",
     "text": [
      "\r",
      " 40%|████      | 401/1000 [1:30:33<2:39:52, 16.01s/it]"
     ]
    },
    {
     "name": "stdout",
     "output_type": "stream",
     "text": [
      "sample: 401\n",
      "(480, 15) (480, 15)\n",
      "{'testlen': 21600, 'reflen': 18665, 'guess': [21600, 21120, 20640, 20160], 'correct': [7185, 2209, 704, 277]}\n",
      "ratio: 1.1572461826948215\n"
     ]
    },
    {
     "name": "stderr",
     "output_type": "stream",
     "text": [
      "\r",
      " 40%|████      | 402/1000 [1:30:49<2:39:44, 16.03s/it]"
     ]
    },
    {
     "name": "stdout",
     "output_type": "stream",
     "text": [
      "sample: 402\n",
      "(480, 15) (480, 15)\n",
      "{'testlen': 21600, 'reflen': 18229, 'guess': [21600, 21120, 20640, 20160], 'correct': [7185, 2281, 708, 288]}\n",
      "ratio: 1.1849251193153116\n"
     ]
    },
    {
     "name": "stderr",
     "output_type": "stream",
     "text": [
      "\r",
      " 40%|████      | 403/1000 [1:31:05<2:38:40, 15.95s/it]"
     ]
    },
    {
     "name": "stdout",
     "output_type": "stream",
     "text": [
      "sample: 403\n",
      "(480, 15) (480, 15)\n",
      "{'testlen': 21600, 'reflen': 17840, 'guess': [21600, 21120, 20640, 20160], 'correct': [7198, 2298, 775, 351]}\n",
      "ratio: 1.210762331838497\n"
     ]
    },
    {
     "name": "stderr",
     "output_type": "stream",
     "text": [
      "\r",
      " 40%|████      | 404/1000 [1:31:21<2:39:23, 16.05s/it]"
     ]
    },
    {
     "name": "stdout",
     "output_type": "stream",
     "text": [
      "sample: 404\n",
      "(480, 15) (480, 15)\n",
      "{'testlen': 21600, 'reflen': 18050, 'guess': [21600, 21120, 20640, 20160], 'correct': [7174, 2241, 777, 355]}\n",
      "ratio: 1.196675900276942\n"
     ]
    },
    {
     "name": "stderr",
     "output_type": "stream",
     "text": [
      "\r",
      " 40%|████      | 405/1000 [1:31:42<2:51:26, 17.29s/it]"
     ]
    },
    {
     "name": "stdout",
     "output_type": "stream",
     "text": [
      "sample: 405\n",
      "(480, 15) (480, 15)\n",
      "{'testlen': 21600, 'reflen': 17747, 'guess': [21600, 21120, 20640, 20160], 'correct': [7217, 2276, 761, 348]}\n",
      "ratio: 1.217107116695711\n"
     ]
    },
    {
     "name": "stderr",
     "output_type": "stream",
     "text": [
      "\r",
      " 41%|████      | 406/1000 [1:31:52<2:30:07, 15.16s/it]"
     ]
    },
    {
     "name": "stdout",
     "output_type": "stream",
     "text": [
      "sample: 406\n",
      "(480, 15) (480, 15)\n",
      "{'testlen': 21600, 'reflen': 17985, 'guess': [21600, 21120, 20640, 20160], 'correct': [7184, 2188, 678, 256]}\n",
      "ratio: 1.20100083402829\n"
     ]
    },
    {
     "name": "stderr",
     "output_type": "stream",
     "text": [
      "\r",
      " 41%|████      | 407/1000 [1:32:02<2:15:03, 13.67s/it]"
     ]
    },
    {
     "name": "stdout",
     "output_type": "stream",
     "text": [
      "sample: 407\n",
      "(480, 15) (480, 15)\n",
      "{'testlen': 21600, 'reflen': 18259, 'guess': [21600, 21120, 20640, 20160], 'correct': [7142, 2249, 717, 281]}\n",
      "ratio: 1.1829782572977061\n"
     ]
    },
    {
     "name": "stderr",
     "output_type": "stream",
     "text": [
      "\r",
      " 41%|████      | 408/1000 [1:32:13<2:06:09, 12.79s/it]"
     ]
    },
    {
     "name": "stdout",
     "output_type": "stream",
     "text": [
      "sample: 408\n",
      "(480, 15) (480, 15)\n",
      "{'testlen': 21600, 'reflen': 18903, 'guess': [21600, 21120, 20640, 20160], 'correct': [7273, 2256, 712, 284]}\n",
      "ratio: 1.1426757657514075\n"
     ]
    },
    {
     "name": "stderr",
     "output_type": "stream",
     "text": [
      "\r",
      " 41%|████      | 409/1000 [1:32:23<1:59:08, 12.10s/it]"
     ]
    },
    {
     "name": "stdout",
     "output_type": "stream",
     "text": [
      "sample: 409\n",
      "(480, 15) (480, 15)\n",
      "{'testlen': 21600, 'reflen': 18168, 'guess': [21600, 21120, 20640, 20160], 'correct': [7179, 2287, 774, 346]}\n",
      "ratio: 1.1889035667106347\n"
     ]
    },
    {
     "name": "stderr",
     "output_type": "stream",
     "text": [
      "\r",
      " 41%|████      | 410/1000 [1:32:33<1:53:30, 11.54s/it]"
     ]
    },
    {
     "name": "stdout",
     "output_type": "stream",
     "text": [
      "sample: 410\n",
      "(480, 15) (480, 15)\n",
      "{'testlen': 21600, 'reflen': 18074, 'guess': [21600, 21120, 20640, 20160], 'correct': [7288, 2290, 743, 283]}\n",
      "ratio: 1.1950868651100368\n"
     ]
    },
    {
     "name": "stderr",
     "output_type": "stream",
     "text": [
      "\r",
      " 41%|████      | 411/1000 [1:32:44<1:51:32, 11.36s/it]"
     ]
    },
    {
     "name": "stdout",
     "output_type": "stream",
     "text": [
      "sample: 411\n",
      "(480, 15) (480, 15)\n",
      "{'testlen': 21600, 'reflen': 18274, 'guess': [21600, 21120, 20640, 20160], 'correct': [7290, 2356, 792, 345]}\n",
      "ratio: 1.1820072233774115\n"
     ]
    },
    {
     "name": "stderr",
     "output_type": "stream",
     "text": [
      "\r",
      " 41%|████      | 412/1000 [1:32:55<1:48:22, 11.06s/it]"
     ]
    },
    {
     "name": "stdout",
     "output_type": "stream",
     "text": [
      "sample: 412\n",
      "(480, 15) (480, 15)\n",
      "{'testlen': 21600, 'reflen': 18600, 'guess': [21600, 21120, 20640, 20160], 'correct': [7157, 2258, 756, 334]}\n",
      "ratio: 1.1612903225805826\n"
     ]
    },
    {
     "name": "stderr",
     "output_type": "stream",
     "text": [
      "\r",
      " 41%|████▏     | 413/1000 [1:33:05<1:45:22, 10.77s/it]"
     ]
    },
    {
     "name": "stdout",
     "output_type": "stream",
     "text": [
      "sample: 413\n",
      "(480, 15) (480, 15)\n",
      "{'testlen': 21600, 'reflen': 17811, 'guess': [21600, 21120, 20640, 20160], 'correct': [7206, 2364, 855, 413]}\n",
      "ratio: 1.212733703890786\n"
     ]
    },
    {
     "name": "stderr",
     "output_type": "stream",
     "text": [
      "\r",
      " 41%|████▏     | 414/1000 [1:33:15<1:44:43, 10.72s/it]"
     ]
    },
    {
     "name": "stdout",
     "output_type": "stream",
     "text": [
      "sample: 414\n",
      "(480, 15) (480, 15)\n",
      "{'testlen': 21600, 'reflen': 18114, 'guess': [21600, 21120, 20640, 20160], 'correct': [6999, 2209, 757, 325]}\n",
      "ratio: 1.1924478304073538\n"
     ]
    },
    {
     "name": "stderr",
     "output_type": "stream",
     "text": [
      "\r",
      " 42%|████▏     | 415/1000 [1:33:26<1:43:24, 10.61s/it]"
     ]
    },
    {
     "name": "stdout",
     "output_type": "stream",
     "text": [
      "sample: 415\n",
      "(480, 15) (480, 15)\n",
      "{'testlen': 21600, 'reflen': 18477, 'guess': [21600, 21120, 20640, 20160], 'correct': [7055, 2202, 705, 281]}\n",
      "ratio: 1.1690209449585338\n"
     ]
    },
    {
     "name": "stderr",
     "output_type": "stream",
     "text": [
      "\r",
      " 42%|████▏     | 416/1000 [1:33:37<1:45:32, 10.84s/it]"
     ]
    },
    {
     "name": "stdout",
     "output_type": "stream",
     "text": [
      "sample: 416\n",
      "(480, 15) (480, 15)\n",
      "{'testlen': 21600, 'reflen': 17999, 'guess': [21600, 21120, 20640, 20160], 'correct': [7178, 2290, 769, 356]}\n",
      "ratio: 1.2000666703705094\n"
     ]
    },
    {
     "name": "stderr",
     "output_type": "stream",
     "text": [
      "\r",
      " 42%|████▏     | 417/1000 [1:33:48<1:44:15, 10.73s/it]"
     ]
    },
    {
     "name": "stdout",
     "output_type": "stream",
     "text": [
      "sample: 417\n",
      "(480, 15) (480, 15)\n",
      "{'testlen': 21600, 'reflen': 18678, 'guess': [21600, 21120, 20640, 20160], 'correct': [7333, 2277, 755, 321]}\n",
      "ratio: 1.156440732412402\n"
     ]
    },
    {
     "name": "stderr",
     "output_type": "stream",
     "text": [
      "\r",
      " 42%|████▏     | 418/1000 [1:33:59<1:45:07, 10.84s/it]"
     ]
    },
    {
     "name": "stdout",
     "output_type": "stream",
     "text": [
      "sample: 418\n",
      "(480, 15) (480, 15)\n",
      "{'testlen': 21600, 'reflen': 18557, 'guess': [21600, 21120, 20640, 20160], 'correct': [7272, 2312, 825, 384]}\n",
      "ratio: 1.163981246968736\n"
     ]
    },
    {
     "name": "stderr",
     "output_type": "stream",
     "text": [
      "\r",
      " 42%|████▏     | 419/1000 [1:34:10<1:45:53, 10.94s/it]"
     ]
    },
    {
     "name": "stdout",
     "output_type": "stream",
     "text": [
      "sample: 419\n",
      "(480, 15) (480, 15)\n",
      "{'testlen': 21600, 'reflen': 17761, 'guess': [21600, 21120, 20640, 20160], 'correct': [7105, 2255, 736, 299]}\n",
      "ratio: 1.2161477394290177\n"
     ]
    },
    {
     "name": "stderr",
     "output_type": "stream",
     "text": [
      "\r",
      " 42%|████▏     | 420/1000 [1:34:20<1:43:57, 10.75s/it]"
     ]
    },
    {
     "name": "stdout",
     "output_type": "stream",
     "text": [
      "sample: 420\n",
      "(480, 15) (480, 15)\n",
      "{'testlen': 21600, 'reflen': 18037, 'guess': [21600, 21120, 20640, 20160], 'correct': [7233, 2265, 772, 352]}\n",
      "ratio: 1.1975383933025892\n"
     ]
    },
    {
     "name": "stderr",
     "output_type": "stream",
     "text": [
      "\r",
      " 42%|████▏     | 421/1000 [1:34:31<1:43:32, 10.73s/it]"
     ]
    },
    {
     "name": "stdout",
     "output_type": "stream",
     "text": [
      "sample: 421\n",
      "(480, 15) (480, 15)\n",
      "{'testlen': 21600, 'reflen': 18025, 'guess': [21600, 21120, 20640, 20160], 'correct': [7179, 2343, 833, 413]}\n",
      "ratio: 1.1983356449375202\n"
     ]
    },
    {
     "name": "stderr",
     "output_type": "stream",
     "text": [
      "\r",
      " 42%|████▏     | 422/1000 [1:34:42<1:43:12, 10.71s/it]"
     ]
    },
    {
     "name": "stdout",
     "output_type": "stream",
     "text": [
      "sample: 422\n",
      "(480, 15) (480, 15)\n",
      "{'testlen': 21600, 'reflen': 17651, 'guess': [21600, 21120, 20640, 20160], 'correct': [7018, 2218, 748, 330]}\n",
      "ratio: 1.223726701036699\n"
     ]
    },
    {
     "name": "stderr",
     "output_type": "stream",
     "text": [
      "\r",
      " 42%|████▏     | 423/1000 [1:34:52<1:42:51, 10.70s/it]"
     ]
    },
    {
     "name": "stdout",
     "output_type": "stream",
     "text": [
      "sample: 423\n",
      "(480, 15) (480, 15)\n",
      "{'testlen': 21600, 'reflen': 18101, 'guess': [21600, 21120, 20640, 20160], 'correct': [7172, 2234, 708, 283]}\n",
      "ratio: 1.1933042373348879\n"
     ]
    },
    {
     "name": "stderr",
     "output_type": "stream",
     "text": [
      "\r",
      " 42%|████▏     | 424/1000 [1:35:03<1:42:35, 10.69s/it]"
     ]
    },
    {
     "name": "stdout",
     "output_type": "stream",
     "text": [
      "sample: 424\n",
      "(480, 15) (480, 15)\n",
      "{'testlen': 21600, 'reflen': 17860, 'guess': [21600, 21120, 20640, 20160], 'correct': [6986, 2189, 718, 297]}\n",
      "ratio: 1.2094064949607386\n"
     ]
    },
    {
     "name": "stderr",
     "output_type": "stream",
     "text": [
      "\r",
      " 42%|████▎     | 425/1000 [1:35:13<1:41:45, 10.62s/it]"
     ]
    },
    {
     "name": "stdout",
     "output_type": "stream",
     "text": [
      "sample: 425\n",
      "(480, 15) (480, 15)\n",
      "{'testlen': 21600, 'reflen': 18560, 'guess': [21600, 21120, 20640, 20160], 'correct': [7142, 2234, 764, 337]}\n",
      "ratio: 1.1637931034482132\n"
     ]
    },
    {
     "name": "stderr",
     "output_type": "stream",
     "text": [
      "\r",
      " 43%|████▎     | 426/1000 [1:35:24<1:41:49, 10.64s/it]"
     ]
    },
    {
     "name": "stdout",
     "output_type": "stream",
     "text": [
      "sample: 426\n",
      "(480, 15) (480, 15)\n",
      "{'testlen': 21600, 'reflen': 19056, 'guess': [21600, 21120, 20640, 20160], 'correct': [7282, 2272, 780, 360]}\n",
      "ratio: 1.1335012594457843\n"
     ]
    },
    {
     "name": "stderr",
     "output_type": "stream",
     "text": [
      "\r",
      " 43%|████▎     | 427/1000 [1:35:35<1:42:50, 10.77s/it]"
     ]
    },
    {
     "name": "stdout",
     "output_type": "stream",
     "text": [
      "sample: 427\n",
      "(480, 15) (480, 15)\n",
      "{'testlen': 21600, 'reflen': 18144, 'guess': [21600, 21120, 20640, 20160], 'correct': [7102, 2202, 728, 307]}\n",
      "ratio: 1.1904761904761247\n"
     ]
    },
    {
     "name": "stderr",
     "output_type": "stream",
     "text": [
      "\r",
      " 43%|████▎     | 428/1000 [1:35:46<1:41:48, 10.68s/it]"
     ]
    },
    {
     "name": "stdout",
     "output_type": "stream",
     "text": [
      "sample: 428\n",
      "(480, 15) (480, 15)\n",
      "{'testlen': 21600, 'reflen': 17589, 'guess': [21600, 21120, 20640, 20160], 'correct': [7204, 2245, 742, 330]}\n",
      "ratio: 1.2280402524304266\n"
     ]
    },
    {
     "name": "stderr",
     "output_type": "stream",
     "text": [
      "\r",
      " 43%|████▎     | 429/1000 [1:35:56<1:40:42, 10.58s/it]"
     ]
    },
    {
     "name": "stdout",
     "output_type": "stream",
     "text": [
      "sample: 429\n",
      "(480, 15) (480, 15)\n",
      "{'testlen': 21600, 'reflen': 18111, 'guess': [21600, 21120, 20640, 20160], 'correct': [7209, 2333, 815, 364]}\n",
      "ratio: 1.1926453536524104\n"
     ]
    },
    {
     "name": "stderr",
     "output_type": "stream",
     "text": [
      "\r",
      " 43%|████▎     | 430/1000 [1:36:06<1:39:44, 10.50s/it]"
     ]
    },
    {
     "name": "stdout",
     "output_type": "stream",
     "text": [
      "sample: 430\n",
      "(480, 15) (480, 15)\n",
      "{'testlen': 21600, 'reflen': 18229, 'guess': [21600, 21120, 20640, 20160], 'correct': [7156, 2193, 713, 286]}\n",
      "ratio: 1.1849251193153116\n"
     ]
    },
    {
     "name": "stderr",
     "output_type": "stream",
     "text": [
      "\r",
      " 43%|████▎     | 431/1000 [1:36:17<1:39:53, 10.53s/it]"
     ]
    },
    {
     "name": "stdout",
     "output_type": "stream",
     "text": [
      "sample: 431\n",
      "(480, 15) (480, 15)\n",
      "{'testlen': 21600, 'reflen': 18637, 'guess': [21600, 21120, 20640, 20160], 'correct': [7078, 2187, 674, 245]}\n",
      "ratio: 1.1589848151525912\n"
     ]
    },
    {
     "name": "stderr",
     "output_type": "stream",
     "text": [
      "\r",
      " 43%|████▎     | 432/1000 [1:36:27<1:39:16, 10.49s/it]"
     ]
    },
    {
     "name": "stdout",
     "output_type": "stream",
     "text": [
      "sample: 432\n",
      "(480, 15) (480, 15)\n",
      "{'testlen': 21600, 'reflen': 18179, 'guess': [21600, 21120, 20640, 20160], 'correct': [7185, 2304, 795, 372]}\n",
      "ratio: 1.1881841685460592\n"
     ]
    },
    {
     "name": "stderr",
     "output_type": "stream",
     "text": [
      "\r",
      " 43%|████▎     | 433/1000 [1:36:38<1:38:53, 10.46s/it]"
     ]
    },
    {
     "name": "stdout",
     "output_type": "stream",
     "text": [
      "sample: 433\n",
      "(480, 15) (480, 15)\n",
      "{'testlen': 21600, 'reflen': 18215, 'guess': [21600, 21120, 20640, 20160], 'correct': [7126, 2250, 742, 321]}\n",
      "ratio: 1.1858358495744614\n"
     ]
    },
    {
     "name": "stderr",
     "output_type": "stream",
     "text": [
      "\r",
      " 43%|████▎     | 434/1000 [1:36:48<1:38:15, 10.42s/it]"
     ]
    },
    {
     "name": "stdout",
     "output_type": "stream",
     "text": [
      "sample: 434\n",
      "(480, 15) (480, 15)\n",
      "{'testlen': 21600, 'reflen': 19043, 'guess': [21600, 21120, 20640, 20160], 'correct': [7249, 2158, 655, 244]}\n",
      "ratio: 1.1342750617024033\n"
     ]
    },
    {
     "name": "stderr",
     "output_type": "stream",
     "text": [
      "\r",
      " 44%|████▎     | 435/1000 [1:36:58<1:38:00, 10.41s/it]"
     ]
    },
    {
     "name": "stdout",
     "output_type": "stream",
     "text": [
      "sample: 435\n",
      "(480, 15) (480, 15)\n",
      "{'testlen': 21600, 'reflen': 18193, 'guess': [21600, 21120, 20640, 20160], 'correct': [7202, 2243, 763, 348]}\n",
      "ratio: 1.1872698290550658\n"
     ]
    },
    {
     "name": "stderr",
     "output_type": "stream",
     "text": [
      "\r",
      " 44%|████▎     | 436/1000 [1:37:09<1:38:18, 10.46s/it]"
     ]
    },
    {
     "name": "stdout",
     "output_type": "stream",
     "text": [
      "sample: 436\n",
      "(480, 15) (480, 15)\n",
      "{'testlen': 21600, 'reflen': 18561, 'guess': [21600, 21120, 20640, 20160], 'correct': [7198, 2294, 813, 373]}\n",
      "ratio: 1.1637304024567015\n"
     ]
    },
    {
     "name": "stderr",
     "output_type": "stream",
     "text": [
      "\r",
      " 44%|████▎     | 437/1000 [1:37:19<1:38:06, 10.46s/it]"
     ]
    },
    {
     "name": "stdout",
     "output_type": "stream",
     "text": [
      "sample: 437\n",
      "(480, 15) (480, 15)\n",
      "{'testlen': 21600, 'reflen': 17759, 'guess': [21600, 21120, 20640, 20160], 'correct': [7213, 2297, 716, 291]}\n",
      "ratio: 1.216284700715062\n"
     ]
    },
    {
     "name": "stderr",
     "output_type": "stream",
     "text": [
      "\r",
      " 44%|████▍     | 438/1000 [1:37:30<1:39:14, 10.60s/it]"
     ]
    },
    {
     "name": "stdout",
     "output_type": "stream",
     "text": [
      "sample: 438\n",
      "(480, 15) (480, 15)\n",
      "{'testlen': 21600, 'reflen': 18157, 'guess': [21600, 21120, 20640, 20160], 'correct': [7265, 2314, 824, 403]}\n",
      "ratio: 1.1896238365368073\n"
     ]
    },
    {
     "name": "stderr",
     "output_type": "stream",
     "text": [
      "\r",
      " 44%|████▍     | 439/1000 [1:37:41<1:38:18, 10.52s/it]"
     ]
    },
    {
     "name": "stdout",
     "output_type": "stream",
     "text": [
      "sample: 439\n",
      "(480, 15) (480, 15)\n",
      "{'testlen': 21600, 'reflen': 17791, 'guess': [21600, 21120, 20640, 20160], 'correct': [7042, 2199, 702, 297]}\n",
      "ratio: 1.214097015344769\n"
     ]
    },
    {
     "name": "stderr",
     "output_type": "stream",
     "text": [
      "\r",
      " 44%|████▍     | 440/1000 [1:37:51<1:37:54, 10.49s/it]"
     ]
    },
    {
     "name": "stdout",
     "output_type": "stream",
     "text": [
      "sample: 440\n",
      "(480, 15) (480, 15)\n",
      "{'testlen': 21600, 'reflen': 18148, 'guess': [21600, 21120, 20640, 20160], 'correct': [7078, 2165, 686, 280]}\n",
      "ratio: 1.1902137976635887\n"
     ]
    },
    {
     "name": "stderr",
     "output_type": "stream",
     "text": [
      "\r",
      " 44%|████▍     | 441/1000 [1:38:02<1:37:42, 10.49s/it]"
     ]
    },
    {
     "name": "stdout",
     "output_type": "stream",
     "text": [
      "sample: 441\n",
      "(480, 15) (480, 15)\n",
      "{'testlen': 21600, 'reflen': 18438, 'guess': [21600, 21120, 20640, 20160], 'correct': [7301, 2347, 810, 368]}\n",
      "ratio: 1.1714936544093084\n"
     ]
    },
    {
     "name": "stderr",
     "output_type": "stream",
     "text": [
      "\r",
      " 44%|████▍     | 442/1000 [1:38:12<1:38:24, 10.58s/it]"
     ]
    },
    {
     "name": "stdout",
     "output_type": "stream",
     "text": [
      "sample: 442\n",
      "(480, 15) (480, 15)\n",
      "{'testlen': 21600, 'reflen': 18132, 'guess': [21600, 21120, 20640, 20160], 'correct': [7130, 2143, 642, 234]}\n",
      "ratio: 1.1912640635340177\n"
     ]
    },
    {
     "name": "stderr",
     "output_type": "stream",
     "text": [
      "\r",
      " 44%|████▍     | 443/1000 [1:38:23<1:37:39, 10.52s/it]"
     ]
    },
    {
     "name": "stdout",
     "output_type": "stream",
     "text": [
      "sample: 443\n",
      "(480, 15) (480, 15)\n",
      "{'testlen': 21600, 'reflen': 18932, 'guess': [21600, 21120, 20640, 20160], 'correct': [7257, 2297, 800, 381]}\n",
      "ratio: 1.140925417282847\n"
     ]
    },
    {
     "name": "stderr",
     "output_type": "stream",
     "text": [
      "\r",
      " 44%|████▍     | 444/1000 [1:38:33<1:37:00, 10.47s/it]"
     ]
    },
    {
     "name": "stdout",
     "output_type": "stream",
     "text": [
      "sample: 444\n",
      "(480, 15) (480, 15)\n",
      "{'testlen': 21600, 'reflen': 18225, 'guess': [21600, 21120, 20640, 20160], 'correct': [7137, 2243, 705, 258]}\n",
      "ratio: 1.18518518518512\n"
     ]
    },
    {
     "name": "stderr",
     "output_type": "stream",
     "text": [
      "\r",
      " 44%|████▍     | 445/1000 [1:38:44<1:39:31, 10.76s/it]"
     ]
    },
    {
     "name": "stdout",
     "output_type": "stream",
     "text": [
      "sample: 445\n",
      "(480, 15) (480, 15)\n",
      "{'testlen': 21600, 'reflen': 18242, 'guess': [21600, 21120, 20640, 20160], 'correct': [7164, 2298, 768, 329]}\n",
      "ratio: 1.1840806929064147\n"
     ]
    },
    {
     "name": "stderr",
     "output_type": "stream",
     "text": [
      "\r",
      " 45%|████▍     | 446/1000 [1:38:55<1:39:04, 10.73s/it]"
     ]
    },
    {
     "name": "stdout",
     "output_type": "stream",
     "text": [
      "sample: 446\n",
      "(480, 15) (480, 15)\n",
      "{'testlen': 21600, 'reflen': 17651, 'guess': [21600, 21120, 20640, 20160], 'correct': [7118, 2255, 769, 330]}\n",
      "ratio: 1.223726701036699\n"
     ]
    },
    {
     "name": "stderr",
     "output_type": "stream",
     "text": [
      "\r",
      " 45%|████▍     | 447/1000 [1:39:05<1:37:44, 10.60s/it]"
     ]
    },
    {
     "name": "stdout",
     "output_type": "stream",
     "text": [
      "sample: 447\n",
      "(480, 15) (480, 15)\n",
      "{'testlen': 21600, 'reflen': 17678, 'guess': [21600, 21120, 20640, 20160], 'correct': [7210, 2346, 797, 349]}\n",
      "ratio: 1.2218576762076467\n"
     ]
    },
    {
     "name": "stderr",
     "output_type": "stream",
     "text": [
      "\r",
      " 45%|████▍     | 448/1000 [1:39:16<1:37:06, 10.56s/it]"
     ]
    },
    {
     "name": "stdout",
     "output_type": "stream",
     "text": [
      "sample: 448\n",
      "(480, 15) (480, 15)\n",
      "{'testlen': 21600, 'reflen': 18060, 'guess': [21600, 21120, 20640, 20160], 'correct': [7119, 2212, 734, 296]}\n",
      "ratio: 1.1960132890364785\n"
     ]
    },
    {
     "name": "stderr",
     "output_type": "stream",
     "text": [
      "\r",
      " 45%|████▍     | 449/1000 [1:39:26<1:36:03, 10.46s/it]"
     ]
    },
    {
     "name": "stdout",
     "output_type": "stream",
     "text": [
      "sample: 449\n",
      "(480, 15) (480, 15)\n",
      "{'testlen': 21600, 'reflen': 17641, 'guess': [21600, 21120, 20640, 20160], 'correct': [7224, 2349, 819, 364]}\n",
      "ratio: 1.2244203843318846\n"
     ]
    },
    {
     "name": "stderr",
     "output_type": "stream",
     "text": [
      "\r",
      " 45%|████▌     | 450/1000 [1:39:36<1:35:16, 10.39s/it]"
     ]
    },
    {
     "name": "stdout",
     "output_type": "stream",
     "text": [
      "sample: 450\n",
      "(480, 15) (480, 15)\n",
      "{'testlen': 21600, 'reflen': 18385, 'guess': [21600, 21120, 20640, 20160], 'correct': [7104, 2135, 669, 281]}\n",
      "ratio: 1.1748708186020573\n"
     ]
    },
    {
     "name": "stderr",
     "output_type": "stream",
     "text": [
      "\r",
      " 45%|████▌     | 451/1000 [1:39:48<1:37:11, 10.62s/it]"
     ]
    },
    {
     "name": "stdout",
     "output_type": "stream",
     "text": [
      "sample: 451\n",
      "(480, 15) (480, 15)\n",
      "{'testlen': 21600, 'reflen': 17718, 'guess': [21600, 21120, 20640, 20160], 'correct': [7083, 2265, 823, 392]}\n",
      "ratio: 1.2190992211309843\n"
     ]
    },
    {
     "name": "stderr",
     "output_type": "stream",
     "text": [
      "\r",
      " 45%|████▌     | 452/1000 [1:39:58<1:36:08, 10.53s/it]"
     ]
    },
    {
     "name": "stdout",
     "output_type": "stream",
     "text": [
      "sample: 452\n",
      "(480, 15) (480, 15)\n",
      "{'testlen': 21600, 'reflen': 18381, 'guess': [21600, 21120, 20640, 20160], 'correct': [7250, 2300, 769, 344]}\n",
      "ratio: 1.1751264893095492\n"
     ]
    },
    {
     "name": "stderr",
     "output_type": "stream",
     "text": [
      "\r",
      " 45%|████▌     | 453/1000 [1:40:09<1:37:55, 10.74s/it]"
     ]
    },
    {
     "name": "stdout",
     "output_type": "stream",
     "text": [
      "sample: 453\n",
      "(480, 15) (480, 15)\n",
      "{'testlen': 21600, 'reflen': 18891, 'guess': [21600, 21120, 20640, 20160], 'correct': [7230, 2241, 723, 286]}\n",
      "ratio: 1.1434016198189008\n"
     ]
    },
    {
     "name": "stderr",
     "output_type": "stream",
     "text": [
      "\r",
      " 45%|████▌     | 454/1000 [1:40:19<1:36:17, 10.58s/it]"
     ]
    },
    {
     "name": "stdout",
     "output_type": "stream",
     "text": [
      "sample: 454\n",
      "(480, 15) (480, 15)\n",
      "{'testlen': 21600, 'reflen': 18711, 'guess': [21600, 21120, 20640, 20160], 'correct': [7122, 2153, 685, 256]}\n",
      "ratio: 1.1544011544010926\n"
     ]
    },
    {
     "name": "stderr",
     "output_type": "stream",
     "text": [
      "\r",
      " 46%|████▌     | 455/1000 [1:40:30<1:35:39, 10.53s/it]"
     ]
    },
    {
     "name": "stdout",
     "output_type": "stream",
     "text": [
      "sample: 455\n",
      "(480, 15) (480, 15)\n",
      "{'testlen': 21600, 'reflen': 18334, 'guess': [21600, 21120, 20640, 20160], 'correct': [7092, 2190, 727, 319]}\n",
      "ratio: 1.178138976764417\n"
     ]
    },
    {
     "name": "stderr",
     "output_type": "stream",
     "text": [
      "\r",
      " 46%|████▌     | 456/1000 [1:40:41<1:38:04, 10.82s/it]"
     ]
    },
    {
     "name": "stdout",
     "output_type": "stream",
     "text": [
      "sample: 456\n",
      "(480, 15) (480, 15)\n",
      "{'testlen': 21600, 'reflen': 18562, 'guess': [21600, 21120, 20640, 20160], 'correct': [7266, 2299, 752, 328]}\n",
      "ratio: 1.163667708221034\n"
     ]
    },
    {
     "name": "stderr",
     "output_type": "stream",
     "text": [
      "\r",
      " 46%|████▌     | 457/1000 [1:40:52<1:36:54, 10.71s/it]"
     ]
    },
    {
     "name": "stdout",
     "output_type": "stream",
     "text": [
      "sample: 457\n",
      "(480, 15) (480, 15)\n",
      "{'testlen': 21600, 'reflen': 18451, 'guess': [21600, 21120, 20640, 20160], 'correct': [7294, 2352, 818, 339]}\n",
      "ratio: 1.1706682564630009\n"
     ]
    },
    {
     "name": "stderr",
     "output_type": "stream",
     "text": [
      "\r",
      " 46%|████▌     | 458/1000 [1:41:02<1:36:15, 10.66s/it]"
     ]
    },
    {
     "name": "stdout",
     "output_type": "stream",
     "text": [
      "sample: 458\n",
      "(480, 15) (480, 15)\n",
      "{'testlen': 21600, 'reflen': 17834, 'guess': [21600, 21120, 20640, 20160], 'correct': [7238, 2281, 783, 351]}\n",
      "ratio: 1.2111696758998984\n"
     ]
    },
    {
     "name": "stderr",
     "output_type": "stream",
     "text": [
      "\r",
      " 46%|████▌     | 459/1000 [1:41:13<1:35:48, 10.62s/it]"
     ]
    },
    {
     "name": "stdout",
     "output_type": "stream",
     "text": [
      "sample: 459\n",
      "(480, 15) (480, 15)\n",
      "{'testlen': 21600, 'reflen': 18188, 'guess': [21600, 21120, 20640, 20160], 'correct': [7321, 2359, 803, 382]}\n",
      "ratio: 1.1875962172860575\n"
     ]
    },
    {
     "name": "stderr",
     "output_type": "stream",
     "text": [
      "\r",
      " 46%|████▌     | 460/1000 [1:41:23<1:35:18, 10.59s/it]"
     ]
    },
    {
     "name": "stdout",
     "output_type": "stream",
     "text": [
      "sample: 460\n",
      "(480, 15) (480, 15)\n",
      "{'testlen': 21600, 'reflen': 17942, 'guess': [21600, 21120, 20640, 20160], 'correct': [7350, 2353, 871, 425]}\n",
      "ratio: 1.20387916620214\n"
     ]
    },
    {
     "name": "stderr",
     "output_type": "stream",
     "text": [
      "\r",
      " 46%|████▌     | 461/1000 [1:41:33<1:34:12, 10.49s/it]"
     ]
    },
    {
     "name": "stdout",
     "output_type": "stream",
     "text": [
      "sample: 461\n",
      "(480, 15) (480, 15)\n",
      "{'testlen': 21600, 'reflen': 18260, 'guess': [21600, 21120, 20640, 20160], 'correct': [7208, 2306, 767, 332]}\n",
      "ratio: 1.1829134720700338\n"
     ]
    },
    {
     "name": "stderr",
     "output_type": "stream",
     "text": [
      "\r",
      " 46%|████▌     | 462/1000 [1:41:44<1:33:41, 10.45s/it]"
     ]
    },
    {
     "name": "stdout",
     "output_type": "stream",
     "text": [
      "sample: 462\n",
      "(480, 15) (480, 15)\n",
      "{'testlen': 21600, 'reflen': 18599, 'guess': [21600, 21120, 20640, 20160], 'correct': [7365, 2274, 724, 291]}\n",
      "ratio: 1.1613527609010612\n"
     ]
    },
    {
     "name": "stderr",
     "output_type": "stream",
     "text": [
      "\r",
      " 46%|████▋     | 463/1000 [1:41:54<1:33:07, 10.41s/it]"
     ]
    },
    {
     "name": "stdout",
     "output_type": "stream",
     "text": [
      "sample: 463\n",
      "(480, 15) (480, 15)\n",
      "{'testlen': 21600, 'reflen': 18415, 'guess': [21600, 21120, 20640, 20160], 'correct': [7189, 2331, 812, 366]}\n",
      "ratio: 1.1729568286722143\n"
     ]
    },
    {
     "name": "stderr",
     "output_type": "stream",
     "text": [
      "\r",
      " 46%|████▋     | 464/1000 [1:42:05<1:34:45, 10.61s/it]"
     ]
    },
    {
     "name": "stdout",
     "output_type": "stream",
     "text": [
      "sample: 464\n",
      "(480, 15) (480, 15)\n",
      "{'testlen': 21600, 'reflen': 18704, 'guess': [21600, 21120, 20640, 20160], 'correct': [7243, 2302, 747, 308]}\n",
      "ratio: 1.1548331907612728\n"
     ]
    },
    {
     "name": "stderr",
     "output_type": "stream",
     "text": [
      "\r",
      " 46%|████▋     | 465/1000 [1:42:16<1:34:03, 10.55s/it]"
     ]
    },
    {
     "name": "stdout",
     "output_type": "stream",
     "text": [
      "sample: 465\n",
      "(480, 15) (480, 15)\n",
      "{'testlen': 21600, 'reflen': 18185, 'guess': [21600, 21120, 20640, 20160], 'correct': [7066, 2199, 707, 281]}\n",
      "ratio: 1.1877921363760688\n"
     ]
    },
    {
     "name": "stderr",
     "output_type": "stream",
     "text": [
      "\r",
      " 47%|████▋     | 466/1000 [1:42:26<1:33:40, 10.53s/it]"
     ]
    },
    {
     "name": "stdout",
     "output_type": "stream",
     "text": [
      "sample: 466\n",
      "(480, 15) (480, 15)\n",
      "{'testlen': 21600, 'reflen': 18414, 'guess': [21600, 21120, 20640, 20160], 'correct': [7043, 2178, 704, 283]}\n",
      "ratio: 1.1730205278591739\n"
     ]
    },
    {
     "name": "stderr",
     "output_type": "stream",
     "text": [
      "\r",
      " 47%|████▋     | 467/1000 [1:42:37<1:33:23, 10.51s/it]"
     ]
    },
    {
     "name": "stdout",
     "output_type": "stream",
     "text": [
      "sample: 467\n",
      "(480, 15) (480, 15)\n",
      "{'testlen': 21600, 'reflen': 17992, 'guess': [21600, 21120, 20640, 20160], 'correct': [7182, 2273, 777, 345]}\n",
      "ratio: 1.2005335704757003\n"
     ]
    },
    {
     "name": "stderr",
     "output_type": "stream",
     "text": [
      "\r",
      " 47%|████▋     | 468/1000 [1:42:47<1:32:49, 10.47s/it]"
     ]
    },
    {
     "name": "stdout",
     "output_type": "stream",
     "text": [
      "sample: 468\n",
      "(480, 15) (480, 15)\n",
      "{'testlen': 21600, 'reflen': 18304, 'guess': [21600, 21120, 20640, 20160], 'correct': [7150, 2257, 767, 329]}\n",
      "ratio: 1.1800699300698656\n"
     ]
    },
    {
     "name": "stderr",
     "output_type": "stream",
     "text": [
      "\r",
      " 47%|████▋     | 469/1000 [1:42:57<1:32:26, 10.44s/it]"
     ]
    },
    {
     "name": "stdout",
     "output_type": "stream",
     "text": [
      "sample: 469\n",
      "(480, 15) (480, 15)\n",
      "{'testlen': 21600, 'reflen': 17458, 'guess': [21600, 21120, 20640, 20160], 'correct': [7226, 2341, 783, 333]}\n",
      "ratio: 1.2372551265894582\n"
     ]
    },
    {
     "name": "stderr",
     "output_type": "stream",
     "text": [
      "\r",
      " 47%|████▋     | 470/1000 [1:43:08<1:31:50, 10.40s/it]"
     ]
    },
    {
     "name": "stdout",
     "output_type": "stream",
     "text": [
      "sample: 470\n",
      "(480, 15) (480, 15)\n",
      "{'testlen': 21600, 'reflen': 18682, 'guess': [21600, 21120, 20640, 20160], 'correct': [7185, 2287, 782, 363]}\n",
      "ratio: 1.1561931270741272\n"
     ]
    },
    {
     "name": "stderr",
     "output_type": "stream",
     "text": [
      "\r",
      " 47%|████▋     | 471/1000 [1:43:18<1:32:35, 10.50s/it]"
     ]
    },
    {
     "name": "stdout",
     "output_type": "stream",
     "text": [
      "sample: 471\n",
      "(480, 15) (480, 15)\n",
      "{'testlen': 21600, 'reflen': 18160, 'guess': [21600, 21120, 20640, 20160], 'correct': [7237, 2298, 806, 394]}\n",
      "ratio: 1.1894273127752648\n"
     ]
    },
    {
     "name": "stderr",
     "output_type": "stream",
     "text": [
      "\r",
      " 47%|████▋     | 472/1000 [1:43:29<1:32:16, 10.49s/it]"
     ]
    },
    {
     "name": "stdout",
     "output_type": "stream",
     "text": [
      "sample: 472\n",
      "(480, 15) (480, 15)\n",
      "{'testlen': 21600, 'reflen': 18534, 'guess': [21600, 21120, 20640, 20160], 'correct': [7236, 2236, 720, 305]}\n",
      "ratio: 1.1654257041113\n"
     ]
    },
    {
     "name": "stderr",
     "output_type": "stream",
     "text": [
      "\r",
      " 47%|████▋     | 473/1000 [1:43:40<1:32:50, 10.57s/it]"
     ]
    },
    {
     "name": "stdout",
     "output_type": "stream",
     "text": [
      "sample: 473\n",
      "(480, 15) (480, 15)\n",
      "{'testlen': 21600, 'reflen': 18177, 'guess': [21600, 21120, 20640, 20160], 'correct': [7179, 2291, 766, 314]}\n",
      "ratio: 1.1883149034493488\n"
     ]
    },
    {
     "name": "stderr",
     "output_type": "stream",
     "text": [
      "\r",
      " 47%|████▋     | 474/1000 [1:43:50<1:32:30, 10.55s/it]"
     ]
    },
    {
     "name": "stdout",
     "output_type": "stream",
     "text": [
      "sample: 474\n",
      "(480, 15) (480, 15)\n",
      "{'testlen': 21600, 'reflen': 18738, 'guess': [21600, 21120, 20640, 20160], 'correct': [7221, 2244, 722, 316]}\n",
      "ratio: 1.1527377521613218\n"
     ]
    },
    {
     "name": "stderr",
     "output_type": "stream",
     "text": [
      "\r",
      " 48%|████▊     | 475/1000 [1:44:00<1:31:52, 10.50s/it]"
     ]
    },
    {
     "name": "stdout",
     "output_type": "stream",
     "text": [
      "sample: 475\n",
      "(480, 15) (480, 15)\n",
      "{'testlen': 21600, 'reflen': 17852, 'guess': [21600, 21120, 20640, 20160], 'correct': [7043, 2133, 690, 280]}\n",
      "ratio: 1.2099484651578978\n"
     ]
    },
    {
     "name": "stderr",
     "output_type": "stream",
     "text": [
      "\r",
      " 48%|████▊     | 476/1000 [1:44:11<1:31:37, 10.49s/it]"
     ]
    },
    {
     "name": "stdout",
     "output_type": "stream",
     "text": [
      "sample: 476\n",
      "(480, 15) (480, 15)\n",
      "{'testlen': 21600, 'reflen': 18247, 'guess': [21600, 21120, 20640, 20160], 'correct': [7196, 2192, 678, 271]}\n",
      "ratio: 1.1837562339013983\n"
     ]
    },
    {
     "name": "stderr",
     "output_type": "stream",
     "text": [
      "\r",
      " 48%|████▊     | 477/1000 [1:44:22<1:33:35, 10.74s/it]"
     ]
    },
    {
     "name": "stdout",
     "output_type": "stream",
     "text": [
      "sample: 477\n",
      "(480, 15) (480, 15)\n",
      "{'testlen': 21600, 'reflen': 18288, 'guess': [21600, 21120, 20640, 20160], 'correct': [7108, 2225, 750, 314]}\n",
      "ratio: 1.1811023622046597\n"
     ]
    },
    {
     "name": "stderr",
     "output_type": "stream",
     "text": [
      "\r",
      " 48%|████▊     | 478/1000 [1:44:33<1:34:34, 10.87s/it]"
     ]
    },
    {
     "name": "stdout",
     "output_type": "stream",
     "text": [
      "sample: 478\n",
      "(480, 15) (480, 15)\n",
      "{'testlen': 21600, 'reflen': 18476, 'guess': [21600, 21120, 20640, 20160], 'correct': [7159, 2189, 706, 315]}\n",
      "ratio: 1.1690842173630023\n"
     ]
    },
    {
     "name": "stderr",
     "output_type": "stream",
     "text": [
      "\r",
      " 48%|████▊     | 479/1000 [1:44:44<1:33:03, 10.72s/it]"
     ]
    },
    {
     "name": "stdout",
     "output_type": "stream",
     "text": [
      "sample: 479\n",
      "(480, 15) (480, 15)\n",
      "{'testlen': 21600, 'reflen': 18519, 'guess': [21600, 21120, 20640, 20160], 'correct': [7112, 2213, 715, 285]}\n",
      "ratio: 1.1663696743884029\n"
     ]
    },
    {
     "name": "stderr",
     "output_type": "stream",
     "text": [
      "\r",
      " 48%|████▊     | 480/1000 [1:44:54<1:32:14, 10.64s/it]"
     ]
    },
    {
     "name": "stdout",
     "output_type": "stream",
     "text": [
      "sample: 480\n",
      "(480, 15) (480, 15)\n",
      "{'testlen': 21600, 'reflen': 18159, 'guess': [21600, 21120, 20640, 20160], 'correct': [7148, 2331, 836, 391]}\n",
      "ratio: 1.1894928134808531\n"
     ]
    },
    {
     "name": "stderr",
     "output_type": "stream",
     "text": [
      "\r",
      " 48%|████▊     | 481/1000 [1:45:05<1:31:31, 10.58s/it]"
     ]
    },
    {
     "name": "stdout",
     "output_type": "stream",
     "text": [
      "sample: 481\n",
      "(480, 15) (480, 15)\n",
      "{'testlen': 21600, 'reflen': 18683, 'guess': [21600, 21120, 20640, 20160], 'correct': [7249, 2254, 725, 303]}\n",
      "ratio: 1.1561312423057777\n"
     ]
    },
    {
     "name": "stderr",
     "output_type": "stream",
     "text": [
      "\r",
      " 48%|████▊     | 482/1000 [1:45:15<1:31:06, 10.55s/it]"
     ]
    },
    {
     "name": "stdout",
     "output_type": "stream",
     "text": [
      "sample: 482\n",
      "(480, 15) (480, 15)\n",
      "{'testlen': 21600, 'reflen': 18785, 'guess': [21600, 21120, 20640, 20160], 'correct': [7190, 2253, 751, 317]}\n",
      "ratio: 1.1498536066009502\n"
     ]
    },
    {
     "name": "stderr",
     "output_type": "stream",
     "text": [
      "\r",
      " 48%|████▊     | 483/1000 [1:45:26<1:30:42, 10.53s/it]"
     ]
    },
    {
     "name": "stdout",
     "output_type": "stream",
     "text": [
      "sample: 483\n",
      "(480, 15) (480, 15)\n",
      "{'testlen': 21600, 'reflen': 17737, 'guess': [21600, 21120, 20640, 20160], 'correct': [7220, 2332, 830, 406]}\n",
      "ratio: 1.2177933134125716\n"
     ]
    },
    {
     "name": "stderr",
     "output_type": "stream",
     "text": [
      "\r",
      " 48%|████▊     | 484/1000 [1:45:36<1:29:32, 10.41s/it]"
     ]
    },
    {
     "name": "stdout",
     "output_type": "stream",
     "text": [
      "sample: 484\n",
      "(480, 15) (480, 15)\n",
      "{'testlen': 21600, 'reflen': 18521, 'guess': [21600, 21120, 20640, 20160], 'correct': [7299, 2328, 810, 346]}\n",
      "ratio: 1.1662437233410092\n"
     ]
    },
    {
     "name": "stderr",
     "output_type": "stream",
     "text": [
      "\r",
      " 48%|████▊     | 485/1000 [1:45:47<1:31:53, 10.71s/it]"
     ]
    },
    {
     "name": "stdout",
     "output_type": "stream",
     "text": [
      "sample: 485\n",
      "(480, 15) (480, 15)\n",
      "{'testlen': 21600, 'reflen': 19039, 'guess': [21600, 21120, 20640, 20160], 'correct': [7250, 2283, 783, 343]}\n",
      "ratio: 1.134513367298643\n"
     ]
    },
    {
     "name": "stderr",
     "output_type": "stream",
     "text": [
      "\r",
      " 49%|████▊     | 486/1000 [1:45:58<1:31:07, 10.64s/it]"
     ]
    },
    {
     "name": "stdout",
     "output_type": "stream",
     "text": [
      "sample: 486\n",
      "(480, 15) (480, 15)\n",
      "{'testlen': 21600, 'reflen': 18338, 'guess': [21600, 21120, 20640, 20160], 'correct': [7153, 2286, 815, 415]}\n",
      "ratio: 1.1778819936742733\n"
     ]
    },
    {
     "name": "stderr",
     "output_type": "stream",
     "text": [
      "\r",
      " 49%|████▊     | 487/1000 [1:46:08<1:30:44, 10.61s/it]"
     ]
    },
    {
     "name": "stdout",
     "output_type": "stream",
     "text": [
      "sample: 487\n",
      "(480, 15) (480, 15)\n",
      "{'testlen': 21600, 'reflen': 18282, 'guess': [21600, 21120, 20640, 20160], 'correct': [7257, 2267, 753, 319]}\n",
      "ratio: 1.1814899901541853\n"
     ]
    },
    {
     "name": "stderr",
     "output_type": "stream",
     "text": [
      "\r",
      " 49%|████▉     | 488/1000 [1:46:19<1:30:49, 10.64s/it]"
     ]
    },
    {
     "name": "stdout",
     "output_type": "stream",
     "text": [
      "sample: 488\n",
      "(480, 15) (480, 15)\n",
      "{'testlen': 21600, 'reflen': 18557, 'guess': [21600, 21120, 20640, 20160], 'correct': [7191, 2250, 677, 244]}\n",
      "ratio: 1.163981246968736\n"
     ]
    },
    {
     "name": "stderr",
     "output_type": "stream",
     "text": [
      "\r",
      " 49%|████▉     | 489/1000 [1:46:29<1:30:14, 10.60s/it]"
     ]
    },
    {
     "name": "stdout",
     "output_type": "stream",
     "text": [
      "sample: 489\n",
      "(480, 15) (480, 15)\n",
      "{'testlen': 21600, 'reflen': 18107, 'guess': [21600, 21120, 20640, 20160], 'correct': [7091, 2182, 652, 241]}\n",
      "ratio: 1.1929088197933841\n"
     ]
    },
    {
     "name": "stderr",
     "output_type": "stream",
     "text": [
      "\r",
      " 49%|████▉     | 490/1000 [1:46:40<1:30:35, 10.66s/it]"
     ]
    },
    {
     "name": "stdout",
     "output_type": "stream",
     "text": [
      "sample: 490\n",
      "(480, 15) (480, 15)\n",
      "{'testlen': 21600, 'reflen': 17916, 'guess': [21600, 21120, 20640, 20160], 'correct': [7185, 2242, 729, 311]}\n",
      "ratio: 1.205626255860616\n"
     ]
    },
    {
     "name": "stderr",
     "output_type": "stream",
     "text": [
      "\r",
      " 49%|████▉     | 491/1000 [1:46:50<1:29:01, 10.49s/it]"
     ]
    },
    {
     "name": "stdout",
     "output_type": "stream",
     "text": [
      "sample: 491\n",
      "(480, 15) (480, 15)\n",
      "{'testlen': 21600, 'reflen': 18810, 'guess': [21600, 21120, 20640, 20160], 'correct': [7277, 2237, 711, 298]}\n",
      "ratio: 1.1483253588516136\n"
     ]
    },
    {
     "name": "stderr",
     "output_type": "stream",
     "text": [
      "\r",
      " 49%|████▉     | 492/1000 [1:47:01<1:30:17, 10.66s/it]"
     ]
    },
    {
     "name": "stdout",
     "output_type": "stream",
     "text": [
      "sample: 492\n",
      "(480, 15) (480, 15)\n",
      "{'testlen': 21600, 'reflen': 17962, 'guess': [21600, 21120, 20640, 20160], 'correct': [7205, 2278, 744, 320]}\n",
      "ratio: 1.2025386927958355\n"
     ]
    },
    {
     "name": "stderr",
     "output_type": "stream",
     "text": [
      "\r",
      " 49%|████▉     | 493/1000 [1:47:12<1:28:59, 10.53s/it]"
     ]
    },
    {
     "name": "stdout",
     "output_type": "stream",
     "text": [
      "sample: 493\n",
      "(480, 15) (480, 15)\n",
      "{'testlen': 21600, 'reflen': 18138, 'guess': [21600, 21120, 20640, 20160], 'correct': [7106, 2222, 698, 291]}\n",
      "ratio: 1.190869996691962\n"
     ]
    },
    {
     "name": "stderr",
     "output_type": "stream",
     "text": [
      "\r",
      " 49%|████▉     | 494/1000 [1:47:22<1:28:37, 10.51s/it]"
     ]
    },
    {
     "name": "stdout",
     "output_type": "stream",
     "text": [
      "sample: 494\n",
      "(480, 15) (480, 15)\n",
      "{'testlen': 21600, 'reflen': 18068, 'guess': [21600, 21120, 20640, 20160], 'correct': [7183, 2230, 734, 324]}\n",
      "ratio: 1.1954837281380786\n"
     ]
    },
    {
     "name": "stderr",
     "output_type": "stream",
     "text": [
      "\r",
      " 50%|████▉     | 495/1000 [1:47:32<1:27:55, 10.45s/it]"
     ]
    },
    {
     "name": "stdout",
     "output_type": "stream",
     "text": [
      "sample: 495\n",
      "(480, 15) (480, 15)\n",
      "{'testlen': 21600, 'reflen': 18324, 'guess': [21600, 21120, 20640, 20160], 'correct': [7308, 2369, 831, 392]}\n",
      "ratio: 1.178781925343747\n"
     ]
    },
    {
     "name": "stderr",
     "output_type": "stream",
     "text": [
      "\r",
      " 50%|████▉     | 496/1000 [1:47:43<1:27:23, 10.40s/it]"
     ]
    },
    {
     "name": "stdout",
     "output_type": "stream",
     "text": [
      "sample: 496\n",
      "(480, 15) (480, 15)\n",
      "{'testlen': 21600, 'reflen': 18596, 'guess': [21600, 21120, 20640, 20160], 'correct': [7154, 2162, 665, 254]}\n",
      "ratio: 1.1615401161539491\n"
     ]
    },
    {
     "name": "stderr",
     "output_type": "stream",
     "text": [
      "\r",
      " 50%|████▉     | 497/1000 [1:47:53<1:26:45, 10.35s/it]"
     ]
    },
    {
     "name": "stdout",
     "output_type": "stream",
     "text": [
      "sample: 497\n",
      "(480, 15) (480, 15)\n",
      "{'testlen': 21600, 'reflen': 18650, 'guess': [21600, 21120, 20640, 20160], 'correct': [7175, 2110, 653, 262]}\n",
      "ratio: 1.1581769436996698\n"
     ]
    },
    {
     "name": "stderr",
     "output_type": "stream",
     "text": [
      "\r",
      " 50%|████▉     | 498/1000 [1:48:03<1:25:49, 10.26s/it]"
     ]
    },
    {
     "name": "stdout",
     "output_type": "stream",
     "text": [
      "sample: 498\n",
      "(480, 15) (480, 15)\n",
      "{'testlen': 21600, 'reflen': 18112, 'guess': [21600, 21120, 20640, 20160], 'correct': [7240, 2291, 795, 338]}\n",
      "ratio: 1.1925795053002874\n"
     ]
    },
    {
     "name": "stderr",
     "output_type": "stream",
     "text": [
      "\r",
      " 50%|████▉     | 499/1000 [1:48:13<1:26:04, 10.31s/it]"
     ]
    },
    {
     "name": "stdout",
     "output_type": "stream",
     "text": [
      "sample: 499\n",
      "(480, 15) (480, 15)\n",
      "{'testlen': 21600, 'reflen': 17858, 'guess': [21600, 21120, 20640, 20160], 'correct': [7235, 2354, 841, 433]}\n",
      "ratio: 1.2095419419867168\n"
     ]
    },
    {
     "name": "stderr",
     "output_type": "stream",
     "text": [
      "\r",
      " 50%|█████     | 500/1000 [1:48:24<1:25:59, 10.32s/it]"
     ]
    },
    {
     "name": "stdout",
     "output_type": "stream",
     "text": [
      "sample: 500\n",
      "(480, 15) (480, 15)\n",
      "{'testlen': 21600, 'reflen': 18744, 'guess': [21600, 21120, 20640, 20160], 'correct': [7239, 2335, 834, 397]}\n",
      "ratio: 1.1523687580024993\n"
     ]
    },
    {
     "name": "stderr",
     "output_type": "stream",
     "text": [
      "\r",
      " 50%|█████     | 501/1000 [1:48:34<1:25:43, 10.31s/it]"
     ]
    },
    {
     "name": "stdout",
     "output_type": "stream",
     "text": [
      "sample: 501\n",
      "(480, 15) (480, 15)\n",
      "{'testlen': 21600, 'reflen': 18503, 'guess': [21600, 21120, 20640, 20160], 'correct': [7256, 2264, 746, 336]}\n",
      "ratio: 1.1673782629843177\n"
     ]
    },
    {
     "name": "stderr",
     "output_type": "stream",
     "text": [
      "\r",
      " 50%|█████     | 502/1000 [1:48:45<1:26:26, 10.41s/it]"
     ]
    },
    {
     "name": "stdout",
     "output_type": "stream",
     "text": [
      "sample: 502\n",
      "(480, 15) (480, 15)\n",
      "{'testlen': 21600, 'reflen': 18669, 'guess': [21600, 21120, 20640, 20160], 'correct': [7220, 2196, 704, 302]}\n",
      "ratio: 1.1569982323637498\n"
     ]
    },
    {
     "name": "stderr",
     "output_type": "stream",
     "text": [
      "\r",
      " 50%|█████     | 503/1000 [1:48:55<1:25:44, 10.35s/it]"
     ]
    },
    {
     "name": "stdout",
     "output_type": "stream",
     "text": [
      "sample: 503\n",
      "(480, 15) (480, 15)\n",
      "{'testlen': 21600, 'reflen': 17344, 'guess': [21600, 21120, 20640, 20160], 'correct': [7150, 2286, 748, 297]}\n",
      "ratio: 1.245387453874467\n"
     ]
    },
    {
     "name": "stderr",
     "output_type": "stream",
     "text": [
      "\r",
      " 50%|█████     | 504/1000 [1:49:05<1:25:01, 10.28s/it]"
     ]
    },
    {
     "name": "stdout",
     "output_type": "stream",
     "text": [
      "sample: 504\n",
      "(480, 15) (480, 15)\n",
      "{'testlen': 21600, 'reflen': 17981, 'guess': [21600, 21120, 20640, 20160], 'correct': [6996, 2183, 703, 299]}\n",
      "ratio: 1.201268005116445\n"
     ]
    },
    {
     "name": "stderr",
     "output_type": "stream",
     "text": [
      "\r",
      " 50%|█████     | 505/1000 [1:49:15<1:25:12, 10.33s/it]"
     ]
    },
    {
     "name": "stdout",
     "output_type": "stream",
     "text": [
      "sample: 505\n",
      "(480, 15) (480, 15)\n",
      "{'testlen': 21600, 'reflen': 18783, 'guess': [21600, 21120, 20640, 20160], 'correct': [7167, 2227, 717, 281]}\n",
      "ratio: 1.149976042165727\n"
     ]
    },
    {
     "name": "stderr",
     "output_type": "stream",
     "text": [
      "\r",
      " 51%|█████     | 506/1000 [1:49:26<1:25:07, 10.34s/it]"
     ]
    },
    {
     "name": "stdout",
     "output_type": "stream",
     "text": [
      "sample: 506\n",
      "(480, 15) (480, 15)\n",
      "{'testlen': 21600, 'reflen': 19049, 'guess': [21600, 21120, 20640, 20160], 'correct': [7229, 2238, 768, 355]}\n",
      "ratio: 1.133917790960096\n"
     ]
    },
    {
     "name": "stderr",
     "output_type": "stream",
     "text": [
      "\r",
      " 51%|█████     | 507/1000 [1:49:36<1:25:06, 10.36s/it]"
     ]
    },
    {
     "name": "stdout",
     "output_type": "stream",
     "text": [
      "sample: 507\n",
      "(480, 15) (480, 15)\n",
      "{'testlen': 21600, 'reflen': 18180, 'guess': [21600, 21120, 20640, 20160], 'correct': [7143, 2163, 699, 303]}\n",
      "ratio: 1.1881188118811228\n"
     ]
    },
    {
     "name": "stderr",
     "output_type": "stream",
     "text": [
      "\r",
      " 51%|█████     | 508/1000 [1:49:47<1:25:11, 10.39s/it]"
     ]
    },
    {
     "name": "stdout",
     "output_type": "stream",
     "text": [
      "sample: 508\n",
      "(480, 15) (480, 15)\n",
      "{'testlen': 21600, 'reflen': 18199, 'guess': [21600, 21120, 20640, 20160], 'correct': [7301, 2299, 749, 313]}\n",
      "ratio: 1.1868783999120178\n"
     ]
    },
    {
     "name": "stderr",
     "output_type": "stream",
     "text": [
      "\r",
      " 51%|█████     | 509/1000 [1:49:57<1:25:21, 10.43s/it]"
     ]
    },
    {
     "name": "stdout",
     "output_type": "stream",
     "text": [
      "sample: 509\n",
      "(480, 15) (480, 15)\n",
      "{'testlen': 21600, 'reflen': 18187, 'guess': [21600, 21120, 20640, 20160], 'correct': [7158, 2178, 696, 282]}\n",
      "ratio: 1.1876615164677413\n"
     ]
    },
    {
     "name": "stderr",
     "output_type": "stream",
     "text": [
      "\r",
      " 51%|█████     | 510/1000 [1:50:08<1:26:39, 10.61s/it]"
     ]
    },
    {
     "name": "stdout",
     "output_type": "stream",
     "text": [
      "sample: 510\n",
      "(480, 15) (480, 15)\n",
      "{'testlen': 21600, 'reflen': 18043, 'guess': [21600, 21120, 20640, 20160], 'correct': [7276, 2331, 801, 354]}\n",
      "ratio: 1.197140165160938\n"
     ]
    },
    {
     "name": "stderr",
     "output_type": "stream",
     "text": [
      "\r",
      " 51%|█████     | 511/1000 [1:50:19<1:26:09, 10.57s/it]"
     ]
    },
    {
     "name": "stdout",
     "output_type": "stream",
     "text": [
      "sample: 511\n",
      "(480, 15) (480, 15)\n",
      "{'testlen': 21600, 'reflen': 18284, 'guess': [21600, 21120, 20640, 20160], 'correct': [7203, 2290, 814, 362]}\n",
      "ratio: 1.1813607525704888\n"
     ]
    },
    {
     "name": "stderr",
     "output_type": "stream",
     "text": [
      "\r",
      " 51%|█████     | 512/1000 [1:50:29<1:25:44, 10.54s/it]"
     ]
    },
    {
     "name": "stdout",
     "output_type": "stream",
     "text": [
      "sample: 512\n",
      "(480, 15) (480, 15)\n",
      "{'testlen': 21600, 'reflen': 18015, 'guess': [21600, 21120, 20640, 20160], 'correct': [7090, 2270, 759, 328]}\n",
      "ratio: 1.1990008326394006\n"
     ]
    },
    {
     "name": "stderr",
     "output_type": "stream",
     "text": [
      "\r",
      " 51%|█████▏    | 513/1000 [1:50:40<1:25:38, 10.55s/it]"
     ]
    },
    {
     "name": "stdout",
     "output_type": "stream",
     "text": [
      "sample: 513\n",
      "(480, 15) (480, 15)\n",
      "{'testlen': 21600, 'reflen': 18101, 'guess': [21600, 21120, 20640, 20160], 'correct': [7257, 2357, 815, 394]}\n",
      "ratio: 1.1933042373348879\n"
     ]
    },
    {
     "name": "stderr",
     "output_type": "stream",
     "text": [
      "\r",
      " 51%|█████▏    | 514/1000 [1:50:50<1:24:46, 10.47s/it]"
     ]
    },
    {
     "name": "stdout",
     "output_type": "stream",
     "text": [
      "sample: 514\n",
      "(480, 15) (480, 15)\n",
      "{'testlen': 21600, 'reflen': 18493, 'guess': [21600, 21120, 20640, 20160], 'correct': [7305, 2233, 751, 334]}\n",
      "ratio: 1.1680095171145206\n"
     ]
    },
    {
     "name": "stderr",
     "output_type": "stream",
     "text": [
      "\r",
      " 52%|█████▏    | 515/1000 [1:51:00<1:24:13, 10.42s/it]"
     ]
    },
    {
     "name": "stdout",
     "output_type": "stream",
     "text": [
      "sample: 515\n",
      "(480, 15) (480, 15)\n",
      "{'testlen': 21600, 'reflen': 18054, 'guess': [21600, 21120, 20640, 20160], 'correct': [7178, 2338, 873, 426]}\n",
      "ratio: 1.196410767696843\n"
     ]
    },
    {
     "name": "stderr",
     "output_type": "stream",
     "text": [
      "\r",
      " 52%|█████▏    | 516/1000 [1:51:11<1:23:37, 10.37s/it]"
     ]
    },
    {
     "name": "stdout",
     "output_type": "stream",
     "text": [
      "sample: 516\n",
      "(480, 15) (480, 15)\n",
      "{'testlen': 21600, 'reflen': 18500, 'guess': [21600, 21120, 20640, 20160], 'correct': [7202, 2241, 761, 359]}\n",
      "ratio: 1.1675675675675043\n"
     ]
    },
    {
     "name": "stderr",
     "output_type": "stream",
     "text": [
      "\r",
      " 52%|█████▏    | 517/1000 [1:51:21<1:23:12, 10.34s/it]"
     ]
    },
    {
     "name": "stdout",
     "output_type": "stream",
     "text": [
      "sample: 517\n",
      "(480, 15) (480, 15)\n",
      "{'testlen': 21600, 'reflen': 18777, 'guess': [21600, 21120, 20640, 20160], 'correct': [7262, 2222, 677, 262]}\n",
      "ratio: 1.1503435053522315\n"
     ]
    },
    {
     "name": "stderr",
     "output_type": "stream",
     "text": [
      "\r",
      " 52%|█████▏    | 518/1000 [1:51:32<1:23:57, 10.45s/it]"
     ]
    },
    {
     "name": "stdout",
     "output_type": "stream",
     "text": [
      "sample: 518\n",
      "(480, 15) (480, 15)\n",
      "{'testlen': 21600, 'reflen': 18505, 'guess': [21600, 21120, 20640, 20160], 'correct': [7168, 2272, 774, 334]}\n",
      "ratio: 1.1672520940285778\n"
     ]
    },
    {
     "name": "stderr",
     "output_type": "stream",
     "text": [
      "\r",
      " 52%|█████▏    | 519/1000 [1:51:45<1:31:18, 11.39s/it]"
     ]
    },
    {
     "name": "stdout",
     "output_type": "stream",
     "text": [
      "sample: 519\n",
      "(480, 15) (480, 15)\n",
      "{'testlen': 21600, 'reflen': 19013, 'guess': [21600, 21120, 20640, 20160], 'correct': [7366, 2341, 850, 438]}\n",
      "ratio: 1.136064797769887\n"
     ]
    },
    {
     "name": "stderr",
     "output_type": "stream",
     "text": [
      "\r",
      " 52%|█████▏    | 520/1000 [1:52:01<1:41:38, 12.71s/it]"
     ]
    },
    {
     "name": "stdout",
     "output_type": "stream",
     "text": [
      "sample: 520\n",
      "(480, 15) (480, 15)\n",
      "{'testlen': 21600, 'reflen': 18559, 'guess': [21600, 21120, 20640, 20160], 'correct': [7283, 2294, 735, 301]}\n",
      "ratio: 1.1638558111966613\n"
     ]
    },
    {
     "name": "stderr",
     "output_type": "stream",
     "text": [
      "\r",
      " 52%|█████▏    | 521/1000 [1:52:18<1:51:39, 13.99s/it]"
     ]
    },
    {
     "name": "stdout",
     "output_type": "stream",
     "text": [
      "sample: 521\n",
      "(480, 15) (480, 15)\n",
      "{'testlen': 21600, 'reflen': 18056, 'guess': [21600, 21120, 20640, 20160], 'correct': [7164, 2244, 719, 281]}\n",
      "ratio: 1.196278245458507\n"
     ]
    },
    {
     "name": "stderr",
     "output_type": "stream",
     "text": [
      "\r",
      " 52%|█████▏    | 522/1000 [1:52:34<1:56:17, 14.60s/it]"
     ]
    },
    {
     "name": "stdout",
     "output_type": "stream",
     "text": [
      "sample: 522\n",
      "(480, 15) (480, 15)\n",
      "{'testlen': 21600, 'reflen': 18474, 'guess': [21600, 21120, 20640, 20160], 'correct': [7163, 2249, 734, 296]}\n",
      "ratio: 1.1692107827215996\n"
     ]
    },
    {
     "name": "stderr",
     "output_type": "stream",
     "text": [
      "\r",
      " 52%|█████▏    | 523/1000 [1:52:50<2:00:31, 15.16s/it]"
     ]
    },
    {
     "name": "stdout",
     "output_type": "stream",
     "text": [
      "sample: 523\n",
      "(480, 15) (480, 15)\n",
      "{'testlen': 21600, 'reflen': 18582, 'guess': [21600, 21120, 20640, 20160], 'correct': [7374, 2296, 770, 354]}\n",
      "ratio: 1.1624152405553136\n"
     ]
    },
    {
     "name": "stderr",
     "output_type": "stream",
     "text": [
      "\r",
      " 52%|█████▏    | 524/1000 [1:53:07<2:02:43, 15.47s/it]"
     ]
    },
    {
     "name": "stdout",
     "output_type": "stream",
     "text": [
      "sample: 524\n",
      "(480, 15) (480, 15)\n",
      "{'testlen': 21600, 'reflen': 19292, 'guess': [21600, 21120, 20640, 20160], 'correct': [7177, 2252, 776, 339]}\n",
      "ratio: 1.1196350818991747\n"
     ]
    },
    {
     "name": "stderr",
     "output_type": "stream",
     "text": [
      "\r",
      " 52%|█████▎    | 525/1000 [1:53:23<2:04:12, 15.69s/it]"
     ]
    },
    {
     "name": "stdout",
     "output_type": "stream",
     "text": [
      "sample: 525\n",
      "(480, 15) (480, 15)\n",
      "{'testlen': 21600, 'reflen': 18286, 'guess': [21600, 21120, 20640, 20160], 'correct': [7151, 2256, 728, 285]}\n",
      "ratio: 1.181231543257072\n"
     ]
    },
    {
     "name": "stderr",
     "output_type": "stream",
     "text": [
      "\r",
      " 53%|█████▎    | 526/1000 [1:53:41<2:09:33, 16.40s/it]"
     ]
    },
    {
     "name": "stdout",
     "output_type": "stream",
     "text": [
      "sample: 526\n",
      "(480, 15) (480, 15)\n",
      "{'testlen': 21600, 'reflen': 18107, 'guess': [21600, 21120, 20640, 20160], 'correct': [7139, 2277, 760, 341]}\n",
      "ratio: 1.1929088197933841\n"
     ]
    },
    {
     "name": "stderr",
     "output_type": "stream",
     "text": [
      "\r",
      " 53%|█████▎    | 527/1000 [1:53:56<2:07:20, 16.15s/it]"
     ]
    },
    {
     "name": "stdout",
     "output_type": "stream",
     "text": [
      "sample: 527\n",
      "(480, 15) (480, 15)\n",
      "{'testlen': 21600, 'reflen': 18290, 'guess': [21600, 21120, 20640, 20160], 'correct': [7271, 2312, 791, 370]}\n",
      "ratio: 1.1809732094039813\n"
     ]
    },
    {
     "name": "stderr",
     "output_type": "stream",
     "text": [
      "\r",
      " 53%|█████▎    | 528/1000 [1:54:14<2:09:25, 16.45s/it]"
     ]
    },
    {
     "name": "stdout",
     "output_type": "stream",
     "text": [
      "sample: 528\n",
      "(480, 15) (480, 15)\n",
      "{'testlen': 21600, 'reflen': 18738, 'guess': [21600, 21120, 20640, 20160], 'correct': [7125, 2118, 638, 248]}\n",
      "ratio: 1.1527377521613218\n"
     ]
    },
    {
     "name": "stderr",
     "output_type": "stream",
     "text": [
      "\r",
      " 53%|█████▎    | 529/1000 [1:54:29<2:06:55, 16.17s/it]"
     ]
    },
    {
     "name": "stdout",
     "output_type": "stream",
     "text": [
      "sample: 529\n",
      "(480, 15) (480, 15)\n",
      "{'testlen': 21600, 'reflen': 18127, 'guess': [21600, 21120, 20640, 20160], 'correct': [7282, 2295, 812, 394]}\n",
      "ratio: 1.1915926518452478\n"
     ]
    },
    {
     "name": "stderr",
     "output_type": "stream",
     "text": [
      "\r",
      " 53%|█████▎    | 530/1000 [1:54:45<2:05:53, 16.07s/it]"
     ]
    },
    {
     "name": "stdout",
     "output_type": "stream",
     "text": [
      "sample: 530\n",
      "(480, 15) (480, 15)\n",
      "{'testlen': 21600, 'reflen': 18433, 'guess': [21600, 21120, 20640, 20160], 'correct': [7234, 2272, 725, 276]}\n",
      "ratio: 1.1718114251613316\n"
     ]
    },
    {
     "name": "stderr",
     "output_type": "stream",
     "text": [
      "\r",
      " 53%|█████▎    | 531/1000 [1:55:00<2:03:26, 15.79s/it]"
     ]
    },
    {
     "name": "stdout",
     "output_type": "stream",
     "text": [
      "sample: 531\n",
      "(480, 15) (480, 15)\n",
      "{'testlen': 21600, 'reflen': 18359, 'guess': [21600, 21120, 20640, 20160], 'correct': [7278, 2374, 873, 426]}\n",
      "ratio: 1.176534669644252\n"
     ]
    },
    {
     "name": "stderr",
     "output_type": "stream",
     "text": [
      "\r",
      " 53%|█████▎    | 532/1000 [1:55:16<2:04:10, 15.92s/it]"
     ]
    },
    {
     "name": "stdout",
     "output_type": "stream",
     "text": [
      "sample: 532\n",
      "(480, 15) (480, 15)\n",
      "{'testlen': 21600, 'reflen': 18582, 'guess': [21600, 21120, 20640, 20160], 'correct': [7190, 2249, 744, 313]}\n",
      "ratio: 1.1624152405553136\n"
     ]
    },
    {
     "name": "stderr",
     "output_type": "stream",
     "text": [
      "\r",
      " 53%|█████▎    | 533/1000 [1:55:32<2:03:04, 15.81s/it]"
     ]
    },
    {
     "name": "stdout",
     "output_type": "stream",
     "text": [
      "sample: 533\n",
      "(480, 15) (480, 15)\n",
      "{'testlen': 21600, 'reflen': 17399, 'guess': [21600, 21120, 20640, 20160], 'correct': [6981, 2135, 651, 245]}\n",
      "ratio: 1.2414506580837266\n"
     ]
    },
    {
     "name": "stderr",
     "output_type": "stream",
     "text": [
      "\r",
      " 53%|█████▎    | 534/1000 [1:55:47<2:00:44, 15.55s/it]"
     ]
    },
    {
     "name": "stdout",
     "output_type": "stream",
     "text": [
      "sample: 534\n",
      "(480, 15) (480, 15)\n",
      "{'testlen': 21600, 'reflen': 17724, 'guess': [21600, 21120, 20640, 20160], 'correct': [7228, 2293, 756, 358]}\n",
      "ratio: 1.21868652674333\n"
     ]
    },
    {
     "name": "stderr",
     "output_type": "stream",
     "text": [
      "\r",
      " 54%|█████▎    | 535/1000 [1:56:04<2:03:37, 15.95s/it]"
     ]
    },
    {
     "name": "stdout",
     "output_type": "stream",
     "text": [
      "sample: 535\n",
      "(480, 15) (480, 15)\n",
      "{'testlen': 21600, 'reflen': 18891, 'guess': [21600, 21120, 20640, 20160], 'correct': [7187, 2171, 679, 282]}\n",
      "ratio: 1.1434016198189008\n"
     ]
    },
    {
     "name": "stderr",
     "output_type": "stream",
     "text": [
      "\r",
      " 54%|█████▎    | 536/1000 [1:56:19<2:02:45, 15.87s/it]"
     ]
    },
    {
     "name": "stdout",
     "output_type": "stream",
     "text": [
      "sample: 536\n",
      "(480, 15) (480, 15)\n",
      "{'testlen': 21600, 'reflen': 18276, 'guess': [21600, 21120, 20640, 20160], 'correct': [7377, 2381, 857, 406]}\n",
      "ratio: 1.1818778726197645\n"
     ]
    },
    {
     "name": "stderr",
     "output_type": "stream",
     "text": [
      "\r",
      " 54%|█████▎    | 537/1000 [1:56:35<2:02:30, 15.88s/it]"
     ]
    },
    {
     "name": "stdout",
     "output_type": "stream",
     "text": [
      "sample: 537\n",
      "(480, 15) (480, 15)\n",
      "{'testlen': 21600, 'reflen': 18715, 'guess': [21600, 21120, 20640, 20160], 'correct': [7230, 2229, 762, 352]}\n",
      "ratio: 1.1541544215869006\n"
     ]
    },
    {
     "name": "stderr",
     "output_type": "stream",
     "text": [
      "\r",
      " 54%|█████▍    | 538/1000 [1:56:50<2:00:30, 15.65s/it]"
     ]
    },
    {
     "name": "stdout",
     "output_type": "stream",
     "text": [
      "sample: 538\n",
      "(480, 15) (480, 15)\n",
      "{'testlen': 21600, 'reflen': 17852, 'guess': [21600, 21120, 20640, 20160], 'correct': [7158, 2315, 801, 361]}\n",
      "ratio: 1.2099484651578978\n"
     ]
    },
    {
     "name": "stderr",
     "output_type": "stream",
     "text": [
      "\r",
      " 54%|█████▍    | 539/1000 [1:57:05<1:58:05, 15.37s/it]"
     ]
    },
    {
     "name": "stdout",
     "output_type": "stream",
     "text": [
      "sample: 539\n",
      "(480, 15) (480, 15)\n",
      "{'testlen': 21600, 'reflen': 18837, 'guess': [21600, 21120, 20640, 20160], 'correct': [7221, 2188, 734, 307]}\n",
      "ratio: 1.146679407548912\n"
     ]
    },
    {
     "name": "stderr",
     "output_type": "stream",
     "text": [
      "\r",
      " 54%|█████▍    | 540/1000 [1:57:21<1:58:20, 15.43s/it]"
     ]
    },
    {
     "name": "stdout",
     "output_type": "stream",
     "text": [
      "sample: 540\n",
      "(480, 15) (480, 15)\n",
      "{'testlen': 21600, 'reflen': 18113, 'guess': [21600, 21120, 20640, 20160], 'correct': [7286, 2296, 750, 314]}\n",
      "ratio: 1.1925136642190033\n"
     ]
    },
    {
     "name": "stderr",
     "output_type": "stream",
     "text": [
      "\r",
      " 54%|█████▍    | 541/1000 [1:57:36<1:57:02, 15.30s/it]"
     ]
    },
    {
     "name": "stdout",
     "output_type": "stream",
     "text": [
      "sample: 541\n",
      "(480, 15) (480, 15)\n",
      "{'testlen': 21600, 'reflen': 18101, 'guess': [21600, 21120, 20640, 20160], 'correct': [7191, 2261, 728, 307]}\n",
      "ratio: 1.1933042373348879\n"
     ]
    },
    {
     "name": "stderr",
     "output_type": "stream",
     "text": [
      "\r",
      " 54%|█████▍    | 542/1000 [1:57:51<1:56:15, 15.23s/it]"
     ]
    },
    {
     "name": "stdout",
     "output_type": "stream",
     "text": [
      "sample: 542\n",
      "(480, 15) (480, 15)\n",
      "{'testlen': 21600, 'reflen': 17300, 'guess': [21600, 21120, 20640, 20160], 'correct': [7077, 2320, 820, 372]}\n",
      "ratio: 1.2485549132947256\n"
     ]
    },
    {
     "name": "stderr",
     "output_type": "stream",
     "text": [
      "\r",
      " 54%|█████▍    | 543/1000 [1:58:07<1:57:32, 15.43s/it]"
     ]
    },
    {
     "name": "stdout",
     "output_type": "stream",
     "text": [
      "sample: 543\n",
      "(480, 15) (480, 15)\n",
      "{'testlen': 21600, 'reflen': 18215, 'guess': [21600, 21120, 20640, 20160], 'correct': [6994, 2163, 671, 275]}\n",
      "ratio: 1.1858358495744614\n"
     ]
    },
    {
     "name": "stderr",
     "output_type": "stream",
     "text": [
      "\r",
      " 54%|█████▍    | 544/1000 [1:58:23<1:59:01, 15.66s/it]"
     ]
    },
    {
     "name": "stdout",
     "output_type": "stream",
     "text": [
      "sample: 544\n",
      "(480, 15) (480, 15)\n",
      "{'testlen': 21600, 'reflen': 18611, 'guess': [21600, 21120, 20640, 20160], 'correct': [7124, 2254, 790, 351]}\n",
      "ratio: 1.1606039439040803\n"
     ]
    },
    {
     "name": "stderr",
     "output_type": "stream",
     "text": [
      "\r",
      " 55%|█████▍    | 545/1000 [1:58:39<1:59:31, 15.76s/it]"
     ]
    },
    {
     "name": "stdout",
     "output_type": "stream",
     "text": [
      "sample: 545\n",
      "(480, 15) (480, 15)\n",
      "{'testlen': 21600, 'reflen': 18847, 'guess': [21600, 21120, 20640, 20160], 'correct': [7172, 2160, 715, 322]}\n",
      "ratio: 1.1460709927308779\n"
     ]
    },
    {
     "name": "stderr",
     "output_type": "stream",
     "text": [
      "\r",
      " 55%|█████▍    | 546/1000 [1:58:53<1:56:25, 15.39s/it]"
     ]
    },
    {
     "name": "stdout",
     "output_type": "stream",
     "text": [
      "sample: 546\n",
      "(480, 15) (480, 15)\n",
      "{'testlen': 21600, 'reflen': 18464, 'guess': [21600, 21120, 20640, 20160], 'correct': [7176, 2251, 745, 330]}\n",
      "ratio: 1.1698440207971637\n"
     ]
    },
    {
     "name": "stderr",
     "output_type": "stream",
     "text": [
      "\r",
      " 55%|█████▍    | 547/1000 [1:59:09<1:56:04, 15.37s/it]"
     ]
    },
    {
     "name": "stdout",
     "output_type": "stream",
     "text": [
      "sample: 547\n",
      "(480, 15) (480, 15)\n",
      "{'testlen': 21600, 'reflen': 17568, 'guess': [21600, 21120, 20640, 20160], 'correct': [7273, 2335, 772, 337]}\n",
      "ratio: 1.2295081967212416\n"
     ]
    },
    {
     "name": "stderr",
     "output_type": "stream",
     "text": [
      "\r",
      " 55%|█████▍    | 548/1000 [1:59:25<1:57:45, 15.63s/it]"
     ]
    },
    {
     "name": "stdout",
     "output_type": "stream",
     "text": [
      "sample: 548\n",
      "(480, 15) (480, 15)\n",
      "{'testlen': 21600, 'reflen': 18116, 'guess': [21600, 21120, 20640, 20160], 'correct': [7144, 2267, 757, 318]}\n",
      "ratio: 1.1923161845881434\n"
     ]
    },
    {
     "name": "stderr",
     "output_type": "stream",
     "text": [
      "\r",
      " 55%|█████▍    | 549/1000 [1:59:40<1:56:08, 15.45s/it]"
     ]
    },
    {
     "name": "stdout",
     "output_type": "stream",
     "text": [
      "sample: 549\n",
      "(480, 15) (480, 15)\n",
      "{'testlen': 21600, 'reflen': 18395, 'guess': [21600, 21120, 20640, 20160], 'correct': [7209, 2218, 690, 285]}\n",
      "ratio: 1.1742321282956687\n"
     ]
    },
    {
     "name": "stderr",
     "output_type": "stream",
     "text": [
      "\r",
      " 55%|█████▌    | 550/1000 [1:59:55<1:55:33, 15.41s/it]"
     ]
    },
    {
     "name": "stdout",
     "output_type": "stream",
     "text": [
      "sample: 550\n",
      "(480, 15) (480, 15)\n",
      "{'testlen': 21600, 'reflen': 18312, 'guess': [21600, 21120, 20640, 20160], 'correct': [7159, 2328, 831, 403]}\n",
      "ratio: 1.1795543905635004\n"
     ]
    },
    {
     "name": "stderr",
     "output_type": "stream",
     "text": [
      "\r",
      " 55%|█████▌    | 551/1000 [2:00:11<1:56:42, 15.60s/it]"
     ]
    },
    {
     "name": "stdout",
     "output_type": "stream",
     "text": [
      "sample: 551\n",
      "(480, 15) (480, 15)\n",
      "{'testlen': 21600, 'reflen': 18623, 'guess': [21600, 21120, 20640, 20160], 'correct': [7237, 2360, 824, 373]}\n",
      "ratio: 1.1598560919292724\n"
     ]
    },
    {
     "name": "stderr",
     "output_type": "stream",
     "text": [
      "\r",
      " 55%|█████▌    | 552/1000 [2:00:27<1:57:03, 15.68s/it]"
     ]
    },
    {
     "name": "stdout",
     "output_type": "stream",
     "text": [
      "sample: 552\n",
      "(480, 15) (480, 15)\n",
      "{'testlen': 21600, 'reflen': 17530, 'guess': [21600, 21120, 20640, 20160], 'correct': [7139, 2410, 889, 433]}\n",
      "ratio: 1.2321734169993592\n"
     ]
    },
    {
     "name": "stderr",
     "output_type": "stream",
     "text": [
      "\r",
      " 55%|█████▌    | 553/1000 [2:00:43<1:57:53, 15.83s/it]"
     ]
    },
    {
     "name": "stdout",
     "output_type": "stream",
     "text": [
      "sample: 553\n",
      "(480, 15) (480, 15)\n",
      "{'testlen': 21600, 'reflen': 18656, 'guess': [21600, 21120, 20640, 20160], 'correct': [7252, 2202, 707, 265]}\n",
      "ratio: 1.15780445969119\n"
     ]
    },
    {
     "name": "stderr",
     "output_type": "stream",
     "text": [
      "\r",
      " 55%|█████▌    | 554/1000 [2:00:59<1:57:25, 15.80s/it]"
     ]
    },
    {
     "name": "stdout",
     "output_type": "stream",
     "text": [
      "sample: 554\n",
      "(480, 15) (480, 15)\n",
      "{'testlen': 21600, 'reflen': 18935, 'guess': [21600, 21120, 20640, 20160], 'correct': [7162, 2159, 669, 246]}\n",
      "ratio: 1.1407446527593799\n"
     ]
    },
    {
     "name": "stderr",
     "output_type": "stream",
     "text": [
      "\r",
      " 56%|█████▌    | 555/1000 [2:01:16<1:59:50, 16.16s/it]"
     ]
    },
    {
     "name": "stdout",
     "output_type": "stream",
     "text": [
      "sample: 555\n",
      "(480, 15) (480, 15)\n",
      "{'testlen': 21600, 'reflen': 18149, 'guess': [21600, 21120, 20640, 20160], 'correct': [7093, 2203, 727, 317]}\n",
      "ratio: 1.1901482175325808\n"
     ]
    },
    {
     "name": "stderr",
     "output_type": "stream",
     "text": [
      "\r",
      " 56%|█████▌    | 556/1000 [2:01:31<1:57:18, 15.85s/it]"
     ]
    },
    {
     "name": "stdout",
     "output_type": "stream",
     "text": [
      "sample: 556\n",
      "(480, 15) (480, 15)\n"
     ]
    },
    {
     "name": "stderr",
     "output_type": "stream",
     "text": [
      "\r",
      " 56%|█████▌    | 557/1000 [2:01:46<1:54:55, 15.57s/it]"
     ]
    },
    {
     "name": "stdout",
     "output_type": "stream",
     "text": [
      "{'testlen': 21600, 'reflen': 18288, 'guess': [21600, 21120, 20640, 20160], 'correct': [7165, 2262, 770, 360]}\n",
      "ratio: 1.1811023622046597\n",
      "sample: 557\n",
      "(480, 15) (480, 15)\n",
      "{'testlen': 21600, 'reflen': 18631, 'guess': [21600, 21120, 20640, 20160], 'correct': [7202, 2145, 687, 296]}\n",
      "ratio: 1.1593580591486683\n"
     ]
    },
    {
     "name": "stderr",
     "output_type": "stream",
     "text": [
      "\r",
      " 56%|█████▌    | 558/1000 [2:02:02<1:54:23, 15.53s/it]"
     ]
    },
    {
     "name": "stdout",
     "output_type": "stream",
     "text": [
      "sample: 558\n",
      "(480, 15) (480, 15)\n",
      "{'testlen': 21600, 'reflen': 18202, 'guess': [21600, 21120, 20640, 20160], 'correct': [7182, 2287, 715, 285]}\n",
      "ratio: 1.1866827821117907\n"
     ]
    },
    {
     "name": "stderr",
     "output_type": "stream",
     "text": [
      "\r",
      " 56%|█████▌    | 559/1000 [2:02:18<1:55:19, 15.69s/it]"
     ]
    },
    {
     "name": "stdout",
     "output_type": "stream",
     "text": [
      "sample: 559\n",
      "(480, 15) (480, 15)\n",
      "{'testlen': 21600, 'reflen': 18498, 'guess': [21600, 21120, 20640, 20160], 'correct': [7148, 2314, 819, 392]}\n",
      "ratio: 1.167693804735584\n"
     ]
    },
    {
     "name": "stderr",
     "output_type": "stream",
     "text": [
      "\r",
      " 56%|█████▌    | 560/1000 [2:02:33<1:53:52, 15.53s/it]"
     ]
    },
    {
     "name": "stdout",
     "output_type": "stream",
     "text": [
      "sample: 560\n",
      "(480, 15) (480, 15)\n",
      "{'testlen': 21600, 'reflen': 18282, 'guess': [21600, 21120, 20640, 20160], 'correct': [7232, 2257, 741, 313]}\n",
      "ratio: 1.1814899901541853\n"
     ]
    },
    {
     "name": "stderr",
     "output_type": "stream",
     "text": [
      "\r",
      " 56%|█████▌    | 561/1000 [2:02:48<1:53:53, 15.57s/it]"
     ]
    },
    {
     "name": "stdout",
     "output_type": "stream",
     "text": [
      "sample: 561\n",
      "(480, 15) (480, 15)\n",
      "{'testlen': 21600, 'reflen': 18749, 'guess': [21600, 21120, 20640, 20160], 'correct': [7088, 2263, 792, 363]}\n",
      "ratio: 1.1520614432769134\n"
     ]
    },
    {
     "name": "stderr",
     "output_type": "stream",
     "text": [
      "\r",
      " 56%|█████▌    | 562/1000 [2:03:05<1:55:27, 15.82s/it]"
     ]
    },
    {
     "name": "stdout",
     "output_type": "stream",
     "text": [
      "sample: 562\n",
      "(480, 15) (480, 15)\n",
      "{'testlen': 21600, 'reflen': 18030, 'guess': [21600, 21120, 20640, 20160], 'correct': [7173, 2250, 751, 346]}\n",
      "ratio: 1.198003327786955\n"
     ]
    },
    {
     "name": "stderr",
     "output_type": "stream",
     "text": [
      "\r",
      " 56%|█████▋    | 563/1000 [2:03:20<1:53:39, 15.60s/it]"
     ]
    },
    {
     "name": "stdout",
     "output_type": "stream",
     "text": [
      "sample: 563\n",
      "(480, 15) (480, 15)\n",
      "{'testlen': 21600, 'reflen': 18978, 'guess': [21600, 21120, 20640, 20160], 'correct': [7221, 2209, 712, 289]}\n",
      "ratio: 1.1381599747074962\n"
     ]
    },
    {
     "name": "stderr",
     "output_type": "stream",
     "text": [
      "\r",
      " 56%|█████▋    | 564/1000 [2:03:35<1:53:23, 15.60s/it]"
     ]
    },
    {
     "name": "stdout",
     "output_type": "stream",
     "text": [
      "sample: 564\n",
      "(480, 15) (480, 15)\n",
      "{'testlen': 21600, 'reflen': 18135, 'guess': [21600, 21120, 20640, 20160], 'correct': [7003, 2132, 674, 281]}\n",
      "ratio: 1.1910669975185446\n"
     ]
    },
    {
     "name": "stderr",
     "output_type": "stream",
     "text": [
      "\r",
      " 56%|█████▋    | 565/1000 [2:03:51<1:53:19, 15.63s/it]"
     ]
    },
    {
     "name": "stdout",
     "output_type": "stream",
     "text": [
      "sample: 565\n",
      "(480, 15) (480, 15)\n",
      "{'testlen': 21600, 'reflen': 19180, 'guess': [21600, 21120, 20640, 20160], 'correct': [7227, 2241, 737, 320]}\n",
      "ratio: 1.126173096975958\n"
     ]
    },
    {
     "name": "stderr",
     "output_type": "stream",
     "text": [
      "\r",
      " 57%|█████▋    | 566/1000 [2:04:08<1:55:59, 16.04s/it]"
     ]
    },
    {
     "name": "stdout",
     "output_type": "stream",
     "text": [
      "sample: 566\n",
      "(480, 15) (480, 15)\n",
      "{'testlen': 21600, 'reflen': 18010, 'guess': [21600, 21120, 20640, 20160], 'correct': [7140, 2189, 723, 315]}\n",
      "ratio: 1.19933370349799\n"
     ]
    },
    {
     "name": "stderr",
     "output_type": "stream",
     "text": [
      "\r",
      " 57%|█████▋    | 567/1000 [2:04:23<1:53:25, 15.72s/it]"
     ]
    },
    {
     "name": "stdout",
     "output_type": "stream",
     "text": [
      "sample: 567\n",
      "(480, 15) (480, 15)\n",
      "{'testlen': 21600, 'reflen': 17992, 'guess': [21600, 21120, 20640, 20160], 'correct': [7078, 2176, 701, 283]}\n",
      "ratio: 1.2005335704757003\n"
     ]
    },
    {
     "name": "stderr",
     "output_type": "stream",
     "text": [
      "\r",
      " 57%|█████▋    | 568/1000 [2:04:38<1:51:15, 15.45s/it]"
     ]
    },
    {
     "name": "stdout",
     "output_type": "stream",
     "text": [
      "sample: 568\n",
      "(480, 15) (480, 15)\n",
      "{'testlen': 21600, 'reflen': 18477, 'guess': [21600, 21120, 20640, 20160], 'correct': [7206, 2233, 704, 275]}\n",
      "ratio: 1.1690209449585338\n"
     ]
    },
    {
     "name": "stderr",
     "output_type": "stream",
     "text": [
      "\r",
      " 57%|█████▋    | 569/1000 [2:04:53<1:50:10, 15.34s/it]"
     ]
    },
    {
     "name": "stdout",
     "output_type": "stream",
     "text": [
      "sample: 569\n",
      "(480, 15) (480, 15)\n",
      "{'testlen': 21600, 'reflen': 18104, 'guess': [21600, 21120, 20640, 20160], 'correct': [7134, 2255, 744, 332]}\n",
      "ratio: 1.1931064958019668\n"
     ]
    },
    {
     "name": "stderr",
     "output_type": "stream",
     "text": [
      "\r",
      " 57%|█████▋    | 570/1000 [2:05:08<1:48:16, 15.11s/it]"
     ]
    },
    {
     "name": "stdout",
     "output_type": "stream",
     "text": [
      "sample: 570\n",
      "(480, 15) (480, 15)\n",
      "{'testlen': 21600, 'reflen': 18762, 'guess': [21600, 21120, 20640, 20160], 'correct': [7406, 2418, 854, 402]}\n",
      "ratio: 1.151263191557342\n"
     ]
    },
    {
     "name": "stderr",
     "output_type": "stream",
     "text": [
      "\r",
      " 57%|█████▋    | 571/1000 [2:05:23<1:49:08, 15.26s/it]"
     ]
    },
    {
     "name": "stdout",
     "output_type": "stream",
     "text": [
      "sample: 571\n",
      "(480, 15) (480, 15)\n",
      "{'testlen': 21600, 'reflen': 17582, 'guess': [21600, 21120, 20640, 20160], 'correct': [7119, 2220, 714, 297]}\n",
      "ratio: 1.2285291775678973\n"
     ]
    },
    {
     "name": "stderr",
     "output_type": "stream",
     "text": [
      "\r",
      " 57%|█████▋    | 572/1000 [2:05:40<1:51:37, 15.65s/it]"
     ]
    },
    {
     "name": "stdout",
     "output_type": "stream",
     "text": [
      "sample: 572\n",
      "(480, 15) (480, 15)\n",
      "{'testlen': 21600, 'reflen': 17661, 'guess': [21600, 21120, 20640, 20160], 'correct': [7144, 2256, 760, 336]}\n",
      "ratio: 1.2230338032953274\n"
     ]
    },
    {
     "name": "stderr",
     "output_type": "stream",
     "text": [
      "\r",
      " 57%|█████▋    | 573/1000 [2:05:54<1:49:08, 15.34s/it]"
     ]
    },
    {
     "name": "stdout",
     "output_type": "stream",
     "text": [
      "sample: 573\n",
      "(480, 15) (480, 15)\n",
      "{'testlen': 21600, 'reflen': 17997, 'guess': [21600, 21120, 20640, 20160], 'correct': [7222, 2324, 817, 394]}\n",
      "ratio: 1.2002000333388232\n"
     ]
    },
    {
     "name": "stderr",
     "output_type": "stream",
     "text": [
      "\r",
      " 57%|█████▋    | 574/1000 [2:06:10<1:48:40, 15.31s/it]"
     ]
    },
    {
     "name": "stdout",
     "output_type": "stream",
     "text": [
      "sample: 574\n",
      "(480, 15) (480, 15)\n",
      "{'testlen': 21600, 'reflen': 18495, 'guess': [21600, 21120, 20640, 20160], 'correct': [7243, 2272, 756, 322]}\n",
      "ratio: 1.167883211678769\n"
     ]
    },
    {
     "name": "stderr",
     "output_type": "stream",
     "text": [
      "\r",
      " 57%|█████▊    | 575/1000 [2:06:25<1:49:04, 15.40s/it]"
     ]
    },
    {
     "name": "stdout",
     "output_type": "stream",
     "text": [
      "sample: 575\n",
      "(480, 15) (480, 15)\n",
      "{'testlen': 21600, 'reflen': 17876, 'guess': [21600, 21120, 20640, 20160], 'correct': [7138, 2225, 732, 317]}\n",
      "ratio: 1.2083240098455355\n"
     ]
    },
    {
     "name": "stderr",
     "output_type": "stream",
     "text": [
      "\r",
      " 58%|█████▊    | 576/1000 [2:06:42<1:52:33, 15.93s/it]"
     ]
    },
    {
     "name": "stdout",
     "output_type": "stream",
     "text": [
      "sample: 576\n",
      "(480, 15) (480, 15)\n",
      "{'testlen': 21600, 'reflen': 18498, 'guess': [21600, 21120, 20640, 20160], 'correct': [7332, 2300, 781, 315]}\n",
      "ratio: 1.167693804735584\n"
     ]
    },
    {
     "name": "stderr",
     "output_type": "stream",
     "text": [
      "\r",
      " 58%|█████▊    | 577/1000 [2:06:59<1:53:40, 16.12s/it]"
     ]
    },
    {
     "name": "stdout",
     "output_type": "stream",
     "text": [
      "sample: 577\n",
      "(480, 15) (480, 15)\n",
      "{'testlen': 21600, 'reflen': 18470, 'guess': [21600, 21120, 20640, 20160], 'correct': [7111, 2207, 702, 293]}\n",
      "ratio: 1.1694639956685886\n"
     ]
    },
    {
     "name": "stderr",
     "output_type": "stream",
     "text": [
      "\r",
      " 58%|█████▊    | 578/1000 [2:07:15<1:52:46, 16.04s/it]"
     ]
    },
    {
     "name": "stdout",
     "output_type": "stream",
     "text": [
      "sample: 578\n",
      "(480, 15) (480, 15)\n",
      "{'testlen': 21600, 'reflen': 17949, 'guess': [21600, 21120, 20640, 20160], 'correct': [7175, 2218, 764, 340]}\n",
      "ratio: 1.2034096607052647\n"
     ]
    },
    {
     "name": "stderr",
     "output_type": "stream",
     "text": [
      "\r",
      " 58%|█████▊    | 579/1000 [2:07:30<1:49:45, 15.64s/it]"
     ]
    },
    {
     "name": "stdout",
     "output_type": "stream",
     "text": [
      "sample: 579\n",
      "(480, 15) (480, 15)\n",
      "{'testlen': 21600, 'reflen': 18307, 'guess': [21600, 21120, 20640, 20160], 'correct': [7249, 2215, 691, 264]}\n",
      "ratio: 1.179876549953505\n"
     ]
    },
    {
     "name": "stderr",
     "output_type": "stream",
     "text": [
      "\r",
      " 58%|█████▊    | 580/1000 [2:07:47<1:52:34, 16.08s/it]"
     ]
    },
    {
     "name": "stdout",
     "output_type": "stream",
     "text": [
      "sample: 580\n",
      "(480, 15) (480, 15)\n",
      "{'testlen': 21600, 'reflen': 18443, 'guess': [21600, 21120, 20640, 20160], 'correct': [7146, 2205, 725, 302]}\n",
      "ratio: 1.1711760559561257\n"
     ]
    },
    {
     "name": "stderr",
     "output_type": "stream",
     "text": [
      "\r",
      " 58%|█████▊    | 581/1000 [2:08:02<1:50:27, 15.82s/it]"
     ]
    },
    {
     "name": "stdout",
     "output_type": "stream",
     "text": [
      "sample: 581\n",
      "(480, 15) (480, 15)\n",
      "{'testlen': 21600, 'reflen': 18776, 'guess': [21600, 21120, 20640, 20160], 'correct': [7389, 2408, 867, 449]}\n",
      "ratio: 1.1504047720493635\n"
     ]
    },
    {
     "name": "stderr",
     "output_type": "stream",
     "text": [
      "\r",
      " 58%|█████▊    | 582/1000 [2:08:17<1:49:45, 15.75s/it]"
     ]
    },
    {
     "name": "stdout",
     "output_type": "stream",
     "text": [
      "sample: 582\n",
      "(480, 15) (480, 15)\n",
      "{'testlen': 21600, 'reflen': 18640, 'guess': [21600, 21120, 20640, 20160], 'correct': [7058, 2143, 653, 260]}\n",
      "ratio: 1.1587982832617403\n"
     ]
    },
    {
     "name": "stderr",
     "output_type": "stream",
     "text": [
      "\r",
      " 58%|█████▊    | 583/1000 [2:08:32<1:47:37, 15.49s/it]"
     ]
    },
    {
     "name": "stdout",
     "output_type": "stream",
     "text": [
      "sample: 583\n",
      "(480, 15) (480, 15)\n",
      "{'testlen': 21600, 'reflen': 18271, 'guess': [21600, 21120, 20640, 20160], 'correct': [7265, 2314, 787, 339]}\n",
      "ratio: 1.1822013026106297\n"
     ]
    },
    {
     "name": "stderr",
     "output_type": "stream",
     "text": [
      "\r",
      " 58%|█████▊    | 584/1000 [2:08:47<1:45:38, 15.24s/it]"
     ]
    },
    {
     "name": "stdout",
     "output_type": "stream",
     "text": [
      "sample: 584\n",
      "(480, 15) (480, 15)\n",
      "{'testlen': 21600, 'reflen': 18033, 'guess': [21600, 21120, 20640, 20160], 'correct': [7235, 2251, 744, 341]}\n",
      "ratio: 1.1978040259523541\n"
     ]
    },
    {
     "name": "stderr",
     "output_type": "stream",
     "text": [
      "\r",
      " 58%|█████▊    | 585/1000 [2:09:03<1:46:01, 15.33s/it]"
     ]
    },
    {
     "name": "stdout",
     "output_type": "stream",
     "text": [
      "sample: 585\n",
      "(480, 15) (480, 15)\n",
      "{'testlen': 21600, 'reflen': 18880, 'guess': [21600, 21120, 20640, 20160], 'correct': [7064, 2183, 747, 341]}\n",
      "ratio: 1.144067796610109\n"
     ]
    },
    {
     "name": "stderr",
     "output_type": "stream",
     "text": [
      "\r",
      " 59%|█████▊    | 586/1000 [2:09:20<1:49:59, 15.94s/it]"
     ]
    },
    {
     "name": "stdout",
     "output_type": "stream",
     "text": [
      "sample: 586\n",
      "(480, 15) (480, 15)\n",
      "{'testlen': 21600, 'reflen': 17804, 'guess': [21600, 21120, 20640, 20160], 'correct': [7173, 2192, 669, 251]}\n",
      "ratio: 1.2132105144910574\n"
     ]
    },
    {
     "name": "stderr",
     "output_type": "stream",
     "text": [
      "\r",
      " 59%|█████▊    | 587/1000 [2:09:36<1:49:54, 15.97s/it]"
     ]
    },
    {
     "name": "stdout",
     "output_type": "stream",
     "text": [
      "sample: 587\n",
      "(480, 15) (480, 15)\n",
      "{'testlen': 21600, 'reflen': 17676, 'guess': [21600, 21120, 20640, 20160], 'correct': [7212, 2330, 774, 316]}\n",
      "ratio: 1.2219959266801752\n"
     ]
    },
    {
     "name": "stderr",
     "output_type": "stream",
     "text": [
      "\r",
      " 59%|█████▉    | 588/1000 [2:09:51<1:47:40, 15.68s/it]"
     ]
    },
    {
     "name": "stdout",
     "output_type": "stream",
     "text": [
      "sample: 588\n",
      "(480, 15) (480, 15)\n",
      "{'testlen': 21600, 'reflen': 18033, 'guess': [21600, 21120, 20640, 20160], 'correct': [7110, 2275, 730, 304]}\n",
      "ratio: 1.1978040259523541\n"
     ]
    },
    {
     "name": "stderr",
     "output_type": "stream",
     "text": [
      "\r",
      " 59%|█████▉    | 589/1000 [2:10:06<1:45:53, 15.46s/it]"
     ]
    },
    {
     "name": "stdout",
     "output_type": "stream",
     "text": [
      "sample: 589\n",
      "(480, 15) (480, 15)\n",
      "{'testlen': 21600, 'reflen': 18321, 'guess': [21600, 21120, 20640, 20160], 'correct': [7129, 2193, 705, 292]}\n",
      "ratio: 1.1789749467823165\n"
     ]
    },
    {
     "name": "stderr",
     "output_type": "stream",
     "text": [
      "\r",
      " 59%|█████▉    | 590/1000 [2:10:24<1:50:05, 16.11s/it]"
     ]
    },
    {
     "name": "stdout",
     "output_type": "stream",
     "text": [
      "sample: 590\n",
      "(480, 15) (480, 15)\n",
      "{'testlen': 21600, 'reflen': 18598, 'guess': [21600, 21120, 20640, 20160], 'correct': [7144, 2260, 767, 346]}\n",
      "ratio: 1.1614152059360596\n"
     ]
    },
    {
     "name": "stderr",
     "output_type": "stream",
     "text": [
      "\r",
      " 59%|█████▉    | 591/1000 [2:10:39<1:48:17, 15.89s/it]"
     ]
    },
    {
     "name": "stdout",
     "output_type": "stream",
     "text": [
      "sample: 591\n",
      "(480, 15) (480, 15)\n",
      "{'testlen': 21600, 'reflen': 18605, 'guess': [21600, 21120, 20640, 20160], 'correct': [7346, 2331, 798, 360]}\n",
      "ratio: 1.1609782316580939\n"
     ]
    },
    {
     "name": "stderr",
     "output_type": "stream",
     "text": [
      "\r",
      " 59%|█████▉    | 592/1000 [2:10:54<1:47:06, 15.75s/it]"
     ]
    },
    {
     "name": "stdout",
     "output_type": "stream",
     "text": [
      "sample: 592\n",
      "(480, 15) (480, 15)\n",
      "{'testlen': 21600, 'reflen': 17795, 'guess': [21600, 21120, 20640, 20160], 'correct': [7057, 2169, 660, 270]}\n",
      "ratio: 1.213824107895408\n"
     ]
    },
    {
     "name": "stderr",
     "output_type": "stream",
     "text": [
      "\r",
      " 59%|█████▉    | 593/1000 [2:11:09<1:45:40, 15.58s/it]"
     ]
    },
    {
     "name": "stdout",
     "output_type": "stream",
     "text": [
      "sample: 593\n",
      "(480, 15) (480, 15)\n",
      "{'testlen': 21600, 'reflen': 18326, 'guess': [21600, 21120, 20640, 20160], 'correct': [7263, 2261, 743, 301]}\n",
      "ratio: 1.1786532794935514\n"
     ]
    },
    {
     "name": "stderr",
     "output_type": "stream",
     "text": [
      "\r",
      " 59%|█████▉    | 594/1000 [2:11:25<1:44:59, 15.52s/it]"
     ]
    },
    {
     "name": "stdout",
     "output_type": "stream",
     "text": [
      "sample: 594\n",
      "(480, 15) (480, 15)\n",
      "{'testlen': 21600, 'reflen': 18756, 'guess': [21600, 21120, 20640, 20160], 'correct': [7144, 2190, 730, 302]}\n",
      "ratio: 1.1516314779270018\n"
     ]
    },
    {
     "name": "stderr",
     "output_type": "stream",
     "text": [
      "\r",
      " 60%|█████▉    | 595/1000 [2:11:41<1:46:10, 15.73s/it]"
     ]
    },
    {
     "name": "stdout",
     "output_type": "stream",
     "text": [
      "sample: 595\n",
      "(480, 15) (480, 15)\n",
      "{'testlen': 21600, 'reflen': 18532, 'guess': [21600, 21120, 20640, 20160], 'correct': [7282, 2284, 754, 333]}\n",
      "ratio: 1.1655514785235719\n"
     ]
    },
    {
     "name": "stderr",
     "output_type": "stream",
     "text": [
      "\r",
      " 60%|█████▉    | 596/1000 [2:11:57<1:46:27, 15.81s/it]"
     ]
    },
    {
     "name": "stdout",
     "output_type": "stream",
     "text": [
      "sample: 596\n",
      "(480, 15) (480, 15)\n",
      "{'testlen': 21600, 'reflen': 17785, 'guess': [21600, 21120, 20640, 20160], 'correct': [7125, 2226, 690, 277]}\n",
      "ratio: 1.2145066066909636\n"
     ]
    },
    {
     "name": "stderr",
     "output_type": "stream",
     "text": [
      "\r",
      " 60%|█████▉    | 597/1000 [2:12:12<1:45:21, 15.69s/it]"
     ]
    },
    {
     "name": "stdout",
     "output_type": "stream",
     "text": [
      "sample: 597\n",
      "(480, 15) (480, 15)\n",
      "{'testlen': 21600, 'reflen': 18367, 'guess': [21600, 21120, 20640, 20160], 'correct': [7284, 2384, 876, 410]}\n",
      "ratio: 1.1760222137528624\n"
     ]
    },
    {
     "name": "stderr",
     "output_type": "stream",
     "text": [
      "\r",
      " 60%|█████▉    | 598/1000 [2:12:28<1:43:57, 15.52s/it]"
     ]
    },
    {
     "name": "stdout",
     "output_type": "stream",
     "text": [
      "sample: 598\n",
      "(480, 15) (480, 15)\n",
      "{'testlen': 21600, 'reflen': 17971, 'guess': [21600, 21120, 20640, 20160], 'correct': [7181, 2270, 717, 282]}\n",
      "ratio: 1.201936453174492\n"
     ]
    },
    {
     "name": "stderr",
     "output_type": "stream",
     "text": [
      "\r",
      " 60%|█████▉    | 599/1000 [2:12:43<1:43:16, 15.45s/it]"
     ]
    },
    {
     "name": "stdout",
     "output_type": "stream",
     "text": [
      "sample: 599\n",
      "(480, 15) (480, 15)\n",
      "{'testlen': 21600, 'reflen': 18288, 'guess': [21600, 21120, 20640, 20160], 'correct': [7205, 2231, 693, 264]}\n",
      "ratio: 1.1811023622046597\n"
     ]
    },
    {
     "name": "stderr",
     "output_type": "stream",
     "text": [
      "\r",
      " 60%|██████    | 600/1000 [2:12:58<1:42:26, 15.37s/it]"
     ]
    },
    {
     "name": "stdout",
     "output_type": "stream",
     "text": [
      "sample: 600\n",
      "(480, 15) (480, 15)\n",
      "{'testlen': 21600, 'reflen': 18204, 'guess': [21600, 21120, 20640, 20160], 'correct': [7158, 2266, 769, 336]}\n",
      "ratio: 1.186552406064536\n"
     ]
    },
    {
     "name": "stderr",
     "output_type": "stream",
     "text": [
      "\r",
      " 60%|██████    | 601/1000 [2:13:13<1:41:21, 15.24s/it]"
     ]
    },
    {
     "name": "stdout",
     "output_type": "stream",
     "text": [
      "sample: 601\n",
      "(480, 15) (480, 15)\n",
      "{'testlen': 21600, 'reflen': 18501, 'guess': [21600, 21120, 20640, 20160], 'correct': [7245, 2289, 745, 330]}\n",
      "ratio: 1.1675044592183574\n"
     ]
    },
    {
     "name": "stderr",
     "output_type": "stream",
     "text": [
      "\r",
      " 60%|██████    | 602/1000 [2:13:28<1:40:56, 15.22s/it]"
     ]
    },
    {
     "name": "stdout",
     "output_type": "stream",
     "text": [
      "sample: 602\n",
      "(480, 15) (480, 15)\n",
      "{'testlen': 21600, 'reflen': 17966, 'guess': [21600, 21120, 20640, 20160], 'correct': [7170, 2192, 658, 254]}\n",
      "ratio: 1.2022709562506289\n"
     ]
    },
    {
     "name": "stderr",
     "output_type": "stream",
     "text": [
      "\r",
      " 60%|██████    | 603/1000 [2:13:43<1:40:35, 15.20s/it]"
     ]
    },
    {
     "name": "stdout",
     "output_type": "stream",
     "text": [
      "sample: 603\n",
      "(480, 15) (480, 15)\n",
      "{'testlen': 21600, 'reflen': 18179, 'guess': [21600, 21120, 20640, 20160], 'correct': [7169, 2233, 751, 351]}\n",
      "ratio: 1.1881841685460592\n"
     ]
    },
    {
     "name": "stderr",
     "output_type": "stream",
     "text": [
      "\r",
      " 60%|██████    | 604/1000 [2:13:58<1:40:12, 15.18s/it]"
     ]
    },
    {
     "name": "stdout",
     "output_type": "stream",
     "text": [
      "sample: 604\n",
      "(480, 15) (480, 15)\n",
      "{'testlen': 21600, 'reflen': 18224, 'guess': [21600, 21120, 20640, 20160], 'correct': [7264, 2326, 837, 415]}\n",
      "ratio: 1.1852502194907164\n"
     ]
    },
    {
     "name": "stderr",
     "output_type": "stream",
     "text": [
      "\r",
      " 60%|██████    | 605/1000 [2:14:14<1:40:15, 15.23s/it]"
     ]
    },
    {
     "name": "stdout",
     "output_type": "stream",
     "text": [
      "sample: 605\n",
      "(480, 15) (480, 15)\n",
      "{'testlen': 21600, 'reflen': 18340, 'guess': [21600, 21120, 20640, 20160], 'correct': [7123, 2215, 695, 283]}\n",
      "ratio: 1.1777535441656937\n"
     ]
    },
    {
     "name": "stderr",
     "output_type": "stream",
     "text": [
      "\r",
      " 61%|██████    | 606/1000 [2:14:30<1:42:36, 15.63s/it]"
     ]
    },
    {
     "name": "stdout",
     "output_type": "stream",
     "text": [
      "sample: 606\n",
      "(480, 15) (480, 15)\n",
      "{'testlen': 21600, 'reflen': 18265, 'guess': [21600, 21120, 20640, 20160], 'correct': [7331, 2281, 719, 285]}\n",
      "ratio: 1.1825896523404773\n"
     ]
    },
    {
     "name": "stderr",
     "output_type": "stream",
     "text": [
      "\r",
      " 61%|██████    | 607/1000 [2:14:45<1:40:47, 15.39s/it]"
     ]
    },
    {
     "name": "stdout",
     "output_type": "stream",
     "text": [
      "sample: 607\n",
      "(480, 15) (480, 15)\n",
      "{'testlen': 21600, 'reflen': 18508, 'guess': [21600, 21120, 20640, 20160], 'correct': [7153, 2185, 713, 299]}\n",
      "ratio: 1.1670628917224353\n"
     ]
    },
    {
     "name": "stderr",
     "output_type": "stream",
     "text": [
      "\r",
      " 61%|██████    | 608/1000 [2:15:02<1:42:57, 15.76s/it]"
     ]
    },
    {
     "name": "stdout",
     "output_type": "stream",
     "text": [
      "sample: 608\n",
      "(480, 15) (480, 15)\n",
      "{'testlen': 21600, 'reflen': 17482, 'guess': [21600, 21120, 20640, 20160], 'correct': [7169, 2227, 736, 323]}\n",
      "ratio: 1.2355565724744746\n"
     ]
    },
    {
     "name": "stderr",
     "output_type": "stream",
     "text": [
      "\r",
      " 61%|██████    | 609/1000 [2:15:16<1:40:02, 15.35s/it]"
     ]
    },
    {
     "name": "stdout",
     "output_type": "stream",
     "text": [
      "sample: 609\n",
      "(480, 15) (480, 15)\n",
      "{'testlen': 21600, 'reflen': 18793, 'guess': [21600, 21120, 20640, 20160], 'correct': [7158, 2260, 740, 328]}\n",
      "ratio: 1.1493641249400761\n"
     ]
    },
    {
     "name": "stderr",
     "output_type": "stream",
     "text": [
      "\r",
      " 61%|██████    | 610/1000 [2:15:31<1:39:15, 15.27s/it]"
     ]
    },
    {
     "name": "stdout",
     "output_type": "stream",
     "text": [
      "sample: 610\n",
      "(480, 15) (480, 15)\n",
      "{'testlen': 21600, 'reflen': 18265, 'guess': [21600, 21120, 20640, 20160], 'correct': [7097, 2221, 755, 332]}\n",
      "ratio: 1.1825896523404773\n"
     ]
    },
    {
     "name": "stderr",
     "output_type": "stream",
     "text": [
      "\r",
      " 61%|██████    | 611/1000 [2:15:47<1:40:02, 15.43s/it]"
     ]
    },
    {
     "name": "stdout",
     "output_type": "stream",
     "text": [
      "sample: 611\n",
      "(480, 15) (480, 15)\n",
      "{'testlen': 21600, 'reflen': 18443, 'guess': [21600, 21120, 20640, 20160], 'correct': [7229, 2320, 773, 341]}\n",
      "ratio: 1.1711760559561257\n"
     ]
    },
    {
     "name": "stderr",
     "output_type": "stream",
     "text": [
      "\r",
      " 61%|██████    | 612/1000 [2:16:03<1:41:31, 15.70s/it]"
     ]
    },
    {
     "name": "stdout",
     "output_type": "stream",
     "text": [
      "sample: 612\n",
      "(480, 15) (480, 15)\n",
      "{'testlen': 21600, 'reflen': 18527, 'guess': [21600, 21120, 20640, 20160], 'correct': [7232, 2447, 903, 436]}\n",
      "ratio: 1.1658660333566597\n"
     ]
    },
    {
     "name": "stderr",
     "output_type": "stream",
     "text": [
      "\r",
      " 61%|██████▏   | 613/1000 [2:16:20<1:41:57, 15.81s/it]"
     ]
    },
    {
     "name": "stdout",
     "output_type": "stream",
     "text": [
      "sample: 613\n",
      "(480, 15) (480, 15)\n",
      "{'testlen': 21600, 'reflen': 19196, 'guess': [21600, 21120, 20640, 20160], 'correct': [7344, 2311, 796, 353]}\n",
      "ratio: 1.125234423838241\n"
     ]
    },
    {
     "name": "stderr",
     "output_type": "stream",
     "text": [
      "\r",
      " 61%|██████▏   | 614/1000 [2:16:36<1:43:48, 16.13s/it]"
     ]
    },
    {
     "name": "stdout",
     "output_type": "stream",
     "text": [
      "sample: 614\n",
      "(480, 15) (480, 15)\n",
      "{'testlen': 21600, 'reflen': 18348, 'guess': [21600, 21120, 20640, 20160], 'correct': [7133, 2172, 711, 298]}\n",
      "ratio: 1.1772400261608253\n"
     ]
    },
    {
     "name": "stderr",
     "output_type": "stream",
     "text": [
      "\r",
      " 62%|██████▏   | 615/1000 [2:16:53<1:43:53, 16.19s/it]"
     ]
    },
    {
     "name": "stdout",
     "output_type": "stream",
     "text": [
      "sample: 615\n",
      "(480, 15) (480, 15)\n",
      "{'testlen': 21600, 'reflen': 17918, 'guess': [21600, 21120, 20640, 20160], 'correct': [7242, 2351, 780, 355]}\n",
      "ratio: 1.2054916843397028\n"
     ]
    },
    {
     "name": "stderr",
     "output_type": "stream",
     "text": [
      "\r",
      " 62%|██████▏   | 616/1000 [2:17:08<1:42:38, 16.04s/it]"
     ]
    },
    {
     "name": "stdout",
     "output_type": "stream",
     "text": [
      "sample: 616\n",
      "(480, 15) (480, 15)\n",
      "{'testlen': 21600, 'reflen': 17947, 'guess': [21600, 21120, 20640, 20160], 'correct': [7222, 2342, 793, 365]}\n",
      "ratio: 1.2035437677605614\n"
     ]
    },
    {
     "name": "stderr",
     "output_type": "stream",
     "text": [
      "\r",
      " 62%|██████▏   | 617/1000 [2:17:24<1:40:56, 15.81s/it]"
     ]
    },
    {
     "name": "stdout",
     "output_type": "stream",
     "text": [
      "sample: 617\n",
      "(480, 15) (480, 15)\n",
      "{'testlen': 21600, 'reflen': 17626, 'guess': [21600, 21120, 20640, 20160], 'correct': [7139, 2282, 739, 337]}\n",
      "ratio: 1.225462385112832\n"
     ]
    },
    {
     "name": "stderr",
     "output_type": "stream",
     "text": [
      "\r",
      " 62%|██████▏   | 618/1000 [2:17:40<1:42:25, 16.09s/it]"
     ]
    },
    {
     "name": "stdout",
     "output_type": "stream",
     "text": [
      "sample: 618\n",
      "(480, 15) (480, 15)\n",
      "{'testlen': 21600, 'reflen': 18912, 'guess': [21600, 21120, 20640, 20160], 'correct': [7204, 2321, 861, 449]}\n",
      "ratio: 1.142131979695371\n"
     ]
    },
    {
     "name": "stderr",
     "output_type": "stream",
     "text": [
      "\r",
      " 62%|██████▏   | 619/1000 [2:17:56<1:41:36, 16.00s/it]"
     ]
    },
    {
     "name": "stdout",
     "output_type": "stream",
     "text": [
      "sample: 619\n",
      "(480, 15) (480, 15)\n",
      "{'testlen': 21600, 'reflen': 18721, 'guess': [21600, 21120, 20640, 20160], 'correct': [7227, 2283, 762, 354]}\n",
      "ratio: 1.1537845200576275\n"
     ]
    },
    {
     "name": "stderr",
     "output_type": "stream",
     "text": [
      "\r",
      " 62%|██████▏   | 620/1000 [2:18:12<1:40:52, 15.93s/it]"
     ]
    },
    {
     "name": "stdout",
     "output_type": "stream",
     "text": [
      "sample: 620\n",
      "(480, 15) (480, 15)\n",
      "{'testlen': 21600, 'reflen': 18562, 'guess': [21600, 21120, 20640, 20160], 'correct': [7163, 2223, 726, 312]}\n",
      "ratio: 1.163667708221034\n"
     ]
    },
    {
     "name": "stderr",
     "output_type": "stream",
     "text": [
      "\r",
      " 62%|██████▏   | 621/1000 [2:18:27<1:38:49, 15.65s/it]"
     ]
    },
    {
     "name": "stdout",
     "output_type": "stream",
     "text": [
      "sample: 621\n",
      "(480, 15) (480, 15)\n",
      "{'testlen': 21600, 'reflen': 17869, 'guess': [21600, 21120, 20640, 20160], 'correct': [7078, 2205, 678, 256]}\n",
      "ratio: 1.2087973585538525\n"
     ]
    },
    {
     "name": "stderr",
     "output_type": "stream",
     "text": [
      "\r",
      " 62%|██████▏   | 622/1000 [2:18:42<1:38:15, 15.60s/it]"
     ]
    },
    {
     "name": "stdout",
     "output_type": "stream",
     "text": [
      "sample: 622\n",
      "(480, 15) (480, 15)\n",
      "{'testlen': 21600, 'reflen': 17716, 'guess': [21600, 21120, 20640, 20160], 'correct': [7019, 2225, 726, 293]}\n",
      "ratio: 1.2192368480468943\n"
     ]
    },
    {
     "name": "stderr",
     "output_type": "stream",
     "text": [
      "\r",
      " 62%|██████▏   | 623/1000 [2:18:58<1:38:05, 15.61s/it]"
     ]
    },
    {
     "name": "stdout",
     "output_type": "stream",
     "text": [
      "sample: 623\n",
      "(480, 15) (480, 15)\n",
      "{'testlen': 21600, 'reflen': 17818, 'guess': [21600, 21120, 20640, 20160], 'correct': [7162, 2280, 761, 327]}\n",
      "ratio: 1.2122572679312373\n"
     ]
    },
    {
     "name": "stderr",
     "output_type": "stream",
     "text": [
      "\r",
      " 62%|██████▏   | 624/1000 [2:19:14<1:38:11, 15.67s/it]"
     ]
    },
    {
     "name": "stdout",
     "output_type": "stream",
     "text": [
      "sample: 624\n",
      "(480, 15) (480, 15)\n",
      "{'testlen': 21600, 'reflen': 18550, 'guess': [21600, 21120, 20640, 20160], 'correct': [7204, 2344, 807, 396]}\n",
      "ratio: 1.1644204851751394\n"
     ]
    },
    {
     "name": "stderr",
     "output_type": "stream",
     "text": [
      "\r",
      " 62%|██████▎   | 625/1000 [2:19:29<1:37:28, 15.60s/it]"
     ]
    },
    {
     "name": "stdout",
     "output_type": "stream",
     "text": [
      "sample: 625\n",
      "(480, 15) (480, 15)\n",
      "{'testlen': 21600, 'reflen': 18033, 'guess': [21600, 21120, 20640, 20160], 'correct': [7143, 2239, 701, 284]}\n",
      "ratio: 1.1978040259523541\n"
     ]
    },
    {
     "name": "stderr",
     "output_type": "stream",
     "text": [
      "\r",
      " 63%|██████▎   | 626/1000 [2:19:45<1:38:00, 15.72s/it]"
     ]
    },
    {
     "name": "stdout",
     "output_type": "stream",
     "text": [
      "sample: 626\n",
      "(480, 15) (480, 15)\n",
      "{'testlen': 21600, 'reflen': 18295, 'guess': [21600, 21120, 20640, 20160], 'correct': [7187, 2235, 741, 288]}\n",
      "ratio: 1.180650450942816\n"
     ]
    },
    {
     "name": "stderr",
     "output_type": "stream",
     "text": [
      "\r",
      " 63%|██████▎   | 627/1000 [2:20:02<1:38:34, 15.86s/it]"
     ]
    },
    {
     "name": "stdout",
     "output_type": "stream",
     "text": [
      "sample: 627\n",
      "(480, 15) (480, 15)\n",
      "{'testlen': 21600, 'reflen': 18463, 'guess': [21600, 21120, 20640, 20160], 'correct': [7216, 2312, 815, 368]}\n",
      "ratio: 1.1699073823321686\n"
     ]
    },
    {
     "name": "stderr",
     "output_type": "stream",
     "text": [
      "\r",
      " 63%|██████▎   | 628/1000 [2:20:17<1:38:17, 15.85s/it]"
     ]
    },
    {
     "name": "stdout",
     "output_type": "stream",
     "text": [
      "sample: 628\n",
      "(480, 15) (480, 15)\n",
      "{'testlen': 21600, 'reflen': 18794, 'guess': [21600, 21120, 20640, 20160], 'correct': [7400, 2384, 810, 368]}\n",
      "ratio: 1.1493029690326089\n"
     ]
    },
    {
     "name": "stderr",
     "output_type": "stream",
     "text": [
      "\r",
      " 63%|██████▎   | 629/1000 [2:20:33<1:37:21, 15.74s/it]"
     ]
    },
    {
     "name": "stdout",
     "output_type": "stream",
     "text": [
      "sample: 629\n",
      "(480, 15) (480, 15)\n",
      "{'testlen': 21600, 'reflen': 18298, 'guess': [21600, 21120, 20640, 20160], 'correct': [7130, 2274, 750, 320]}\n",
      "ratio: 1.180456880533327\n"
     ]
    },
    {
     "name": "stderr",
     "output_type": "stream",
     "text": [
      "\r",
      " 63%|██████▎   | 630/1000 [2:20:49<1:36:59, 15.73s/it]"
     ]
    },
    {
     "name": "stdout",
     "output_type": "stream",
     "text": [
      "sample: 630\n",
      "(480, 15) (480, 15)\n",
      "{'testlen': 21600, 'reflen': 18256, 'guess': [21600, 21120, 20640, 20160], 'correct': [7202, 2260, 731, 298]}\n",
      "ratio: 1.1831726555652287\n"
     ]
    },
    {
     "name": "stderr",
     "output_type": "stream",
     "text": [
      "\r",
      " 63%|██████▎   | 631/1000 [2:21:04<1:36:52, 15.75s/it]"
     ]
    },
    {
     "name": "stdout",
     "output_type": "stream",
     "text": [
      "sample: 631\n",
      "(480, 15) (480, 15)\n",
      "{'testlen': 21600, 'reflen': 18445, 'guess': [21600, 21120, 20640, 20160], 'correct': [7343, 2400, 908, 471]}\n",
      "ratio: 1.1710490647871417\n"
     ]
    },
    {
     "name": "stderr",
     "output_type": "stream",
     "text": [
      "\r",
      " 63%|██████▎   | 632/1000 [2:21:20<1:36:00, 15.65s/it]"
     ]
    },
    {
     "name": "stdout",
     "output_type": "stream",
     "text": [
      "sample: 632\n",
      "(480, 15) (480, 15)\n",
      "{'testlen': 21600, 'reflen': 18635, 'guess': [21600, 21120, 20640, 20160], 'correct': [7324, 2315, 771, 345]}\n",
      "ratio: 1.1591092031123607\n"
     ]
    },
    {
     "name": "stderr",
     "output_type": "stream",
     "text": [
      "\r",
      " 63%|██████▎   | 633/1000 [2:21:34<1:33:58, 15.36s/it]"
     ]
    },
    {
     "name": "stdout",
     "output_type": "stream",
     "text": [
      "sample: 633\n",
      "(480, 15) (480, 15)\n",
      "{'testlen': 21600, 'reflen': 17967, 'guess': [21600, 21120, 20640, 20160], 'correct': [7045, 2213, 724, 297]}\n",
      "ratio: 1.2022040407412922\n"
     ]
    },
    {
     "name": "stderr",
     "output_type": "stream",
     "text": [
      "\r",
      " 63%|██████▎   | 634/1000 [2:21:50<1:33:43, 15.37s/it]"
     ]
    },
    {
     "name": "stdout",
     "output_type": "stream",
     "text": [
      "sample: 634\n",
      "(480, 15) (480, 15)\n",
      "{'testlen': 21600, 'reflen': 18465, 'guess': [21600, 21120, 20640, 20160], 'correct': [7222, 2424, 936, 504]}\n",
      "ratio: 1.169780666125038\n"
     ]
    },
    {
     "name": "stderr",
     "output_type": "stream",
     "text": [
      "\r",
      " 64%|██████▎   | 635/1000 [2:22:06<1:34:09, 15.48s/it]"
     ]
    },
    {
     "name": "stdout",
     "output_type": "stream",
     "text": [
      "sample: 635\n",
      "(480, 15) (480, 15)\n",
      "{'testlen': 21600, 'reflen': 18430, 'guess': [21600, 21120, 20640, 20160], 'correct': [7068, 2197, 719, 311]}\n",
      "ratio: 1.172002170374326\n"
     ]
    },
    {
     "name": "stderr",
     "output_type": "stream",
     "text": [
      "\r",
      " 64%|██████▎   | 636/1000 [2:22:22<1:35:28, 15.74s/it]"
     ]
    },
    {
     "name": "stdout",
     "output_type": "stream",
     "text": [
      "sample: 636\n",
      "(480, 15) (480, 15)\n",
      "{'testlen': 21600, 'reflen': 17861, 'guess': [21600, 21120, 20640, 20160], 'correct': [7174, 2344, 812, 368]}\n",
      "ratio: 1.2093387828228426\n"
     ]
    },
    {
     "name": "stderr",
     "output_type": "stream",
     "text": [
      "\r",
      " 64%|██████▎   | 637/1000 [2:22:37<1:34:37, 15.64s/it]"
     ]
    },
    {
     "name": "stdout",
     "output_type": "stream",
     "text": [
      "sample: 637\n",
      "(480, 15) (480, 15)\n",
      "{'testlen': 21600, 'reflen': 18926, 'guess': [21600, 21120, 20640, 20160], 'correct': [7235, 2154, 674, 273]}\n",
      "ratio: 1.141287118249966\n"
     ]
    },
    {
     "name": "stderr",
     "output_type": "stream",
     "text": [
      "\r",
      " 64%|██████▍   | 638/1000 [2:22:53<1:33:48, 15.55s/it]"
     ]
    },
    {
     "name": "stdout",
     "output_type": "stream",
     "text": [
      "sample: 638\n",
      "(480, 15) (480, 15)\n",
      "{'testlen': 21600, 'reflen': 17928, 'guess': [21600, 21120, 20640, 20160], 'correct': [7143, 2212, 722, 327]}\n",
      "ratio: 1.2048192771083666\n"
     ]
    },
    {
     "name": "stderr",
     "output_type": "stream",
     "text": [
      "\r",
      " 64%|██████▍   | 639/1000 [2:23:09<1:34:57, 15.78s/it]"
     ]
    },
    {
     "name": "stdout",
     "output_type": "stream",
     "text": [
      "sample: 639\n",
      "(480, 15) (480, 15)\n",
      "{'testlen': 21600, 'reflen': 18315, 'guess': [21600, 21120, 20640, 20160], 'correct': [7150, 2267, 775, 346]}\n",
      "ratio: 1.179361179361115\n"
     ]
    },
    {
     "name": "stderr",
     "output_type": "stream",
     "text": [
      "\r",
      " 64%|██████▍   | 640/1000 [2:23:25<1:34:41, 15.78s/it]"
     ]
    },
    {
     "name": "stdout",
     "output_type": "stream",
     "text": [
      "sample: 640\n",
      "(480, 15) (480, 15)\n",
      "{'testlen': 21600, 'reflen': 18301, 'guess': [21600, 21120, 20640, 20160], 'correct': [7155, 2252, 750, 333]}\n",
      "ratio: 1.1802633735860784\n"
     ]
    },
    {
     "name": "stderr",
     "output_type": "stream",
     "text": [
      "\r",
      " 64%|██████▍   | 641/1000 [2:23:40<1:32:36, 15.48s/it]"
     ]
    },
    {
     "name": "stdout",
     "output_type": "stream",
     "text": [
      "sample: 641\n",
      "(480, 15) (480, 15)\n",
      "{'testlen': 21600, 'reflen': 19283, 'guess': [21600, 21120, 20640, 20160], 'correct': [7231, 2231, 740, 323]}\n",
      "ratio: 1.120157651817605\n"
     ]
    },
    {
     "name": "stderr",
     "output_type": "stream",
     "text": [
      "\r",
      " 64%|██████▍   | 642/1000 [2:23:55<1:31:56, 15.41s/it]"
     ]
    },
    {
     "name": "stdout",
     "output_type": "stream",
     "text": [
      "sample: 642\n",
      "(480, 15) (480, 15)\n",
      "{'testlen': 21600, 'reflen': 18335, 'guess': [21600, 21120, 20640, 20160], 'correct': [7156, 2255, 740, 295]}\n",
      "ratio: 1.178074720479892\n"
     ]
    },
    {
     "name": "stderr",
     "output_type": "stream",
     "text": [
      "\r",
      " 64%|██████▍   | 643/1000 [2:24:10<1:31:18, 15.34s/it]"
     ]
    },
    {
     "name": "stdout",
     "output_type": "stream",
     "text": [
      "sample: 643\n",
      "(480, 15) (480, 15)\n",
      "{'testlen': 21600, 'reflen': 17882, 'guess': [21600, 21120, 20640, 20160], 'correct': [7075, 2243, 756, 335]}\n",
      "ratio: 1.2079185773402747\n"
     ]
    },
    {
     "name": "stderr",
     "output_type": "stream",
     "text": [
      "\r",
      " 64%|██████▍   | 644/1000 [2:24:25<1:30:09, 15.20s/it]"
     ]
    },
    {
     "name": "stdout",
     "output_type": "stream",
     "text": [
      "sample: 644\n",
      "(480, 15) (480, 15)\n",
      "{'testlen': 21600, 'reflen': 17840, 'guess': [21600, 21120, 20640, 20160], 'correct': [7244, 2368, 853, 414]}\n",
      "ratio: 1.210762331838497\n"
     ]
    },
    {
     "name": "stderr",
     "output_type": "stream",
     "text": [
      "\r",
      " 64%|██████▍   | 645/1000 [2:24:40<1:30:16, 15.26s/it]"
     ]
    },
    {
     "name": "stdout",
     "output_type": "stream",
     "text": [
      "sample: 645\n",
      "(480, 15) (480, 15)\n",
      "{'testlen': 21600, 'reflen': 18471, 'guess': [21600, 21120, 20640, 20160], 'correct': [7262, 2357, 879, 435]}\n",
      "ratio: 1.1694006821503347\n"
     ]
    },
    {
     "name": "stderr",
     "output_type": "stream",
     "text": [
      "\r",
      " 65%|██████▍   | 646/1000 [2:24:56<1:31:42, 15.54s/it]"
     ]
    },
    {
     "name": "stdout",
     "output_type": "stream",
     "text": [
      "sample: 646\n",
      "(480, 15) (480, 15)\n",
      "{'testlen': 21600, 'reflen': 18141, 'guess': [21600, 21120, 20640, 20160], 'correct': [7240, 2296, 775, 342]}\n",
      "ratio: 1.1906730610219287\n"
     ]
    },
    {
     "name": "stderr",
     "output_type": "stream",
     "text": [
      "\r",
      " 65%|██████▍   | 647/1000 [2:25:12<1:32:18, 15.69s/it]"
     ]
    },
    {
     "name": "stdout",
     "output_type": "stream",
     "text": [
      "sample: 647\n",
      "(480, 15) (480, 15)\n",
      "{'testlen': 21600, 'reflen': 18550, 'guess': [21600, 21120, 20640, 20160], 'correct': [7158, 2252, 731, 295]}\n",
      "ratio: 1.1644204851751394\n"
     ]
    },
    {
     "name": "stderr",
     "output_type": "stream",
     "text": [
      "\r",
      " 65%|██████▍   | 648/1000 [2:25:28<1:32:06, 15.70s/it]"
     ]
    },
    {
     "name": "stdout",
     "output_type": "stream",
     "text": [
      "sample: 648\n",
      "(480, 15) (480, 15)\n",
      "{'testlen': 21600, 'reflen': 18262, 'guess': [21600, 21120, 20640, 20160], 'correct': [7183, 2243, 738, 303]}\n",
      "ratio: 1.1827839228999462\n"
     ]
    },
    {
     "name": "stderr",
     "output_type": "stream",
     "text": [
      "\r",
      " 65%|██████▍   | 649/1000 [2:25:46<1:34:45, 16.20s/it]"
     ]
    },
    {
     "name": "stdout",
     "output_type": "stream",
     "text": [
      "sample: 649\n",
      "(480, 15) (480, 15)\n",
      "{'testlen': 21600, 'reflen': 18463, 'guess': [21600, 21120, 20640, 20160], 'correct': [7189, 2199, 710, 298]}\n",
      "ratio: 1.1699073823321686\n"
     ]
    },
    {
     "name": "stderr",
     "output_type": "stream",
     "text": [
      "\r",
      " 65%|██████▌   | 650/1000 [2:26:00<1:32:10, 15.80s/it]"
     ]
    },
    {
     "name": "stdout",
     "output_type": "stream",
     "text": [
      "sample: 650\n",
      "(480, 15) (480, 15)\n",
      "{'testlen': 21600, 'reflen': 18192, 'guess': [21600, 21120, 20640, 20160], 'correct': [7281, 2402, 809, 365]}\n",
      "ratio: 1.1873350923482198\n"
     ]
    },
    {
     "name": "stderr",
     "output_type": "stream",
     "text": [
      "\r",
      " 65%|██████▌   | 651/1000 [2:26:15<1:29:50, 15.45s/it]"
     ]
    },
    {
     "name": "stdout",
     "output_type": "stream",
     "text": [
      "sample: 651\n",
      "(480, 15) (480, 15)\n",
      "{'testlen': 21600, 'reflen': 18392, 'guess': [21600, 21120, 20640, 20160], 'correct': [7199, 2277, 754, 321]}\n",
      "ratio: 1.174423662461876\n"
     ]
    },
    {
     "name": "stderr",
     "output_type": "stream",
     "text": [
      "\r",
      " 65%|██████▌   | 652/1000 [2:26:31<1:30:35, 15.62s/it]"
     ]
    },
    {
     "name": "stdout",
     "output_type": "stream",
     "text": [
      "sample: 652\n",
      "(480, 15) (480, 15)\n",
      "{'testlen': 21600, 'reflen': 18154, 'guess': [21600, 21120, 20640, 20160], 'correct': [7268, 2241, 670, 262]}\n",
      "ratio: 1.189820425250568\n"
     ]
    },
    {
     "name": "stderr",
     "output_type": "stream",
     "text": [
      "\r",
      " 65%|██████▌   | 653/1000 [2:26:46<1:29:28, 15.47s/it]"
     ]
    },
    {
     "name": "stdout",
     "output_type": "stream",
     "text": [
      "sample: 653\n",
      "(480, 15) (480, 15)\n",
      "{'testlen': 21600, 'reflen': 18055, 'guess': [21600, 21120, 20640, 20160], 'correct': [7096, 2233, 735, 319]}\n",
      "ratio: 1.1963445029077155\n"
     ]
    },
    {
     "name": "stderr",
     "output_type": "stream",
     "text": [
      "\r",
      " 65%|██████▌   | 654/1000 [2:27:01<1:28:24, 15.33s/it]"
     ]
    },
    {
     "name": "stdout",
     "output_type": "stream",
     "text": [
      "sample: 654\n",
      "(480, 15) (480, 15)\n",
      "{'testlen': 21600, 'reflen': 18511, 'guess': [21600, 21120, 20640, 20160], 'correct': [7319, 2349, 766, 341]}\n",
      "ratio: 1.1668737507427385\n"
     ]
    },
    {
     "name": "stderr",
     "output_type": "stream",
     "text": [
      "\r",
      " 66%|██████▌   | 655/1000 [2:27:18<1:30:04, 15.66s/it]"
     ]
    },
    {
     "name": "stdout",
     "output_type": "stream",
     "text": [
      "sample: 655\n",
      "(480, 15) (480, 15)\n",
      "{'testlen': 21600, 'reflen': 18088, 'guess': [21600, 21120, 20640, 20160], 'correct': [7207, 2286, 776, 348]}\n",
      "ratio: 1.1941618752763603\n"
     ]
    },
    {
     "name": "stderr",
     "output_type": "stream",
     "text": [
      "\r",
      " 66%|██████▌   | 656/1000 [2:27:32<1:27:34, 15.27s/it]"
     ]
    },
    {
     "name": "stdout",
     "output_type": "stream",
     "text": [
      "sample: 656\n",
      "(480, 15) (480, 15)\n",
      "{'testlen': 21600, 'reflen': 18445, 'guess': [21600, 21120, 20640, 20160], 'correct': [7242, 2329, 800, 374]}\n",
      "ratio: 1.1710490647871417\n"
     ]
    },
    {
     "name": "stderr",
     "output_type": "stream",
     "text": [
      "\r",
      " 66%|██████▌   | 657/1000 [2:27:48<1:28:23, 15.46s/it]"
     ]
    },
    {
     "name": "stdout",
     "output_type": "stream",
     "text": [
      "sample: 657\n",
      "(480, 15) (480, 15)\n",
      "{'testlen': 21600, 'reflen': 18355, 'guess': [21600, 21120, 20640, 20160], 'correct': [7143, 2231, 732, 333]}\n",
      "ratio: 1.176791065104812\n"
     ]
    },
    {
     "name": "stderr",
     "output_type": "stream",
     "text": [
      "\r",
      " 66%|██████▌   | 658/1000 [2:28:03<1:28:08, 15.46s/it]"
     ]
    },
    {
     "name": "stdout",
     "output_type": "stream",
     "text": [
      "sample: 658\n",
      "(480, 15) (480, 15)\n",
      "{'testlen': 21600, 'reflen': 18172, 'guess': [21600, 21120, 20640, 20160], 'correct': [7106, 2201, 717, 302]}\n",
      "ratio: 1.1886418666079028\n"
     ]
    },
    {
     "name": "stderr",
     "output_type": "stream",
     "text": [
      "\r",
      " 66%|██████▌   | 659/1000 [2:28:18<1:27:11, 15.34s/it]"
     ]
    },
    {
     "name": "stdout",
     "output_type": "stream",
     "text": [
      "sample: 659\n",
      "(480, 15) (480, 15)\n",
      "{'testlen': 21600, 'reflen': 18520, 'guess': [21600, 21120, 20640, 20160], 'correct': [7006, 2088, 694, 290]}\n",
      "ratio: 1.1663066954642998\n"
     ]
    },
    {
     "name": "stderr",
     "output_type": "stream",
     "text": [
      "\r",
      " 66%|██████▌   | 660/1000 [2:28:33<1:26:21, 15.24s/it]"
     ]
    },
    {
     "name": "stdout",
     "output_type": "stream",
     "text": [
      "sample: 660\n",
      "(480, 15) (480, 15)\n",
      "{'testlen': 21600, 'reflen': 17918, 'guess': [21600, 21120, 20640, 20160], 'correct': [7251, 2333, 799, 356]}\n",
      "ratio: 1.2054916843397028\n"
     ]
    },
    {
     "name": "stderr",
     "output_type": "stream",
     "text": [
      "\r",
      " 66%|██████▌   | 661/1000 [2:28:48<1:25:40, 15.16s/it]"
     ]
    },
    {
     "name": "stdout",
     "output_type": "stream",
     "text": [
      "sample: 661\n",
      "(480, 15) (480, 15)\n",
      "{'testlen': 21600, 'reflen': 18857, 'guess': [21600, 21120, 20640, 20160], 'correct': [7225, 2265, 734, 285]}\n",
      "ratio: 1.1454632232061757\n"
     ]
    },
    {
     "name": "stderr",
     "output_type": "stream",
     "text": [
      "\r",
      " 66%|██████▌   | 662/1000 [2:29:03<1:25:00, 15.09s/it]"
     ]
    },
    {
     "name": "stdout",
     "output_type": "stream",
     "text": [
      "sample: 662\n",
      "(480, 15) (480, 15)\n",
      "{'testlen': 21600, 'reflen': 18258, 'guess': [21600, 21120, 20640, 20160], 'correct': [7264, 2344, 806, 372]}\n",
      "ratio: 1.1830430496220186\n"
     ]
    },
    {
     "name": "stderr",
     "output_type": "stream",
     "text": [
      "\r",
      " 66%|██████▋   | 663/1000 [2:29:19<1:25:30, 15.22s/it]"
     ]
    },
    {
     "name": "stdout",
     "output_type": "stream",
     "text": [
      "sample: 663\n",
      "(480, 15) (480, 15)\n",
      "{'testlen': 21600, 'reflen': 17601, 'guess': [21600, 21120, 20640, 20160], 'correct': [7149, 2309, 771, 333]}\n",
      "ratio: 1.2272029998294853\n"
     ]
    },
    {
     "name": "stderr",
     "output_type": "stream",
     "text": [
      "\r",
      " 66%|██████▋   | 664/1000 [2:29:34<1:25:09, 15.21s/it]"
     ]
    },
    {
     "name": "stdout",
     "output_type": "stream",
     "text": [
      "sample: 664\n",
      "(480, 15) (480, 15)\n",
      "{'testlen': 21600, 'reflen': 18894, 'guess': [21600, 21120, 20640, 20160], 'correct': [7283, 2332, 776, 343]}\n",
      "ratio: 1.143220069863388\n"
     ]
    },
    {
     "name": "stderr",
     "output_type": "stream",
     "text": [
      "\r",
      " 66%|██████▋   | 665/1000 [2:29:49<1:25:04, 15.24s/it]"
     ]
    },
    {
     "name": "stdout",
     "output_type": "stream",
     "text": [
      "sample: 665\n",
      "(480, 15) (480, 15)\n",
      "{'testlen': 21600, 'reflen': 18905, 'guess': [21600, 21120, 20640, 20160], 'correct': [7188, 2211, 711, 284]}\n",
      "ratio: 1.1425548796614047\n"
     ]
    },
    {
     "name": "stderr",
     "output_type": "stream",
     "text": [
      "\r",
      " 67%|██████▋   | 666/1000 [2:30:05<1:25:46, 15.41s/it]"
     ]
    },
    {
     "name": "stdout",
     "output_type": "stream",
     "text": [
      "sample: 666\n",
      "(480, 15) (480, 15)\n",
      "{'testlen': 21600, 'reflen': 18610, 'guess': [21600, 21120, 20640, 20160], 'correct': [7041, 2126, 657, 261]}\n",
      "ratio: 1.160666308436262\n"
     ]
    },
    {
     "name": "stderr",
     "output_type": "stream",
     "text": [
      "\r",
      " 67%|██████▋   | 667/1000 [2:30:20<1:24:46, 15.27s/it]"
     ]
    },
    {
     "name": "stdout",
     "output_type": "stream",
     "text": [
      "sample: 667\n",
      "(480, 15) (480, 15)\n",
      "{'testlen': 21600, 'reflen': 17710, 'guess': [21600, 21120, 20640, 20160], 'correct': [7083, 2217, 727, 306]}\n",
      "ratio: 1.2196499153020204\n"
     ]
    },
    {
     "name": "stderr",
     "output_type": "stream",
     "text": [
      "\r",
      " 67%|██████▋   | 668/1000 [2:30:35<1:24:12, 15.22s/it]"
     ]
    },
    {
     "name": "stdout",
     "output_type": "stream",
     "text": [
      "sample: 668\n",
      "(480, 15) (480, 15)\n",
      "{'testlen': 21600, 'reflen': 18512, 'guess': [21600, 21120, 20640, 20160], 'correct': [7103, 2218, 701, 296]}\n",
      "ratio: 1.166810717372452\n"
     ]
    },
    {
     "name": "stderr",
     "output_type": "stream",
     "text": [
      "\r",
      " 67%|██████▋   | 669/1000 [2:30:51<1:24:57, 15.40s/it]"
     ]
    },
    {
     "name": "stdout",
     "output_type": "stream",
     "text": [
      "sample: 669\n",
      "(480, 15) (480, 15)\n",
      "{'testlen': 21600, 'reflen': 18321, 'guess': [21600, 21120, 20640, 20160], 'correct': [7105, 2217, 704, 280]}\n",
      "ratio: 1.1789749467823165\n"
     ]
    },
    {
     "name": "stderr",
     "output_type": "stream",
     "text": [
      "\r",
      " 67%|██████▋   | 670/1000 [2:31:07<1:25:43, 15.59s/it]"
     ]
    },
    {
     "name": "stdout",
     "output_type": "stream",
     "text": [
      "sample: 670\n",
      "(480, 15) (480, 15)\n",
      "{'testlen': 21600, 'reflen': 18405, 'guess': [21600, 21120, 20640, 20160], 'correct': [7174, 2339, 835, 399]}\n",
      "ratio: 1.173594132029276\n"
     ]
    },
    {
     "name": "stderr",
     "output_type": "stream",
     "text": [
      "\r",
      " 67%|██████▋   | 671/1000 [2:31:23<1:25:37, 15.62s/it]"
     ]
    },
    {
     "name": "stdout",
     "output_type": "stream",
     "text": [
      "sample: 671\n",
      "(480, 15) (480, 15)\n",
      "{'testlen': 21600, 'reflen': 18346, 'guess': [21600, 21120, 20640, 20160], 'correct': [7149, 2291, 769, 345]}\n",
      "ratio: 1.1773683636759416\n"
     ]
    },
    {
     "name": "stderr",
     "output_type": "stream",
     "text": [
      "\r",
      " 67%|██████▋   | 672/1000 [2:31:38<1:24:24, 15.44s/it]"
     ]
    },
    {
     "name": "stdout",
     "output_type": "stream",
     "text": [
      "sample: 672\n",
      "(480, 15) (480, 15)\n",
      "{'testlen': 21600, 'reflen': 18814, 'guess': [21600, 21120, 20640, 20160], 'correct': [7152, 2180, 694, 281]}\n",
      "ratio: 1.1480812161155975\n"
     ]
    },
    {
     "name": "stderr",
     "output_type": "stream",
     "text": [
      "\r",
      " 67%|██████▋   | 673/1000 [2:31:52<1:22:48, 15.19s/it]"
     ]
    },
    {
     "name": "stdout",
     "output_type": "stream",
     "text": [
      "sample: 673\n",
      "(480, 15) (480, 15)\n",
      "{'testlen': 21600, 'reflen': 18381, 'guess': [21600, 21120, 20640, 20160], 'correct': [7169, 2235, 750, 352]}\n",
      "ratio: 1.1751264893095492\n"
     ]
    },
    {
     "name": "stderr",
     "output_type": "stream",
     "text": [
      "\r",
      " 67%|██████▋   | 674/1000 [2:32:04<1:17:04, 14.19s/it]"
     ]
    },
    {
     "name": "stdout",
     "output_type": "stream",
     "text": [
      "sample: 674\n",
      "(480, 15) (480, 15)\n",
      "{'testlen': 21600, 'reflen': 17862, 'guess': [21600, 21120, 20640, 20160], 'correct': [7202, 2241, 719, 295]}\n",
      "ratio: 1.2092710782666438\n"
     ]
    },
    {
     "name": "stderr",
     "output_type": "stream",
     "text": [
      "\r",
      " 68%|██████▊   | 675/1000 [2:32:14<1:10:18, 12.98s/it]"
     ]
    },
    {
     "name": "stdout",
     "output_type": "stream",
     "text": [
      "sample: 675\n",
      "(480, 15) (480, 15)\n",
      "{'testlen': 21600, 'reflen': 18045, 'guess': [21600, 21120, 20640, 20160], 'correct': [7313, 2286, 743, 297]}\n",
      "ratio: 1.1970074812966918\n"
     ]
    },
    {
     "name": "stderr",
     "output_type": "stream",
     "text": [
      "\r",
      " 68%|██████▊   | 676/1000 [2:32:25<1:05:34, 12.14s/it]"
     ]
    },
    {
     "name": "stdout",
     "output_type": "stream",
     "text": [
      "sample: 676\n",
      "(480, 15) (480, 15)\n",
      "{'testlen': 21600, 'reflen': 18111, 'guess': [21600, 21120, 20640, 20160], 'correct': [7126, 2241, 770, 365]}\n",
      "ratio: 1.1926453536524104\n"
     ]
    },
    {
     "name": "stderr",
     "output_type": "stream",
     "text": [
      "\r",
      " 68%|██████▊   | 677/1000 [2:32:35<1:02:08, 11.54s/it]"
     ]
    },
    {
     "name": "stdout",
     "output_type": "stream",
     "text": [
      "sample: 677\n",
      "(480, 15) (480, 15)\n",
      "{'testlen': 21600, 'reflen': 18147, 'guess': [21600, 21120, 20640, 20160], 'correct': [7116, 2291, 853, 415]}\n",
      "ratio: 1.1902793850222522\n"
     ]
    },
    {
     "name": "stderr",
     "output_type": "stream",
     "text": [
      "\r",
      " 68%|██████▊   | 678/1000 [2:32:45<1:00:05, 11.20s/it]"
     ]
    },
    {
     "name": "stdout",
     "output_type": "stream",
     "text": [
      "sample: 678\n",
      "(480, 15) (480, 15)\n",
      "{'testlen': 21600, 'reflen': 18234, 'guess': [21600, 21120, 20640, 20160], 'correct': [7117, 2197, 700, 282]}\n",
      "ratio: 1.1846001974333011\n"
     ]
    },
    {
     "name": "stderr",
     "output_type": "stream",
     "text": [
      "\r",
      " 68%|██████▊   | 679/1000 [2:32:55<58:18, 10.90s/it]  "
     ]
    },
    {
     "name": "stdout",
     "output_type": "stream",
     "text": [
      "sample: 679\n",
      "(480, 15) (480, 15)\n",
      "{'testlen': 21600, 'reflen': 18159, 'guess': [21600, 21120, 20640, 20160], 'correct': [7094, 2259, 696, 270]}\n",
      "ratio: 1.1894928134808531\n"
     ]
    },
    {
     "name": "stderr",
     "output_type": "stream",
     "text": [
      "\r",
      " 68%|██████▊   | 680/1000 [2:33:06<57:38, 10.81s/it]"
     ]
    },
    {
     "name": "stdout",
     "output_type": "stream",
     "text": [
      "sample: 680\n",
      "(480, 15) (480, 15)\n",
      "{'testlen': 21600, 'reflen': 18003, 'guess': [21600, 21120, 20640, 20160], 'correct': [7101, 2172, 679, 276]}\n",
      "ratio: 1.1998000333277121\n"
     ]
    },
    {
     "name": "stderr",
     "output_type": "stream",
     "text": [
      "\r",
      " 68%|██████▊   | 681/1000 [2:33:16<56:19, 10.59s/it]"
     ]
    },
    {
     "name": "stdout",
     "output_type": "stream",
     "text": [
      "sample: 681\n",
      "(480, 15) (480, 15)\n",
      "{'testlen': 21600, 'reflen': 18304, 'guess': [21600, 21120, 20640, 20160], 'correct': [7198, 2333, 834, 383]}\n",
      "ratio: 1.1800699300698656\n"
     ]
    },
    {
     "name": "stderr",
     "output_type": "stream",
     "text": [
      "\r",
      " 68%|██████▊   | 682/1000 [2:33:28<58:15, 10.99s/it]"
     ]
    },
    {
     "name": "stdout",
     "output_type": "stream",
     "text": [
      "sample: 682\n",
      "(480, 15) (480, 15)\n",
      "{'testlen': 21600, 'reflen': 19067, 'guess': [21600, 21120, 20640, 20160], 'correct': [7309, 2273, 687, 265]}\n",
      "ratio: 1.1328473278438593\n"
     ]
    },
    {
     "name": "stderr",
     "output_type": "stream",
     "text": [
      "\r",
      " 68%|██████▊   | 683/1000 [2:33:39<58:17, 11.03s/it]"
     ]
    },
    {
     "name": "stdout",
     "output_type": "stream",
     "text": [
      "sample: 683\n",
      "(480, 15) (480, 15)\n",
      "{'testlen': 21600, 'reflen': 18470, 'guess': [21600, 21120, 20640, 20160], 'correct': [7075, 2199, 733, 314]}\n",
      "ratio: 1.1694639956685886\n"
     ]
    },
    {
     "name": "stderr",
     "output_type": "stream",
     "text": [
      "\r",
      " 68%|██████▊   | 684/1000 [2:33:49<56:39, 10.76s/it]"
     ]
    },
    {
     "name": "stdout",
     "output_type": "stream",
     "text": [
      "sample: 684\n",
      "(480, 15) (480, 15)\n",
      "{'testlen': 21600, 'reflen': 18220, 'guess': [21600, 21120, 20640, 20160], 'correct': [7175, 2261, 736, 327]}\n",
      "ratio: 1.1855104281009228\n"
     ]
    },
    {
     "name": "stderr",
     "output_type": "stream",
     "text": [
      "\r",
      " 68%|██████▊   | 685/1000 [2:34:04<1:02:50, 11.97s/it]"
     ]
    },
    {
     "name": "stdout",
     "output_type": "stream",
     "text": [
      "sample: 685\n",
      "(480, 15) (480, 15)\n",
      "{'testlen': 21600, 'reflen': 18442, 'guess': [21600, 21120, 20640, 20160], 'correct': [7352, 2483, 888, 428]}\n",
      "ratio: 1.171239561869582\n"
     ]
    },
    {
     "name": "stderr",
     "output_type": "stream",
     "text": [
      "\r",
      " 69%|██████▊   | 686/1000 [2:34:14<59:50, 11.43s/it]  "
     ]
    },
    {
     "name": "stdout",
     "output_type": "stream",
     "text": [
      "sample: 686\n",
      "(480, 15) (480, 15)\n",
      "{'testlen': 21600, 'reflen': 18617, 'guess': [21600, 21120, 20640, 20160], 'correct': [7171, 2187, 725, 302]}\n",
      "ratio: 1.1602298974055347\n"
     ]
    },
    {
     "name": "stderr",
     "output_type": "stream",
     "text": [
      "\r",
      " 69%|██████▊   | 687/1000 [2:34:24<57:43, 11.06s/it]"
     ]
    },
    {
     "name": "stdout",
     "output_type": "stream",
     "text": [
      "sample: 687\n",
      "(480, 15) (480, 15)\n",
      "{'testlen': 21600, 'reflen': 18355, 'guess': [21600, 21120, 20640, 20160], 'correct': [7173, 2272, 776, 366]}\n",
      "ratio: 1.176791065104812\n"
     ]
    },
    {
     "name": "stderr",
     "output_type": "stream",
     "text": [
      "\r",
      " 69%|██████▉   | 688/1000 [2:34:35<56:27, 10.86s/it]"
     ]
    },
    {
     "name": "stdout",
     "output_type": "stream",
     "text": [
      "sample: 688\n",
      "(480, 15) (480, 15)\n",
      "{'testlen': 21600, 'reflen': 18321, 'guess': [21600, 21120, 20640, 20160], 'correct': [7105, 2180, 702, 294]}\n",
      "ratio: 1.1789749467823165\n"
     ]
    },
    {
     "name": "stderr",
     "output_type": "stream",
     "text": [
      "\r",
      " 69%|██████▉   | 689/1000 [2:34:46<56:26, 10.89s/it]"
     ]
    },
    {
     "name": "stdout",
     "output_type": "stream",
     "text": [
      "sample: 689\n",
      "(480, 15) (480, 15)\n",
      "{'testlen': 21600, 'reflen': 18800, 'guess': [21600, 21120, 20640, 20160], 'correct': [7127, 2284, 755, 329]}\n",
      "ratio: 1.1489361702127048\n"
     ]
    },
    {
     "name": "stderr",
     "output_type": "stream",
     "text": [
      "\r",
      " 69%|██████▉   | 690/1000 [2:34:56<55:44, 10.79s/it]"
     ]
    },
    {
     "name": "stdout",
     "output_type": "stream",
     "text": [
      "sample: 690\n",
      "(480, 15) (480, 15)\n",
      "{'testlen': 21600, 'reflen': 18397, 'guess': [21600, 21120, 20640, 20160], 'correct': [7051, 2211, 697, 266]}\n",
      "ratio: 1.1741044735554071\n"
     ]
    },
    {
     "name": "stderr",
     "output_type": "stream",
     "text": [
      "\r",
      " 69%|██████▉   | 691/1000 [2:35:07<56:08, 10.90s/it]"
     ]
    },
    {
     "name": "stdout",
     "output_type": "stream",
     "text": [
      "sample: 691\n",
      "(480, 15) (480, 15)\n",
      "{'testlen': 21600, 'reflen': 18035, 'guess': [21600, 21120, 20640, 20160], 'correct': [7266, 2308, 756, 329]}\n",
      "ratio: 1.1976711948987415\n"
     ]
    },
    {
     "name": "stderr",
     "output_type": "stream",
     "text": [
      "\r",
      " 69%|██████▉   | 692/1000 [2:35:18<54:55, 10.70s/it]"
     ]
    },
    {
     "name": "stdout",
     "output_type": "stream",
     "text": [
      "sample: 692\n",
      "(480, 15) (480, 15)\n",
      "{'testlen': 21600, 'reflen': 18258, 'guess': [21600, 21120, 20640, 20160], 'correct': [7099, 2210, 709, 279]}\n",
      "ratio: 1.1830430496220186\n"
     ]
    },
    {
     "name": "stderr",
     "output_type": "stream",
     "text": [
      "\r",
      " 69%|██████▉   | 693/1000 [2:35:28<54:07, 10.58s/it]"
     ]
    },
    {
     "name": "stdout",
     "output_type": "stream",
     "text": [
      "sample: 693\n",
      "(480, 15) (480, 15)\n",
      "{'testlen': 21600, 'reflen': 18325, 'guess': [21600, 21120, 20640, 20160], 'correct': [7127, 2162, 682, 252]}\n",
      "ratio: 1.1787175989085306\n"
     ]
    },
    {
     "name": "stderr",
     "output_type": "stream",
     "text": [
      "\r",
      " 69%|██████▉   | 694/1000 [2:35:38<53:16, 10.45s/it]"
     ]
    },
    {
     "name": "stdout",
     "output_type": "stream",
     "text": [
      "sample: 694\n",
      "(480, 15) (480, 15)\n",
      "{'testlen': 21600, 'reflen': 18499, 'guess': [21600, 21120, 20640, 20160], 'correct': [7212, 2291, 769, 347]}\n",
      "ratio: 1.1676306827395444\n"
     ]
    },
    {
     "name": "stderr",
     "output_type": "stream",
     "text": [
      "\r",
      " 70%|██████▉   | 695/1000 [2:35:49<53:55, 10.61s/it]"
     ]
    },
    {
     "name": "stdout",
     "output_type": "stream",
     "text": [
      "sample: 695\n",
      "(480, 15) (480, 15)\n",
      "{'testlen': 21600, 'reflen': 18023, 'guess': [21600, 21120, 20640, 20160], 'correct': [7218, 2407, 890, 432]}\n",
      "ratio: 1.1984686234255564\n"
     ]
    },
    {
     "name": "stderr",
     "output_type": "stream",
     "text": [
      "\r",
      " 70%|██████▉   | 696/1000 [2:35:59<53:17, 10.52s/it]"
     ]
    },
    {
     "name": "stdout",
     "output_type": "stream",
     "text": [
      "sample: 696\n",
      "(480, 15) (480, 15)\n",
      "{'testlen': 21600, 'reflen': 18204, 'guess': [21600, 21120, 20640, 20160], 'correct': [7161, 2213, 727, 309]}\n",
      "ratio: 1.186552406064536\n"
     ]
    },
    {
     "name": "stderr",
     "output_type": "stream",
     "text": [
      "\r",
      " 70%|██████▉   | 697/1000 [2:36:10<53:05, 10.51s/it]"
     ]
    },
    {
     "name": "stdout",
     "output_type": "stream",
     "text": [
      "sample: 697\n",
      "(480, 15) (480, 15)\n",
      "{'testlen': 21600, 'reflen': 18148, 'guess': [21600, 21120, 20640, 20160], 'correct': [6997, 2090, 671, 262]}\n",
      "ratio: 1.1902137976635887\n"
     ]
    },
    {
     "name": "stderr",
     "output_type": "stream",
     "text": [
      "\r",
      " 70%|██████▉   | 698/1000 [2:36:20<52:33, 10.44s/it]"
     ]
    },
    {
     "name": "stdout",
     "output_type": "stream",
     "text": [
      "sample: 698\n",
      "(480, 15) (480, 15)\n",
      "{'testlen': 21600, 'reflen': 18722, 'guess': [21600, 21120, 20640, 20160], 'correct': [7046, 2179, 728, 314]}\n",
      "ratio: 1.153722892853266\n"
     ]
    },
    {
     "name": "stderr",
     "output_type": "stream",
     "text": [
      "\r",
      " 70%|██████▉   | 699/1000 [2:36:31<52:27, 10.46s/it]"
     ]
    },
    {
     "name": "stdout",
     "output_type": "stream",
     "text": [
      "sample: 699\n",
      "(480, 15) (480, 15)\n",
      "{'testlen': 21600, 'reflen': 18732, 'guess': [21600, 21120, 20640, 20160], 'correct': [7201, 2314, 793, 355]}\n",
      "ratio: 1.1531069827033338\n"
     ]
    },
    {
     "name": "stderr",
     "output_type": "stream",
     "text": [
      "\r",
      " 70%|███████   | 700/1000 [2:36:42<53:18, 10.66s/it]"
     ]
    },
    {
     "name": "stdout",
     "output_type": "stream",
     "text": [
      "sample: 700\n",
      "(480, 15) (480, 15)\n",
      "{'testlen': 21600, 'reflen': 17952, 'guess': [21600, 21120, 20640, 20160], 'correct': [7163, 2231, 706, 282]}\n",
      "ratio: 1.2032085561496655\n"
     ]
    },
    {
     "name": "stderr",
     "output_type": "stream",
     "text": [
      "\r",
      " 70%|███████   | 701/1000 [2:36:52<52:30, 10.54s/it]"
     ]
    },
    {
     "name": "stdout",
     "output_type": "stream",
     "text": [
      "sample: 701\n",
      "(480, 15) (480, 15)\n",
      "{'testlen': 21600, 'reflen': 18591, 'guess': [21600, 21120, 20640, 20160], 'correct': [7177, 2227, 758, 322]}\n",
      "ratio: 1.1618525092786207\n"
     ]
    },
    {
     "name": "stderr",
     "output_type": "stream",
     "text": [
      "\r",
      " 70%|███████   | 702/1000 [2:37:02<51:57, 10.46s/it]"
     ]
    },
    {
     "name": "stdout",
     "output_type": "stream",
     "text": [
      "sample: 702\n",
      "(480, 15) (480, 15)\n",
      "{'testlen': 21600, 'reflen': 18321, 'guess': [21600, 21120, 20640, 20160], 'correct': [7292, 2343, 809, 365]}\n",
      "ratio: 1.1789749467823165\n"
     ]
    },
    {
     "name": "stderr",
     "output_type": "stream",
     "text": [
      "\r",
      " 70%|███████   | 703/1000 [2:37:13<51:45, 10.46s/it]"
     ]
    },
    {
     "name": "stdout",
     "output_type": "stream",
     "text": [
      "sample: 703\n",
      "(480, 15) (480, 15)\n",
      "{'testlen': 21600, 'reflen': 17470, 'guess': [21600, 21120, 20640, 20160], 'correct': [7175, 2320, 786, 348]}\n",
      "ratio: 1.2364052661705074\n"
     ]
    },
    {
     "name": "stderr",
     "output_type": "stream",
     "text": [
      "\r",
      " 70%|███████   | 704/1000 [2:37:23<51:27, 10.43s/it]"
     ]
    },
    {
     "name": "stdout",
     "output_type": "stream",
     "text": [
      "sample: 704\n",
      "(480, 15) (480, 15)\n",
      "{'testlen': 21600, 'reflen': 18047, 'guess': [21600, 21120, 20640, 20160], 'correct': [7180, 2203, 701, 291]}\n",
      "ratio: 1.19687482684096\n"
     ]
    },
    {
     "name": "stderr",
     "output_type": "stream",
     "text": [
      "\r",
      " 70%|███████   | 705/1000 [2:37:34<51:28, 10.47s/it]"
     ]
    },
    {
     "name": "stdout",
     "output_type": "stream",
     "text": [
      "sample: 705\n",
      "(480, 15) (480, 15)\n",
      "{'testlen': 21600, 'reflen': 19139, 'guess': [21600, 21120, 20640, 20160], 'correct': [7034, 2228, 780, 353]}\n",
      "ratio: 1.1285856105334067\n"
     ]
    },
    {
     "name": "stderr",
     "output_type": "stream",
     "text": [
      "\r",
      " 71%|███████   | 706/1000 [2:37:44<50:55, 10.39s/it]"
     ]
    },
    {
     "name": "stdout",
     "output_type": "stream",
     "text": [
      "sample: 706\n",
      "(480, 15) (480, 15)\n",
      "{'testlen': 21600, 'reflen': 17404, 'guess': [21600, 21120, 20640, 20160], 'correct': [7070, 2248, 750, 309]}\n",
      "ratio: 1.241094001378922\n"
     ]
    },
    {
     "name": "stderr",
     "output_type": "stream",
     "text": [
      "\r",
      " 71%|███████   | 707/1000 [2:37:54<50:42, 10.38s/it]"
     ]
    },
    {
     "name": "stdout",
     "output_type": "stream",
     "text": [
      "sample: 707\n",
      "(480, 15) (480, 15)\n",
      "{'testlen': 21600, 'reflen': 18186, 'guess': [21600, 21120, 20640, 20160], 'correct': [7233, 2251, 710, 276]}\n",
      "ratio: 1.1877268228306836\n"
     ]
    },
    {
     "name": "stderr",
     "output_type": "stream",
     "text": [
      "\r",
      " 71%|███████   | 708/1000 [2:38:06<52:04, 10.70s/it]"
     ]
    },
    {
     "name": "stdout",
     "output_type": "stream",
     "text": [
      "sample: 708\n",
      "(480, 15) (480, 15)\n",
      "{'testlen': 21600, 'reflen': 18418, 'guess': [21600, 21120, 20640, 20160], 'correct': [7197, 2231, 704, 284]}\n",
      "ratio: 1.1727657726136838\n"
     ]
    },
    {
     "name": "stderr",
     "output_type": "stream",
     "text": [
      "\r",
      " 71%|███████   | 709/1000 [2:38:16<51:33, 10.63s/it]"
     ]
    },
    {
     "name": "stdout",
     "output_type": "stream",
     "text": [
      "sample: 709\n",
      "(480, 15) (480, 15)\n",
      "{'testlen': 21600, 'reflen': 17787, 'guess': [21600, 21120, 20640, 20160], 'correct': [7010, 2164, 671, 260]}\n",
      "ratio: 1.2143700455388085\n"
     ]
    },
    {
     "name": "stderr",
     "output_type": "stream",
     "text": [
      "\r",
      " 71%|███████   | 710/1000 [2:38:26<50:43, 10.49s/it]"
     ]
    },
    {
     "name": "stdout",
     "output_type": "stream",
     "text": [
      "sample: 710\n",
      "(480, 15) (480, 15)\n",
      "{'testlen': 21600, 'reflen': 19129, 'guess': [21600, 21120, 20640, 20160], 'correct': [7368, 2334, 792, 360]}\n",
      "ratio: 1.1291755972606445\n"
     ]
    },
    {
     "name": "stderr",
     "output_type": "stream",
     "text": [
      "\r",
      " 71%|███████   | 711/1000 [2:38:37<50:57, 10.58s/it]"
     ]
    },
    {
     "name": "stdout",
     "output_type": "stream",
     "text": [
      "sample: 711\n",
      "(480, 15) (480, 15)\n",
      "{'testlen': 21600, 'reflen': 18223, 'guess': [21600, 21120, 20640, 20160], 'correct': [7126, 2278, 799, 365]}\n",
      "ratio: 1.1853152609339195\n"
     ]
    },
    {
     "name": "stderr",
     "output_type": "stream",
     "text": [
      "\r",
      " 71%|███████   | 712/1000 [2:38:47<50:19, 10.48s/it]"
     ]
    },
    {
     "name": "stdout",
     "output_type": "stream",
     "text": [
      "sample: 712\n",
      "(480, 15) (480, 15)\n",
      "{'testlen': 21600, 'reflen': 17892, 'guess': [21600, 21120, 20640, 20160], 'correct': [7175, 2294, 794, 380]}\n",
      "ratio: 1.20724346076452\n"
     ]
    },
    {
     "name": "stderr",
     "output_type": "stream",
     "text": [
      "\r",
      " 71%|███████▏  | 713/1000 [2:38:58<49:46, 10.41s/it]"
     ]
    },
    {
     "name": "stdout",
     "output_type": "stream",
     "text": [
      "sample: 713\n",
      "(480, 15) (480, 15)\n",
      "{'testlen': 21600, 'reflen': 18472, 'guess': [21600, 21120, 20640, 20160], 'correct': [7102, 2192, 740, 334]}\n",
      "ratio: 1.1693373754871605\n"
     ]
    },
    {
     "name": "stderr",
     "output_type": "stream",
     "text": [
      "\r",
      " 71%|███████▏  | 714/1000 [2:39:08<49:52, 10.46s/it]"
     ]
    },
    {
     "name": "stdout",
     "output_type": "stream",
     "text": [
      "sample: 714\n",
      "(480, 15) (480, 15)\n",
      "{'testlen': 21600, 'reflen': 18361, 'guess': [21600, 21120, 20640, 20160], 'correct': [7226, 2335, 840, 404]}\n",
      "ratio: 1.1764065138063735\n"
     ]
    },
    {
     "name": "stderr",
     "output_type": "stream",
     "text": [
      "\r",
      " 72%|███████▏  | 715/1000 [2:39:19<49:31, 10.43s/it]"
     ]
    },
    {
     "name": "stdout",
     "output_type": "stream",
     "text": [
      "sample: 715\n",
      "(480, 15) (480, 15)\n",
      "{'testlen': 21600, 'reflen': 18142, 'guess': [21600, 21120, 20640, 20160], 'correct': [7124, 2263, 741, 297]}\n",
      "ratio: 1.1906074302722307\n"
     ]
    },
    {
     "name": "stderr",
     "output_type": "stream",
     "text": [
      "\r",
      " 72%|███████▏  | 716/1000 [2:39:29<49:16, 10.41s/it]"
     ]
    },
    {
     "name": "stdout",
     "output_type": "stream",
     "text": [
      "sample: 716\n",
      "(480, 15) (480, 15)\n",
      "{'testlen': 21600, 'reflen': 18242, 'guess': [21600, 21120, 20640, 20160], 'correct': [7188, 2320, 807, 373]}\n",
      "ratio: 1.1840806929064147\n"
     ]
    },
    {
     "name": "stderr",
     "output_type": "stream",
     "text": [
      "\r",
      " 72%|███████▏  | 717/1000 [2:39:39<48:47, 10.35s/it]"
     ]
    },
    {
     "name": "stdout",
     "output_type": "stream",
     "text": [
      "sample: 717\n",
      "(480, 15) (480, 15)\n",
      "{'testlen': 21600, 'reflen': 18223, 'guess': [21600, 21120, 20640, 20160], 'correct': [7216, 2268, 747, 325]}\n",
      "ratio: 1.1853152609339195\n"
     ]
    },
    {
     "name": "stderr",
     "output_type": "stream",
     "text": [
      "\r",
      " 72%|███████▏  | 718/1000 [2:39:51<50:15, 10.69s/it]"
     ]
    },
    {
     "name": "stdout",
     "output_type": "stream",
     "text": [
      "sample: 718\n",
      "(480, 15) (480, 15)\n",
      "{'testlen': 21600, 'reflen': 17970, 'guess': [21600, 21120, 20640, 20160], 'correct': [7147, 2275, 821, 430]}\n",
      "ratio: 1.2020033388980966\n"
     ]
    },
    {
     "name": "stderr",
     "output_type": "stream",
     "text": [
      "\r",
      " 72%|███████▏  | 719/1000 [2:40:01<49:48, 10.64s/it]"
     ]
    },
    {
     "name": "stdout",
     "output_type": "stream",
     "text": [
      "sample: 719\n",
      "(480, 15) (480, 15)\n",
      "{'testlen': 21600, 'reflen': 18005, 'guess': [21600, 21120, 20640, 20160], 'correct': [7102, 2143, 666, 272]}\n",
      "ratio: 1.1996667592334795\n"
     ]
    },
    {
     "name": "stderr",
     "output_type": "stream",
     "text": [
      "\r",
      " 72%|███████▏  | 720/1000 [2:40:11<49:04, 10.52s/it]"
     ]
    },
    {
     "name": "stdout",
     "output_type": "stream",
     "text": [
      "sample: 720\n",
      "(480, 15) (480, 15)\n",
      "{'testlen': 21600, 'reflen': 18274, 'guess': [21600, 21120, 20640, 20160], 'correct': [7107, 2225, 726, 323]}\n",
      "ratio: 1.1820072233774115\n"
     ]
    },
    {
     "name": "stderr",
     "output_type": "stream",
     "text": [
      "\r",
      " 72%|███████▏  | 721/1000 [2:40:22<48:31, 10.44s/it]"
     ]
    },
    {
     "name": "stdout",
     "output_type": "stream",
     "text": [
      "sample: 721\n",
      "(480, 15) (480, 15)\n",
      "{'testlen': 21600, 'reflen': 17998, 'guess': [21600, 21120, 20640, 20160], 'correct': [7208, 2266, 703, 268]}\n",
      "ratio: 1.2001333481497276\n"
     ]
    },
    {
     "name": "stderr",
     "output_type": "stream",
     "text": [
      "\r",
      " 72%|███████▏  | 722/1000 [2:40:32<48:00, 10.36s/it]"
     ]
    },
    {
     "name": "stdout",
     "output_type": "stream",
     "text": [
      "sample: 722\n",
      "(480, 15) (480, 15)\n",
      "{'testlen': 21600, 'reflen': 18027, 'guess': [21600, 21120, 20640, 20160], 'correct': [7250, 2288, 733, 311]}\n",
      "ratio: 1.1982026959559995\n"
     ]
    },
    {
     "name": "stderr",
     "output_type": "stream",
     "text": [
      "\r",
      " 72%|███████▏  | 723/1000 [2:40:42<47:52, 10.37s/it]"
     ]
    },
    {
     "name": "stdout",
     "output_type": "stream",
     "text": [
      "sample: 723\n",
      "(480, 15) (480, 15)\n",
      "{'testlen': 21600, 'reflen': 17273, 'guess': [21600, 21120, 20640, 20160], 'correct': [7205, 2348, 842, 403]}\n",
      "ratio: 1.2505065709488072\n"
     ]
    },
    {
     "name": "stderr",
     "output_type": "stream",
     "text": [
      "\r",
      " 72%|███████▏  | 724/1000 [2:40:52<47:34, 10.34s/it]"
     ]
    },
    {
     "name": "stdout",
     "output_type": "stream",
     "text": [
      "sample: 724\n",
      "(480, 15) (480, 15)\n",
      "{'testlen': 21600, 'reflen': 19531, 'guess': [21600, 21120, 20640, 20160], 'correct': [7298, 2200, 719, 281]}\n",
      "ratio: 1.1059341559571396\n"
     ]
    },
    {
     "name": "stderr",
     "output_type": "stream",
     "text": [
      "\r",
      " 72%|███████▎  | 725/1000 [2:41:03<47:24, 10.35s/it]"
     ]
    },
    {
     "name": "stdout",
     "output_type": "stream",
     "text": [
      "sample: 725\n",
      "(480, 15) (480, 15)\n",
      "{'testlen': 21600, 'reflen': 18047, 'guess': [21600, 21120, 20640, 20160], 'correct': [7053, 2208, 724, 301]}\n",
      "ratio: 1.19687482684096\n"
     ]
    },
    {
     "name": "stderr",
     "output_type": "stream",
     "text": [
      "\r",
      " 73%|███████▎  | 726/1000 [2:41:13<47:03, 10.30s/it]"
     ]
    },
    {
     "name": "stdout",
     "output_type": "stream",
     "text": [
      "sample: 726\n",
      "(480, 15) (480, 15)\n",
      "{'testlen': 21600, 'reflen': 18410, 'guess': [21600, 21120, 20640, 20160], 'correct': [7201, 2298, 836, 413]}\n",
      "ratio: 1.1732753938076494\n"
     ]
    },
    {
     "name": "stderr",
     "output_type": "stream",
     "text": [
      "\r",
      " 73%|███████▎  | 727/1000 [2:41:24<47:35, 10.46s/it]"
     ]
    },
    {
     "name": "stdout",
     "output_type": "stream",
     "text": [
      "sample: 727\n",
      "(480, 15) (480, 15)\n",
      "{'testlen': 21600, 'reflen': 18824, 'guess': [21600, 21120, 20640, 20160], 'correct': [7263, 2264, 747, 307]}\n",
      "ratio: 1.1474713132171086\n"
     ]
    },
    {
     "name": "stderr",
     "output_type": "stream",
     "text": [
      "\r",
      " 73%|███████▎  | 728/1000 [2:41:34<47:09, 10.40s/it]"
     ]
    },
    {
     "name": "stdout",
     "output_type": "stream",
     "text": [
      "sample: 728\n",
      "(480, 15) (480, 15)\n",
      "{'testlen': 21600, 'reflen': 18128, 'guess': [21600, 21120, 20640, 20160], 'correct': [7032, 2204, 736, 310]}\n",
      "ratio: 1.1915269196821938\n"
     ]
    },
    {
     "name": "stderr",
     "output_type": "stream",
     "text": [
      "\r",
      " 73%|███████▎  | 729/1000 [2:41:44<46:49, 10.37s/it]"
     ]
    },
    {
     "name": "stdout",
     "output_type": "stream",
     "text": [
      "sample: 729\n",
      "(480, 15) (480, 15)\n",
      "{'testlen': 21600, 'reflen': 18642, 'guess': [21600, 21120, 20640, 20160], 'correct': [7056, 2091, 642, 240]}\n",
      "ratio: 1.1586739620211801\n"
     ]
    },
    {
     "name": "stderr",
     "output_type": "stream",
     "text": [
      "\r",
      " 73%|███████▎  | 730/1000 [2:41:55<46:45, 10.39s/it]"
     ]
    },
    {
     "name": "stdout",
     "output_type": "stream",
     "text": [
      "sample: 730\n",
      "(480, 15) (480, 15)\n",
      "{'testlen': 21600, 'reflen': 18550, 'guess': [21600, 21120, 20640, 20160], 'correct': [7054, 2214, 739, 317]}\n",
      "ratio: 1.1644204851751394\n"
     ]
    },
    {
     "name": "stderr",
     "output_type": "stream",
     "text": [
      "\r",
      " 73%|███████▎  | 731/1000 [2:42:06<47:58, 10.70s/it]"
     ]
    },
    {
     "name": "stdout",
     "output_type": "stream",
     "text": [
      "sample: 731\n",
      "(480, 15) (480, 15)\n",
      "{'testlen': 21600, 'reflen': 18575, 'guess': [21600, 21120, 20640, 20160], 'correct': [7201, 2232, 746, 333]}\n",
      "ratio: 1.1628532974427368\n"
     ]
    },
    {
     "name": "stderr",
     "output_type": "stream",
     "text": [
      "\r",
      " 73%|███████▎  | 732/1000 [2:42:17<47:13, 10.57s/it]"
     ]
    },
    {
     "name": "stdout",
     "output_type": "stream",
     "text": [
      "sample: 732\n",
      "(480, 15) (480, 15)\n",
      "{'testlen': 21600, 'reflen': 18222, 'guess': [21600, 21120, 20640, 20160], 'correct': [7257, 2351, 832, 402]}\n",
      "ratio: 1.1853803095159046\n"
     ]
    },
    {
     "name": "stderr",
     "output_type": "stream",
     "text": [
      "\r",
      " 73%|███████▎  | 733/1000 [2:42:27<46:43, 10.50s/it]"
     ]
    },
    {
     "name": "stdout",
     "output_type": "stream",
     "text": [
      "sample: 733\n",
      "(480, 15) (480, 15)\n",
      "{'testlen': 21600, 'reflen': 17636, 'guess': [21600, 21120, 20640, 20160], 'correct': [7267, 2444, 902, 445]}\n",
      "ratio: 1.2247675209797446\n"
     ]
    },
    {
     "name": "stderr",
     "output_type": "stream",
     "text": [
      "\r",
      " 73%|███████▎  | 734/1000 [2:42:38<46:54, 10.58s/it]"
     ]
    },
    {
     "name": "stdout",
     "output_type": "stream",
     "text": [
      "sample: 734\n",
      "(480, 15) (480, 15)\n",
      "{'testlen': 21600, 'reflen': 18262, 'guess': [21600, 21120, 20640, 20160], 'correct': [7122, 2214, 730, 313]}\n",
      "ratio: 1.1827839228999462\n"
     ]
    },
    {
     "name": "stderr",
     "output_type": "stream",
     "text": [
      "\r",
      " 74%|███████▎  | 735/1000 [2:42:48<46:08, 10.45s/it]"
     ]
    },
    {
     "name": "stdout",
     "output_type": "stream",
     "text": [
      "sample: 735\n",
      "(480, 15) (480, 15)\n",
      "{'testlen': 21600, 'reflen': 17960, 'guess': [21600, 21120, 20640, 20160], 'correct': [7345, 2329, 788, 342]}\n",
      "ratio: 1.202672605790579\n"
     ]
    },
    {
     "name": "stderr",
     "output_type": "stream",
     "text": [
      "\r",
      " 74%|███████▎  | 736/1000 [2:42:58<45:58, 10.45s/it]"
     ]
    },
    {
     "name": "stdout",
     "output_type": "stream",
     "text": [
      "sample: 736\n",
      "(480, 15) (480, 15)\n",
      "{'testlen': 21600, 'reflen': 17453, 'guess': [21600, 21120, 20640, 20160], 'correct': [6992, 2190, 706, 273]}\n",
      "ratio: 1.2376095800148261\n"
     ]
    },
    {
     "name": "stderr",
     "output_type": "stream",
     "text": [
      "\r",
      " 74%|███████▎  | 737/1000 [2:43:09<45:36, 10.40s/it]"
     ]
    },
    {
     "name": "stdout",
     "output_type": "stream",
     "text": [
      "sample: 737\n",
      "(480, 15) (480, 15)\n",
      "{'testlen': 21600, 'reflen': 18009, 'guess': [21600, 21120, 20640, 20160], 'correct': [7227, 2321, 810, 393]}\n",
      "ratio: 1.1994002998500084\n"
     ]
    },
    {
     "name": "stderr",
     "output_type": "stream",
     "text": [
      "\r",
      " 74%|███████▍  | 738/1000 [2:43:19<45:17, 10.37s/it]"
     ]
    },
    {
     "name": "stdout",
     "output_type": "stream",
     "text": [
      "sample: 738\n",
      "(480, 15) (480, 15)\n",
      "{'testlen': 21600, 'reflen': 18348, 'guess': [21600, 21120, 20640, 20160], 'correct': [7251, 2311, 797, 374]}\n",
      "ratio: 1.1772400261608253\n"
     ]
    },
    {
     "name": "stderr",
     "output_type": "stream",
     "text": [
      "\r",
      " 74%|███████▍  | 739/1000 [2:43:29<45:02, 10.36s/it]"
     ]
    },
    {
     "name": "stdout",
     "output_type": "stream",
     "text": [
      "sample: 739\n",
      "(480, 15) (480, 15)\n",
      "{'testlen': 21600, 'reflen': 17953, 'guess': [21600, 21120, 20640, 20160], 'correct': [7174, 2302, 794, 373]}\n",
      "ratio: 1.2031415362334315\n"
     ]
    },
    {
     "name": "stderr",
     "output_type": "stream",
     "text": [
      "\r",
      " 74%|███████▍  | 740/1000 [2:43:40<45:19, 10.46s/it]"
     ]
    },
    {
     "name": "stdout",
     "output_type": "stream",
     "text": [
      "sample: 740\n",
      "(480, 15) (480, 15)\n",
      "{'testlen': 21600, 'reflen': 18290, 'guess': [21600, 21120, 20640, 20160], 'correct': [7151, 2262, 771, 355]}\n",
      "ratio: 1.1809732094039813\n"
     ]
    },
    {
     "name": "stderr",
     "output_type": "stream",
     "text": [
      "\r",
      " 74%|███████▍  | 741/1000 [2:43:50<44:50, 10.39s/it]"
     ]
    },
    {
     "name": "stdout",
     "output_type": "stream",
     "text": [
      "sample: 741\n",
      "(480, 15) (480, 15)\n",
      "{'testlen': 21600, 'reflen': 18043, 'guess': [21600, 21120, 20640, 20160], 'correct': [7103, 2228, 737, 304]}\n",
      "ratio: 1.197140165160938\n"
     ]
    },
    {
     "name": "stderr",
     "output_type": "stream",
     "text": [
      "\r",
      " 74%|███████▍  | 742/1000 [2:44:00<44:41, 10.39s/it]"
     ]
    },
    {
     "name": "stdout",
     "output_type": "stream",
     "text": [
      "sample: 742\n",
      "(480, 15) (480, 15)\n",
      "{'testlen': 21600, 'reflen': 19069, 'guess': [21600, 21120, 20640, 20160], 'correct': [7272, 2284, 814, 377]}\n",
      "ratio: 1.1327285122449455\n"
     ]
    },
    {
     "name": "stderr",
     "output_type": "stream",
     "text": [
      "\r",
      " 74%|███████▍  | 743/1000 [2:44:11<44:29, 10.39s/it]"
     ]
    },
    {
     "name": "stdout",
     "output_type": "stream",
     "text": [
      "sample: 743\n",
      "(480, 15) (480, 15)\n",
      "{'testlen': 21600, 'reflen': 18669, 'guess': [21600, 21120, 20640, 20160], 'correct': [7247, 2237, 736, 298]}\n",
      "ratio: 1.1569982323637498\n"
     ]
    },
    {
     "name": "stderr",
     "output_type": "stream",
     "text": [
      "\r",
      " 74%|███████▍  | 744/1000 [2:44:21<44:29, 10.43s/it]"
     ]
    },
    {
     "name": "stdout",
     "output_type": "stream",
     "text": [
      "sample: 744\n",
      "(480, 15) (480, 15)\n",
      "{'testlen': 21600, 'reflen': 18206, 'guess': [21600, 21120, 20640, 20160], 'correct': [7133, 2125, 635, 247]}\n",
      "ratio: 1.1864220586619143\n"
     ]
    },
    {
     "name": "stderr",
     "output_type": "stream",
     "text": [
      "\r",
      " 74%|███████▍  | 745/1000 [2:44:32<44:16, 10.42s/it]"
     ]
    },
    {
     "name": "stdout",
     "output_type": "stream",
     "text": [
      "sample: 745\n",
      "(480, 15) (480, 15)\n",
      "{'testlen': 21600, 'reflen': 18248, 'guess': [21600, 21120, 20640, 20160], 'correct': [7308, 2333, 768, 328]}\n",
      "ratio: 1.183691363437024\n"
     ]
    },
    {
     "name": "stderr",
     "output_type": "stream",
     "text": [
      "\r",
      " 75%|███████▍  | 746/1000 [2:44:43<44:56, 10.61s/it]"
     ]
    },
    {
     "name": "stdout",
     "output_type": "stream",
     "text": [
      "sample: 746\n",
      "(480, 15) (480, 15)\n",
      "{'testlen': 21600, 'reflen': 17779, 'guess': [21600, 21120, 20640, 20160], 'correct': [7164, 2303, 756, 313]}\n",
      "ratio: 1.2149164744923102\n"
     ]
    },
    {
     "name": "stderr",
     "output_type": "stream",
     "text": [
      "\r",
      " 75%|███████▍  | 747/1000 [2:44:53<44:48, 10.63s/it]"
     ]
    },
    {
     "name": "stdout",
     "output_type": "stream",
     "text": [
      "sample: 747\n",
      "(480, 15) (480, 15)\n",
      "{'testlen': 21600, 'reflen': 18554, 'guess': [21600, 21120, 20640, 20160], 'correct': [7189, 2295, 793, 381]}\n",
      "ratio: 1.1641694513311867\n"
     ]
    },
    {
     "name": "stderr",
     "output_type": "stream",
     "text": [
      "\r",
      " 75%|███████▍  | 748/1000 [2:45:04<44:16, 10.54s/it]"
     ]
    },
    {
     "name": "stdout",
     "output_type": "stream",
     "text": [
      "sample: 748\n",
      "(480, 15) (480, 15)\n",
      "{'testlen': 21600, 'reflen': 17254, 'guess': [21600, 21120, 20640, 20160], 'correct': [7155, 2295, 763, 326]}\n",
      "ratio: 1.2518836211892168\n"
     ]
    },
    {
     "name": "stderr",
     "output_type": "stream",
     "text": [
      "\r",
      " 75%|███████▍  | 749/1000 [2:45:14<44:02, 10.53s/it]"
     ]
    },
    {
     "name": "stdout",
     "output_type": "stream",
     "text": [
      "sample: 749\n",
      "(480, 15) (480, 15)\n",
      "{'testlen': 21600, 'reflen': 17657, 'guess': [21600, 21120, 20640, 20160], 'correct': [7268, 2398, 888, 448]}\n",
      "ratio: 1.2233108682108385\n"
     ]
    },
    {
     "name": "stderr",
     "output_type": "stream",
     "text": [
      "\r",
      " 75%|███████▌  | 750/1000 [2:45:25<43:28, 10.44s/it]"
     ]
    },
    {
     "name": "stdout",
     "output_type": "stream",
     "text": [
      "sample: 750\n",
      "(480, 15) (480, 15)\n",
      "{'testlen': 21600, 'reflen': 18132, 'guess': [21600, 21120, 20640, 20160], 'correct': [7150, 2278, 776, 372]}\n",
      "ratio: 1.1912640635340177\n"
     ]
    },
    {
     "name": "stderr",
     "output_type": "stream",
     "text": [
      "\r",
      " 75%|███████▌  | 751/1000 [2:45:35<43:05, 10.38s/it]"
     ]
    },
    {
     "name": "stdout",
     "output_type": "stream",
     "text": [
      "sample: 751\n",
      "(480, 15) (480, 15)\n",
      "{'testlen': 21600, 'reflen': 17891, 'guess': [21600, 21120, 20640, 20160], 'correct': [7133, 2186, 672, 281]}\n",
      "ratio: 1.207310938460611\n"
     ]
    },
    {
     "name": "stderr",
     "output_type": "stream",
     "text": [
      "\r",
      " 75%|███████▌  | 752/1000 [2:45:45<42:57, 10.39s/it]"
     ]
    },
    {
     "name": "stdout",
     "output_type": "stream",
     "text": [
      "sample: 752\n",
      "(480, 15) (480, 15)\n",
      "{'testlen': 21600, 'reflen': 17839, 'guess': [21600, 21120, 20640, 20160], 'correct': [7130, 2226, 724, 311]}\n",
      "ratio: 1.2108302034866747\n"
     ]
    },
    {
     "name": "stderr",
     "output_type": "stream",
     "text": [
      "\r",
      " 75%|███████▌  | 753/1000 [2:45:56<43:02, 10.46s/it]"
     ]
    },
    {
     "name": "stdout",
     "output_type": "stream",
     "text": [
      "sample: 753\n",
      "(480, 15) (480, 15)\n",
      "{'testlen': 21600, 'reflen': 17523, 'guess': [21600, 21120, 20640, 20160], 'correct': [7104, 2195, 701, 299]}\n",
      "ratio: 1.23266563944523\n"
     ]
    },
    {
     "name": "stderr",
     "output_type": "stream",
     "text": [
      "\r",
      " 75%|███████▌  | 754/1000 [2:46:06<43:06, 10.51s/it]"
     ]
    },
    {
     "name": "stdout",
     "output_type": "stream",
     "text": [
      "sample: 754\n",
      "(480, 15) (480, 15)\n",
      "{'testlen': 21600, 'reflen': 18302, 'guess': [21600, 21120, 20640, 20160], 'correct': [7264, 2364, 832, 379]}\n",
      "ratio: 1.1801988853676548\n"
     ]
    },
    {
     "name": "stderr",
     "output_type": "stream",
     "text": [
      "\r",
      " 76%|███████▌  | 755/1000 [2:46:17<42:55, 10.51s/it]"
     ]
    },
    {
     "name": "stdout",
     "output_type": "stream",
     "text": [
      "sample: 755\n",
      "(480, 15) (480, 15)\n",
      "{'testlen': 21600, 'reflen': 17925, 'guess': [21600, 21120, 20640, 20160], 'correct': [7266, 2352, 790, 347]}\n",
      "ratio: 1.2050209205020248\n"
     ]
    },
    {
     "name": "stderr",
     "output_type": "stream",
     "text": [
      "\r",
      " 76%|███████▌  | 756/1000 [2:46:28<42:57, 10.56s/it]"
     ]
    },
    {
     "name": "stdout",
     "output_type": "stream",
     "text": [
      "sample: 756\n",
      "(480, 15) (480, 15)\n",
      "{'testlen': 21600, 'reflen': 18588, 'guess': [21600, 21120, 20640, 20160], 'correct': [7228, 2297, 787, 369]}\n",
      "ratio: 1.1620400258230492\n"
     ]
    },
    {
     "name": "stderr",
     "output_type": "stream",
     "text": [
      "\r",
      " 76%|███████▌  | 757/1000 [2:46:39<43:28, 10.73s/it]"
     ]
    },
    {
     "name": "stdout",
     "output_type": "stream",
     "text": [
      "sample: 757\n",
      "(480, 15) (480, 15)\n",
      "{'testlen': 21600, 'reflen': 17582, 'guess': [21600, 21120, 20640, 20160], 'correct': [7057, 2213, 717, 294]}\n",
      "ratio: 1.2285291775678973\n"
     ]
    },
    {
     "name": "stderr",
     "output_type": "stream",
     "text": [
      "\r",
      " 76%|███████▌  | 758/1000 [2:46:50<43:23, 10.76s/it]"
     ]
    },
    {
     "name": "stdout",
     "output_type": "stream",
     "text": [
      "sample: 758\n",
      "(480, 15) (480, 15)\n",
      "{'testlen': 21600, 'reflen': 18456, 'guess': [21600, 21120, 20640, 20160], 'correct': [7149, 2233, 717, 291]}\n",
      "ratio: 1.170351105331536\n"
     ]
    },
    {
     "name": "stderr",
     "output_type": "stream",
     "text": [
      "\r",
      " 76%|███████▌  | 759/1000 [2:47:00<42:39, 10.62s/it]"
     ]
    },
    {
     "name": "stdout",
     "output_type": "stream",
     "text": [
      "sample: 759\n",
      "(480, 15) (480, 15)\n",
      "{'testlen': 21600, 'reflen': 18605, 'guess': [21600, 21120, 20640, 20160], 'correct': [7055, 2186, 719, 302]}\n",
      "ratio: 1.1609782316580939\n"
     ]
    },
    {
     "name": "stderr",
     "output_type": "stream",
     "text": [
      "\r",
      " 76%|███████▌  | 760/1000 [2:47:11<43:21, 10.84s/it]"
     ]
    },
    {
     "name": "stdout",
     "output_type": "stream",
     "text": [
      "sample: 760\n",
      "(480, 15) (480, 15)\n",
      "{'testlen': 21600, 'reflen': 18238, 'guess': [21600, 21120, 20640, 20160], 'correct': [7270, 2370, 842, 387]}\n",
      "ratio: 1.1843403882003956\n"
     ]
    },
    {
     "name": "stderr",
     "output_type": "stream",
     "text": [
      "\r",
      " 76%|███████▌  | 761/1000 [2:47:22<42:35, 10.69s/it]"
     ]
    },
    {
     "name": "stdout",
     "output_type": "stream",
     "text": [
      "sample: 761\n",
      "(480, 15) (480, 15)\n",
      "{'testlen': 21600, 'reflen': 18345, 'guess': [21600, 21120, 20640, 20160], 'correct': [7147, 2225, 795, 401]}\n",
      "ratio: 1.177432542927164\n"
     ]
    },
    {
     "name": "stderr",
     "output_type": "stream",
     "text": [
      "\r",
      " 76%|███████▌  | 762/1000 [2:47:32<42:04, 10.61s/it]"
     ]
    },
    {
     "name": "stdout",
     "output_type": "stream",
     "text": [
      "sample: 762\n",
      "(480, 15) (480, 15)\n",
      "{'testlen': 21600, 'reflen': 18338, 'guess': [21600, 21120, 20640, 20160], 'correct': [7236, 2336, 803, 367]}\n",
      "ratio: 1.1778819936742733\n"
     ]
    },
    {
     "name": "stderr",
     "output_type": "stream",
     "text": [
      "\r",
      " 76%|███████▋  | 763/1000 [2:47:43<42:28, 10.75s/it]"
     ]
    },
    {
     "name": "stdout",
     "output_type": "stream",
     "text": [
      "sample: 763\n",
      "(480, 15) (480, 15)\n",
      "{'testlen': 21600, 'reflen': 18554, 'guess': [21600, 21120, 20640, 20160], 'correct': [7129, 2271, 765, 333]}\n",
      "ratio: 1.1641694513311867\n"
     ]
    },
    {
     "name": "stderr",
     "output_type": "stream",
     "text": [
      "\r",
      " 76%|███████▋  | 764/1000 [2:47:53<41:51, 10.64s/it]"
     ]
    },
    {
     "name": "stdout",
     "output_type": "stream",
     "text": [
      "sample: 764\n",
      "(480, 15) (480, 15)\n",
      "{'testlen': 21600, 'reflen': 17980, 'guess': [21600, 21120, 20640, 20160], 'correct': [7141, 2346, 839, 405]}\n",
      "ratio: 1.2013348164626696\n"
     ]
    },
    {
     "name": "stderr",
     "output_type": "stream",
     "text": [
      "\r",
      " 76%|███████▋  | 765/1000 [2:48:04<41:29, 10.59s/it]"
     ]
    },
    {
     "name": "stdout",
     "output_type": "stream",
     "text": [
      "sample: 765\n",
      "(480, 15) (480, 15)\n",
      "{'testlen': 21600, 'reflen': 18134, 'guess': [21600, 21120, 20640, 20160], 'correct': [7289, 2285, 752, 302]}\n",
      "ratio: 1.1911326789455612\n"
     ]
    },
    {
     "name": "stderr",
     "output_type": "stream",
     "text": [
      "\r",
      " 77%|███████▋  | 766/1000 [2:48:14<40:57, 10.50s/it]"
     ]
    },
    {
     "name": "stdout",
     "output_type": "stream",
     "text": [
      "sample: 766\n",
      "(480, 15) (480, 15)\n",
      "{'testlen': 21600, 'reflen': 18080, 'guess': [21600, 21120, 20640, 20160], 'correct': [7074, 2172, 685, 273]}\n",
      "ratio: 1.1946902654866596\n"
     ]
    },
    {
     "name": "stderr",
     "output_type": "stream",
     "text": [
      "\r",
      " 77%|███████▋  | 767/1000 [2:48:25<41:38, 10.72s/it]"
     ]
    },
    {
     "name": "stdout",
     "output_type": "stream",
     "text": [
      "sample: 767\n",
      "(480, 15) (480, 15)\n",
      "{'testlen': 21600, 'reflen': 18201, 'guess': [21600, 21120, 20640, 20160], 'correct': [7297, 2323, 804, 399]}\n",
      "ratio: 1.1867479808801062\n"
     ]
    },
    {
     "name": "stderr",
     "output_type": "stream",
     "text": [
      "\r",
      " 77%|███████▋  | 768/1000 [2:48:36<40:55, 10.58s/it]"
     ]
    },
    {
     "name": "stdout",
     "output_type": "stream",
     "text": [
      "sample: 768\n",
      "(480, 15) (480, 15)\n",
      "{'testlen': 21600, 'reflen': 17868, 'guess': [21600, 21120, 20640, 20160], 'correct': [7119, 2224, 717, 304]}\n",
      "ratio: 1.2088650100738074\n"
     ]
    },
    {
     "name": "stderr",
     "output_type": "stream",
     "text": [
      "\r",
      " 77%|███████▋  | 769/1000 [2:48:46<40:18, 10.47s/it]"
     ]
    },
    {
     "name": "stdout",
     "output_type": "stream",
     "text": [
      "sample: 769\n",
      "(480, 15) (480, 15)\n",
      "{'testlen': 21600, 'reflen': 18870, 'guess': [21600, 21120, 20640, 20160], 'correct': [7175, 2240, 732, 310]}\n",
      "ratio: 1.1446740858504958\n"
     ]
    },
    {
     "name": "stderr",
     "output_type": "stream",
     "text": [
      "\r",
      " 77%|███████▋  | 770/1000 [2:48:56<40:02, 10.45s/it]"
     ]
    },
    {
     "name": "stdout",
     "output_type": "stream",
     "text": [
      "sample: 770\n",
      "(480, 15) (480, 15)\n",
      "{'testlen': 21600, 'reflen': 18335, 'guess': [21600, 21120, 20640, 20160], 'correct': [7227, 2245, 687, 257]}\n",
      "ratio: 1.178074720479892\n"
     ]
    },
    {
     "name": "stderr",
     "output_type": "stream",
     "text": [
      "\r",
      " 77%|███████▋  | 771/1000 [2:49:07<39:46, 10.42s/it]"
     ]
    },
    {
     "name": "stdout",
     "output_type": "stream",
     "text": [
      "sample: 771\n",
      "(480, 15) (480, 15)\n",
      "{'testlen': 21600, 'reflen': 18476, 'guess': [21600, 21120, 20640, 20160], 'correct': [7012, 2201, 690, 286]}\n",
      "ratio: 1.1690842173630023\n"
     ]
    },
    {
     "name": "stderr",
     "output_type": "stream",
     "text": [
      "\r",
      " 77%|███████▋  | 772/1000 [2:49:17<39:18, 10.34s/it]"
     ]
    },
    {
     "name": "stdout",
     "output_type": "stream",
     "text": [
      "sample: 772\n",
      "(480, 15) (480, 15)\n",
      "{'testlen': 21600, 'reflen': 18186, 'guess': [21600, 21120, 20640, 20160], 'correct': [7126, 2227, 713, 295]}\n",
      "ratio: 1.1877268228306836\n"
     ]
    },
    {
     "name": "stderr",
     "output_type": "stream",
     "text": [
      "\r",
      " 77%|███████▋  | 773/1000 [2:49:28<40:06, 10.60s/it]"
     ]
    },
    {
     "name": "stdout",
     "output_type": "stream",
     "text": [
      "sample: 773\n",
      "(480, 15) (480, 15)\n",
      "{'testlen': 21600, 'reflen': 17537, 'guess': [21600, 21120, 20640, 20160], 'correct': [7226, 2373, 790, 340]}\n",
      "ratio: 1.2316815875006426\n"
     ]
    },
    {
     "name": "stderr",
     "output_type": "stream",
     "text": [
      "\r",
      " 77%|███████▋  | 774/1000 [2:49:38<39:34, 10.50s/it]"
     ]
    },
    {
     "name": "stdout",
     "output_type": "stream",
     "text": [
      "sample: 774\n",
      "(480, 15) (480, 15)\n",
      "{'testlen': 21600, 'reflen': 18162, 'guess': [21600, 21120, 20640, 20160], 'correct': [7249, 2268, 739, 315]}\n",
      "ratio: 1.1892963330029078\n"
     ]
    },
    {
     "name": "stderr",
     "output_type": "stream",
     "text": [
      "\r",
      " 78%|███████▊  | 775/1000 [2:49:49<39:00, 10.40s/it]"
     ]
    },
    {
     "name": "stdout",
     "output_type": "stream",
     "text": [
      "sample: 775\n",
      "(480, 15) (480, 15)\n",
      "{'testlen': 21600, 'reflen': 18462, 'guess': [21600, 21120, 20640, 20160], 'correct': [7182, 2226, 717, 303]}\n",
      "ratio: 1.1699707507311683\n"
     ]
    },
    {
     "name": "stderr",
     "output_type": "stream",
     "text": [
      "\r",
      " 78%|███████▊  | 776/1000 [2:49:59<39:01, 10.45s/it]"
     ]
    },
    {
     "name": "stdout",
     "output_type": "stream",
     "text": [
      "sample: 776\n",
      "(480, 15) (480, 15)\n",
      "{'testlen': 21600, 'reflen': 18959, 'guess': [21600, 21120, 20640, 20160], 'correct': [7275, 2339, 837, 396]}\n",
      "ratio: 1.139300596022937\n"
     ]
    },
    {
     "name": "stderr",
     "output_type": "stream",
     "text": [
      "\r",
      " 78%|███████▊  | 777/1000 [2:50:10<39:51, 10.72s/it]"
     ]
    },
    {
     "name": "stdout",
     "output_type": "stream",
     "text": [
      "sample: 777\n",
      "(480, 15) (480, 15)\n",
      "{'testlen': 21600, 'reflen': 18118, 'guess': [21600, 21120, 20640, 20160], 'correct': [7433, 2459, 899, 445]}\n",
      "ratio: 1.1921845678330283\n"
     ]
    },
    {
     "name": "stderr",
     "output_type": "stream",
     "text": [
      "\r",
      " 78%|███████▊  | 778/1000 [2:50:21<39:29, 10.67s/it]"
     ]
    },
    {
     "name": "stdout",
     "output_type": "stream",
     "text": [
      "sample: 778\n",
      "(480, 15) (480, 15)\n",
      "{'testlen': 21600, 'reflen': 17794, 'guess': [21600, 21120, 20640, 20160], 'correct': [7110, 2195, 677, 269]}\n",
      "ratio: 1.2138923232549614\n"
     ]
    },
    {
     "name": "stderr",
     "output_type": "stream",
     "text": [
      "\r",
      " 78%|███████▊  | 779/1000 [2:50:31<38:44, 10.52s/it]"
     ]
    },
    {
     "name": "stdout",
     "output_type": "stream",
     "text": [
      "sample: 779\n",
      "(480, 15) (480, 15)\n",
      "{'testlen': 21600, 'reflen': 17875, 'guess': [21600, 21120, 20640, 20160], 'correct': [7153, 2267, 756, 337]}\n",
      "ratio: 1.2083916083915407\n"
     ]
    },
    {
     "name": "stderr",
     "output_type": "stream",
     "text": [
      "\r",
      " 78%|███████▊  | 780/1000 [2:50:41<38:17, 10.44s/it]"
     ]
    },
    {
     "name": "stdout",
     "output_type": "stream",
     "text": [
      "sample: 780\n",
      "(480, 15) (480, 15)\n",
      "{'testlen': 21600, 'reflen': 18708, 'guess': [21600, 21120, 20640, 20160], 'correct': [7078, 2153, 686, 289]}\n",
      "ratio: 1.154586273252023\n"
     ]
    },
    {
     "name": "stderr",
     "output_type": "stream",
     "text": [
      "\r",
      " 78%|███████▊  | 781/1000 [2:50:52<38:03, 10.43s/it]"
     ]
    },
    {
     "name": "stdout",
     "output_type": "stream",
     "text": [
      "sample: 781\n",
      "(480, 15) (480, 15)\n",
      "{'testlen': 21600, 'reflen': 18420, 'guess': [21600, 21120, 20640, 20160], 'correct': [7032, 2118, 683, 259]}\n",
      "ratio: 1.172638436482021\n"
     ]
    },
    {
     "name": "stderr",
     "output_type": "stream",
     "text": [
      "\r",
      " 78%|███████▊  | 782/1000 [2:51:02<37:48, 10.41s/it]"
     ]
    },
    {
     "name": "stdout",
     "output_type": "stream",
     "text": [
      "sample: 782\n",
      "(480, 15) (480, 15)\n",
      "{'testlen': 21600, 'reflen': 18443, 'guess': [21600, 21120, 20640, 20160], 'correct': [7246, 2363, 852, 429]}\n",
      "ratio: 1.1711760559561257\n"
     ]
    },
    {
     "name": "stderr",
     "output_type": "stream",
     "text": [
      "\r",
      " 78%|███████▊  | 783/1000 [2:51:13<37:39, 10.41s/it]"
     ]
    },
    {
     "name": "stdout",
     "output_type": "stream",
     "text": [
      "sample: 783\n",
      "(480, 15) (480, 15)\n",
      "{'testlen': 21600, 'reflen': 17763, 'guess': [21600, 21120, 20640, 20160], 'correct': [7119, 2301, 808, 366]}\n",
      "ratio: 1.2160108089849002\n"
     ]
    },
    {
     "name": "stderr",
     "output_type": "stream",
     "text": [
      "\r",
      " 78%|███████▊  | 784/1000 [2:51:23<37:51, 10.52s/it]"
     ]
    },
    {
     "name": "stdout",
     "output_type": "stream",
     "text": [
      "sample: 784\n",
      "(480, 15) (480, 15)\n",
      "{'testlen': 21600, 'reflen': 18534, 'guess': [21600, 21120, 20640, 20160], 'correct': [7252, 2289, 731, 308]}\n",
      "ratio: 1.1654257041113\n"
     ]
    },
    {
     "name": "stderr",
     "output_type": "stream",
     "text": [
      "\r",
      " 78%|███████▊  | 785/1000 [2:51:34<37:28, 10.46s/it]"
     ]
    },
    {
     "name": "stdout",
     "output_type": "stream",
     "text": [
      "sample: 785\n",
      "(480, 15) (480, 15)\n",
      "{'testlen': 21600, 'reflen': 18040, 'guess': [21600, 21120, 20640, 20160], 'correct': [7184, 2300, 776, 342]}\n",
      "ratio: 1.1973392461196675\n"
     ]
    },
    {
     "name": "stderr",
     "output_type": "stream",
     "text": [
      "\r",
      " 79%|███████▊  | 786/1000 [2:51:44<37:09, 10.42s/it]"
     ]
    },
    {
     "name": "stdout",
     "output_type": "stream",
     "text": [
      "sample: 786\n",
      "(480, 15) (480, 15)\n",
      "{'testlen': 21600, 'reflen': 18360, 'guess': [21600, 21120, 20640, 20160], 'correct': [7054, 2090, 629, 255]}\n",
      "ratio: 1.17647058823523\n"
     ]
    },
    {
     "name": "stderr",
     "output_type": "stream",
     "text": [
      "\r",
      " 79%|███████▊  | 787/1000 [2:51:54<36:47, 10.37s/it]"
     ]
    },
    {
     "name": "stdout",
     "output_type": "stream",
     "text": [
      "sample: 787\n",
      "(480, 15) (480, 15)\n",
      "{'testlen': 21600, 'reflen': 18261, 'guess': [21600, 21120, 20640, 20160], 'correct': [7028, 2095, 641, 235]}\n",
      "ratio: 1.1828486939378355\n"
     ]
    },
    {
     "name": "stderr",
     "output_type": "stream",
     "text": [
      "\r",
      " 79%|███████▉  | 788/1000 [2:52:05<36:45, 10.40s/it]"
     ]
    },
    {
     "name": "stdout",
     "output_type": "stream",
     "text": [
      "sample: 788\n",
      "(480, 15) (480, 15)\n",
      "{'testlen': 21600, 'reflen': 17666, 'guess': [21600, 21120, 20640, 20160], 'correct': [7024, 2261, 791, 338]}\n",
      "ratio: 1.2226876485904437\n"
     ]
    },
    {
     "name": "stderr",
     "output_type": "stream",
     "text": [
      "\r",
      " 79%|███████▉  | 789/1000 [2:52:15<36:48, 10.47s/it]"
     ]
    },
    {
     "name": "stdout",
     "output_type": "stream",
     "text": [
      "sample: 789\n",
      "(480, 15) (480, 15)\n",
      "{'testlen': 21600, 'reflen': 18128, 'guess': [21600, 21120, 20640, 20160], 'correct': [7268, 2315, 826, 398]}\n",
      "ratio: 1.1915269196821938\n"
     ]
    },
    {
     "name": "stderr",
     "output_type": "stream",
     "text": [
      "\r",
      " 79%|███████▉  | 790/1000 [2:52:26<36:26, 10.41s/it]"
     ]
    },
    {
     "name": "stdout",
     "output_type": "stream",
     "text": [
      "sample: 790\n",
      "(480, 15) (480, 15)\n",
      "{'testlen': 21600, 'reflen': 19077, 'guess': [21600, 21120, 20640, 20160], 'correct': [7361, 2366, 850, 435]}\n",
      "ratio: 1.1322534989777673\n"
     ]
    },
    {
     "name": "stderr",
     "output_type": "stream",
     "text": [
      "\r",
      " 79%|███████▉  | 791/1000 [2:52:36<36:09, 10.38s/it]"
     ]
    },
    {
     "name": "stdout",
     "output_type": "stream",
     "text": [
      "sample: 791\n",
      "(480, 15) (480, 15)\n",
      "{'testlen': 21600, 'reflen': 17620, 'guess': [21600, 21120, 20640, 20160], 'correct': [7215, 2280, 737, 307]}\n",
      "ratio: 1.2258796821792721\n"
     ]
    },
    {
     "name": "stderr",
     "output_type": "stream",
     "text": [
      "\r",
      " 79%|███████▉  | 792/1000 [2:52:47<36:47, 10.61s/it]"
     ]
    },
    {
     "name": "stdout",
     "output_type": "stream",
     "text": [
      "sample: 792\n",
      "(480, 15) (480, 15)\n",
      "{'testlen': 21600, 'reflen': 18678, 'guess': [21600, 21120, 20640, 20160], 'correct': [7237, 2306, 749, 300]}\n",
      "ratio: 1.156440732412402\n"
     ]
    },
    {
     "name": "stderr",
     "output_type": "stream",
     "text": [
      "\r",
      " 79%|███████▉  | 793/1000 [2:52:58<36:37, 10.62s/it]"
     ]
    },
    {
     "name": "stdout",
     "output_type": "stream",
     "text": [
      "sample: 793\n",
      "(480, 15) (480, 15)\n",
      "{'testlen': 21600, 'reflen': 18049, 'guess': [21600, 21120, 20640, 20160], 'correct': [7155, 2260, 808, 382]}\n",
      "ratio: 1.196742201783966\n"
     ]
    },
    {
     "name": "stderr",
     "output_type": "stream",
     "text": [
      "\r",
      " 79%|███████▉  | 794/1000 [2:53:08<36:28, 10.63s/it]"
     ]
    },
    {
     "name": "stdout",
     "output_type": "stream",
     "text": [
      "sample: 794\n",
      "(480, 15) (480, 15)\n",
      "{'testlen': 21600, 'reflen': 18505, 'guess': [21600, 21120, 20640, 20160], 'correct': [7142, 2307, 836, 398]}\n",
      "ratio: 1.1672520940285778\n"
     ]
    },
    {
     "name": "stderr",
     "output_type": "stream",
     "text": [
      "\r",
      " 80%|███████▉  | 795/1000 [2:53:19<36:04, 10.56s/it]"
     ]
    },
    {
     "name": "stdout",
     "output_type": "stream",
     "text": [
      "sample: 795\n",
      "(480, 15) (480, 15)\n",
      "{'testlen': 21600, 'reflen': 18417, 'guess': [21600, 21120, 20640, 20160], 'correct': [7082, 2197, 710, 272]}\n",
      "ratio: 1.172829451050596\n"
     ]
    },
    {
     "name": "stderr",
     "output_type": "stream",
     "text": [
      "\r",
      " 80%|███████▉  | 796/1000 [2:53:29<35:52, 10.55s/it]"
     ]
    },
    {
     "name": "stdout",
     "output_type": "stream",
     "text": [
      "sample: 796\n",
      "(480, 15) (480, 15)\n",
      "{'testlen': 21600, 'reflen': 17985, 'guess': [21600, 21120, 20640, 20160], 'correct': [7107, 2177, 686, 269]}\n",
      "ratio: 1.20100083402829\n"
     ]
    },
    {
     "name": "stderr",
     "output_type": "stream",
     "text": [
      "\r",
      " 80%|███████▉  | 797/1000 [2:53:40<35:26, 10.47s/it]"
     ]
    },
    {
     "name": "stdout",
     "output_type": "stream",
     "text": [
      "sample: 797\n",
      "(480, 15) (480, 15)\n",
      "{'testlen': 21600, 'reflen': 18717, 'guess': [21600, 21120, 20640, 20160], 'correct': [7225, 2206, 680, 284]}\n",
      "ratio: 1.1540310947266574\n"
     ]
    },
    {
     "name": "stderr",
     "output_type": "stream",
     "text": [
      "\r",
      " 80%|███████▉  | 798/1000 [2:53:50<35:18, 10.49s/it]"
     ]
    },
    {
     "name": "stdout",
     "output_type": "stream",
     "text": [
      "sample: 798\n",
      "(480, 15) (480, 15)\n",
      "{'testlen': 21600, 'reflen': 17890, 'guess': [21600, 21120, 20640, 20160], 'correct': [7035, 2224, 723, 296]}\n",
      "ratio: 1.2073784237003238\n"
     ]
    },
    {
     "name": "stderr",
     "output_type": "stream",
     "text": [
      "\r",
      " 80%|███████▉  | 799/1000 [2:54:01<35:13, 10.51s/it]"
     ]
    },
    {
     "name": "stdout",
     "output_type": "stream",
     "text": [
      "sample: 799\n",
      "(480, 15) (480, 15)\n",
      "{'testlen': 21600, 'reflen': 18821, 'guess': [21600, 21120, 20640, 20160], 'correct': [7204, 2260, 794, 385]}\n",
      "ratio: 1.1476542160352188\n"
     ]
    },
    {
     "name": "stderr",
     "output_type": "stream",
     "text": [
      "\r",
      " 80%|████████  | 800/1000 [2:54:17<40:50, 12.25s/it]"
     ]
    },
    {
     "name": "stdout",
     "output_type": "stream",
     "text": [
      "sample: 800\n",
      "(480, 15) (480, 15)\n",
      "{'testlen': 21600, 'reflen': 17890, 'guess': [21600, 21120, 20640, 20160], 'correct': [7119, 2243, 735, 298]}\n",
      "ratio: 1.2073784237003238\n"
     ]
    },
    {
     "name": "stderr",
     "output_type": "stream",
     "text": [
      "\r",
      " 80%|████████  | 801/1000 [2:54:32<43:22, 13.08s/it]"
     ]
    },
    {
     "name": "stdout",
     "output_type": "stream",
     "text": [
      "sample: 801\n",
      "(480, 15) (480, 15)\n",
      "{'testlen': 21600, 'reflen': 18028, 'guess': [21600, 21120, 20640, 20160], 'correct': [7282, 2305, 785, 357]}\n",
      "ratio: 1.1981362325271134\n"
     ]
    },
    {
     "name": "stderr",
     "output_type": "stream",
     "text": [
      "\r",
      " 80%|████████  | 802/1000 [2:54:48<46:30, 14.10s/it]"
     ]
    },
    {
     "name": "stdout",
     "output_type": "stream",
     "text": [
      "sample: 802\n",
      "(480, 15) (480, 15)\n",
      "{'testlen': 21600, 'reflen': 18109, 'guess': [21600, 21120, 20640, 20160], 'correct': [7182, 2246, 779, 360]}\n",
      "ratio: 1.1927770721739912\n"
     ]
    },
    {
     "name": "stderr",
     "output_type": "stream",
     "text": [
      "\r",
      " 80%|████████  | 803/1000 [2:55:06<49:35, 15.10s/it]"
     ]
    },
    {
     "name": "stdout",
     "output_type": "stream",
     "text": [
      "sample: 803\n",
      "(480, 15) (480, 15)\n",
      "{'testlen': 21600, 'reflen': 18343, 'guess': [21600, 21120, 20640, 20160], 'correct': [7202, 2275, 751, 326]}\n",
      "ratio: 1.1775609224226584\n"
     ]
    },
    {
     "name": "stderr",
     "output_type": "stream",
     "text": [
      "\r",
      " 80%|████████  | 804/1000 [2:55:22<49:48, 15.25s/it]"
     ]
    },
    {
     "name": "stdout",
     "output_type": "stream",
     "text": [
      "sample: 804\n",
      "(480, 15) (480, 15)\n",
      "{'testlen': 21600, 'reflen': 18028, 'guess': [21600, 21120, 20640, 20160], 'correct': [7100, 2247, 750, 327]}\n",
      "ratio: 1.1981362325271134\n"
     ]
    },
    {
     "name": "stderr",
     "output_type": "stream",
     "text": [
      "\r",
      " 80%|████████  | 805/1000 [2:55:37<50:09, 15.43s/it]"
     ]
    },
    {
     "name": "stdout",
     "output_type": "stream",
     "text": [
      "sample: 805\n",
      "(480, 15) (480, 15)\n",
      "{'testlen': 21600, 'reflen': 18236, 'guess': [21600, 21120, 20640, 20160], 'correct': [7091, 2169, 717, 300]}\n",
      "ratio: 1.184470278569797\n"
     ]
    },
    {
     "name": "stderr",
     "output_type": "stream",
     "text": [
      "\r",
      " 81%|████████  | 806/1000 [2:55:53<50:13, 15.53s/it]"
     ]
    },
    {
     "name": "stdout",
     "output_type": "stream",
     "text": [
      "sample: 806\n",
      "(480, 15) (480, 15)\n",
      "{'testlen': 21600, 'reflen': 18305, 'guess': [21600, 21120, 20640, 20160], 'correct': [7277, 2358, 798, 352]}\n",
      "ratio: 1.18000546298819\n"
     ]
    },
    {
     "name": "stderr",
     "output_type": "stream",
     "text": [
      "\r",
      " 81%|████████  | 807/1000 [2:56:09<49:54, 15.51s/it]"
     ]
    },
    {
     "name": "stdout",
     "output_type": "stream",
     "text": [
      "sample: 807\n",
      "(480, 15) (480, 15)\n",
      "{'testlen': 21600, 'reflen': 18173, 'guess': [21600, 21120, 20640, 20160], 'correct': [7212, 2275, 746, 311]}\n",
      "ratio: 1.1885764595828323\n"
     ]
    },
    {
     "name": "stderr",
     "output_type": "stream",
     "text": [
      "\r",
      " 81%|████████  | 808/1000 [2:56:26<51:26, 16.07s/it]"
     ]
    },
    {
     "name": "stdout",
     "output_type": "stream",
     "text": [
      "sample: 808\n",
      "(480, 15) (480, 15)\n",
      "{'testlen': 21600, 'reflen': 18468, 'guess': [21600, 21120, 20640, 20160], 'correct': [7193, 2156, 663, 249]}\n",
      "ratio: 1.1695906432747905\n"
     ]
    },
    {
     "name": "stderr",
     "output_type": "stream",
     "text": [
      "\r",
      " 81%|████████  | 809/1000 [2:56:43<51:41, 16.24s/it]"
     ]
    },
    {
     "name": "stdout",
     "output_type": "stream",
     "text": [
      "sample: 809\n",
      "(480, 15) (480, 15)\n",
      "{'testlen': 21600, 'reflen': 18274, 'guess': [21600, 21120, 20640, 20160], 'correct': [7044, 2182, 731, 328]}\n",
      "ratio: 1.1820072233774115\n"
     ]
    },
    {
     "name": "stderr",
     "output_type": "stream",
     "text": [
      "\r",
      " 81%|████████  | 810/1000 [2:56:59<51:18, 16.20s/it]"
     ]
    },
    {
     "name": "stdout",
     "output_type": "stream",
     "text": [
      "sample: 810\n",
      "(480, 15) (480, 15)\n",
      "{'testlen': 21600, 'reflen': 18349, 'guess': [21600, 21120, 20640, 20160], 'correct': [7224, 2381, 893, 456]}\n",
      "ratio: 1.177175867894644\n"
     ]
    },
    {
     "name": "stderr",
     "output_type": "stream",
     "text": [
      "\r",
      " 81%|████████  | 811/1000 [2:57:16<51:33, 16.37s/it]"
     ]
    },
    {
     "name": "stdout",
     "output_type": "stream",
     "text": [
      "sample: 811\n",
      "(480, 15) (480, 15)\n",
      "{'testlen': 21600, 'reflen': 18138, 'guess': [21600, 21120, 20640, 20160], 'correct': [7173, 2271, 747, 323]}\n",
      "ratio: 1.190869996691962\n"
     ]
    },
    {
     "name": "stderr",
     "output_type": "stream",
     "text": [
      "\r",
      " 81%|████████  | 812/1000 [2:57:32<51:06, 16.31s/it]"
     ]
    },
    {
     "name": "stdout",
     "output_type": "stream",
     "text": [
      "sample: 812\n",
      "(480, 15) (480, 15)\n",
      "{'testlen': 21600, 'reflen': 18137, 'guess': [21600, 21120, 20640, 20160], 'correct': [7098, 2258, 747, 319]}\n",
      "ratio: 1.190935656392943\n"
     ]
    },
    {
     "name": "stderr",
     "output_type": "stream",
     "text": [
      "\r",
      " 81%|████████▏ | 813/1000 [2:57:47<49:52, 16.00s/it]"
     ]
    },
    {
     "name": "stdout",
     "output_type": "stream",
     "text": [
      "sample: 813\n",
      "(480, 15) (480, 15)\n",
      "{'testlen': 21600, 'reflen': 18030, 'guess': [21600, 21120, 20640, 20160], 'correct': [7234, 2236, 748, 338]}\n",
      "ratio: 1.198003327786955\n"
     ]
    },
    {
     "name": "stderr",
     "output_type": "stream",
     "text": [
      "\r",
      " 81%|████████▏ | 814/1000 [2:58:03<50:04, 16.15s/it]"
     ]
    },
    {
     "name": "stdout",
     "output_type": "stream",
     "text": [
      "sample: 814\n",
      "(480, 15) (480, 15)\n",
      "{'testlen': 21600, 'reflen': 18848, 'guess': [21600, 21120, 20640, 20160], 'correct': [7170, 2205, 679, 249]}\n",
      "ratio: 1.1460101867571548\n"
     ]
    },
    {
     "name": "stderr",
     "output_type": "stream",
     "text": [
      "\r",
      " 82%|████████▏ | 815/1000 [2:58:20<50:01, 16.22s/it]"
     ]
    },
    {
     "name": "stdout",
     "output_type": "stream",
     "text": [
      "sample: 815\n",
      "(480, 15) (480, 15)\n",
      "{'testlen': 21600, 'reflen': 18201, 'guess': [21600, 21120, 20640, 20160], 'correct': [7083, 2232, 702, 293]}\n",
      "ratio: 1.1867479808801062\n"
     ]
    },
    {
     "name": "stderr",
     "output_type": "stream",
     "text": [
      "\r",
      " 82%|████████▏ | 816/1000 [2:58:37<50:24, 16.44s/it]"
     ]
    },
    {
     "name": "stdout",
     "output_type": "stream",
     "text": [
      "sample: 816\n",
      "(480, 15) (480, 15)\n",
      "{'testlen': 21600, 'reflen': 18046, 'guess': [21600, 21120, 20640, 20160], 'correct': [7201, 2314, 807, 403]}\n",
      "ratio: 1.1969411503933727\n"
     ]
    },
    {
     "name": "stderr",
     "output_type": "stream",
     "text": [
      "\r",
      " 82%|████████▏ | 817/1000 [2:58:52<49:16, 16.16s/it]"
     ]
    },
    {
     "name": "stdout",
     "output_type": "stream",
     "text": [
      "sample: 817\n",
      "(480, 15) (480, 15)\n",
      "{'testlen': 21600, 'reflen': 18651, 'guess': [21600, 21120, 20640, 20160], 'correct': [7199, 2309, 815, 376]}\n",
      "ratio: 1.1581148463888715\n"
     ]
    },
    {
     "name": "stderr",
     "output_type": "stream",
     "text": [
      "\r",
      " 82%|████████▏ | 818/1000 [2:59:09<49:05, 16.19s/it]"
     ]
    },
    {
     "name": "stdout",
     "output_type": "stream",
     "text": [
      "sample: 818\n",
      "(480, 15) (480, 15)\n",
      "{'testlen': 21600, 'reflen': 18731, 'guess': [21600, 21120, 20640, 20160], 'correct': [7158, 2261, 747, 311]}\n",
      "ratio: 1.1531685441246515\n"
     ]
    },
    {
     "name": "stderr",
     "output_type": "stream",
     "text": [
      "\r",
      " 82%|████████▏ | 819/1000 [2:59:25<49:00, 16.25s/it]"
     ]
    },
    {
     "name": "stdout",
     "output_type": "stream",
     "text": [
      "sample: 819\n",
      "(480, 15) (480, 15)\n",
      "{'testlen': 21600, 'reflen': 18081, 'guess': [21600, 21120, 20640, 20160], 'correct': [7230, 2259, 768, 340]}\n",
      "ratio: 1.1946241911398046\n"
     ]
    },
    {
     "name": "stderr",
     "output_type": "stream",
     "text": [
      "\r",
      " 82%|████████▏ | 820/1000 [2:59:42<49:15, 16.42s/it]"
     ]
    },
    {
     "name": "stdout",
     "output_type": "stream",
     "text": [
      "sample: 820\n",
      "(480, 15) (480, 15)\n",
      "{'testlen': 21600, 'reflen': 18536, 'guess': [21600, 21120, 20640, 20160], 'correct': [7203, 2249, 727, 294]}\n",
      "ratio: 1.1652999568406794\n"
     ]
    },
    {
     "name": "stderr",
     "output_type": "stream",
     "text": [
      "\r",
      " 82%|████████▏ | 821/1000 [2:59:58<49:08, 16.47s/it]"
     ]
    },
    {
     "name": "stdout",
     "output_type": "stream",
     "text": [
      "sample: 821\n",
      "(480, 15) (480, 15)\n",
      "{'testlen': 21600, 'reflen': 18457, 'guess': [21600, 21120, 20640, 20160], 'correct': [7099, 2166, 719, 294]}\n",
      "ratio: 1.1702876957251356\n"
     ]
    },
    {
     "name": "stderr",
     "output_type": "stream",
     "text": [
      "\r",
      " 82%|████████▏ | 822/1000 [3:00:14<48:24, 16.32s/it]"
     ]
    },
    {
     "name": "stdout",
     "output_type": "stream",
     "text": [
      "sample: 822\n",
      "(480, 15) (480, 15)\n",
      "{'testlen': 21600, 'reflen': 17981, 'guess': [21600, 21120, 20640, 20160], 'correct': [7000, 2234, 759, 323]}\n",
      "ratio: 1.201268005116445\n"
     ]
    },
    {
     "name": "stderr",
     "output_type": "stream",
     "text": [
      "\r",
      " 82%|████████▏ | 823/1000 [3:00:31<48:15, 16.36s/it]"
     ]
    },
    {
     "name": "stdout",
     "output_type": "stream",
     "text": [
      "sample: 823\n",
      "(480, 15) (480, 15)\n",
      "{'testlen': 21600, 'reflen': 17993, 'guess': [21600, 21120, 20640, 20160], 'correct': [7144, 2299, 811, 389]}\n",
      "ratio: 1.2004668482186849\n"
     ]
    },
    {
     "name": "stderr",
     "output_type": "stream",
     "text": [
      "\r",
      " 82%|████████▏ | 824/1000 [3:00:45<46:29, 15.85s/it]"
     ]
    },
    {
     "name": "stdout",
     "output_type": "stream",
     "text": [
      "sample: 824\n",
      "(480, 15) (480, 15)\n",
      "{'testlen': 21600, 'reflen': 18835, 'guess': [21600, 21120, 20640, 20160], 'correct': [7359, 2346, 776, 339]}\n",
      "ratio: 1.1468011680381658\n"
     ]
    },
    {
     "name": "stderr",
     "output_type": "stream",
     "text": [
      "\r",
      " 82%|████████▎ | 825/1000 [3:01:01<45:33, 15.62s/it]"
     ]
    },
    {
     "name": "stdout",
     "output_type": "stream",
     "text": [
      "sample: 825\n",
      "(480, 15) (480, 15)\n",
      "{'testlen': 21600, 'reflen': 18116, 'guess': [21600, 21120, 20640, 20160], 'correct': [7132, 2244, 805, 400]}\n",
      "ratio: 1.1923161845881434\n"
     ]
    },
    {
     "name": "stderr",
     "output_type": "stream",
     "text": [
      "\r",
      " 83%|████████▎ | 826/1000 [3:01:17<45:41, 15.76s/it]"
     ]
    },
    {
     "name": "stdout",
     "output_type": "stream",
     "text": [
      "sample: 826\n",
      "(480, 15) (480, 15)\n",
      "{'testlen': 21600, 'reflen': 18484, 'guess': [21600, 21120, 20640, 20160], 'correct': [7001, 2145, 664, 273]}\n",
      "ratio: 1.168578229820322\n"
     ]
    },
    {
     "name": "stderr",
     "output_type": "stream",
     "text": [
      "\r",
      " 83%|████████▎ | 827/1000 [3:01:33<46:09, 16.01s/it]"
     ]
    },
    {
     "name": "stdout",
     "output_type": "stream",
     "text": [
      "sample: 827\n",
      "(480, 15) (480, 15)\n",
      "{'testlen': 21600, 'reflen': 18022, 'guess': [21600, 21120, 20640, 20160], 'correct': [6996, 2085, 618, 233]}\n",
      "ratio: 1.1985351237375874\n"
     ]
    },
    {
     "name": "stderr",
     "output_type": "stream",
     "text": [
      "\r",
      " 83%|████████▎ | 828/1000 [3:01:49<45:28, 15.87s/it]"
     ]
    },
    {
     "name": "stdout",
     "output_type": "stream",
     "text": [
      "sample: 828\n",
      "(480, 15) (480, 15)\n",
      "{'testlen': 21600, 'reflen': 18014, 'guess': [21600, 21120, 20640, 20160], 'correct': [7239, 2303, 784, 357]}\n",
      "ratio: 1.1990673920283557\n"
     ]
    },
    {
     "name": "stderr",
     "output_type": "stream",
     "text": [
      "\r",
      " 83%|████████▎ | 829/1000 [3:02:04<44:31, 15.62s/it]"
     ]
    },
    {
     "name": "stdout",
     "output_type": "stream",
     "text": [
      "sample: 829\n",
      "(480, 15) (480, 15)\n",
      "{'testlen': 21600, 'reflen': 18309, 'guess': [21600, 21120, 20640, 20160], 'correct': [7058, 2221, 733, 317]}\n",
      "ratio: 1.1797476650826817\n"
     ]
    },
    {
     "name": "stderr",
     "output_type": "stream",
     "text": [
      "\r",
      " 83%|████████▎ | 830/1000 [3:02:20<45:02, 15.90s/it]"
     ]
    },
    {
     "name": "stdout",
     "output_type": "stream",
     "text": [
      "sample: 830\n",
      "(480, 15) (480, 15)\n",
      "{'testlen': 21600, 'reflen': 18166, 'guess': [21600, 21120, 20640, 20160], 'correct': [7176, 2269, 725, 290]}\n",
      "ratio: 1.1890344599801173\n"
     ]
    },
    {
     "name": "stderr",
     "output_type": "stream",
     "text": [
      "\r",
      " 83%|████████▎ | 831/1000 [3:02:36<44:28, 15.79s/it]"
     ]
    },
    {
     "name": "stdout",
     "output_type": "stream",
     "text": [
      "sample: 831\n",
      "(480, 15) (480, 15)\n",
      "{'testlen': 21600, 'reflen': 18313, 'guess': [21600, 21120, 20640, 20160], 'correct': [7277, 2303, 762, 332]}\n",
      "ratio: 1.179489979795709\n"
     ]
    },
    {
     "name": "stderr",
     "output_type": "stream",
     "text": [
      "\r",
      " 83%|████████▎ | 832/1000 [3:02:51<43:53, 15.68s/it]"
     ]
    },
    {
     "name": "stdout",
     "output_type": "stream",
     "text": [
      "sample: 832\n",
      "(480, 15) (480, 15)\n",
      "{'testlen': 21600, 'reflen': 17848, 'guess': [21600, 21120, 20640, 20160], 'correct': [7230, 2226, 695, 278]}\n",
      "ratio: 1.2102196324517476\n"
     ]
    },
    {
     "name": "stderr",
     "output_type": "stream",
     "text": [
      "\r",
      " 83%|████████▎ | 833/1000 [3:03:07<44:03, 15.83s/it]"
     ]
    },
    {
     "name": "stdout",
     "output_type": "stream",
     "text": [
      "sample: 833\n",
      "(480, 15) (480, 15)\n",
      "{'testlen': 21600, 'reflen': 17559, 'guess': [21600, 21120, 20640, 20160], 'correct': [7113, 2203, 689, 277]}\n",
      "ratio: 1.230138390568869\n"
     ]
    },
    {
     "name": "stderr",
     "output_type": "stream",
     "text": [
      "\r",
      " 83%|████████▎ | 834/1000 [3:03:23<43:46, 15.82s/it]"
     ]
    },
    {
     "name": "stdout",
     "output_type": "stream",
     "text": [
      "sample: 834\n",
      "(480, 15) (480, 15)\n",
      "{'testlen': 21600, 'reflen': 17759, 'guess': [21600, 21120, 20640, 20160], 'correct': [7141, 2304, 786, 359]}\n",
      "ratio: 1.216284700715062\n"
     ]
    },
    {
     "name": "stderr",
     "output_type": "stream",
     "text": [
      "\r",
      " 84%|████████▎ | 835/1000 [3:03:41<45:03, 16.38s/it]"
     ]
    },
    {
     "name": "stdout",
     "output_type": "stream",
     "text": [
      "sample: 835\n",
      "(480, 15) (480, 15)\n",
      "{'testlen': 21600, 'reflen': 17592, 'guess': [21600, 21120, 20640, 20160], 'correct': [7065, 2206, 730, 294]}\n",
      "ratio: 1.2278308321963831\n"
     ]
    },
    {
     "name": "stderr",
     "output_type": "stream",
     "text": [
      "\r",
      " 84%|████████▎ | 836/1000 [3:03:58<45:22, 16.60s/it]"
     ]
    },
    {
     "name": "stdout",
     "output_type": "stream",
     "text": [
      "sample: 836\n",
      "(480, 15) (480, 15)\n",
      "{'testlen': 21600, 'reflen': 18040, 'guess': [21600, 21120, 20640, 20160], 'correct': [7199, 2403, 835, 396]}\n",
      "ratio: 1.1973392461196675\n"
     ]
    },
    {
     "name": "stderr",
     "output_type": "stream",
     "text": [
      "\r",
      " 84%|████████▎ | 837/1000 [3:04:14<44:32, 16.40s/it]"
     ]
    },
    {
     "name": "stdout",
     "output_type": "stream",
     "text": [
      "sample: 837\n",
      "(480, 15) (480, 15)\n",
      "{'testlen': 21600, 'reflen': 18802, 'guess': [21600, 21120, 20640, 20160], 'correct': [7176, 2158, 667, 262]}\n",
      "ratio: 1.1488139559620705\n"
     ]
    },
    {
     "name": "stderr",
     "output_type": "stream",
     "text": [
      "\r",
      " 84%|████████▍ | 838/1000 [3:04:30<43:44, 16.20s/it]"
     ]
    },
    {
     "name": "stdout",
     "output_type": "stream",
     "text": [
      "sample: 838\n",
      "(480, 15) (480, 15)\n",
      "{'testlen': 21600, 'reflen': 18568, 'guess': [21600, 21120, 20640, 20160], 'correct': [7135, 2227, 737, 318]}\n",
      "ratio: 1.163291684618636\n"
     ]
    },
    {
     "name": "stderr",
     "output_type": "stream",
     "text": [
      "\r",
      " 84%|████████▍ | 839/1000 [3:04:46<43:32, 16.22s/it]"
     ]
    },
    {
     "name": "stdout",
     "output_type": "stream",
     "text": [
      "sample: 839\n",
      "(480, 15) (480, 15)\n",
      "{'testlen': 21600, 'reflen': 18452, 'guess': [21600, 21120, 20640, 20160], 'correct': [7302, 2450, 897, 450]}\n",
      "ratio: 1.170604812486388\n"
     ]
    },
    {
     "name": "stderr",
     "output_type": "stream",
     "text": [
      "\r",
      " 84%|████████▍ | 840/1000 [3:05:01<42:40, 16.00s/it]"
     ]
    },
    {
     "name": "stdout",
     "output_type": "stream",
     "text": [
      "sample: 840\n",
      "(480, 15) (480, 15)\n",
      "{'testlen': 21600, 'reflen': 18395, 'guess': [21600, 21120, 20640, 20160], 'correct': [7188, 2322, 801, 357]}\n",
      "ratio: 1.1742321282956687\n"
     ]
    },
    {
     "name": "stderr",
     "output_type": "stream",
     "text": [
      "\r",
      " 84%|████████▍ | 841/1000 [3:05:17<42:22, 15.99s/it]"
     ]
    },
    {
     "name": "stdout",
     "output_type": "stream",
     "text": [
      "sample: 841\n",
      "(480, 15) (480, 15)\n",
      "{'testlen': 21600, 'reflen': 17555, 'guess': [21600, 21120, 20640, 20160], 'correct': [7202, 2333, 851, 419]}\n",
      "ratio: 1.2304186841355038\n"
     ]
    },
    {
     "name": "stderr",
     "output_type": "stream",
     "text": [
      "\r",
      " 84%|████████▍ | 842/1000 [3:05:33<41:37, 15.80s/it]"
     ]
    },
    {
     "name": "stdout",
     "output_type": "stream",
     "text": [
      "sample: 842\n",
      "(480, 15) (480, 15)\n",
      "{'testlen': 21600, 'reflen': 17831, 'guess': [21600, 21120, 20640, 20160], 'correct': [7198, 2311, 783, 356]}\n",
      "ratio: 1.2113734507318035\n"
     ]
    },
    {
     "name": "stderr",
     "output_type": "stream",
     "text": [
      "\r",
      " 84%|████████▍ | 843/1000 [3:05:48<40:52, 15.62s/it]"
     ]
    },
    {
     "name": "stdout",
     "output_type": "stream",
     "text": [
      "sample: 843\n",
      "(480, 15) (480, 15)\n",
      "{'testlen': 21600, 'reflen': 18784, 'guess': [21600, 21120, 20640, 20160], 'correct': [7178, 2205, 711, 293]}\n",
      "ratio: 1.1499148211243\n"
     ]
    },
    {
     "name": "stderr",
     "output_type": "stream",
     "text": [
      "\r",
      " 84%|████████▍ | 844/1000 [3:06:04<41:12, 15.85s/it]"
     ]
    },
    {
     "name": "stdout",
     "output_type": "stream",
     "text": [
      "sample: 844\n",
      "(480, 15) (480, 15)\n",
      "{'testlen': 21600, 'reflen': 18414, 'guess': [21600, 21120, 20640, 20160], 'correct': [7128, 2139, 693, 305]}\n",
      "ratio: 1.1730205278591739\n"
     ]
    },
    {
     "name": "stderr",
     "output_type": "stream",
     "text": [
      "\r",
      " 84%|████████▍ | 845/1000 [3:06:20<40:31, 15.69s/it]"
     ]
    },
    {
     "name": "stdout",
     "output_type": "stream",
     "text": [
      "sample: 845\n",
      "(480, 15) (480, 15)\n",
      "{'testlen': 21600, 'reflen': 17957, 'guess': [21600, 21120, 20640, 20160], 'correct': [7201, 2303, 801, 376]}\n",
      "ratio: 1.2028735312133874\n"
     ]
    },
    {
     "name": "stderr",
     "output_type": "stream",
     "text": [
      "\r",
      " 85%|████████▍ | 846/1000 [3:06:36<40:34, 15.81s/it]"
     ]
    },
    {
     "name": "stdout",
     "output_type": "stream",
     "text": [
      "sample: 846\n",
      "(480, 15) (480, 15)\n",
      "{'testlen': 21600, 'reflen': 18204, 'guess': [21600, 21120, 20640, 20160], 'correct': [7120, 2209, 721, 318]}\n",
      "ratio: 1.186552406064536\n"
     ]
    },
    {
     "name": "stderr",
     "output_type": "stream",
     "text": [
      "\r",
      " 85%|████████▍ | 847/1000 [3:06:51<39:36, 15.54s/it]"
     ]
    },
    {
     "name": "stdout",
     "output_type": "stream",
     "text": [
      "sample: 847\n",
      "(480, 15) (480, 15)\n",
      "{'testlen': 21600, 'reflen': 17870, 'guess': [21600, 21120, 20640, 20160], 'correct': [7159, 2237, 719, 300]}\n",
      "ratio: 1.2087297146054163\n"
     ]
    },
    {
     "name": "stderr",
     "output_type": "stream",
     "text": [
      "\r",
      " 85%|████████▍ | 848/1000 [3:07:07<40:17, 15.91s/it]"
     ]
    },
    {
     "name": "stdout",
     "output_type": "stream",
     "text": [
      "sample: 848\n",
      "(480, 15) (480, 15)\n",
      "{'testlen': 21600, 'reflen': 17933, 'guess': [21600, 21120, 20640, 20160], 'correct': [7193, 2315, 778, 347]}\n",
      "ratio: 1.204483354709128\n"
     ]
    },
    {
     "name": "stderr",
     "output_type": "stream",
     "text": [
      "\r",
      " 85%|████████▍ | 849/1000 [3:07:23<40:03, 15.92s/it]"
     ]
    },
    {
     "name": "stdout",
     "output_type": "stream",
     "text": [
      "sample: 849\n",
      "(480, 15) (480, 15)\n",
      "{'testlen': 21600, 'reflen': 18330, 'guess': [21600, 21120, 20640, 20160], 'correct': [7109, 2137, 685, 262]}\n",
      "ratio: 1.1783960720130289\n"
     ]
    },
    {
     "name": "stderr",
     "output_type": "stream",
     "text": [
      "\r",
      " 85%|████████▌ | 850/1000 [3:07:39<39:37, 15.85s/it]"
     ]
    },
    {
     "name": "stdout",
     "output_type": "stream",
     "text": [
      "sample: 850\n",
      "(480, 15) (480, 15)\n",
      "{'testlen': 21600, 'reflen': 18794, 'guess': [21600, 21120, 20640, 20160], 'correct': [7391, 2295, 791, 346]}\n",
      "ratio: 1.1493029690326089\n"
     ]
    },
    {
     "name": "stderr",
     "output_type": "stream",
     "text": [
      "\r",
      " 85%|████████▌ | 851/1000 [3:07:56<40:05, 16.14s/it]"
     ]
    },
    {
     "name": "stdout",
     "output_type": "stream",
     "text": [
      "sample: 851\n",
      "(480, 15) (480, 15)\n",
      "{'testlen': 21600, 'reflen': 17716, 'guess': [21600, 21120, 20640, 20160], 'correct': [7118, 2250, 733, 318]}\n",
      "ratio: 1.2192368480468943\n"
     ]
    },
    {
     "name": "stderr",
     "output_type": "stream",
     "text": [
      "\r",
      " 85%|████████▌ | 852/1000 [3:08:11<39:14, 15.91s/it]"
     ]
    },
    {
     "name": "stdout",
     "output_type": "stream",
     "text": [
      "sample: 852\n",
      "(480, 15) (480, 15)\n",
      "{'testlen': 21600, 'reflen': 19010, 'guess': [21600, 21120, 20640, 20160], 'correct': [7250, 2229, 761, 349]}\n",
      "ratio: 1.1362440820620128\n"
     ]
    },
    {
     "name": "stderr",
     "output_type": "stream",
     "text": [
      "\r",
      " 85%|████████▌ | 853/1000 [3:08:27<39:02, 15.93s/it]"
     ]
    },
    {
     "name": "stdout",
     "output_type": "stream",
     "text": [
      "sample: 853\n",
      "(480, 15) (480, 15)\n",
      "{'testlen': 21600, 'reflen': 18412, 'guess': [21600, 21120, 20640, 20160], 'correct': [7207, 2326, 865, 437]}\n",
      "ratio: 1.173147946991029\n"
     ]
    },
    {
     "name": "stderr",
     "output_type": "stream",
     "text": [
      "\r",
      " 85%|████████▌ | 854/1000 [3:08:43<38:58, 16.01s/it]"
     ]
    },
    {
     "name": "stdout",
     "output_type": "stream",
     "text": [
      "sample: 854\n",
      "(480, 15) (480, 15)\n",
      "{'testlen': 21600, 'reflen': 18448, 'guess': [21600, 21120, 20640, 20160], 'correct': [7246, 2269, 739, 298]}\n",
      "ratio: 1.1708586296616885\n"
     ]
    },
    {
     "name": "stderr",
     "output_type": "stream",
     "text": [
      "\r",
      " 86%|████████▌ | 855/1000 [3:08:59<38:40, 16.00s/it]"
     ]
    },
    {
     "name": "stdout",
     "output_type": "stream",
     "text": [
      "sample: 855\n",
      "(480, 15) (480, 15)\n",
      "{'testlen': 21600, 'reflen': 18656, 'guess': [21600, 21120, 20640, 20160], 'correct': [7098, 2180, 713, 309]}\n",
      "ratio: 1.15780445969119\n"
     ]
    },
    {
     "name": "stderr",
     "output_type": "stream",
     "text": [
      "\r",
      " 86%|████████▌ | 856/1000 [3:09:14<37:26, 15.60s/it]"
     ]
    },
    {
     "name": "stdout",
     "output_type": "stream",
     "text": [
      "sample: 856\n",
      "(480, 15) (480, 15)\n",
      "{'testlen': 21600, 'reflen': 17920, 'guess': [21600, 21120, 20640, 20160], 'correct': [6940, 2147, 657, 262]}\n",
      "ratio: 1.2053571428570755\n"
     ]
    },
    {
     "name": "stderr",
     "output_type": "stream",
     "text": [
      "\r",
      " 86%|████████▌ | 857/1000 [3:09:30<37:38, 15.79s/it]"
     ]
    },
    {
     "name": "stdout",
     "output_type": "stream",
     "text": [
      "sample: 857\n",
      "(480, 15) (480, 15)\n",
      "{'testlen': 21600, 'reflen': 18371, 'guess': [21600, 21120, 20640, 20160], 'correct': [7262, 2323, 800, 371]}\n",
      "ratio: 1.1757661531761376\n"
     ]
    },
    {
     "name": "stderr",
     "output_type": "stream",
     "text": [
      "\r",
      " 86%|████████▌ | 858/1000 [3:09:46<37:24, 15.81s/it]"
     ]
    },
    {
     "name": "stdout",
     "output_type": "stream",
     "text": [
      "sample: 858\n",
      "(480, 15) (480, 15)\n",
      "{'testlen': 21600, 'reflen': 18226, 'guess': [21600, 21120, 20640, 20160], 'correct': [7111, 2223, 747, 329]}\n",
      "ratio: 1.185120158015956\n"
     ]
    },
    {
     "name": "stderr",
     "output_type": "stream",
     "text": [
      "\r",
      " 86%|████████▌ | 859/1000 [3:10:02<37:10, 15.82s/it]"
     ]
    },
    {
     "name": "stdout",
     "output_type": "stream",
     "text": [
      "sample: 859\n",
      "(480, 15) (480, 15)\n",
      "{'testlen': 21600, 'reflen': 18262, 'guess': [21600, 21120, 20640, 20160], 'correct': [7078, 2204, 738, 326]}\n",
      "ratio: 1.1827839228999462\n"
     ]
    },
    {
     "name": "stderr",
     "output_type": "stream",
     "text": [
      "\r",
      " 86%|████████▌ | 860/1000 [3:10:17<36:36, 15.69s/it]"
     ]
    },
    {
     "name": "stdout",
     "output_type": "stream",
     "text": [
      "sample: 860\n",
      "(480, 15) (480, 15)\n",
      "{'testlen': 21600, 'reflen': 18034, 'guess': [21600, 21120, 20640, 20160], 'correct': [7053, 2174, 700, 298]}\n",
      "ratio: 1.1977376067427528\n"
     ]
    },
    {
     "name": "stderr",
     "output_type": "stream",
     "text": [
      "\r",
      " 86%|████████▌ | 861/1000 [3:10:34<36:47, 15.88s/it]"
     ]
    },
    {
     "name": "stdout",
     "output_type": "stream",
     "text": [
      "sample: 861\n",
      "(480, 15) (480, 15)\n",
      "{'testlen': 21600, 'reflen': 18378, 'guess': [21600, 21120, 20640, 20160], 'correct': [7141, 2292, 827, 416]}\n",
      "ratio: 1.1753183153770173\n"
     ]
    },
    {
     "name": "stderr",
     "output_type": "stream",
     "text": [
      "\r",
      " 86%|████████▌ | 862/1000 [3:10:50<36:31, 15.88s/it]"
     ]
    },
    {
     "name": "stdout",
     "output_type": "stream",
     "text": [
      "sample: 862\n",
      "(480, 15) (480, 15)\n",
      "{'testlen': 21600, 'reflen': 18095, 'guess': [21600, 21120, 20640, 20160], 'correct': [7218, 2284, 812, 381]}\n",
      "ratio: 1.1936999171041065\n"
     ]
    },
    {
     "name": "stderr",
     "output_type": "stream",
     "text": [
      "\r",
      " 86%|████████▋ | 863/1000 [3:11:05<35:53, 15.72s/it]"
     ]
    },
    {
     "name": "stdout",
     "output_type": "stream",
     "text": [
      "sample: 863\n",
      "(480, 15) (480, 15)\n",
      "{'testlen': 21600, 'reflen': 18274, 'guess': [21600, 21120, 20640, 20160], 'correct': [7061, 2201, 725, 315]}\n",
      "ratio: 1.1820072233774115\n"
     ]
    },
    {
     "name": "stderr",
     "output_type": "stream",
     "text": [
      "\r",
      " 86%|████████▋ | 864/1000 [3:11:20<35:15, 15.56s/it]"
     ]
    },
    {
     "name": "stdout",
     "output_type": "stream",
     "text": [
      "sample: 864\n",
      "(480, 15) (480, 15)\n",
      "{'testlen': 21600, 'reflen': 18788, 'guess': [21600, 21120, 20640, 20160], 'correct': [7273, 2324, 828, 406]}\n",
      "ratio: 1.1496700021289572\n"
     ]
    },
    {
     "name": "stderr",
     "output_type": "stream",
     "text": [
      "\r",
      " 86%|████████▋ | 865/1000 [3:11:36<35:06, 15.61s/it]"
     ]
    },
    {
     "name": "stdout",
     "output_type": "stream",
     "text": [
      "sample: 865\n",
      "(480, 15) (480, 15)\n",
      "{'testlen': 21600, 'reflen': 17768, 'guess': [21600, 21120, 20640, 20160], 'correct': [7199, 2342, 825, 379]}\n",
      "ratio: 1.2156686177396885\n"
     ]
    },
    {
     "name": "stderr",
     "output_type": "stream",
     "text": [
      "\r",
      " 87%|████████▋ | 866/1000 [3:11:53<35:32, 15.91s/it]"
     ]
    },
    {
     "name": "stdout",
     "output_type": "stream",
     "text": [
      "sample: 866\n",
      "(480, 15) (480, 15)\n",
      "{'testlen': 21600, 'reflen': 18021, 'guess': [21600, 21120, 20640, 20160], 'correct': [7155, 2310, 817, 409]}\n",
      "ratio: 1.1986016314299317\n"
     ]
    },
    {
     "name": "stderr",
     "output_type": "stream",
     "text": [
      "\r",
      " 87%|████████▋ | 867/1000 [3:12:08<34:52, 15.73s/it]"
     ]
    },
    {
     "name": "stdout",
     "output_type": "stream",
     "text": [
      "sample: 867\n",
      "(480, 15) (480, 15)\n",
      "{'testlen': 21600, 'reflen': 19084, 'guess': [21600, 21120, 20640, 20160], 'correct': [7269, 2226, 701, 285]}\n",
      "ratio: 1.1318381890588383\n"
     ]
    },
    {
     "name": "stderr",
     "output_type": "stream",
     "text": [
      "\r",
      " 87%|████████▋ | 868/1000 [3:12:24<35:03, 15.93s/it]"
     ]
    },
    {
     "name": "stdout",
     "output_type": "stream",
     "text": [
      "sample: 868\n",
      "(480, 15) (480, 15)\n",
      "{'testlen': 21600, 'reflen': 18789, 'guess': [21600, 21120, 20640, 20160], 'correct': [7240, 2217, 743, 320]}\n",
      "ratio: 1.1496088136675102\n"
     ]
    },
    {
     "name": "stderr",
     "output_type": "stream",
     "text": [
      "\r",
      " 87%|████████▋ | 869/1000 [3:12:40<34:31, 15.81s/it]"
     ]
    },
    {
     "name": "stdout",
     "output_type": "stream",
     "text": [
      "sample: 869\n",
      "(480, 15) (480, 15)\n",
      "{'testlen': 21600, 'reflen': 17829, 'guess': [21600, 21120, 20640, 20160], 'correct': [7244, 2320, 802, 378]}\n",
      "ratio: 1.2115093387177513\n"
     ]
    },
    {
     "name": "stderr",
     "output_type": "stream",
     "text": [
      "\r",
      " 87%|████████▋ | 870/1000 [3:12:58<35:31, 16.39s/it]"
     ]
    },
    {
     "name": "stdout",
     "output_type": "stream",
     "text": [
      "sample: 870\n",
      "(480, 15) (480, 15)\n",
      "{'testlen': 21600, 'reflen': 18462, 'guess': [21600, 21120, 20640, 20160], 'correct': [7101, 2158, 670, 281]}\n",
      "ratio: 1.1699707507311683\n"
     ]
    },
    {
     "name": "stderr",
     "output_type": "stream",
     "text": [
      "\r",
      " 87%|████████▋ | 871/1000 [3:13:13<34:58, 16.27s/it]"
     ]
    },
    {
     "name": "stdout",
     "output_type": "stream",
     "text": [
      "sample: 871\n",
      "(480, 15) (480, 15)\n",
      "{'testlen': 21600, 'reflen': 18128, 'guess': [21600, 21120, 20640, 20160], 'correct': [7299, 2325, 741, 319]}\n",
      "ratio: 1.1915269196821938\n"
     ]
    },
    {
     "name": "stderr",
     "output_type": "stream",
     "text": [
      "\r",
      " 87%|████████▋ | 872/1000 [3:13:29<34:32, 16.19s/it]"
     ]
    },
    {
     "name": "stdout",
     "output_type": "stream",
     "text": [
      "sample: 872\n",
      "(480, 15) (480, 15)\n",
      "{'testlen': 21600, 'reflen': 18493, 'guess': [21600, 21120, 20640, 20160], 'correct': [7125, 2154, 688, 279]}\n",
      "ratio: 1.1680095171145206\n"
     ]
    },
    {
     "name": "stderr",
     "output_type": "stream",
     "text": [
      "\r",
      " 87%|████████▋ | 873/1000 [3:13:46<34:12, 16.17s/it]"
     ]
    },
    {
     "name": "stdout",
     "output_type": "stream",
     "text": [
      "sample: 873\n",
      "(480, 15) (480, 15)\n",
      "{'testlen': 21600, 'reflen': 18255, 'guess': [21600, 21120, 20640, 20160], 'correct': [7104, 2214, 747, 323]}\n",
      "ratio: 1.1832374691864593\n"
     ]
    },
    {
     "name": "stderr",
     "output_type": "stream",
     "text": [
      "\r",
      " 87%|████████▋ | 874/1000 [3:14:02<33:55, 16.15s/it]"
     ]
    },
    {
     "name": "stdout",
     "output_type": "stream",
     "text": [
      "sample: 874\n",
      "(480, 15) (480, 15)\n",
      "{'testlen': 21600, 'reflen': 18605, 'guess': [21600, 21120, 20640, 20160], 'correct': [7134, 2204, 768, 368]}\n",
      "ratio: 1.1609782316580939\n"
     ]
    },
    {
     "name": "stderr",
     "output_type": "stream",
     "text": [
      "\r",
      " 88%|████████▊ | 875/1000 [3:14:18<33:45, 16.20s/it]"
     ]
    },
    {
     "name": "stdout",
     "output_type": "stream",
     "text": [
      "sample: 875\n",
      "(480, 15) (480, 15)\n",
      "{'testlen': 21600, 'reflen': 18785, 'guess': [21600, 21120, 20640, 20160], 'correct': [7213, 2238, 757, 334]}\n",
      "ratio: 1.1498536066009502\n"
     ]
    },
    {
     "name": "stderr",
     "output_type": "stream",
     "text": [
      "\r",
      " 88%|████████▊ | 876/1000 [3:14:35<33:40, 16.29s/it]"
     ]
    },
    {
     "name": "stdout",
     "output_type": "stream",
     "text": [
      "sample: 876\n",
      "(480, 15) (480, 15)\n",
      "{'testlen': 21600, 'reflen': 18302, 'guess': [21600, 21120, 20640, 20160], 'correct': [7212, 2319, 821, 399]}\n",
      "ratio: 1.1801988853676548\n"
     ]
    },
    {
     "name": "stderr",
     "output_type": "stream",
     "text": [
      "\r",
      " 88%|████████▊ | 877/1000 [3:14:51<33:45, 16.47s/it]"
     ]
    },
    {
     "name": "stdout",
     "output_type": "stream",
     "text": [
      "sample: 877\n",
      "(480, 15) (480, 15)\n",
      "{'testlen': 21600, 'reflen': 17814, 'guess': [21600, 21120, 20640, 20160], 'correct': [7220, 2371, 788, 349]}\n",
      "ratio: 1.2125294712023569\n"
     ]
    },
    {
     "name": "stderr",
     "output_type": "stream",
     "text": [
      "\r",
      " 88%|████████▊ | 878/1000 [3:15:08<33:24, 16.43s/it]"
     ]
    },
    {
     "name": "stdout",
     "output_type": "stream",
     "text": [
      "sample: 878\n",
      "(480, 15) (480, 15)\n",
      "{'testlen': 21600, 'reflen': 18450, 'guess': [21600, 21120, 20640, 20160], 'correct': [7040, 2089, 615, 234]}\n",
      "ratio: 1.1707317073170096\n"
     ]
    },
    {
     "name": "stderr",
     "output_type": "stream",
     "text": [
      "\r",
      " 88%|████████▊ | 879/1000 [3:15:24<33:05, 16.41s/it]"
     ]
    },
    {
     "name": "stdout",
     "output_type": "stream",
     "text": [
      "sample: 879\n",
      "(480, 15) (480, 15)\n",
      "{'testlen': 21600, 'reflen': 18364, 'guess': [21600, 21120, 20640, 20160], 'correct': [7092, 2283, 730, 285]}\n",
      "ratio: 1.1762143323893937\n"
     ]
    },
    {
     "name": "stderr",
     "output_type": "stream",
     "text": [
      "\r",
      " 88%|████████▊ | 880/1000 [3:15:40<32:33, 16.28s/it]"
     ]
    },
    {
     "name": "stdout",
     "output_type": "stream",
     "text": [
      "sample: 880\n",
      "(480, 15) (480, 15)\n",
      "{'testlen': 21600, 'reflen': 18391, 'guess': [21600, 21120, 20640, 20160], 'correct': [7176, 2253, 765, 355]}\n",
      "ratio: 1.1744875210700247\n"
     ]
    },
    {
     "name": "stderr",
     "output_type": "stream",
     "text": [
      "\r",
      " 88%|████████▊ | 881/1000 [3:15:57<32:24, 16.34s/it]"
     ]
    },
    {
     "name": "stdout",
     "output_type": "stream",
     "text": [
      "sample: 881\n",
      "(480, 15) (480, 15)\n",
      "{'testlen': 21600, 'reflen': 18118, 'guess': [21600, 21120, 20640, 20160], 'correct': [7198, 2371, 909, 474]}\n",
      "ratio: 1.1921845678330283\n"
     ]
    },
    {
     "name": "stderr",
     "output_type": "stream",
     "text": [
      "\r",
      " 88%|████████▊ | 882/1000 [3:16:12<31:24, 15.97s/it]"
     ]
    },
    {
     "name": "stdout",
     "output_type": "stream",
     "text": [
      "sample: 882\n",
      "(480, 15) (480, 15)\n",
      "{'testlen': 21600, 'reflen': 17660, 'guess': [21600, 21120, 20640, 20160], 'correct': [7103, 2219, 712, 273]}\n",
      "ratio: 1.223103057757575\n"
     ]
    },
    {
     "name": "stderr",
     "output_type": "stream",
     "text": [
      "\r",
      " 88%|████████▊ | 883/1000 [3:16:27<30:51, 15.83s/it]"
     ]
    },
    {
     "name": "stdout",
     "output_type": "stream",
     "text": [
      "sample: 883\n",
      "(480, 15) (480, 15)\n",
      "{'testlen': 21600, 'reflen': 17703, 'guess': [21600, 21120, 20640, 20160], 'correct': [7194, 2272, 745, 322]}\n",
      "ratio: 1.2201321809862045\n"
     ]
    },
    {
     "name": "stderr",
     "output_type": "stream",
     "text": [
      "\r",
      " 88%|████████▊ | 884/1000 [3:16:43<30:39, 15.86s/it]"
     ]
    },
    {
     "name": "stdout",
     "output_type": "stream",
     "text": [
      "sample: 884\n",
      "(480, 15) (480, 15)\n",
      "{'testlen': 21600, 'reflen': 18392, 'guess': [21600, 21120, 20640, 20160], 'correct': [7161, 2162, 667, 264]}\n",
      "ratio: 1.174423662461876\n"
     ]
    },
    {
     "name": "stderr",
     "output_type": "stream",
     "text": [
      "\r",
      " 88%|████████▊ | 885/1000 [3:17:00<30:49, 16.08s/it]"
     ]
    },
    {
     "name": "stdout",
     "output_type": "stream",
     "text": [
      "sample: 885\n",
      "(480, 15) (480, 15)\n",
      "{'testlen': 21600, 'reflen': 17359, 'guess': [21600, 21120, 20640, 20160], 'correct': [7121, 2238, 746, 321]}\n",
      "ratio: 1.2443113082550121\n"
     ]
    },
    {
     "name": "stderr",
     "output_type": "stream",
     "text": [
      "\r",
      " 89%|████████▊ | 886/1000 [3:17:15<30:00, 15.80s/it]"
     ]
    },
    {
     "name": "stdout",
     "output_type": "stream",
     "text": [
      "sample: 886\n",
      "(480, 15) (480, 15)\n",
      "{'testlen': 21600, 'reflen': 17924, 'guess': [21600, 21120, 20640, 20160], 'correct': [7047, 2222, 748, 330]}\n",
      "ratio: 1.205088149966458\n"
     ]
    },
    {
     "name": "stderr",
     "output_type": "stream",
     "text": [
      "\r",
      " 89%|████████▊ | 887/1000 [3:17:31<30:12, 16.04s/it]"
     ]
    },
    {
     "name": "stdout",
     "output_type": "stream",
     "text": [
      "sample: 887\n",
      "(480, 15) (480, 15)\n",
      "{'testlen': 21600, 'reflen': 17919, 'guess': [21600, 21120, 20640, 20160], 'correct': [7045, 2150, 682, 290]}\n",
      "ratio: 1.205424409844232\n"
     ]
    },
    {
     "name": "stderr",
     "output_type": "stream",
     "text": [
      "\r",
      " 89%|████████▉ | 888/1000 [3:17:47<29:42, 15.91s/it]"
     ]
    },
    {
     "name": "stdout",
     "output_type": "stream",
     "text": [
      "sample: 888\n",
      "(480, 15) (480, 15)\n",
      "{'testlen': 21600, 'reflen': 18398, 'guess': [21600, 21120, 20640, 20160], 'correct': [7175, 2286, 809, 364]}\n",
      "ratio: 1.1740406565930441\n"
     ]
    },
    {
     "name": "stderr",
     "output_type": "stream",
     "text": [
      "\r",
      " 89%|████████▉ | 889/1000 [3:18:03<29:26, 15.91s/it]"
     ]
    },
    {
     "name": "stdout",
     "output_type": "stream",
     "text": [
      "sample: 889\n",
      "(480, 15) (480, 15)\n",
      "{'testlen': 21600, 'reflen': 18138, 'guess': [21600, 21120, 20640, 20160], 'correct': [7176, 2219, 711, 282]}\n",
      "ratio: 1.190869996691962\n"
     ]
    },
    {
     "name": "stderr",
     "output_type": "stream",
     "text": [
      "\r",
      " 89%|████████▉ | 890/1000 [3:18:19<28:59, 15.82s/it]"
     ]
    },
    {
     "name": "stdout",
     "output_type": "stream",
     "text": [
      "sample: 890\n",
      "(480, 15) (480, 15)\n",
      "{'testlen': 21600, 'reflen': 18615, 'guess': [21600, 21120, 20640, 20160], 'correct': [7266, 2265, 753, 318]}\n",
      "ratio: 1.1603545527799537\n"
     ]
    },
    {
     "name": "stderr",
     "output_type": "stream",
     "text": [
      "\r",
      " 89%|████████▉ | 891/1000 [3:18:35<29:03, 15.99s/it]"
     ]
    },
    {
     "name": "stdout",
     "output_type": "stream",
     "text": [
      "sample: 891\n",
      "(480, 15) (480, 15)\n",
      "{'testlen': 21600, 'reflen': 18361, 'guess': [21600, 21120, 20640, 20160], 'correct': [7245, 2335, 848, 415]}\n",
      "ratio: 1.1764065138063735\n"
     ]
    },
    {
     "name": "stderr",
     "output_type": "stream",
     "text": [
      "\r",
      " 89%|████████▉ | 892/1000 [3:18:53<29:39, 16.48s/it]"
     ]
    },
    {
     "name": "stdout",
     "output_type": "stream",
     "text": [
      "sample: 892\n",
      "(480, 15) (480, 15)\n",
      "{'testlen': 21600, 'reflen': 18369, 'guess': [21600, 21120, 20640, 20160], 'correct': [7339, 2362, 794, 362]}\n",
      "ratio: 1.1758941695246787\n"
     ]
    },
    {
     "name": "stderr",
     "output_type": "stream",
     "text": [
      "\r",
      " 89%|████████▉ | 893/1000 [3:19:09<29:28, 16.53s/it]"
     ]
    },
    {
     "name": "stdout",
     "output_type": "stream",
     "text": [
      "sample: 893\n",
      "(480, 15) (480, 15)\n",
      "{'testlen': 21600, 'reflen': 18133, 'guess': [21600, 21120, 20640, 20160], 'correct': [7120, 2242, 704, 286]}\n",
      "ratio: 1.1911983676169862\n"
     ]
    },
    {
     "name": "stderr",
     "output_type": "stream",
     "text": [
      "\r",
      " 89%|████████▉ | 894/1000 [3:19:26<29:05, 16.47s/it]"
     ]
    },
    {
     "name": "stdout",
     "output_type": "stream",
     "text": [
      "sample: 894\n",
      "(480, 15) (480, 15)\n",
      "{'testlen': 21600, 'reflen': 17892, 'guess': [21600, 21120, 20640, 20160], 'correct': [7111, 2214, 705, 287]}\n",
      "ratio: 1.20724346076452\n"
     ]
    },
    {
     "name": "stderr",
     "output_type": "stream",
     "text": [
      "\r",
      " 90%|████████▉ | 895/1000 [3:19:42<28:39, 16.37s/it]"
     ]
    },
    {
     "name": "stdout",
     "output_type": "stream",
     "text": [
      "sample: 895\n",
      "(480, 15) (480, 15)\n",
      "{'testlen': 21600, 'reflen': 17072, 'guess': [21600, 21120, 20640, 20160], 'correct': [6974, 2188, 701, 263]}\n",
      "ratio: 1.2652296157450056\n"
     ]
    },
    {
     "name": "stderr",
     "output_type": "stream",
     "text": [
      "\r",
      " 90%|████████▉ | 896/1000 [3:19:58<28:16, 16.32s/it]"
     ]
    },
    {
     "name": "stdout",
     "output_type": "stream",
     "text": [
      "sample: 896\n",
      "(480, 15) (480, 15)\n",
      "{'testlen': 21600, 'reflen': 18188, 'guess': [21600, 21120, 20640, 20160], 'correct': [7363, 2315, 753, 304]}\n",
      "ratio: 1.1875962172860575\n"
     ]
    },
    {
     "name": "stderr",
     "output_type": "stream",
     "text": [
      "\r",
      " 90%|████████▉ | 897/1000 [3:20:14<27:42, 16.14s/it]"
     ]
    },
    {
     "name": "stdout",
     "output_type": "stream",
     "text": [
      "sample: 897\n",
      "(480, 15) (480, 15)\n",
      "{'testlen': 21600, 'reflen': 17540, 'guess': [21600, 21120, 20640, 20160], 'correct': [7072, 2226, 720, 323]}\n",
      "ratio: 1.2314709236031225\n"
     ]
    },
    {
     "name": "stderr",
     "output_type": "stream",
     "text": [
      "\r",
      " 90%|████████▉ | 898/1000 [3:20:30<27:28, 16.17s/it]"
     ]
    },
    {
     "name": "stdout",
     "output_type": "stream",
     "text": [
      "sample: 898\n",
      "(480, 15) (480, 15)\n",
      "{'testlen': 21600, 'reflen': 18394, 'guess': [21600, 21120, 20640, 20160], 'correct': [7227, 2200, 689, 291]}\n",
      "ratio: 1.1742959660758305\n"
     ]
    },
    {
     "name": "stderr",
     "output_type": "stream",
     "text": [
      "\r",
      " 90%|████████▉ | 899/1000 [3:20:46<27:11, 16.15s/it]"
     ]
    },
    {
     "name": "stdout",
     "output_type": "stream",
     "text": [
      "sample: 899\n",
      "(480, 15) (480, 15)\n",
      "{'testlen': 21600, 'reflen': 17946, 'guess': [21600, 21120, 20640, 20160], 'correct': [7107, 2160, 696, 285]}\n",
      "ratio: 1.2036108324974253\n"
     ]
    },
    {
     "name": "stderr",
     "output_type": "stream",
     "text": [
      "\r",
      " 90%|█████████ | 900/1000 [3:21:02<26:49, 16.10s/it]"
     ]
    },
    {
     "name": "stdout",
     "output_type": "stream",
     "text": [
      "sample: 900\n",
      "(480, 15) (480, 15)\n",
      "{'testlen': 21600, 'reflen': 18157, 'guess': [21600, 21120, 20640, 20160], 'correct': [7192, 2229, 727, 324]}\n",
      "ratio: 1.1896238365368073\n"
     ]
    },
    {
     "name": "stderr",
     "output_type": "stream",
     "text": [
      "\r",
      " 90%|█████████ | 901/1000 [3:21:18<26:32, 16.08s/it]"
     ]
    },
    {
     "name": "stdout",
     "output_type": "stream",
     "text": [
      "sample: 901\n",
      "(480, 15) (480, 15)\n",
      "{'testlen': 21600, 'reflen': 18929, 'guess': [21600, 21120, 20640, 20160], 'correct': [7278, 2303, 805, 366]}\n",
      "ratio: 1.14110623910396\n"
     ]
    },
    {
     "name": "stderr",
     "output_type": "stream",
     "text": [
      "\r",
      " 90%|█████████ | 902/1000 [3:21:34<26:04, 15.97s/it]"
     ]
    },
    {
     "name": "stdout",
     "output_type": "stream",
     "text": [
      "sample: 902\n",
      "(480, 15) (480, 15)\n",
      "{'testlen': 21600, 'reflen': 17819, 'guess': [21600, 21120, 20640, 20160], 'correct': [7113, 2290, 838, 408]}\n",
      "ratio: 1.2121892362084734\n"
     ]
    },
    {
     "name": "stderr",
     "output_type": "stream",
     "text": [
      "\r",
      " 90%|█████████ | 903/1000 [3:21:50<25:57, 16.05s/it]"
     ]
    },
    {
     "name": "stdout",
     "output_type": "stream",
     "text": [
      "sample: 903\n",
      "(480, 15) (480, 15)\n",
      "{'testlen': 21600, 'reflen': 18308, 'guess': [21600, 21120, 20640, 20160], 'correct': [7246, 2194, 678, 282]}\n",
      "ratio: 1.1798121039981877\n"
     ]
    },
    {
     "name": "stderr",
     "output_type": "stream",
     "text": [
      "\r",
      " 90%|█████████ | 904/1000 [3:22:05<25:15, 15.79s/it]"
     ]
    },
    {
     "name": "stdout",
     "output_type": "stream",
     "text": [
      "sample: 904\n",
      "(480, 15) (480, 15)\n",
      "{'testlen': 21600, 'reflen': 18983, 'guess': [21600, 21120, 20640, 20160], 'correct': [7274, 2236, 717, 281]}\n",
      "ratio: 1.1378601906968795\n"
     ]
    },
    {
     "name": "stderr",
     "output_type": "stream",
     "text": [
      "\r",
      " 90%|█████████ | 905/1000 [3:22:28<28:16, 17.86s/it]"
     ]
    },
    {
     "name": "stdout",
     "output_type": "stream",
     "text": [
      "sample: 905\n",
      "(480, 15) (480, 15)\n",
      "{'testlen': 21600, 'reflen': 18257, 'guess': [21600, 21120, 20640, 20160], 'correct': [7203, 2246, 792, 372]}\n",
      "ratio: 1.1831078490441373\n"
     ]
    },
    {
     "name": "stderr",
     "output_type": "stream",
     "text": [
      "\r",
      " 91%|█████████ | 906/1000 [3:22:55<32:16, 20.60s/it]"
     ]
    },
    {
     "name": "stdout",
     "output_type": "stream",
     "text": [
      "sample: 906\n",
      "(480, 15) (480, 15)\n",
      "{'testlen': 21600, 'reflen': 18186, 'guess': [21600, 21120, 20640, 20160], 'correct': [7132, 2186, 720, 315]}\n",
      "ratio: 1.1877268228306836\n"
     ]
    },
    {
     "name": "stderr",
     "output_type": "stream",
     "text": [
      "\r",
      " 91%|█████████ | 907/1000 [3:23:23<35:35, 22.96s/it]"
     ]
    },
    {
     "name": "stdout",
     "output_type": "stream",
     "text": [
      "sample: 907\n",
      "(480, 15) (480, 15)\n",
      "{'testlen': 21600, 'reflen': 18730, 'guess': [21600, 21120, 20640, 20160], 'correct': [7245, 2289, 768, 326]}\n",
      "ratio: 1.1532301121195325\n"
     ]
    },
    {
     "name": "stderr",
     "output_type": "stream",
     "text": [
      "\r",
      " 91%|█████████ | 908/1000 [3:23:43<33:53, 22.10s/it]"
     ]
    },
    {
     "name": "stdout",
     "output_type": "stream",
     "text": [
      "sample: 908\n",
      "(480, 15) (480, 15)\n",
      "{'testlen': 21600, 'reflen': 18392, 'guess': [21600, 21120, 20640, 20160], 'correct': [7210, 2309, 817, 390]}\n",
      "ratio: 1.174423662461876\n"
     ]
    },
    {
     "name": "stderr",
     "output_type": "stream",
     "text": [
      "\r",
      " 91%|█████████ | 909/1000 [3:24:00<31:13, 20.59s/it]"
     ]
    },
    {
     "name": "stdout",
     "output_type": "stream",
     "text": [
      "sample: 909\n",
      "(480, 15) (480, 15)\n",
      "{'testlen': 21600, 'reflen': 18721, 'guess': [21600, 21120, 20640, 20160], 'correct': [7112, 2187, 684, 254]}\n",
      "ratio: 1.1537845200576275\n"
     ]
    },
    {
     "name": "stderr",
     "output_type": "stream",
     "text": [
      "\r",
      " 91%|█████████ | 910/1000 [3:24:16<28:50, 19.23s/it]"
     ]
    },
    {
     "name": "stdout",
     "output_type": "stream",
     "text": [
      "sample: 910\n",
      "(480, 15) (480, 15)\n",
      "{'testlen': 21600, 'reflen': 18238, 'guess': [21600, 21120, 20640, 20160], 'correct': [7336, 2491, 976, 505]}\n",
      "ratio: 1.1843403882003956\n"
     ]
    },
    {
     "name": "stderr",
     "output_type": "stream",
     "text": [
      "\r",
      " 91%|█████████ | 911/1000 [3:24:32<26:40, 17.98s/it]"
     ]
    },
    {
     "name": "stdout",
     "output_type": "stream",
     "text": [
      "sample: 911\n",
      "(480, 15) (480, 15)\n",
      "{'testlen': 21600, 'reflen': 18485, 'guess': [21600, 21120, 20640, 20160], 'correct': [7132, 2205, 683, 253]}\n",
      "ratio: 1.168515012171968\n"
     ]
    },
    {
     "name": "stderr",
     "output_type": "stream",
     "text": [
      "\r",
      " 91%|█████████ | 912/1000 [3:24:47<25:06, 17.12s/it]"
     ]
    },
    {
     "name": "stdout",
     "output_type": "stream",
     "text": [
      "sample: 912\n",
      "(480, 15) (480, 15)\n",
      "{'testlen': 21600, 'reflen': 17631, 'guess': [21600, 21120, 20640, 20160], 'correct': [7081, 2272, 804, 362]}\n",
      "ratio: 1.2251148545175414\n"
     ]
    },
    {
     "name": "stderr",
     "output_type": "stream",
     "text": [
      "\r",
      " 91%|█████████▏| 913/1000 [3:25:02<24:14, 16.72s/it]"
     ]
    },
    {
     "name": "stdout",
     "output_type": "stream",
     "text": [
      "sample: 913\n",
      "(480, 15) (480, 15)\n",
      "{'testlen': 21600, 'reflen': 18307, 'guess': [21600, 21120, 20640, 20160], 'correct': [7328, 2379, 800, 340]}\n",
      "ratio: 1.179876549953505\n"
     ]
    },
    {
     "name": "stderr",
     "output_type": "stream",
     "text": [
      "\r",
      " 91%|█████████▏| 914/1000 [3:25:18<23:26, 16.36s/it]"
     ]
    },
    {
     "name": "stdout",
     "output_type": "stream",
     "text": [
      "sample: 914\n",
      "(480, 15) (480, 15)\n",
      "{'testlen': 21600, 'reflen': 17941, 'guess': [21600, 21120, 20640, 20160], 'correct': [7085, 2240, 750, 343]}\n",
      "ratio: 1.2039462683238835\n"
     ]
    },
    {
     "name": "stderr",
     "output_type": "stream",
     "text": [
      "\r",
      " 92%|█████████▏| 915/1000 [3:25:34<22:51, 16.14s/it]"
     ]
    },
    {
     "name": "stdout",
     "output_type": "stream",
     "text": [
      "sample: 915\n",
      "(480, 15) (480, 15)\n",
      "{'testlen': 21600, 'reflen': 18087, 'guess': [21600, 21120, 20640, 20160], 'correct': [7191, 2254, 764, 331]}\n",
      "ratio: 1.1942278984905625\n"
     ]
    },
    {
     "name": "stderr",
     "output_type": "stream",
     "text": [
      "\r",
      " 92%|█████████▏| 916/1000 [3:25:50<22:32, 16.10s/it]"
     ]
    },
    {
     "name": "stdout",
     "output_type": "stream",
     "text": [
      "sample: 916\n",
      "(480, 15) (480, 15)\n",
      "{'testlen': 21600, 'reflen': 18133, 'guess': [21600, 21120, 20640, 20160], 'correct': [7250, 2317, 776, 344]}\n",
      "ratio: 1.1911983676169862\n"
     ]
    },
    {
     "name": "stderr",
     "output_type": "stream",
     "text": [
      "\r",
      " 92%|█████████▏| 917/1000 [3:26:05<22:02, 15.94s/it]"
     ]
    },
    {
     "name": "stdout",
     "output_type": "stream",
     "text": [
      "sample: 917\n",
      "(480, 15) (480, 15)\n",
      "{'testlen': 21600, 'reflen': 18311, 'guess': [21600, 21120, 20640, 20160], 'correct': [7117, 2267, 782, 369]}\n",
      "ratio: 1.1796188083664911\n"
     ]
    },
    {
     "name": "stderr",
     "output_type": "stream",
     "text": [
      "\r",
      " 92%|█████████▏| 918/1000 [3:26:21<21:36, 15.81s/it]"
     ]
    },
    {
     "name": "stdout",
     "output_type": "stream",
     "text": [
      "sample: 918\n",
      "(480, 15) (480, 15)\n",
      "{'testlen': 21600, 'reflen': 18167, 'guess': [21600, 21120, 20640, 20160], 'correct': [7158, 2298, 773, 324]}\n",
      "ratio: 1.1889690097428751\n"
     ]
    },
    {
     "name": "stderr",
     "output_type": "stream",
     "text": [
      "\r",
      " 92%|█████████▏| 919/1000 [3:26:36<21:17, 15.77s/it]"
     ]
    },
    {
     "name": "stdout",
     "output_type": "stream",
     "text": [
      "sample: 919\n",
      "(480, 15) (480, 15)\n",
      "{'testlen': 21600, 'reflen': 18063, 'guess': [21600, 21120, 20640, 20160], 'correct': [7084, 2222, 717, 282]}\n",
      "ratio: 1.1958146487293808\n"
     ]
    },
    {
     "name": "stderr",
     "output_type": "stream",
     "text": [
      "\r",
      " 92%|█████████▏| 920/1000 [3:26:52<20:59, 15.75s/it]"
     ]
    },
    {
     "name": "stdout",
     "output_type": "stream",
     "text": [
      "sample: 920\n",
      "(480, 15) (480, 15)\n",
      "{'testlen': 21600, 'reflen': 18556, 'guess': [21600, 21120, 20640, 20160], 'correct': [6967, 2075, 640, 249]}\n",
      "ratio: 1.1640439749945481\n"
     ]
    },
    {
     "name": "stderr",
     "output_type": "stream",
     "text": [
      "\r",
      " 92%|█████████▏| 921/1000 [3:27:08<20:50, 15.83s/it]"
     ]
    },
    {
     "name": "stdout",
     "output_type": "stream",
     "text": [
      "sample: 921\n",
      "(480, 15) (480, 15)\n",
      "{'testlen': 21600, 'reflen': 18803, 'guess': [21600, 21120, 20640, 20160], 'correct': [7200, 2200, 701, 277]}\n",
      "ratio: 1.1487528585863347\n"
     ]
    },
    {
     "name": "stderr",
     "output_type": "stream",
     "text": [
      "\r",
      " 92%|█████████▏| 922/1000 [3:27:23<20:19, 15.64s/it]"
     ]
    },
    {
     "name": "stdout",
     "output_type": "stream",
     "text": [
      "sample: 922\n",
      "(480, 15) (480, 15)\n",
      "{'testlen': 21600, 'reflen': 18127, 'guess': [21600, 21120, 20640, 20160], 'correct': [7220, 2248, 698, 283]}\n",
      "ratio: 1.1915926518452478\n"
     ]
    },
    {
     "name": "stderr",
     "output_type": "stream",
     "text": [
      "\r",
      " 92%|█████████▏| 923/1000 [3:27:38<19:52, 15.49s/it]"
     ]
    },
    {
     "name": "stdout",
     "output_type": "stream",
     "text": [
      "sample: 923\n",
      "(480, 15) (480, 15)\n",
      "{'testlen': 21600, 'reflen': 18955, 'guess': [21600, 21120, 20640, 20160], 'correct': [7151, 2205, 687, 270]}\n",
      "ratio: 1.1395410182009422\n"
     ]
    },
    {
     "name": "stderr",
     "output_type": "stream",
     "text": [
      "\r",
      " 92%|█████████▏| 924/1000 [3:27:54<19:39, 15.52s/it]"
     ]
    },
    {
     "name": "stdout",
     "output_type": "stream",
     "text": [
      "sample: 924\n",
      "(480, 15) (480, 15)\n",
      "{'testlen': 21600, 'reflen': 18373, 'guess': [21600, 21120, 20640, 20160], 'correct': [7054, 2170, 702, 293]}\n",
      "ratio: 1.1756381646981344\n"
     ]
    },
    {
     "name": "stderr",
     "output_type": "stream",
     "text": [
      "\r",
      " 92%|█████████▎| 925/1000 [3:28:12<20:14, 16.19s/it]"
     ]
    },
    {
     "name": "stdout",
     "output_type": "stream",
     "text": [
      "sample: 925\n",
      "(480, 15) (480, 15)\n",
      "{'testlen': 21600, 'reflen': 18149, 'guess': [21600, 21120, 20640, 20160], 'correct': [7137, 2238, 745, 308]}\n",
      "ratio: 1.1901482175325808\n"
     ]
    },
    {
     "name": "stderr",
     "output_type": "stream",
     "text": [
      "\r",
      " 93%|█████████▎| 926/1000 [3:28:27<19:40, 15.95s/it]"
     ]
    },
    {
     "name": "stdout",
     "output_type": "stream",
     "text": [
      "sample: 926\n",
      "(480, 15) (480, 15)\n",
      "{'testlen': 21600, 'reflen': 18651, 'guess': [21600, 21120, 20640, 20160], 'correct': [7124, 2295, 771, 331]}\n",
      "ratio: 1.1581148463888715\n"
     ]
    },
    {
     "name": "stderr",
     "output_type": "stream",
     "text": [
      "\r",
      " 93%|█████████▎| 927/1000 [3:28:43<19:22, 15.93s/it]"
     ]
    },
    {
     "name": "stdout",
     "output_type": "stream",
     "text": [
      "sample: 927\n",
      "(480, 15) (480, 15)\n",
      "{'testlen': 21600, 'reflen': 18325, 'guess': [21600, 21120, 20640, 20160], 'correct': [7171, 2216, 715, 285]}\n",
      "ratio: 1.1787175989085306\n"
     ]
    },
    {
     "name": "stderr",
     "output_type": "stream",
     "text": [
      "\r",
      " 93%|█████████▎| 928/1000 [3:29:00<19:30, 16.26s/it]"
     ]
    },
    {
     "name": "stdout",
     "output_type": "stream",
     "text": [
      "sample: 928\n",
      "(480, 15) (480, 15)\n",
      "{'testlen': 21600, 'reflen': 18019, 'guess': [21600, 21120, 20640, 20160], 'correct': [7174, 2212, 731, 309]}\n",
      "ratio: 1.1987346689604752\n"
     ]
    },
    {
     "name": "stderr",
     "output_type": "stream",
     "text": [
      "\r",
      " 93%|█████████▎| 929/1000 [3:29:15<18:55, 15.99s/it]"
     ]
    },
    {
     "name": "stdout",
     "output_type": "stream",
     "text": [
      "sample: 929\n",
      "(480, 15) (480, 15)\n",
      "{'testlen': 21600, 'reflen': 17455, 'guess': [21600, 21120, 20640, 20160], 'correct': [7176, 2200, 701, 294]}\n",
      "ratio: 1.2374677742766407\n"
     ]
    },
    {
     "name": "stderr",
     "output_type": "stream",
     "text": [
      "\r",
      " 93%|█████████▎| 930/1000 [3:29:31<18:37, 15.97s/it]"
     ]
    },
    {
     "name": "stdout",
     "output_type": "stream",
     "text": [
      "sample: 930\n",
      "(480, 15) (480, 15)\n",
      "{'testlen': 21600, 'reflen': 18551, 'guess': [21600, 21120, 20640, 20160], 'correct': [7314, 2445, 925, 463]}\n",
      "ratio: 1.164357716565082\n"
     ]
    },
    {
     "name": "stderr",
     "output_type": "stream",
     "text": [
      "\r",
      " 93%|█████████▎| 931/1000 [3:29:47<18:08, 15.77s/it]"
     ]
    },
    {
     "name": "stdout",
     "output_type": "stream",
     "text": [
      "sample: 931\n",
      "(480, 15) (480, 15)\n",
      "{'testlen': 21600, 'reflen': 18240, 'guess': [21600, 21120, 20640, 20160], 'correct': [7227, 2232, 705, 293]}\n",
      "ratio: 1.1842105263157245\n"
     ]
    },
    {
     "name": "stderr",
     "output_type": "stream",
     "text": [
      "\r",
      " 93%|█████████▎| 932/1000 [3:30:02<17:42, 15.62s/it]"
     ]
    },
    {
     "name": "stdout",
     "output_type": "stream",
     "text": [
      "sample: 932\n",
      "(480, 15) (480, 15)\n",
      "{'testlen': 21600, 'reflen': 17587, 'guess': [21600, 21120, 20640, 20160], 'correct': [7088, 2260, 818, 397]}\n",
      "ratio: 1.22817990561203\n"
     ]
    },
    {
     "name": "stderr",
     "output_type": "stream",
     "text": [
      "\r",
      " 93%|█████████▎| 933/1000 [3:30:18<17:39, 15.82s/it]"
     ]
    },
    {
     "name": "stdout",
     "output_type": "stream",
     "text": [
      "sample: 933\n",
      "(480, 15) (480, 15)\n",
      "{'testlen': 21600, 'reflen': 17961, 'guess': [21600, 21120, 20640, 20160], 'correct': [7114, 2195, 702, 270]}\n",
      "ratio: 1.2026056455653247\n"
     ]
    },
    {
     "name": "stderr",
     "output_type": "stream",
     "text": [
      "\r",
      " 93%|█████████▎| 934/1000 [3:30:34<17:18, 15.74s/it]"
     ]
    },
    {
     "name": "stdout",
     "output_type": "stream",
     "text": [
      "sample: 934\n",
      "(480, 15) (480, 15)\n",
      "{'testlen': 21600, 'reflen': 18449, 'guess': [21600, 21120, 20640, 20160], 'correct': [7148, 2304, 788, 346]}\n",
      "ratio: 1.1707951650495327\n"
     ]
    },
    {
     "name": "stderr",
     "output_type": "stream",
     "text": [
      "\r",
      " 94%|█████████▎| 935/1000 [3:30:51<17:25, 16.08s/it]"
     ]
    },
    {
     "name": "stdout",
     "output_type": "stream",
     "text": [
      "sample: 935\n",
      "(480, 15) (480, 15)\n",
      "{'testlen': 21600, 'reflen': 18486, 'guess': [21600, 21120, 20640, 20160], 'correct': [7006, 2106, 635, 255]}\n",
      "ratio: 1.1684518013631304\n"
     ]
    },
    {
     "name": "stderr",
     "output_type": "stream",
     "text": [
      "\r",
      " 94%|█████████▎| 936/1000 [3:31:06<16:48, 15.76s/it]"
     ]
    },
    {
     "name": "stdout",
     "output_type": "stream",
     "text": [
      "sample: 936\n",
      "(480, 15) (480, 15)\n",
      "{'testlen': 21600, 'reflen': 18274, 'guess': [21600, 21120, 20640, 20160], 'correct': [7181, 2185, 652, 256]}\n",
      "ratio: 1.1820072233774115\n"
     ]
    },
    {
     "name": "stderr",
     "output_type": "stream",
     "text": [
      "\r",
      " 94%|█████████▎| 937/1000 [3:31:23<16:58, 16.17s/it]"
     ]
    },
    {
     "name": "stdout",
     "output_type": "stream",
     "text": [
      "sample: 937\n",
      "(480, 15) (480, 15)\n",
      "{'testlen': 21600, 'reflen': 18170, 'guess': [21600, 21120, 20640, 20160], 'correct': [7209, 2213, 746, 347]}\n",
      "ratio: 1.1887727022564012\n"
     ]
    },
    {
     "name": "stderr",
     "output_type": "stream",
     "text": [
      "\r",
      " 94%|█████████▍| 938/1000 [3:31:39<16:40, 16.13s/it]"
     ]
    },
    {
     "name": "stdout",
     "output_type": "stream",
     "text": [
      "sample: 938\n",
      "(480, 15) (480, 15)\n",
      "{'testlen': 21600, 'reflen': 18338, 'guess': [21600, 21120, 20640, 20160], 'correct': [7182, 2293, 833, 400]}\n",
      "ratio: 1.1778819936742733\n"
     ]
    },
    {
     "name": "stderr",
     "output_type": "stream",
     "text": [
      "\r",
      " 94%|█████████▍| 939/1000 [3:31:54<16:12, 15.95s/it]"
     ]
    },
    {
     "name": "stdout",
     "output_type": "stream",
     "text": [
      "sample: 939\n",
      "(480, 15) (480, 15)\n",
      "{'testlen': 21600, 'reflen': 18662, 'guess': [21600, 21120, 20640, 20160], 'correct': [7246, 2335, 850, 418]}\n",
      "ratio: 1.1574322151965943\n"
     ]
    },
    {
     "name": "stderr",
     "output_type": "stream",
     "text": [
      "\r",
      " 94%|█████████▍| 940/1000 [3:32:09<15:38, 15.64s/it]"
     ]
    },
    {
     "name": "stdout",
     "output_type": "stream",
     "text": [
      "sample: 940\n",
      "(480, 15) (480, 15)\n",
      "{'testlen': 21600, 'reflen': 18114, 'guess': [21600, 21120, 20640, 20160], 'correct': [7243, 2280, 746, 324]}\n",
      "ratio: 1.1924478304073538\n"
     ]
    },
    {
     "name": "stderr",
     "output_type": "stream",
     "text": [
      "\r",
      " 94%|█████████▍| 941/1000 [3:32:26<15:43, 15.99s/it]"
     ]
    },
    {
     "name": "stdout",
     "output_type": "stream",
     "text": [
      "sample: 941\n",
      "(480, 15) (480, 15)\n",
      "{'testlen': 21600, 'reflen': 18140, 'guess': [21600, 21120, 20640, 20160], 'correct': [7099, 2267, 753, 314]}\n",
      "ratio: 1.190738699007652\n"
     ]
    },
    {
     "name": "stderr",
     "output_type": "stream",
     "text": [
      "\r",
      " 94%|█████████▍| 942/1000 [3:32:42<15:21, 15.89s/it]"
     ]
    },
    {
     "name": "stdout",
     "output_type": "stream",
     "text": [
      "sample: 942\n",
      "(480, 15) (480, 15)\n",
      "{'testlen': 21600, 'reflen': 18129, 'guess': [21600, 21120, 20640, 20160], 'correct': [7165, 2235, 714, 290]}\n",
      "ratio: 1.1914611947707434\n"
     ]
    },
    {
     "name": "stderr",
     "output_type": "stream",
     "text": [
      "\r",
      " 94%|█████████▍| 943/1000 [3:32:58<15:20, 16.15s/it]"
     ]
    },
    {
     "name": "stdout",
     "output_type": "stream",
     "text": [
      "sample: 943\n",
      "(480, 15) (480, 15)\n",
      "{'testlen': 21600, 'reflen': 17412, 'guess': [21600, 21120, 20640, 20160], 'correct': [7094, 2300, 830, 400]}\n",
      "ratio: 1.240523776705649\n"
     ]
    },
    {
     "name": "stderr",
     "output_type": "stream",
     "text": [
      "\r",
      " 94%|█████████▍| 944/1000 [3:33:13<14:41, 15.74s/it]"
     ]
    },
    {
     "name": "stdout",
     "output_type": "stream",
     "text": [
      "sample: 944\n",
      "(480, 15) (480, 15)\n",
      "{'testlen': 21600, 'reflen': 17787, 'guess': [21600, 21120, 20640, 20160], 'correct': [7263, 2356, 793, 355]}\n",
      "ratio: 1.2143700455388085\n"
     ]
    },
    {
     "name": "stderr",
     "output_type": "stream",
     "text": [
      "\r",
      " 94%|█████████▍| 945/1000 [3:33:31<15:01, 16.39s/it]"
     ]
    },
    {
     "name": "stdout",
     "output_type": "stream",
     "text": [
      "sample: 945\n",
      "(480, 15) (480, 15)\n",
      "{'testlen': 21600, 'reflen': 18664, 'guess': [21600, 21120, 20640, 20160], 'correct': [7157, 2198, 719, 304]}\n",
      "ratio: 1.1573081868837785\n"
     ]
    },
    {
     "name": "stderr",
     "output_type": "stream",
     "text": [
      "\r",
      " 95%|█████████▍| 946/1000 [3:33:50<15:18, 17.01s/it]"
     ]
    },
    {
     "name": "stdout",
     "output_type": "stream",
     "text": [
      "sample: 946\n",
      "(480, 15) (480, 15)\n",
      "{'testlen': 21600, 'reflen': 17736, 'guess': [21600, 21120, 20640, 20160], 'correct': [7222, 2313, 794, 357]}\n",
      "ratio: 1.2178619756426918\n"
     ]
    },
    {
     "name": "stderr",
     "output_type": "stream",
     "text": [
      "\r",
      " 95%|█████████▍| 947/1000 [3:34:05<14:42, 16.66s/it]"
     ]
    },
    {
     "name": "stdout",
     "output_type": "stream",
     "text": [
      "sample: 947\n",
      "(480, 15) (480, 15)\n",
      "{'testlen': 21600, 'reflen': 18045, 'guess': [21600, 21120, 20640, 20160], 'correct': [7233, 2279, 825, 421]}\n",
      "ratio: 1.1970074812966918\n"
     ]
    },
    {
     "name": "stderr",
     "output_type": "stream",
     "text": [
      "\r",
      " 95%|█████████▍| 948/1000 [3:34:22<14:24, 16.62s/it]"
     ]
    },
    {
     "name": "stdout",
     "output_type": "stream",
     "text": [
      "sample: 948\n",
      "(480, 15) (480, 15)\n",
      "{'testlen': 21600, 'reflen': 18662, 'guess': [21600, 21120, 20640, 20160], 'correct': [7251, 2235, 749, 318]}\n",
      "ratio: 1.1574322151965943\n"
     ]
    },
    {
     "name": "stderr",
     "output_type": "stream",
     "text": [
      "\r",
      " 95%|█████████▍| 949/1000 [3:34:37<13:48, 16.24s/it]"
     ]
    },
    {
     "name": "stdout",
     "output_type": "stream",
     "text": [
      "sample: 949\n",
      "(480, 15) (480, 15)\n",
      "{'testlen': 21600, 'reflen': 17530, 'guess': [21600, 21120, 20640, 20160], 'correct': [7144, 2270, 726, 299]}\n",
      "ratio: 1.2321734169993592\n"
     ]
    },
    {
     "name": "stderr",
     "output_type": "stream",
     "text": [
      "\r",
      " 95%|█████████▌| 950/1000 [3:34:53<13:16, 15.93s/it]"
     ]
    },
    {
     "name": "stdout",
     "output_type": "stream",
     "text": [
      "sample: 950\n",
      "(480, 15) (480, 15)\n",
      "{'testlen': 21600, 'reflen': 18820, 'guess': [21600, 21120, 20640, 20160], 'correct': [7267, 2269, 778, 345]}\n",
      "ratio: 1.1477151965993013\n"
     ]
    },
    {
     "name": "stderr",
     "output_type": "stream",
     "text": [
      "\r",
      " 95%|█████████▌| 951/1000 [3:35:10<13:24, 16.41s/it]"
     ]
    },
    {
     "name": "stdout",
     "output_type": "stream",
     "text": [
      "sample: 951\n",
      "(480, 15) (480, 15)\n",
      "{'testlen': 21600, 'reflen': 18048, 'guess': [21600, 21120, 20640, 20160], 'correct': [7137, 2377, 902, 460]}\n",
      "ratio: 1.1968085106382316\n"
     ]
    },
    {
     "name": "stderr",
     "output_type": "stream",
     "text": [
      "\r",
      " 95%|█████████▌| 952/1000 [3:35:26<13:00, 16.27s/it]"
     ]
    },
    {
     "name": "stdout",
     "output_type": "stream",
     "text": [
      "sample: 952\n",
      "(480, 15) (480, 15)\n",
      "{'testlen': 21600, 'reflen': 18768, 'guess': [21600, 21120, 20640, 20160], 'correct': [7319, 2301, 755, 343]}\n",
      "ratio: 1.1508951406649004\n"
     ]
    },
    {
     "name": "stderr",
     "output_type": "stream",
     "text": [
      "\r",
      " 95%|█████████▌| 953/1000 [3:35:41<12:27, 15.90s/it]"
     ]
    },
    {
     "name": "stdout",
     "output_type": "stream",
     "text": [
      "sample: 953\n",
      "(480, 15) (480, 15)\n",
      "{'testlen': 21600, 'reflen': 18103, 'guess': [21600, 21120, 20640, 20160], 'correct': [7152, 2285, 731, 327]}\n",
      "ratio: 1.193172402364183\n"
     ]
    },
    {
     "name": "stderr",
     "output_type": "stream",
     "text": [
      "\r",
      " 95%|█████████▌| 954/1000 [3:35:57<12:05, 15.77s/it]"
     ]
    },
    {
     "name": "stdout",
     "output_type": "stream",
     "text": [
      "sample: 954\n",
      "(480, 15) (480, 15)\n",
      "{'testlen': 21600, 'reflen': 18260, 'guess': [21600, 21120, 20640, 20160], 'correct': [7119, 2254, 760, 336]}\n",
      "ratio: 1.1829134720700338\n"
     ]
    },
    {
     "name": "stderr",
     "output_type": "stream",
     "text": [
      "\r",
      " 96%|█████████▌| 955/1000 [3:36:13<11:55, 15.90s/it]"
     ]
    },
    {
     "name": "stdout",
     "output_type": "stream",
     "text": [
      "sample: 955\n",
      "(480, 15) (480, 15)\n",
      "{'testlen': 21600, 'reflen': 18692, 'guess': [21600, 21120, 20640, 20160], 'correct': [7123, 2197, 687, 264]}\n",
      "ratio: 1.1555745773592363\n"
     ]
    },
    {
     "name": "stderr",
     "output_type": "stream",
     "text": [
      "\r",
      " 96%|█████████▌| 956/1000 [3:36:29<11:41, 15.94s/it]"
     ]
    },
    {
     "name": "stdout",
     "output_type": "stream",
     "text": [
      "sample: 956\n",
      "(480, 15) (480, 15)\n",
      "{'testlen': 21600, 'reflen': 17966, 'guess': [21600, 21120, 20640, 20160], 'correct': [7158, 2185, 659, 248]}\n",
      "ratio: 1.2022709562506289\n"
     ]
    },
    {
     "name": "stderr",
     "output_type": "stream",
     "text": [
      "\r",
      " 96%|█████████▌| 957/1000 [3:36:44<11:18, 15.78s/it]"
     ]
    },
    {
     "name": "stdout",
     "output_type": "stream",
     "text": [
      "sample: 957\n",
      "(480, 15) (480, 15)\n",
      "{'testlen': 21600, 'reflen': 17232, 'guess': [21600, 21120, 20640, 20160], 'correct': [7105, 2224, 711, 319]}\n",
      "ratio: 1.253481894150345\n"
     ]
    },
    {
     "name": "stderr",
     "output_type": "stream",
     "text": [
      "\r",
      " 96%|█████████▌| 958/1000 [3:37:00<11:05, 15.84s/it]"
     ]
    },
    {
     "name": "stdout",
     "output_type": "stream",
     "text": [
      "sample: 958\n",
      "(480, 15) (480, 15)\n",
      "{'testlen': 21600, 'reflen': 18786, 'guess': [21600, 21120, 20640, 20160], 'correct': [7211, 2194, 689, 266]}\n",
      "ratio: 1.149792398594637\n"
     ]
    },
    {
     "name": "stderr",
     "output_type": "stream",
     "text": [
      "\r",
      " 96%|█████████▌| 959/1000 [3:37:16<10:51, 15.90s/it]"
     ]
    },
    {
     "name": "stdout",
     "output_type": "stream",
     "text": [
      "sample: 959\n",
      "(480, 15) (480, 15)\n",
      "{'testlen': 21600, 'reflen': 17306, 'guess': [21600, 21120, 20640, 20160], 'correct': [7115, 2296, 748, 302]}\n",
      "ratio: 1.2481220385992575\n"
     ]
    },
    {
     "name": "stderr",
     "output_type": "stream",
     "text": [
      "\r",
      " 96%|█████████▌| 960/1000 [3:37:33<10:46, 16.16s/it]"
     ]
    },
    {
     "name": "stdout",
     "output_type": "stream",
     "text": [
      "sample: 960\n",
      "(480, 15) (480, 15)\n",
      "{'testlen': 21600, 'reflen': 18582, 'guess': [21600, 21120, 20640, 20160], 'correct': [7147, 2235, 746, 337]}\n",
      "ratio: 1.1624152405553136\n"
     ]
    },
    {
     "name": "stderr",
     "output_type": "stream",
     "text": [
      "\r",
      " 96%|█████████▌| 961/1000 [3:37:50<10:36, 16.31s/it]"
     ]
    },
    {
     "name": "stdout",
     "output_type": "stream",
     "text": [
      "sample: 961\n",
      "(480, 15) (480, 15)\n",
      "{'testlen': 21600, 'reflen': 18055, 'guess': [21600, 21120, 20640, 20160], 'correct': [7117, 2239, 706, 273]}\n",
      "ratio: 1.1963445029077155\n"
     ]
    },
    {
     "name": "stderr",
     "output_type": "stream",
     "text": [
      "\r",
      " 96%|█████████▌| 962/1000 [3:38:06<10:24, 16.44s/it]"
     ]
    },
    {
     "name": "stdout",
     "output_type": "stream",
     "text": [
      "sample: 962\n",
      "(480, 15) (480, 15)\n",
      "{'testlen': 21600, 'reflen': 17848, 'guess': [21600, 21120, 20640, 20160], 'correct': [7070, 2214, 731, 312]}\n",
      "ratio: 1.2102196324517476\n"
     ]
    },
    {
     "name": "stderr",
     "output_type": "stream",
     "text": [
      "\r",
      " 96%|█████████▋| 963/1000 [3:38:22<10:01, 16.25s/it]"
     ]
    },
    {
     "name": "stdout",
     "output_type": "stream",
     "text": [
      "sample: 963\n",
      "(480, 15) (480, 15)\n",
      "{'testlen': 21600, 'reflen': 17873, 'guess': [21600, 21120, 20640, 20160], 'correct': [7351, 2467, 883, 426]}\n",
      "ratio: 1.2085268281765116\n"
     ]
    },
    {
     "name": "stderr",
     "output_type": "stream",
     "text": [
      "\r",
      " 96%|█████████▋| 964/1000 [3:38:38<09:38, 16.06s/it]"
     ]
    },
    {
     "name": "stdout",
     "output_type": "stream",
     "text": [
      "sample: 964\n",
      "(480, 15) (480, 15)\n",
      "{'testlen': 21600, 'reflen': 18778, 'guess': [21600, 21120, 20640, 20160], 'correct': [7225, 2104, 600, 215]}\n",
      "ratio: 1.150282245180469\n"
     ]
    },
    {
     "name": "stderr",
     "output_type": "stream",
     "text": [
      "\r",
      " 96%|█████████▋| 965/1000 [3:38:54<09:21, 16.05s/it]"
     ]
    },
    {
     "name": "stdout",
     "output_type": "stream",
     "text": [
      "sample: 965\n",
      "(480, 15) (480, 15)\n",
      "{'testlen': 21600, 'reflen': 18098, 'guess': [21600, 21120, 20640, 20160], 'correct': [7020, 2165, 665, 256]}\n",
      "ratio: 1.1935020444247324\n"
     ]
    },
    {
     "name": "stderr",
     "output_type": "stream",
     "text": [
      "\r",
      " 97%|█████████▋| 966/1000 [3:39:10<09:02, 15.95s/it]"
     ]
    },
    {
     "name": "stdout",
     "output_type": "stream",
     "text": [
      "sample: 966\n",
      "(480, 15) (480, 15)\n",
      "{'testlen': 21600, 'reflen': 17990, 'guess': [21600, 21120, 20640, 20160], 'correct': [7297, 2354, 812, 360]}\n",
      "ratio: 1.200667037242846\n"
     ]
    },
    {
     "name": "stderr",
     "output_type": "stream",
     "text": [
      "\r",
      " 97%|█████████▋| 967/1000 [3:39:26<08:53, 16.17s/it]"
     ]
    },
    {
     "name": "stdout",
     "output_type": "stream",
     "text": [
      "sample: 967\n",
      "(480, 15) (480, 15)\n",
      "{'testlen': 21600, 'reflen': 18002, 'guess': [21600, 21120, 20640, 20160], 'correct': [7168, 2151, 647, 236]}\n",
      "ratio: 1.199866681479769\n"
     ]
    },
    {
     "name": "stderr",
     "output_type": "stream",
     "text": [
      "\r",
      " 97%|█████████▋| 968/1000 [3:39:43<08:42, 16.34s/it]"
     ]
    },
    {
     "name": "stdout",
     "output_type": "stream",
     "text": [
      "sample: 968\n",
      "(480, 15) (480, 15)\n",
      "{'testlen': 21600, 'reflen': 18441, 'guess': [21600, 21120, 20640, 20160], 'correct': [7395, 2339, 790, 346]}\n",
      "ratio: 1.1713030746705075\n"
     ]
    },
    {
     "name": "stderr",
     "output_type": "stream",
     "text": [
      "\r",
      " 97%|█████████▋| 969/1000 [3:39:59<08:20, 16.14s/it]"
     ]
    },
    {
     "name": "stdout",
     "output_type": "stream",
     "text": [
      "sample: 969\n",
      "(480, 15) (480, 15)\n",
      "{'testlen': 21600, 'reflen': 17771, 'guess': [21600, 21120, 20640, 20160], 'correct': [7150, 2221, 720, 298]}\n",
      "ratio: 1.2154633954194352\n"
     ]
    },
    {
     "name": "stderr",
     "output_type": "stream",
     "text": [
      "\r",
      " 97%|█████████▋| 970/1000 [3:40:15<08:02, 16.10s/it]"
     ]
    },
    {
     "name": "stdout",
     "output_type": "stream",
     "text": [
      "sample: 970\n",
      "(480, 15) (480, 15)\n",
      "{'testlen': 21600, 'reflen': 18266, 'guess': [21600, 21120, 20640, 20160], 'correct': [7160, 2216, 715, 269]}\n",
      "ratio: 1.1825249096681714\n"
     ]
    },
    {
     "name": "stderr",
     "output_type": "stream",
     "text": [
      "\r",
      " 97%|█████████▋| 971/1000 [3:40:31<07:45, 16.05s/it]"
     ]
    },
    {
     "name": "stdout",
     "output_type": "stream",
     "text": [
      "sample: 971\n",
      "(480, 15) (480, 15)\n",
      "{'testlen': 21600, 'reflen': 18645, 'guess': [21600, 21120, 20640, 20160], 'correct': [7343, 2345, 759, 322]}\n",
      "ratio: 1.158487530168884\n"
     ]
    },
    {
     "name": "stderr",
     "output_type": "stream",
     "text": [
      "\r",
      " 97%|█████████▋| 972/1000 [3:40:47<07:30, 16.08s/it]"
     ]
    },
    {
     "name": "stdout",
     "output_type": "stream",
     "text": [
      "sample: 972\n",
      "(480, 15) (480, 15)\n",
      "{'testlen': 21600, 'reflen': 18681, 'guess': [21600, 21120, 20640, 20160], 'correct': [7256, 2320, 821, 382]}\n",
      "ratio: 1.1562550184679001\n"
     ]
    },
    {
     "name": "stderr",
     "output_type": "stream",
     "text": [
      "\r",
      " 97%|█████████▋| 973/1000 [3:41:02<07:11, 15.98s/it]"
     ]
    },
    {
     "name": "stdout",
     "output_type": "stream",
     "text": [
      "sample: 973\n",
      "(480, 15) (480, 15)\n",
      "{'testlen': 21600, 'reflen': 18460, 'guess': [21600, 21120, 20640, 20160], 'correct': [7121, 2218, 742, 322]}\n",
      "ratio: 1.1700975081256137\n"
     ]
    },
    {
     "name": "stderr",
     "output_type": "stream",
     "text": [
      "\r",
      " 97%|█████████▋| 974/1000 [3:41:18<06:53, 15.91s/it]"
     ]
    },
    {
     "name": "stdout",
     "output_type": "stream",
     "text": [
      "sample: 974\n",
      "(480, 15) (480, 15)\n",
      "{'testlen': 21600, 'reflen': 18561, 'guess': [21600, 21120, 20640, 20160], 'correct': [7231, 2304, 800, 369]}\n",
      "ratio: 1.1637304024567015\n"
     ]
    },
    {
     "name": "stderr",
     "output_type": "stream",
     "text": [
      "\r",
      " 98%|█████████▊| 975/1000 [3:41:34<06:35, 15.81s/it]"
     ]
    },
    {
     "name": "stdout",
     "output_type": "stream",
     "text": [
      "sample: 975\n",
      "(480, 15) (480, 15)\n",
      "{'testlen': 21600, 'reflen': 17874, 'guess': [21600, 21120, 20640, 20160], 'correct': [7102, 2224, 752, 326]}\n",
      "ratio: 1.208459214501443\n"
     ]
    },
    {
     "name": "stderr",
     "output_type": "stream",
     "text": [
      "\r",
      " 98%|█████████▊| 976/1000 [3:41:50<06:20, 15.86s/it]"
     ]
    },
    {
     "name": "stdout",
     "output_type": "stream",
     "text": [
      "sample: 976\n",
      "(480, 15) (480, 15)\n",
      "{'testlen': 21600, 'reflen': 18537, 'guess': [21600, 21120, 20640, 20160], 'correct': [7206, 2306, 793, 370]}\n",
      "ratio: 1.165237093380743\n"
     ]
    },
    {
     "name": "stderr",
     "output_type": "stream",
     "text": [
      "\r",
      " 98%|█████████▊| 977/1000 [3:42:06<06:09, 16.05s/it]"
     ]
    },
    {
     "name": "stdout",
     "output_type": "stream",
     "text": [
      "sample: 977\n",
      "(480, 15) (480, 15)\n",
      "{'testlen': 21600, 'reflen': 18346, 'guess': [21600, 21120, 20640, 20160], 'correct': [7125, 2174, 712, 296]}\n",
      "ratio: 1.1773683636759416\n"
     ]
    },
    {
     "name": "stderr",
     "output_type": "stream",
     "text": [
      "\r",
      " 98%|█████████▊| 978/1000 [3:42:23<06:00, 16.39s/it]"
     ]
    },
    {
     "name": "stdout",
     "output_type": "stream",
     "text": [
      "sample: 978\n",
      "(480, 15) (480, 15)\n",
      "{'testlen': 21600, 'reflen': 19208, 'guess': [21600, 21120, 20640, 20160], 'correct': [7104, 2177, 750, 333]}\n",
      "ratio: 1.124531445231095\n"
     ]
    },
    {
     "name": "stderr",
     "output_type": "stream",
     "text": [
      "\r",
      " 98%|█████████▊| 979/1000 [3:42:40<05:44, 16.39s/it]"
     ]
    },
    {
     "name": "stdout",
     "output_type": "stream",
     "text": [
      "sample: 979\n",
      "(480, 15) (480, 15)\n",
      "{'testlen': 21600, 'reflen': 18056, 'guess': [21600, 21120, 20640, 20160], 'correct': [7202, 2220, 665, 263]}\n",
      "ratio: 1.196278245458507\n"
     ]
    },
    {
     "name": "stderr",
     "output_type": "stream",
     "text": [
      "\r",
      " 98%|█████████▊| 980/1000 [3:42:56<05:28, 16.42s/it]"
     ]
    },
    {
     "name": "stdout",
     "output_type": "stream",
     "text": [
      "sample: 980\n",
      "(480, 15) (480, 15)\n",
      "{'testlen': 21600, 'reflen': 18099, 'guess': [21600, 21120, 20640, 20160], 'correct': [7262, 2362, 836, 390]}\n",
      "ratio: 1.1934361014420027\n"
     ]
    },
    {
     "name": "stderr",
     "output_type": "stream",
     "text": [
      "\r",
      " 98%|█████████▊| 981/1000 [3:43:13<05:12, 16.44s/it]"
     ]
    },
    {
     "name": "stdout",
     "output_type": "stream",
     "text": [
      "sample: 981\n",
      "(480, 15) (480, 15)\n",
      "{'testlen': 21600, 'reflen': 18327, 'guess': [21600, 21120, 20640, 20160], 'correct': [7090, 2273, 771, 346]}\n",
      "ratio: 1.1785889670976604\n"
     ]
    },
    {
     "name": "stderr",
     "output_type": "stream",
     "text": [
      "\r",
      " 98%|█████████▊| 982/1000 [3:43:30<05:02, 16.81s/it]"
     ]
    },
    {
     "name": "stdout",
     "output_type": "stream",
     "text": [
      "sample: 982\n",
      "(480, 15) (480, 15)\n",
      "{'testlen': 21600, 'reflen': 18065, 'guess': [21600, 21120, 20640, 20160], 'correct': [7147, 2185, 681, 272]}\n",
      "ratio: 1.1956822585108666\n"
     ]
    },
    {
     "name": "stderr",
     "output_type": "stream",
     "text": [
      "\r",
      " 98%|█████████▊| 983/1000 [3:43:48<04:47, 16.89s/it]"
     ]
    },
    {
     "name": "stdout",
     "output_type": "stream",
     "text": [
      "sample: 983\n",
      "(480, 15) (480, 15)\n",
      "{'testlen': 21600, 'reflen': 17596, 'guess': [21600, 21120, 20640, 20160], 'correct': [7044, 2257, 751, 308]}\n",
      "ratio: 1.2275517162990892\n"
     ]
    },
    {
     "name": "stderr",
     "output_type": "stream",
     "text": [
      "\r",
      " 98%|█████████▊| 984/1000 [3:44:03<04:25, 16.61s/it]"
     ]
    },
    {
     "name": "stdout",
     "output_type": "stream",
     "text": [
      "sample: 984\n",
      "(480, 15) (480, 15)\n",
      "{'testlen': 21600, 'reflen': 18274, 'guess': [21600, 21120, 20640, 20160], 'correct': [7204, 2243, 732, 296]}\n",
      "ratio: 1.1820072233774115\n"
     ]
    },
    {
     "name": "stderr",
     "output_type": "stream",
     "text": [
      "\r",
      " 98%|█████████▊| 985/1000 [3:44:19<04:05, 16.40s/it]"
     ]
    },
    {
     "name": "stdout",
     "output_type": "stream",
     "text": [
      "sample: 985\n",
      "(480, 15) (480, 15)\n",
      "{'testlen': 21600, 'reflen': 18318, 'guess': [21600, 21120, 20640, 20160], 'correct': [7079, 2201, 739, 290]}\n",
      "ratio: 1.1791680314444164\n"
     ]
    },
    {
     "name": "stderr",
     "output_type": "stream",
     "text": [
      "\r",
      " 99%|█████████▊| 986/1000 [3:44:37<03:53, 16.65s/it]"
     ]
    },
    {
     "name": "stdout",
     "output_type": "stream",
     "text": [
      "sample: 986\n",
      "(480, 15) (480, 15)\n",
      "{'testlen': 21600, 'reflen': 18434, 'guess': [21600, 21120, 20640, 20160], 'correct': [7179, 2178, 676, 276]}\n",
      "ratio: 1.1717478572202902\n"
     ]
    },
    {
     "name": "stderr",
     "output_type": "stream",
     "text": [
      "\r",
      " 99%|█████████▊| 987/1000 [3:44:53<03:37, 16.70s/it]"
     ]
    },
    {
     "name": "stdout",
     "output_type": "stream",
     "text": [
      "sample: 987\n",
      "(480, 15) (480, 15)\n",
      "{'testlen': 21600, 'reflen': 18140, 'guess': [21600, 21120, 20640, 20160], 'correct': [7243, 2371, 848, 429]}\n",
      "ratio: 1.190738699007652\n"
     ]
    },
    {
     "name": "stderr",
     "output_type": "stream",
     "text": [
      "\r",
      " 99%|█████████▉| 988/1000 [3:45:09<03:15, 16.29s/it]"
     ]
    },
    {
     "name": "stdout",
     "output_type": "stream",
     "text": [
      "sample: 988\n",
      "(480, 15) (480, 15)\n",
      "{'testlen': 21600, 'reflen': 18908, 'guess': [21600, 21120, 20640, 20160], 'correct': [7191, 2274, 780, 347]}\n",
      "ratio: 1.1423735984767747\n"
     ]
    },
    {
     "name": "stderr",
     "output_type": "stream",
     "text": [
      "\r",
      " 99%|█████████▉| 989/1000 [3:45:26<03:01, 16.52s/it]"
     ]
    },
    {
     "name": "stdout",
     "output_type": "stream",
     "text": [
      "sample: 989\n",
      "(480, 15) (480, 15)\n",
      "{'testlen': 21600, 'reflen': 18090, 'guess': [21600, 21120, 20640, 20160], 'correct': [7100, 2207, 736, 319]}\n",
      "ratio: 1.1940298507462026\n"
     ]
    },
    {
     "name": "stderr",
     "output_type": "stream",
     "text": [
      "\r",
      " 99%|█████████▉| 990/1000 [3:45:42<02:45, 16.52s/it]"
     ]
    },
    {
     "name": "stdout",
     "output_type": "stream",
     "text": [
      "sample: 990\n",
      "(480, 15) (480, 15)\n",
      "{'testlen': 21600, 'reflen': 18372, 'guess': [21600, 21120, 20640, 20160], 'correct': [7160, 2180, 727, 309]}\n",
      "ratio: 1.1757021554538876\n"
     ]
    },
    {
     "name": "stderr",
     "output_type": "stream",
     "text": [
      "\r",
      " 99%|█████████▉| 991/1000 [3:46:00<02:30, 16.72s/it]"
     ]
    },
    {
     "name": "stdout",
     "output_type": "stream",
     "text": [
      "sample: 991\n",
      "(480, 15) (480, 15)\n",
      "{'testlen': 21600, 'reflen': 18293, 'guess': [21600, 21120, 20640, 20160], 'correct': [7251, 2244, 727, 296]}\n",
      "ratio: 1.180779533154694\n"
     ]
    },
    {
     "name": "stderr",
     "output_type": "stream",
     "text": [
      "\r",
      " 99%|█████████▉| 992/1000 [3:46:15<02:11, 16.38s/it]"
     ]
    },
    {
     "name": "stdout",
     "output_type": "stream",
     "text": [
      "sample: 992\n",
      "(480, 15) (480, 15)\n",
      "{'testlen': 21600, 'reflen': 18460, 'guess': [21600, 21120, 20640, 20160], 'correct': [7163, 2233, 757, 368]}\n",
      "ratio: 1.1700975081256137\n"
     ]
    },
    {
     "name": "stderr",
     "output_type": "stream",
     "text": [
      "\r",
      " 99%|█████████▉| 993/1000 [3:46:31<01:54, 16.34s/it]"
     ]
    },
    {
     "name": "stdout",
     "output_type": "stream",
     "text": [
      "sample: 993\n",
      "(480, 15) (480, 15)\n",
      "{'testlen': 21600, 'reflen': 18492, 'guess': [21600, 21120, 20640, 20160], 'correct': [7186, 2221, 754, 321]}\n",
      "ratio: 1.1680726800778083\n"
     ]
    },
    {
     "name": "stderr",
     "output_type": "stream",
     "text": [
      "\r",
      " 99%|█████████▉| 994/1000 [3:46:49<01:40, 16.74s/it]"
     ]
    },
    {
     "name": "stdout",
     "output_type": "stream",
     "text": [
      "sample: 994\n",
      "(480, 15) (480, 15)\n",
      "{'testlen': 21600, 'reflen': 18634, 'guess': [21600, 21120, 20640, 20160], 'correct': [7067, 2072, 635, 239]}\n",
      "ratio: 1.1591714071052293\n"
     ]
    },
    {
     "name": "stderr",
     "output_type": "stream",
     "text": [
      "\r",
      "100%|█████████▉| 995/1000 [3:47:05<01:22, 16.47s/it]"
     ]
    },
    {
     "name": "stdout",
     "output_type": "stream",
     "text": [
      "sample: 995\n",
      "(480, 15) (480, 15)\n",
      "{'testlen': 21600, 'reflen': 19066, 'guess': [21600, 21120, 20640, 20160], 'correct': [7215, 2193, 692, 272]}\n",
      "ratio: 1.1329067449910242\n"
     ]
    },
    {
     "name": "stderr",
     "output_type": "stream",
     "text": [
      "\r",
      "100%|█████████▉| 996/1000 [3:47:21<01:05, 16.32s/it]"
     ]
    },
    {
     "name": "stdout",
     "output_type": "stream",
     "text": [
      "sample: 996\n",
      "(480, 15) (480, 15)\n",
      "{'testlen': 21600, 'reflen': 18401, 'guess': [21600, 21120, 20640, 20160], 'correct': [7303, 2406, 869, 426]}\n",
      "ratio: 1.1738492473234512\n"
     ]
    },
    {
     "name": "stderr",
     "output_type": "stream",
     "text": [
      "\r",
      "100%|█████████▉| 997/1000 [3:47:37<00:49, 16.42s/it]"
     ]
    },
    {
     "name": "stdout",
     "output_type": "stream",
     "text": [
      "sample: 997\n",
      "(480, 15) (480, 15)\n",
      "{'testlen': 21600, 'reflen': 18320, 'guess': [21600, 21120, 20640, 20160], 'correct': [7225, 2242, 734, 319]}\n",
      "ratio: 1.1790393013099794\n"
     ]
    },
    {
     "name": "stderr",
     "output_type": "stream",
     "text": [
      "\r",
      "100%|█████████▉| 998/1000 [3:47:53<00:32, 16.28s/it]"
     ]
    },
    {
     "name": "stdout",
     "output_type": "stream",
     "text": [
      "sample: 998\n",
      "(480, 15) (480, 15)\n",
      "{'testlen': 21600, 'reflen': 18879, 'guess': [21600, 21120, 20640, 20160], 'correct': [7212, 2184, 690, 275]}\n",
      "ratio: 1.1441283966311169\n"
     ]
    },
    {
     "name": "stderr",
     "output_type": "stream",
     "text": [
      "\r",
      "100%|█████████▉| 999/1000 [3:48:09<00:16, 16.08s/it]"
     ]
    },
    {
     "name": "stdout",
     "output_type": "stream",
     "text": [
      "sample: 999\n",
      "(480, 15) (480, 15)\n",
      "{'testlen': 21600, 'reflen': 18617, 'guess': [21600, 21120, 20640, 20160], 'correct': [7342, 2416, 887, 448]}\n",
      "ratio: 1.1602298974055347\n"
     ]
    },
    {
     "name": "stderr",
     "output_type": "stream",
     "text": [
      "100%|██████████| 1000/1000 [3:48:27<00:00, 13.71s/it]\n"
     ]
    }
   ],
   "source": [
    "sample=[1,2,3,4,5]\n",
    "\n",
    "bleu1,bleu2,bleu3,bleu4,M, R, C=[],[],[],[],[],[],[]\n",
    "\n",
    "accuracy,precision,recall_mac,recall_mic=[],[],[],[]\n",
    "\n",
    "classes=['No Finding', 'Enlarged Cardiomediastinum', 'Cardiomegaly',\n",
    "       'Lung Lesion', 'Lung Opacity', 'Edema', 'Consolidation', 'Pneumonia',\n",
    "       'Atelectasis', 'Pneumothorax', 'Pleural Effusion', 'Pleural Other',\n",
    "       'Fracture', 'Support Devices']\n",
    "\n",
    "test_orig=pd.read_csv(path+'gpt2_pred_labeled_'+str(1)+'.csv')\n",
    "gt_orig=pd.read_csv(path+'gpt2_ref_labeled_'+str(1)+'.csv')\n",
    "\n",
    "test_orig['Reports']=reports_cleaning(test_orig['Reports'])\n",
    "gt_orig['Reports']=reports_cleaning(gt_orig['Reports'])\n",
    "\n",
    "\n",
    "for i in tqdm(range(0,1000)):\n",
    "    \n",
    "    \n",
    "    print('sample:', i)\n",
    "    test=test_orig.copy()\n",
    "    gt=gt_orig.copy()\n",
    "    #gt=pd.read_csv(path+'gts_labelled'+str(1)+'.csv')\n",
    "    #test=pd.read_csv(path+'res_labelled'+str(1)+'.csv')\n",
    "\n",
    "    #gt=pd.read_csv(path+'ref_labelled'+str(i)+'.csv')\n",
    "    \n",
    "    \n",
    "    \n",
    "    lst=range(480)\n",
    "\n",
    "\n",
    "    indx=random.choices(lst,k=480)\n",
    "    \n",
    "#     test=pd.read_csv(path+'score_labelled'+str(1)+'.csv')\n",
    "#     gt=pd.read_csv(path+'score_ref_labelled'+str(1)+'.csv')\n",
    "\n",
    "#     test=pd.read_csv(path+'gpt2_pred_labeled_'+str(1)+'.csv')\n",
    "#     gt=pd.read_csv(path+'gpt2_ref_labeled_'+str(1)+'.csv')\n",
    "    \n",
    "#     #print(gt.shape)\n",
    "    \n",
    "#     test=pd.read_csv(path+'score_labelled'+str(i)+'.csv')\n",
    "    \n",
    "#     print(test.shape)\n",
    "    \n",
    "    baselines=pd.read_csv('./data/baselines_latest.csv')\n",
    "    \n",
    "    #print(baselines.iloc[:,0])\n",
    "    test=baselines.iloc[2,:]\n",
    "\n",
    "    test=pd.DataFrame(test).T\n",
    "\n",
    "    test=pd.concat([test]*gt.shape[0], ignore_index=True)\n",
    "\n",
    "    gt=gt.iloc[indx,:].reset_index(drop=True)\n",
    "\n",
    "    test=test.iloc[indx,:].reset_index(drop=True)\n",
    "    \n",
    "    #test=test.sample(frac=1).reset_index(drop=True)\n",
    "    \n",
    "    \n",
    "    gt=gt.fillna(0.0)\n",
    "\n",
    "\n",
    "    gt=gt.replace(-1,0)\n",
    "\n",
    "    test=test.fillna(0.0)\n",
    "\n",
    "\n",
    "    test=test.replace(-1,0)\n",
    "    \n",
    "    \n",
    "    data=gt.iloc[:,1:]\n",
    "    \n",
    "    test_data=test.iloc[:,1:]\n",
    "\n",
    "    #test_data=test_data.sample(frac=1)\n",
    "#     n=test_data.shape[0]\n",
    "#     r=pd.DataFrame(data.iloc[report_id,:]).T\n",
    "\n",
    "    pred = test_data#r * 1.0\n",
    "    \n",
    "    \n",
    "    #### accuracy=======================================\n",
    "\n",
    "    accuracy.append(accuracy_score(data.to_numpy().flatten(),test_data.to_numpy().flatten()))\n",
    "\n",
    "    #print(accuracy)\n",
    "    \n",
    "  \n",
    "   \n",
    "    \n",
    "#     print(is_normal)\n",
    "    #test_shuffles=test.sample(frac=1)\n",
    "    \n",
    "    print(gt.shape,test.shape)\n",
    "#     print((test.iloc[0,0]))\n",
    "#     print(reports_cleaning(gt.iloc[0,0]))\n",
    "#     if isinstance(gt.iloc[0,0], str):\n",
    "#         print (\"ordinary string\")\n",
    "#     elif isinstance(gt.iloc[0,0], unicode):\n",
    "#         print (\"unicode string\")\n",
    "#     else:\n",
    "#         print (\"not a string\")\n",
    "    bleus,meteor, rouge, ciders=b.all_scores((gt.iloc[:,0]),(test.iloc[:,0]))\n",
    "    \n",
    "#     #bleus,meteor, rouge, ciders=b.all_scores(np.array(gt.iloc[:,0])[is_normal], test.iloc[2,0])\n",
    "    \n",
    "    bleu1.append(bleus[0])\n",
    "    bleu2.append(bleus[1])\n",
    "    bleu3.append(bleus[2])\n",
    "    bleu4.append(bleus[3])\n",
    "    M.append(meteor)\n",
    "    R.append(rouge)\n",
    "    C.append(ciders)\n",
    "    \n",
    "data=pd.DataFrame([])\n",
    "\n",
    "data['b1']=bleu1\n",
    "data['b2']=bleu2\n",
    "data['b3']=bleu3\n",
    "data['b4']=bleu4\n",
    "data['M']=M\n",
    "data['R']=R\n",
    "data['C']=C\n",
    "data['accuracy']=accuracy\n",
    "\n",
    "#print(np.mean(accuracy))\n",
    "data.to_csv('samples_gpt2_base3.csv')"
   ]
  }
 ],
 "metadata": {
  "kernelspec": {
   "display_name": "Python 3",
   "language": "python",
   "name": "python3"
  },
  "language_info": {
   "codemirror_mode": {
    "name": "ipython",
    "version": 3
   },
   "file_extension": ".py",
   "mimetype": "text/x-python",
   "name": "python",
   "nbconvert_exporter": "python",
   "pygments_lexer": "ipython3",
   "version": "3.7.6"
  }
 },
 "nbformat": 4,
 "nbformat_minor": 4
}
