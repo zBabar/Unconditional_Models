{
 "cells": [
  {
   "cell_type": "code",
   "execution_count": 1,
   "metadata": {},
   "outputs": [],
   "source": [
    "import pandas as pd\n",
    "import numpy as np\n",
    "import random\n",
    "import baselines as b\n",
    "from sklearn.metrics import accuracy_score,f1_score, recall_score, precision_score, average_precision_score, balanced_accuracy_score"
   ]
  },
  {
   "cell_type": "code",
   "execution_count": 2,
   "metadata": {},
   "outputs": [],
   "source": [
    "path='./data/SAT_Predictions1/'\n",
    "#path='./data/GPT2_Predictions/'\n",
    "#path='./data/MRA_Files/'\n",
    "#path='./data/SAT_findings/'\n",
    "\n"
   ]
  },
  {
   "cell_type": "code",
   "execution_count": 3,
   "metadata": {},
   "outputs": [
    {
     "name": "stdout",
     "output_type": "stream",
     "text": [
      "sample: 1\n",
      "(248, 14)\n",
      "[0.9046658986175116]\n",
      "[0.0]\n",
      "[0.0]\n",
      "{'testlen': 8928, 'reflen': 9481, 'guess': [8928, 8680, 8432, 8184], 'correct': [4153, 1720, 811, 359]}\n",
      "ratio: 0.9416728193227569\n"
     ]
    },
    {
     "name": "stderr",
     "output_type": "stream",
     "text": [
      "/Users/zaheerbabar/opt/anaconda3/lib/python3.7/site-packages/sklearn/metrics/_classification.py:1272: UndefinedMetricWarning: Precision is ill-defined and being set to 0.0 due to no predicted samples. Use `zero_division` parameter to control this behavior.\n",
      "  _warn_prf(average, modifier, msg_start, len(result))\n"
     ]
    },
    {
     "name": "stdout",
     "output_type": "stream",
     "text": [
      "sample: 2\n",
      "(244, 14)\n",
      "[0.9046658986175116, 0.9089578454332553]\n",
      "[0.0, 0.0]\n",
      "[0.0, 0.0]\n",
      "{'testlen': 8784, 'reflen': 9124, 'guess': [8784, 8540, 8296, 8052], 'correct': [3941, 1555, 709, 305]}\n",
      "ratio: 0.9627356422620601\n"
     ]
    },
    {
     "name": "stderr",
     "output_type": "stream",
     "text": [
      "/Users/zaheerbabar/opt/anaconda3/lib/python3.7/site-packages/sklearn/metrics/_classification.py:1272: UndefinedMetricWarning: Precision is ill-defined and being set to 0.0 due to no predicted samples. Use `zero_division` parameter to control this behavior.\n",
      "  _warn_prf(average, modifier, msg_start, len(result))\n"
     ]
    },
    {
     "name": "stdout",
     "output_type": "stream",
     "text": [
      "sample: 3\n",
      "(247, 14)\n",
      "[0.9046658986175116, 0.9089578454332553, 0.913823019086177]\n",
      "[0.0, 0.0, 0.0]\n",
      "[0.0, 0.0, 0.0]\n",
      "{'testlen': 8892, 'reflen': 8761, 'guess': [8892, 8645, 8398, 8151], 'correct': [3896, 1549, 693, 278]}\n",
      "ratio: 1.014952630978083\n"
     ]
    },
    {
     "name": "stderr",
     "output_type": "stream",
     "text": [
      "/Users/zaheerbabar/opt/anaconda3/lib/python3.7/site-packages/sklearn/metrics/_classification.py:1272: UndefinedMetricWarning: Precision is ill-defined and being set to 0.0 due to no predicted samples. Use `zero_division` parameter to control this behavior.\n",
      "  _warn_prf(average, modifier, msg_start, len(result))\n"
     ]
    },
    {
     "name": "stdout",
     "output_type": "stream",
     "text": [
      "sample: 4\n",
      "(247, 14)\n",
      "[0.9046658986175116, 0.9089578454332553, 0.913823019086177, 0.910641989589358]\n",
      "[0.0, 0.0, 0.0, 0.0]\n",
      "[0.0, 0.0, 0.0, 0.0]\n",
      "{'testlen': 8892, 'reflen': 9025, 'guess': [8892, 8645, 8398, 8151], 'correct': [4024, 1660, 813, 388]}\n",
      "ratio: 0.9852631578946276\n"
     ]
    },
    {
     "name": "stderr",
     "output_type": "stream",
     "text": [
      "/Users/zaheerbabar/opt/anaconda3/lib/python3.7/site-packages/sklearn/metrics/_classification.py:1272: UndefinedMetricWarning: Precision is ill-defined and being set to 0.0 due to no predicted samples. Use `zero_division` parameter to control this behavior.\n",
      "  _warn_prf(average, modifier, msg_start, len(result))\n"
     ]
    },
    {
     "name": "stdout",
     "output_type": "stream",
     "text": [
      "sample: 5\n",
      "(248, 14)\n",
      "[0.9046658986175116, 0.9089578454332553, 0.913823019086177, 0.910641989589358, 0.9081221198156681]\n",
      "[0.0, 0.0, 0.0, 0.0, 0.0]\n",
      "[0.0, 0.0, 0.0, 0.0, 0.0]\n",
      "{'testlen': 8928, 'reflen': 9416, 'guess': [8928, 8680, 8432, 8184], 'correct': [4088, 1675, 782, 350]}\n",
      "ratio: 0.9481733220049969\n"
     ]
    },
    {
     "name": "stderr",
     "output_type": "stream",
     "text": [
      "/Users/zaheerbabar/opt/anaconda3/lib/python3.7/site-packages/sklearn/metrics/_classification.py:1272: UndefinedMetricWarning: Precision is ill-defined and being set to 0.0 due to no predicted samples. Use `zero_division` parameter to control this behavior.\n",
      "  _warn_prf(average, modifier, msg_start, len(result))\n"
     ]
    },
    {
     "name": "stdout",
     "output_type": "stream",
     "text": [
      "0.4372698163451715 0.28247508077046485 0.19121380562173423 0.12910032114272701 0.18328765331880864 0.27736233831839996 0.28514399332892554\n",
      "0.004895223946005009 0.005175100715195518 0.005860398717513668 0.006428054564124695 0.002553296002240054 0.0016467066287378458 0.024879106009963646\n",
      "0.909242174508394 0.0 0.0 0.0\n"
     ]
    }
   ],
   "source": [
    "sample=[1,2,3,4,5]\n",
    "\n",
    "bleu1,bleu2,bleu3,bleu4,M, R, C=[],[],[],[],[],[],[]\n",
    "\n",
    "accuracy,precision,recall_mac,recall_mic=[],[],[],[]\n",
    "\n",
    "classes=['No Finding', 'Enlarged Cardiomediastinum', 'Cardiomegaly',\n",
    "       'Lung Lesion', 'Lung Opacity', 'Edema', 'Consolidation', 'Pneumonia',\n",
    "       'Atelectasis', 'Pneumothorax', 'Pleural Effusion', 'Pleural Other',\n",
    "       'Fracture', 'Support Devices']\n",
    "\n",
    "\n",
    "\n",
    "for i in sample:\n",
    "    \n",
    "    ##### Uncoment for CDGPT2\n",
    "#     orignal_test=pd.read_csv('/Users/zaheerbabar/Documents/Python/GPT2-Chest-X-Ray-Report-Generation/IU-XRay/Sample'+str(i)+'/testing_set.csv')\n",
    "#     split_rows=orignal_test['Manual Tags']=='normal'\n",
    "    \n",
    "    print('sample:', i)\n",
    "#     gt=pd.read_csv(path+'gts_labelled'+str(i)+'.csv')\n",
    "#     test=pd.read_csv(path+'res_labelled'+str(i)+'.csv')\n",
    "\n",
    "    #gt=pd.read_csv(path+'ref_labelled'+str(i)+'.csv')\n",
    "    \n",
    "    test=pd.read_csv(path+'score_labelled'+str(i)+'.csv')\n",
    "    gt=pd.read_csv(path+'score_ref_labelled'+str(i)+'.csv')\n",
    "    \n",
    "#     test=pd.read_csv(path+'gpt2_pred_labeled_'+str(i)+'.csv')\n",
    "#     gt=pd.read_csv(path+'gpt2_ref_labeled_'+str(i)+'.csv')\n",
    "    \n",
    "#     #print(gt.shape)\n",
    "    \n",
    "#     test=pd.read_csv(path+'score_labelled'+str(i)+'.csv')\n",
    "    \n",
    "#     print(test.shape)\n",
    "    \n",
    "#     baselines=pd.read_csv('./data/baselines_latest.csv')\n",
    "    baselines=pd.read_csv('./data/baselines_with_cider.csv',encoding='latin-1')\n",
    "    \n",
    "#     #print(baselines.iloc[:,0])\n",
    "    test=baselines.iloc[0,:]\n",
    "\n",
    "    test=pd.DataFrame(test).T\n",
    "\n",
    "    test=pd.concat([test]*gt.shape[0], ignore_index=True)\n",
    "\n",
    "\n",
    "    \n",
    "    gt=gt.fillna(0.0)\n",
    "\n",
    "\n",
    "    gt=gt.replace(-1,0)\n",
    "\n",
    "    test=test.fillna(0.0)\n",
    "\n",
    "\n",
    "    test=test.replace(-1,0)\n",
    "    \n",
    "    data=(gt.iloc[:,1:])#[split_rows].reset_index(drop=True)\n",
    "    print(data.shape)\n",
    "    \n",
    "#     test=test.sample(frac=1)\n",
    "#     test=test.reset_index(drop=True)\n",
    "    \n",
    "    \n",
    "    test_data=(test.iloc[:,1:])#[split_rows].reset_index(drop=True)\n",
    "\n",
    "    #test_data=test_data.sample(frac=1)\n",
    "#     n=test_data.shape[0]\n",
    "#     r=pd.DataFrame(data.iloc[report_id,:]).T\n",
    "\n",
    "    pred = test_data#r * 1.0\n",
    "    \n",
    "    \n",
    "    #### accuracy=======================================\n",
    "\n",
    "    accuracy.append(accuracy_score(data.to_numpy().flatten(),test_data.to_numpy().flatten()))\n",
    "\n",
    "    print(accuracy)\n",
    "#     comp = test_data.values * pred.values + (1 - test_data.values) * (1 - pred.values)\n",
    "\n",
    "#     #print(comp.shape)\n",
    "    \n",
    "#     accu = np.mean(comp, axis=1)\n",
    "    \n",
    "    \n",
    "    \n",
    "#     accuracy.append(np.mean(accu))\n",
    "\n",
    "#     print('accuracy:', np.mean(accu))\n",
    "    \n",
    "    \n",
    "    ######## Precision ===============================\n",
    "    precision.append(precision_score(data.to_numpy().flatten(),test_data.to_numpy().flatten()))\n",
    "\n",
    "    print(precision)\n",
    "    \n",
    "    \n",
    "    ######## Recall Micro ===============================\n",
    "    recall_mic.append(recall_score(data.to_numpy().flatten(),test_data.to_numpy().flatten()))\n",
    "\n",
    "    print(recall_mic)\n",
    "    \n",
    "     ######## Recall Macro ===============================\n",
    "        \n",
    "    ######################### Class wise computation\n",
    "\n",
    "    \n",
    "    recl_class_wise=[]\n",
    "\n",
    "    for c in classes:\n",
    "        \n",
    "        recl_class_wise.append(recall_score(data[c],test_data[c]))\n",
    "\n",
    "    \n",
    "    recall_mac.append(np.mean(recl_class_wise))\n",
    "\n",
    "    \n",
    "\n",
    "#     print(recall_mac)\n",
    "    \n",
    "    \n",
    "#     is_normal=gt['No Finding']==0\n",
    "    \n",
    "#     print(is_normal)\n",
    "    #test_shuffles=test.sample(frac=1)\n",
    "    bleus,meteor, rouge, ciders=b.all_scores(gt.iloc[:,0],test.iloc[:,0])\n",
    "#     #bleus,meteor, rouge, ciders=b.all_scores(np.array(gt.iloc[:,0])[is_normal], test.iloc[2,0])\n",
    "    \n",
    "    bleu1.append(bleus[0])\n",
    "    bleu2.append(bleus[1])\n",
    "    bleu3.append(bleus[2])\n",
    "    bleu4.append(bleus[3])\n",
    "    M.append(meteor)\n",
    "    R.append(rouge)\n",
    "    C.append(ciders)\n",
    "\n",
    "print(np.mean(bleu1),np.mean(bleu2),np.mean(bleu3),np.mean(bleu4),np.mean(M),np.mean(R),np.mean(C))\n",
    "print(np.std(bleu1),np.std(bleu2),np.std(bleu3),np.std(bleu4),np.std(M),np.std(R),np.std(C))\n",
    "\n",
    "print(np.mean(accuracy),np.mean(precision),np.mean(recall_mac),np.mean(recall_mic))"
   ]
  }
 ],
 "metadata": {
  "kernelspec": {
   "display_name": "Python 3",
   "language": "python",
   "name": "python3"
  },
  "language_info": {
   "codemirror_mode": {
    "name": "ipython",
    "version": 3
   },
   "file_extension": ".py",
   "mimetype": "text/x-python",
   "name": "python",
   "nbconvert_exporter": "python",
   "pygments_lexer": "ipython3",
   "version": "3.7.6"
  }
 },
 "nbformat": 4,
 "nbformat_minor": 4
}
