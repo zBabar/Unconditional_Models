{
 "cells": [
  {
   "cell_type": "code",
   "execution_count": 1,
   "metadata": {},
   "outputs": [],
   "source": [
    "import pandas as pd\n",
    "import numpy as np\n",
    "from sklearn.metrics import accuracy_score,f1_score, recall_score, precision_score, average_precision_score, balanced_accuracy_score\n",
    "import baselines as b"
   ]
  },
  {
   "cell_type": "code",
   "execution_count": 2,
   "metadata": {},
   "outputs": [],
   "source": [
    "#data=pd.read_csv('./data/score_1.csv')\n",
    "# print(data.head(3))\n",
    "gt=pd.read_json('./data/gts_5.json').T\n",
    "cand=pd.read_json('./data/res_5.json').T\n",
    "gt=gt.reset_index(drop=True)\n",
    "\n",
    "\n",
    "cand=cand.reset_index(drop=True)\n",
    "#print(data.columns)"
   ]
  },
  {
   "cell_type": "code",
   "execution_count": 3,
   "metadata": {},
   "outputs": [
    {
     "name": "stdout",
     "output_type": "stream",
     "text": [
      "242\n",
      "{'testlen': 11403, 'reflen': 9406, 'guess': [11403, 11161, 10919, 10677], 'correct': [3611, 1401, 617, 234]}\n",
      "ratio: 1.2123112906654037\n"
     ]
    },
    {
     "data": {
      "text/plain": [
       "([0.3166710514776535,\n",
       "  0.19937545688700448,\n",
       "  0.1309629843483103,\n",
       "  0.08376316445082647],\n",
       " 0.15259465561633795,\n",
       " 0.27630878120240254,\n",
       " 0.08365316252654345)"
      ]
     },
     "execution_count": 3,
     "metadata": {},
     "output_type": "execute_result"
    }
   ],
   "source": [
    "cand=cand.iloc[:,0]\n",
    "\n",
    "\n",
    "#cand=data['cand']\n",
    "\n",
    "cand=cand.sample(frac=1)\n",
    "cand=list(cand)\n",
    "\n",
    "gt=list(gt.iloc[:,0])\n",
    "\n",
    "\n",
    "\n",
    "\n",
    "cand_new=[]\n",
    "\n",
    "#gt=data['ref']\n",
    "\n",
    "for i in cand:\n",
    "    \n",
    "    cand_new.append(b.preprocess(i))\n",
    "    \n",
    "print(len(cand_new))\n",
    "b.all_scores(gt,cand_new)"
   ]
  }
 ],
 "metadata": {
  "kernelspec": {
   "display_name": "Python 3",
   "language": "python",
   "name": "python3"
  },
  "language_info": {
   "codemirror_mode": {
    "name": "ipython",
    "version": 3
   },
   "file_extension": ".py",
   "mimetype": "text/x-python",
   "name": "python",
   "nbconvert_exporter": "python",
   "pygments_lexer": "ipython3",
   "version": "3.7.6"
  }
 },
 "nbformat": 4,
 "nbformat_minor": 4
}
