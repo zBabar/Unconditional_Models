{
 "cells": [
  {
   "cell_type": "code",
   "execution_count": 1,
   "metadata": {},
   "outputs": [],
   "source": [
    "import pandas as pd\n",
    "from nltk import ngrams\n",
    "import numpy as np"
   ]
  },
  {
   "cell_type": "code",
   "execution_count": 2,
   "metadata": {},
   "outputs": [],
   "source": [
    "data=pd.read_csv('gpt2_pred_labeled_0.csv')"
   ]
  },
  {
   "cell_type": "code",
   "execution_count": 3,
   "metadata": {},
   "outputs": [],
   "source": [
    "def gen_to_list(grams):\n",
    "    \n",
    "    gram=[]\n",
    "    \n",
    "    for i in grams:\n",
    "        \n",
    "        gram.append(i)\n",
    "        \n",
    "    return gram"
   ]
  },
  {
   "cell_type": "code",
   "execution_count": 4,
   "metadata": {},
   "outputs": [],
   "source": [
    "def len_reports():\n",
    "    uni,bi,tri,four=[],[],[],[]\n",
    "    grams=[1,2,3,4]\n",
    "    for r in data['Reports'].to_list():\n",
    "\n",
    "        uni.append(len(gen_to_list(ngrams(r.split(), 1))))\n",
    "        bi.append(len(gen_to_list(ngrams(r.split(), 2))))\n",
    "        tri.append(len(gen_to_list(ngrams(r.split(), 3))))\n",
    "        four.append(len(gen_to_list(ngrams(r.split(), 4))))\n",
    "\n",
    "    print(np.mean(uni),np.mean(bi),np.mean(tri),np.mean(four))"
   ]
  },
  {
   "cell_type": "code",
   "execution_count": 5,
   "metadata": {},
   "outputs": [
    {
     "name": "stdout",
     "output_type": "stream",
     "text": [
      "32.202 31.202 30.202 29.202\n"
     ]
    }
   ],
   "source": [
    "len_reports()"
   ]
  },
  {
   "cell_type": "code",
   "execution_count": 6,
   "metadata": {},
   "outputs": [],
   "source": [
    "def unique_ngrams():\n",
    "    uni,bi,tri,four=[],[],[],[]\n",
    "    grams=[1,2,3,4]\n",
    "    \n",
    "    for r in data['Reports'].to_list():\n",
    "\n",
    "        uni.extend(gen_to_list(ngrams(r.split(), 1)))\n",
    "        bi.extend(gen_to_list(ngrams(r.split(), 2)))\n",
    "        tri.extend(gen_to_list(ngrams(r.split(), 3)))\n",
    "        four.extend(gen_to_list(ngrams(r.split(), 4)))\n",
    "\n",
    "    print(len(set(uni)),len(set(bi)),len(set(tri)),len(set(four)))\n",
    "    "
   ]
  },
  {
   "cell_type": "code",
   "execution_count": 7,
   "metadata": {},
   "outputs": [
    {
     "name": "stdout",
     "output_type": "stream",
     "text": [
      "287 870 1285 1585\n"
     ]
    }
   ],
   "source": [
    "unique_ngrams()"
   ]
  }
 ],
 "metadata": {
  "kernelspec": {
   "display_name": "Python 3",
   "language": "python",
   "name": "python3"
  },
  "language_info": {
   "codemirror_mode": {
    "name": "ipython",
    "version": 3
   },
   "file_extension": ".py",
   "mimetype": "text/x-python",
   "name": "python",
   "nbconvert_exporter": "python",
   "pygments_lexer": "ipython3",
   "version": "3.7.6"
  }
 },
 "nbformat": 4,
 "nbformat_minor": 4
}
