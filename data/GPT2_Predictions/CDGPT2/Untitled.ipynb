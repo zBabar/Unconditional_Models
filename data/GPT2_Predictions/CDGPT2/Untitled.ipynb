{
 "cells": [
  {
   "cell_type": "code",
   "execution_count": 1,
   "metadata": {},
   "outputs": [],
   "source": [
    "import pandas as pd\n",
    "\n",
    "import numpy as np\n",
    "\n",
    "import re"
   ]
  },
  {
   "cell_type": "code",
   "execution_count": 2,
   "metadata": {},
   "outputs": [],
   "source": [
    "data=pd.read_csv('generated_files/filtered_preds_4.csv')\n"
   ]
  },
  {
   "cell_type": "code",
   "execution_count": 3,
   "metadata": {},
   "outputs": [],
   "source": [
    "d=data['prediction']"
   ]
  },
  {
   "cell_type": "code",
   "execution_count": 4,
   "metadata": {},
   "outputs": [],
   "source": [
    "data1=[]\n",
    "\n",
    "for i in d:\n",
    "    #print(i[0])\n",
    "    i=i.replace('.','').replace(',','')\n",
    "    \n",
    "    i = re.sub(r'[0-9]+', '', i)\n",
    "    i=i.replace('\"','')\n",
    "    i = i.replace('[', '')\n",
    "    i = i.replace(']', '')\n",
    "    #i=i.replace('u ','')\n",
    "    i = i.replace(\"u'\", '')\n",
    "    i = i.replace(\"'\", '')\n",
    "    i=str(i)\n",
    "    data1.append(i.strip())"
   ]
  },
  {
   "cell_type": "code",
   "execution_count": 5,
   "metadata": {},
   "outputs": [],
   "source": [
    "data['cap']=data1\n",
    "\n",
    "\n",
    "data['cap'].to_csv('cleaned_files/gpt2_cleaned_pred_4.csv',header=False,index=False)\n"
   ]
  }
 ],
 "metadata": {
  "kernelspec": {
   "display_name": "Python 3",
   "language": "python",
   "name": "python3"
  },
  "language_info": {
   "codemirror_mode": {
    "name": "ipython",
    "version": 3
   },
   "file_extension": ".py",
   "mimetype": "text/x-python",
   "name": "python",
   "nbconvert_exporter": "python",
   "pygments_lexer": "ipython3",
   "version": "3.6.9"
  }
 },
 "nbformat": 4,
 "nbformat_minor": 2
}
